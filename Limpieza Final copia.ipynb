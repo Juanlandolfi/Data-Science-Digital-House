{
 "cells": [
  {
   "cell_type": "markdown",
   "id": "8cb294a0",
   "metadata": {},
   "source": [
    "# Limpieza"
   ]
  },
  {
   "cell_type": "code",
   "execution_count": 1,
   "id": "a7f583aa",
   "metadata": {},
   "outputs": [],
   "source": [
    "import pandas as pd\n",
    "import numpy as np\n",
    "import matplotlib.pyplot as plt\n",
    "import seaborn as sns\n",
    "import re\n",
    "import geopandas as gpd\n",
    "import descartes\n",
    "from shapely.geometry import Point, LineString, MultiPoint, MultiLineString\n",
    "from geopy import distance\n",
    "import geopy"
   ]
  },
  {
   "cell_type": "code",
   "execution_count": 2,
   "id": "75699fb8",
   "metadata": {},
   "outputs": [
    {
     "data": {
      "text/html": [
       "<div>\n",
       "<style scoped>\n",
       "    .dataframe tbody tr th:only-of-type {\n",
       "        vertical-align: middle;\n",
       "    }\n",
       "\n",
       "    .dataframe tbody tr th {\n",
       "        vertical-align: top;\n",
       "    }\n",
       "\n",
       "    .dataframe thead th {\n",
       "        text-align: right;\n",
       "    }\n",
       "</style>\n",
       "<table border=\"1\" class=\"dataframe\">\n",
       "  <thead>\n",
       "    <tr style=\"text-align: right;\">\n",
       "      <th></th>\n",
       "      <th>Unnamed: 0</th>\n",
       "      <th>operation</th>\n",
       "      <th>property_type</th>\n",
       "      <th>place_name</th>\n",
       "      <th>place_with_parent_names</th>\n",
       "      <th>country_name</th>\n",
       "      <th>state_name</th>\n",
       "      <th>geonames_id</th>\n",
       "      <th>lat-lon</th>\n",
       "      <th>lat</th>\n",
       "      <th>lon</th>\n",
       "      <th>price</th>\n",
       "      <th>currency</th>\n",
       "      <th>price_aprox_local_currency</th>\n",
       "      <th>price_aprox_usd</th>\n",
       "      <th>surface_total_in_m2</th>\n",
       "      <th>surface_covered_in_m2</th>\n",
       "      <th>price_usd_per_m2</th>\n",
       "      <th>price_per_m2</th>\n",
       "      <th>floor</th>\n",
       "      <th>rooms</th>\n",
       "      <th>expenses</th>\n",
       "      <th>properati_url</th>\n",
       "      <th>description</th>\n",
       "      <th>title</th>\n",
       "      <th>image_thumbnail</th>\n",
       "    </tr>\n",
       "  </thead>\n",
       "  <tbody>\n",
       "    <tr>\n",
       "      <th>0</th>\n",
       "      <td>0</td>\n",
       "      <td>sell</td>\n",
       "      <td>PH</td>\n",
       "      <td>Mataderos</td>\n",
       "      <td>|Argentina|Capital Federal|Mataderos|</td>\n",
       "      <td>Argentina</td>\n",
       "      <td>Capital Federal</td>\n",
       "      <td>3430787.0</td>\n",
       "      <td>-34.6618237,-58.5088387</td>\n",
       "      <td>-34.661824</td>\n",
       "      <td>-58.508839</td>\n",
       "      <td>62000.0</td>\n",
       "      <td>USD</td>\n",
       "      <td>1093959.0</td>\n",
       "      <td>62000.0</td>\n",
       "      <td>55.0</td>\n",
       "      <td>40.0</td>\n",
       "      <td>1127.272727</td>\n",
       "      <td>1550.000000</td>\n",
       "      <td>NaN</td>\n",
       "      <td>NaN</td>\n",
       "      <td>NaN</td>\n",
       "      <td>http://www.properati.com.ar/15bo8_venta_ph_mat...</td>\n",
       "      <td>2 AMBIENTES TIPO CASA PLANTA BAJA POR PASILLO,...</td>\n",
       "      <td>2 AMB TIPO CASA SIN EXPENSAS EN PB</td>\n",
       "      <td>https://thumbs4.properati.com/8/BluUYiHJLhgIIK...</td>\n",
       "    </tr>\n",
       "    <tr>\n",
       "      <th>1</th>\n",
       "      <td>1</td>\n",
       "      <td>sell</td>\n",
       "      <td>apartment</td>\n",
       "      <td>La Plata</td>\n",
       "      <td>|Argentina|Bs.As. G.B.A. Zona Sur|La Plata|</td>\n",
       "      <td>Argentina</td>\n",
       "      <td>Bs.As. G.B.A. Zona Sur</td>\n",
       "      <td>3432039.0</td>\n",
       "      <td>-34.9038831,-57.9643295</td>\n",
       "      <td>-34.903883</td>\n",
       "      <td>-57.964330</td>\n",
       "      <td>150000.0</td>\n",
       "      <td>USD</td>\n",
       "      <td>2646675.0</td>\n",
       "      <td>150000.0</td>\n",
       "      <td>NaN</td>\n",
       "      <td>NaN</td>\n",
       "      <td>NaN</td>\n",
       "      <td>NaN</td>\n",
       "      <td>NaN</td>\n",
       "      <td>NaN</td>\n",
       "      <td>NaN</td>\n",
       "      <td>http://www.properati.com.ar/15bob_venta_depart...</td>\n",
       "      <td>Venta de departamento en décimo piso al frente...</td>\n",
       "      <td>VENTA Depto 2 dorm. a estrenar 7 e/ 36 y 37   ...</td>\n",
       "      <td>https://thumbs4.properati.com/7/ikpVBu2ztHA7jv...</td>\n",
       "    </tr>\n",
       "    <tr>\n",
       "      <th>2</th>\n",
       "      <td>2</td>\n",
       "      <td>sell</td>\n",
       "      <td>apartment</td>\n",
       "      <td>Mataderos</td>\n",
       "      <td>|Argentina|Capital Federal|Mataderos|</td>\n",
       "      <td>Argentina</td>\n",
       "      <td>Capital Federal</td>\n",
       "      <td>3430787.0</td>\n",
       "      <td>-34.6522615,-58.5229825</td>\n",
       "      <td>-34.652262</td>\n",
       "      <td>-58.522982</td>\n",
       "      <td>72000.0</td>\n",
       "      <td>USD</td>\n",
       "      <td>1270404.0</td>\n",
       "      <td>72000.0</td>\n",
       "      <td>55.0</td>\n",
       "      <td>55.0</td>\n",
       "      <td>1309.090909</td>\n",
       "      <td>1309.090909</td>\n",
       "      <td>NaN</td>\n",
       "      <td>NaN</td>\n",
       "      <td>NaN</td>\n",
       "      <td>http://www.properati.com.ar/15bod_venta_depart...</td>\n",
       "      <td>2 AMBIENTES 3ER PISO LATERAL LIVING COMEDOR AM...</td>\n",
       "      <td>2 AMB 3ER PISO CON ASCENSOR APTO CREDITO</td>\n",
       "      <td>https://thumbs4.properati.com/5/SXKr34F_IwG3W_...</td>\n",
       "    </tr>\n",
       "    <tr>\n",
       "      <th>3</th>\n",
       "      <td>3</td>\n",
       "      <td>sell</td>\n",
       "      <td>PH</td>\n",
       "      <td>Liniers</td>\n",
       "      <td>|Argentina|Capital Federal|Liniers|</td>\n",
       "      <td>Argentina</td>\n",
       "      <td>Capital Federal</td>\n",
       "      <td>3431333.0</td>\n",
       "      <td>-34.6477969,-58.5164244</td>\n",
       "      <td>-34.647797</td>\n",
       "      <td>-58.516424</td>\n",
       "      <td>95000.0</td>\n",
       "      <td>USD</td>\n",
       "      <td>1676227.5</td>\n",
       "      <td>95000.0</td>\n",
       "      <td>NaN</td>\n",
       "      <td>NaN</td>\n",
       "      <td>NaN</td>\n",
       "      <td>NaN</td>\n",
       "      <td>NaN</td>\n",
       "      <td>NaN</td>\n",
       "      <td>NaN</td>\n",
       "      <td>http://www.properati.com.ar/15boh_venta_ph_lin...</td>\n",
       "      <td>PH 3 ambientes con patio. Hay 3 deptos en lote...</td>\n",
       "      <td>PH 3 amb. cfte. reciclado</td>\n",
       "      <td>https://thumbs4.properati.com/3/DgIfX-85Mog5SP...</td>\n",
       "    </tr>\n",
       "    <tr>\n",
       "      <th>4</th>\n",
       "      <td>4</td>\n",
       "      <td>sell</td>\n",
       "      <td>apartment</td>\n",
       "      <td>Centro</td>\n",
       "      <td>|Argentina|Buenos Aires Costa Atlántica|Mar de...</td>\n",
       "      <td>Argentina</td>\n",
       "      <td>Buenos Aires Costa Atlántica</td>\n",
       "      <td>3435548.0</td>\n",
       "      <td>-38.0026256,-57.5494468</td>\n",
       "      <td>-38.002626</td>\n",
       "      <td>-57.549447</td>\n",
       "      <td>64000.0</td>\n",
       "      <td>USD</td>\n",
       "      <td>1129248.0</td>\n",
       "      <td>64000.0</td>\n",
       "      <td>35.0</td>\n",
       "      <td>35.0</td>\n",
       "      <td>1828.571429</td>\n",
       "      <td>1828.571429</td>\n",
       "      <td>NaN</td>\n",
       "      <td>NaN</td>\n",
       "      <td>NaN</td>\n",
       "      <td>http://www.properati.com.ar/15bok_venta_depart...</td>\n",
       "      <td>DEPARTAMENTO CON FANTÁSTICA ILUMINACIÓN NATURA...</td>\n",
       "      <td>DEPTO 2 AMB AL CONTRAFRENTE ZONA CENTRO/PLAZA ...</td>\n",
       "      <td>https://thumbs4.properati.com/5/xrRqlNcSI_vs-f...</td>\n",
       "    </tr>\n",
       "  </tbody>\n",
       "</table>\n",
       "</div>"
      ],
      "text/plain": [
       "   Unnamed: 0 operation property_type place_name  \\\n",
       "0           0      sell            PH  Mataderos   \n",
       "1           1      sell     apartment   La Plata   \n",
       "2           2      sell     apartment  Mataderos   \n",
       "3           3      sell            PH    Liniers   \n",
       "4           4      sell     apartment     Centro   \n",
       "\n",
       "                             place_with_parent_names country_name  \\\n",
       "0              |Argentina|Capital Federal|Mataderos|    Argentina   \n",
       "1        |Argentina|Bs.As. G.B.A. Zona Sur|La Plata|    Argentina   \n",
       "2              |Argentina|Capital Federal|Mataderos|    Argentina   \n",
       "3                |Argentina|Capital Federal|Liniers|    Argentina   \n",
       "4  |Argentina|Buenos Aires Costa Atlántica|Mar de...    Argentina   \n",
       "\n",
       "                     state_name  geonames_id                  lat-lon  \\\n",
       "0               Capital Federal    3430787.0  -34.6618237,-58.5088387   \n",
       "1        Bs.As. G.B.A. Zona Sur    3432039.0  -34.9038831,-57.9643295   \n",
       "2               Capital Federal    3430787.0  -34.6522615,-58.5229825   \n",
       "3               Capital Federal    3431333.0  -34.6477969,-58.5164244   \n",
       "4  Buenos Aires Costa Atlántica    3435548.0  -38.0026256,-57.5494468   \n",
       "\n",
       "         lat        lon     price currency  price_aprox_local_currency  \\\n",
       "0 -34.661824 -58.508839   62000.0      USD                   1093959.0   \n",
       "1 -34.903883 -57.964330  150000.0      USD                   2646675.0   \n",
       "2 -34.652262 -58.522982   72000.0      USD                   1270404.0   \n",
       "3 -34.647797 -58.516424   95000.0      USD                   1676227.5   \n",
       "4 -38.002626 -57.549447   64000.0      USD                   1129248.0   \n",
       "\n",
       "   price_aprox_usd  surface_total_in_m2  surface_covered_in_m2  \\\n",
       "0          62000.0                 55.0                   40.0   \n",
       "1         150000.0                  NaN                    NaN   \n",
       "2          72000.0                 55.0                   55.0   \n",
       "3          95000.0                  NaN                    NaN   \n",
       "4          64000.0                 35.0                   35.0   \n",
       "\n",
       "   price_usd_per_m2  price_per_m2  floor  rooms  expenses  \\\n",
       "0       1127.272727   1550.000000    NaN    NaN       NaN   \n",
       "1               NaN           NaN    NaN    NaN       NaN   \n",
       "2       1309.090909   1309.090909    NaN    NaN       NaN   \n",
       "3               NaN           NaN    NaN    NaN       NaN   \n",
       "4       1828.571429   1828.571429    NaN    NaN       NaN   \n",
       "\n",
       "                                       properati_url  \\\n",
       "0  http://www.properati.com.ar/15bo8_venta_ph_mat...   \n",
       "1  http://www.properati.com.ar/15bob_venta_depart...   \n",
       "2  http://www.properati.com.ar/15bod_venta_depart...   \n",
       "3  http://www.properati.com.ar/15boh_venta_ph_lin...   \n",
       "4  http://www.properati.com.ar/15bok_venta_depart...   \n",
       "\n",
       "                                         description  \\\n",
       "0  2 AMBIENTES TIPO CASA PLANTA BAJA POR PASILLO,...   \n",
       "1  Venta de departamento en décimo piso al frente...   \n",
       "2  2 AMBIENTES 3ER PISO LATERAL LIVING COMEDOR AM...   \n",
       "3  PH 3 ambientes con patio. Hay 3 deptos en lote...   \n",
       "4  DEPARTAMENTO CON FANTÁSTICA ILUMINACIÓN NATURA...   \n",
       "\n",
       "                                               title  \\\n",
       "0                 2 AMB TIPO CASA SIN EXPENSAS EN PB   \n",
       "1  VENTA Depto 2 dorm. a estrenar 7 e/ 36 y 37   ...   \n",
       "2           2 AMB 3ER PISO CON ASCENSOR APTO CREDITO   \n",
       "3                       PH 3 amb. cfte. reciclado      \n",
       "4  DEPTO 2 AMB AL CONTRAFRENTE ZONA CENTRO/PLAZA ...   \n",
       "\n",
       "                                     image_thumbnail  \n",
       "0  https://thumbs4.properati.com/8/BluUYiHJLhgIIK...  \n",
       "1  https://thumbs4.properati.com/7/ikpVBu2ztHA7jv...  \n",
       "2  https://thumbs4.properati.com/5/SXKr34F_IwG3W_...  \n",
       "3  https://thumbs4.properati.com/3/DgIfX-85Mog5SP...  \n",
       "4  https://thumbs4.properati.com/5/xrRqlNcSI_vs-f...  "
      ]
     },
     "execution_count": 2,
     "metadata": {},
     "output_type": "execute_result"
    }
   ],
   "source": [
    "df = pd.read_csv('./data/properatti.csv', encoding='utf-8')\n",
    "#df = pd.read_csv('./data/properatti.csv')\n",
    "pd.options.display.max_columns = None\n",
    "df.head()"
   ]
  },
  {
   "cell_type": "code",
   "execution_count": 3,
   "id": "cf0ba633",
   "metadata": {},
   "outputs": [
    {
     "name": "stdout",
     "output_type": "stream",
     "text": [
      "<class 'pandas.core.frame.DataFrame'>\n",
      "RangeIndex: 121220 entries, 0 to 121219\n",
      "Data columns (total 26 columns):\n",
      " #   Column                      Non-Null Count   Dtype  \n",
      "---  ------                      --------------   -----  \n",
      " 0   Unnamed: 0                  121220 non-null  int64  \n",
      " 1   operation                   121220 non-null  object \n",
      " 2   property_type               121220 non-null  object \n",
      " 3   place_name                  121197 non-null  object \n",
      " 4   place_with_parent_names     121220 non-null  object \n",
      " 5   country_name                121220 non-null  object \n",
      " 6   state_name                  121220 non-null  object \n",
      " 7   geonames_id                 102503 non-null  float64\n",
      " 8   lat-lon                     69670 non-null   object \n",
      " 9   lat                         69670 non-null   float64\n",
      " 10  lon                         69670 non-null   float64\n",
      " 11  price                       100810 non-null  float64\n",
      " 12  currency                    100809 non-null  object \n",
      " 13  price_aprox_local_currency  100810 non-null  float64\n",
      " 14  price_aprox_usd             100810 non-null  float64\n",
      " 15  surface_total_in_m2         81892 non-null   float64\n",
      " 16  surface_covered_in_m2       101313 non-null  float64\n",
      " 17  price_usd_per_m2            68617 non-null   float64\n",
      " 18  price_per_m2                87658 non-null   float64\n",
      " 19  floor                       7899 non-null    float64\n",
      " 20  rooms                       47390 non-null   float64\n",
      " 21  expenses                    14262 non-null   float64\n",
      " 22  properati_url               121220 non-null  object \n",
      " 23  description                 121218 non-null  object \n",
      " 24  title                       121220 non-null  object \n",
      " 25  image_thumbnail             118108 non-null  object \n",
      "dtypes: float64(13), int64(1), object(12)\n",
      "memory usage: 24.0+ MB\n"
     ]
    }
   ],
   "source": [
    "df.info()"
   ]
  },
  {
   "cell_type": "code",
   "execution_count": 4,
   "id": "c861f96a",
   "metadata": {},
   "outputs": [
    {
     "data": {
      "text/plain": [
       "(121220, 26)"
      ]
     },
     "execution_count": 4,
     "metadata": {},
     "output_type": "execute_result"
    }
   ],
   "source": [
    "df.shape"
   ]
  },
  {
   "cell_type": "code",
   "execution_count": 5,
   "id": "fbb34ae1",
   "metadata": {},
   "outputs": [],
   "source": [
    "#backup de la data\n",
    "data = df.copy()"
   ]
  },
  {
   "cell_type": "markdown",
   "id": "6eb5cf4b",
   "metadata": {},
   "source": [
    "#### 1. Drop sobre columnas con único valor\n",
    "- La variable solo tiene un tipo, que es sell y no tiene nulos, no aporta nada a un modelo\n",
    "- La variable Country solo tiene un valor y no tiene nulos\n",
    "  "
   ]
  },
  {
   "cell_type": "code",
   "execution_count": 6,
   "id": "e021fa2f",
   "metadata": {},
   "outputs": [
    {
     "data": {
      "text/plain": [
       "sell    121220\n",
       "Name: operation, dtype: int64"
      ]
     },
     "execution_count": 6,
     "metadata": {},
     "output_type": "execute_result"
    }
   ],
   "source": [
    "df.loc[:,'operation'].value_counts()\n",
    "## un solor valor"
   ]
  },
  {
   "cell_type": "code",
   "execution_count": 7,
   "id": "70b48ac5",
   "metadata": {},
   "outputs": [
    {
     "data": {
      "text/plain": [
       "0.0"
      ]
     },
     "execution_count": 7,
     "metadata": {},
     "output_type": "execute_result"
    }
   ],
   "source": [
    "df.loc[:,'operation'].isnull().sum()/df.shape[0]\n",
    "# no hay nulos"
   ]
  },
  {
   "cell_type": "code",
   "execution_count": 8,
   "id": "65abab79",
   "metadata": {},
   "outputs": [
    {
     "data": {
      "text/plain": [
       "(121220, 24)"
      ]
     },
     "execution_count": 8,
     "metadata": {},
     "output_type": "execute_result"
    }
   ],
   "source": [
    "df = df.drop('operation', axis=1)\n",
    "df = df.drop('Unnamed: 0', axis=1)\n",
    "df.shape"
   ]
  },
  {
   "cell_type": "code",
   "execution_count": 9,
   "id": "5e457af6",
   "metadata": {},
   "outputs": [
    {
     "data": {
      "text/plain": [
       "Argentina    121220\n",
       "Name: country_name, dtype: int64"
      ]
     },
     "execution_count": 9,
     "metadata": {},
     "output_type": "execute_result"
    }
   ],
   "source": [
    "df.loc[:,'country_name'].value_counts()\n",
    "## un solo valor"
   ]
  },
  {
   "cell_type": "code",
   "execution_count": 10,
   "id": "a8a5f1a9",
   "metadata": {},
   "outputs": [
    {
     "data": {
      "text/plain": [
       "0.0"
      ]
     },
     "execution_count": 10,
     "metadata": {},
     "output_type": "execute_result"
    }
   ],
   "source": [
    "df.loc[:,'country_name'].isnull().sum()/df.shape[0]\n",
    "# no hay nulos"
   ]
  },
  {
   "cell_type": "code",
   "execution_count": 11,
   "id": "264ecc2b",
   "metadata": {},
   "outputs": [
    {
     "data": {
      "text/plain": [
       "(121220, 23)"
      ]
     },
     "execution_count": 11,
     "metadata": {},
     "output_type": "execute_result"
    }
   ],
   "source": [
    "df = df.drop('country_name', axis=1)\n",
    "df.shape"
   ]
  },
  {
   "cell_type": "markdown",
   "id": "dd65d2b8",
   "metadata": {},
   "source": [
    "#### 2. Eliminando columnas con demsiados valores nulos"
   ]
  },
  {
   "cell_type": "code",
   "execution_count": 12,
   "id": "2a75166c",
   "metadata": {},
   "outputs": [
    {
     "data": {
      "text/plain": [
       "property_type                 0.000000\n",
       "place_name                    0.000190\n",
       "place_with_parent_names       0.000000\n",
       "state_name                    0.000000\n",
       "geonames_id                   0.154405\n",
       "lat-lon                       0.425260\n",
       "lat                           0.425260\n",
       "lon                           0.425260\n",
       "price                         0.168372\n",
       "currency                      0.168380\n",
       "price_aprox_local_currency    0.168372\n",
       "price_aprox_usd               0.168372\n",
       "surface_total_in_m2           0.324435\n",
       "surface_covered_in_m2         0.164222\n",
       "price_usd_per_m2              0.433947\n",
       "price_per_m2                  0.276869\n",
       "floor                         0.934837\n",
       "rooms                         0.609058\n",
       "expenses                      0.882346\n",
       "properati_url                 0.000000\n",
       "description                   0.000016\n",
       "title                         0.000000\n",
       "image_thumbnail               0.025672\n",
       "dtype: float64"
      ]
     },
     "execution_count": 12,
     "metadata": {},
     "output_type": "execute_result"
    }
   ],
   "source": [
    "df.isnull().sum()/df.shape[0]"
   ]
  },
  {
   "cell_type": "code",
   "execution_count": 13,
   "id": "1bab0aa9",
   "metadata": {},
   "outputs": [
    {
     "data": {
      "text/plain": [
       "(121220, 20)"
      ]
     },
     "execution_count": 13,
     "metadata": {},
     "output_type": "execute_result"
    }
   ],
   "source": [
    "## las variables floor y expenses tienen un porcentaje muy grande de nulos por lo que es mejor dropearlas\n",
    "## tambien dropeamos image_thumbnail, ya que no observamos que aporte valor\n",
    "df = df.drop('floor', axis=1)\n",
    "df = df.drop('expenses', axis=1)\n",
    "df = df.drop('image_thumbnail', axis=1)\n",
    "df.shape"
   ]
  },
  {
   "cell_type": "code",
   "execution_count": 14,
   "id": "d97db955",
   "metadata": {},
   "outputs": [
    {
     "data": {
      "text/plain": [
       "property_type                 0.000000\n",
       "place_name                    0.000190\n",
       "place_with_parent_names       0.000000\n",
       "state_name                    0.000000\n",
       "geonames_id                   0.154405\n",
       "lat-lon                       0.425260\n",
       "lat                           0.425260\n",
       "lon                           0.425260\n",
       "price                         0.168372\n",
       "currency                      0.168380\n",
       "price_aprox_local_currency    0.168372\n",
       "price_aprox_usd               0.168372\n",
       "surface_total_in_m2           0.324435\n",
       "surface_covered_in_m2         0.164222\n",
       "price_usd_per_m2              0.433947\n",
       "price_per_m2                  0.276869\n",
       "rooms                         0.609058\n",
       "properati_url                 0.000000\n",
       "description                   0.000016\n",
       "title                         0.000000\n",
       "dtype: float64"
      ]
     },
     "execution_count": 14,
     "metadata": {},
     "output_type": "execute_result"
    }
   ],
   "source": [
    "df.isnull().sum()/df.shape[0]"
   ]
  },
  {
   "cell_type": "code",
   "execution_count": 15,
   "id": "d1d8eb6f",
   "metadata": {},
   "outputs": [
    {
     "data": {
      "text/plain": [
       "Int64Index([], dtype='int64')"
      ]
     },
     "execution_count": 15,
     "metadata": {},
     "output_type": "execute_result"
    }
   ],
   "source": [
    "# dropeamos lat y lon para quedarnos con la columna lat-lon, \n",
    "## ya que observamos que no nos puede servir para imputar algun valor faltante\n",
    "df.loc[(df['lat-lon'].isna()) & (df['lat'].notna()) & (df['lon'].notna()),: ].index"
   ]
  },
  {
   "cell_type": "code",
   "execution_count": 16,
   "id": "b6a5dc73",
   "metadata": {},
   "outputs": [
    {
     "data": {
      "text/plain": [
       "(121220, 18)"
      ]
     },
     "execution_count": 16,
     "metadata": {},
     "output_type": "execute_result"
    }
   ],
   "source": [
    "df = df.drop('lon', axis=1)\n",
    "df = df.drop('lat', axis=1)\n",
    "df.shape"
   ]
  },
  {
   "cell_type": "markdown",
   "id": "441d492b",
   "metadata": {},
   "source": [
    "#### 3. Usando la columna state_name para reducir la longitud del dataset\n"
   ]
  },
  {
   "cell_type": "code",
   "execution_count": 17,
   "id": "9db3d4f1",
   "metadata": {},
   "outputs": [
    {
     "data": {
      "text/plain": [
       "0                 capital federal\n",
       "1          bs.as. g.b.a. zona sur\n",
       "2                 capital federal\n",
       "3                 capital federal\n",
       "4    buenos aires costa atlántica\n",
       "Name: state_name, dtype: object"
      ]
     },
     "execution_count": 17,
     "metadata": {},
     "output_type": "execute_result"
    }
   ],
   "source": [
    "df_state_name = df['state_name'].str.lower()\n",
    "df_state_name.head()\n",
    "### convertimos la variable en cuestión en una serie, cambiamos a lower"
   ]
  },
  {
   "cell_type": "code",
   "execution_count": 18,
   "id": "1bf4af81",
   "metadata": {},
   "outputs": [
    {
     "data": {
      "text/plain": [
       "0.0"
      ]
     },
     "execution_count": 18,
     "metadata": {},
     "output_type": "execute_result"
    }
   ],
   "source": [
    "df_state_name.isnull().sum()/df_state_name.shape[0]"
   ]
  },
  {
   "cell_type": "code",
   "execution_count": 19,
   "id": "525492f5",
   "metadata": {},
   "outputs": [
    {
     "data": {
      "text/html": [
       "<div>\n",
       "<style scoped>\n",
       "    .dataframe tbody tr th:only-of-type {\n",
       "        vertical-align: middle;\n",
       "    }\n",
       "\n",
       "    .dataframe tbody tr th {\n",
       "        vertical-align: top;\n",
       "    }\n",
       "\n",
       "    .dataframe thead th {\n",
       "        text-align: right;\n",
       "    }\n",
       "</style>\n",
       "<table border=\"1\" class=\"dataframe\">\n",
       "  <thead>\n",
       "    <tr style=\"text-align: right;\">\n",
       "      <th></th>\n",
       "      <th>state_name</th>\n",
       "      <th>porcentaje</th>\n",
       "      <th>porcentaje_acumulado</th>\n",
       "    </tr>\n",
       "  </thead>\n",
       "  <tbody>\n",
       "    <tr>\n",
       "      <th>capital federal</th>\n",
       "      <td>32316</td>\n",
       "      <td>26.658967</td>\n",
       "      <td>26.658967</td>\n",
       "    </tr>\n",
       "    <tr>\n",
       "      <th>bs.as. g.b.a. zona norte</th>\n",
       "      <td>25560</td>\n",
       "      <td>21.085629</td>\n",
       "      <td>47.744597</td>\n",
       "    </tr>\n",
       "    <tr>\n",
       "      <th>bs.as. g.b.a. zona sur</th>\n",
       "      <td>13952</td>\n",
       "      <td>11.509652</td>\n",
       "      <td>59.254248</td>\n",
       "    </tr>\n",
       "    <tr>\n",
       "      <th>córdoba</th>\n",
       "      <td>12069</td>\n",
       "      <td>9.956278</td>\n",
       "      <td>69.210526</td>\n",
       "    </tr>\n",
       "    <tr>\n",
       "      <th>santa fe</th>\n",
       "      <td>10172</td>\n",
       "      <td>8.391355</td>\n",
       "      <td>77.601881</td>\n",
       "    </tr>\n",
       "    <tr>\n",
       "      <th>buenos aires costa atlántica</th>\n",
       "      <td>10006</td>\n",
       "      <td>8.254413</td>\n",
       "      <td>85.856294</td>\n",
       "    </tr>\n",
       "    <tr>\n",
       "      <th>bs.as. g.b.a. zona oeste</th>\n",
       "      <td>9322</td>\n",
       "      <td>7.690150</td>\n",
       "      <td>93.546444</td>\n",
       "    </tr>\n",
       "    <tr>\n",
       "      <th>buenos aires interior</th>\n",
       "      <td>2291</td>\n",
       "      <td>1.889952</td>\n",
       "      <td>95.436397</td>\n",
       "    </tr>\n",
       "    <tr>\n",
       "      <th>río negro</th>\n",
       "      <td>808</td>\n",
       "      <td>0.666557</td>\n",
       "      <td>96.102953</td>\n",
       "    </tr>\n",
       "    <tr>\n",
       "      <th>neuquén</th>\n",
       "      <td>733</td>\n",
       "      <td>0.604686</td>\n",
       "      <td>96.707639</td>\n",
       "    </tr>\n",
       "    <tr>\n",
       "      <th>mendoza</th>\n",
       "      <td>681</td>\n",
       "      <td>0.561788</td>\n",
       "      <td>97.269427</td>\n",
       "    </tr>\n",
       "    <tr>\n",
       "      <th>tucumán</th>\n",
       "      <td>674</td>\n",
       "      <td>0.556014</td>\n",
       "      <td>97.825441</td>\n",
       "    </tr>\n",
       "    <tr>\n",
       "      <th>corrientes</th>\n",
       "      <td>583</td>\n",
       "      <td>0.480944</td>\n",
       "      <td>98.306385</td>\n",
       "    </tr>\n",
       "    <tr>\n",
       "      <th>misiones</th>\n",
       "      <td>464</td>\n",
       "      <td>0.382775</td>\n",
       "      <td>98.689160</td>\n",
       "    </tr>\n",
       "    <tr>\n",
       "      <th>entre ríos</th>\n",
       "      <td>369</td>\n",
       "      <td>0.304405</td>\n",
       "      <td>98.993565</td>\n",
       "    </tr>\n",
       "    <tr>\n",
       "      <th>salta</th>\n",
       "      <td>278</td>\n",
       "      <td>0.229335</td>\n",
       "      <td>99.222901</td>\n",
       "    </tr>\n",
       "    <tr>\n",
       "      <th>chubut</th>\n",
       "      <td>259</td>\n",
       "      <td>0.213661</td>\n",
       "      <td>99.436562</td>\n",
       "    </tr>\n",
       "    <tr>\n",
       "      <th>san luis</th>\n",
       "      <td>252</td>\n",
       "      <td>0.207886</td>\n",
       "      <td>99.644448</td>\n",
       "    </tr>\n",
       "    <tr>\n",
       "      <th>la pampa</th>\n",
       "      <td>157</td>\n",
       "      <td>0.129517</td>\n",
       "      <td>99.773965</td>\n",
       "    </tr>\n",
       "    <tr>\n",
       "      <th>formosa</th>\n",
       "      <td>65</td>\n",
       "      <td>0.053622</td>\n",
       "      <td>99.827586</td>\n",
       "    </tr>\n",
       "  </tbody>\n",
       "</table>\n",
       "</div>"
      ],
      "text/plain": [
       "                              state_name  porcentaje  porcentaje_acumulado\n",
       "capital federal                    32316   26.658967             26.658967\n",
       "bs.as. g.b.a. zona norte           25560   21.085629             47.744597\n",
       "bs.as. g.b.a. zona sur             13952   11.509652             59.254248\n",
       "córdoba                            12069    9.956278             69.210526\n",
       "santa fe                           10172    8.391355             77.601881\n",
       "buenos aires costa atlántica       10006    8.254413             85.856294\n",
       "bs.as. g.b.a. zona oeste            9322    7.690150             93.546444\n",
       "buenos aires interior               2291    1.889952             95.436397\n",
       "río negro                            808    0.666557             96.102953\n",
       "neuquén                              733    0.604686             96.707639\n",
       "mendoza                              681    0.561788             97.269427\n",
       "tucumán                              674    0.556014             97.825441\n",
       "corrientes                           583    0.480944             98.306385\n",
       "misiones                             464    0.382775             98.689160\n",
       "entre ríos                           369    0.304405             98.993565\n",
       "salta                                278    0.229335             99.222901\n",
       "chubut                               259    0.213661             99.436562\n",
       "san luis                             252    0.207886             99.644448\n",
       "la pampa                             157    0.129517             99.773965\n",
       "formosa                               65    0.053622             99.827586"
      ]
     },
     "execution_count": 19,
     "metadata": {},
     "output_type": "execute_result"
    }
   ],
   "source": [
    "df_state_name_value_counts = pd.DataFrame(df_state_name.value_counts())\n",
    "df_state_name_value_counts['porcentaje']  = 100*(df_state_name_value_counts['state_name']/df_state_name.shape[0])\n",
    "df_state_name_value_counts['porcentaje_acumulado'] = df_state_name_value_counts['porcentaje'].cumsum(axis = 0, skipna = True)\n",
    "df_state_name_value_counts.head(20)\n",
    "### tomaremos solo los valores que tengan un porcentaje mayor a 1%"
   ]
  },
  {
   "cell_type": "code",
   "execution_count": 20,
   "id": "27b73d4d",
   "metadata": {},
   "outputs": [],
   "source": [
    "states = ['capital federal', 'bs.as. g.b.a. zona norte', 'bs.as. g.b.a. zona sur', 'córdoba', 'santa fe', \n",
    "          'buenos aires costa atlántica', 'bs.as. g.b.a. zona oeste', 'buenos aires interior']"
   ]
  },
  {
   "cell_type": "code",
   "execution_count": 21,
   "id": "353a79fb",
   "metadata": {},
   "outputs": [
    {
     "data": {
      "text/html": [
       "<div>\n",
       "<style scoped>\n",
       "    .dataframe tbody tr th:only-of-type {\n",
       "        vertical-align: middle;\n",
       "    }\n",
       "\n",
       "    .dataframe tbody tr th {\n",
       "        vertical-align: top;\n",
       "    }\n",
       "\n",
       "    .dataframe thead th {\n",
       "        text-align: right;\n",
       "    }\n",
       "</style>\n",
       "<table border=\"1\" class=\"dataframe\">\n",
       "  <thead>\n",
       "    <tr style=\"text-align: right;\">\n",
       "      <th></th>\n",
       "      <th>property_type</th>\n",
       "      <th>place_name</th>\n",
       "      <th>place_with_parent_names</th>\n",
       "      <th>state_name</th>\n",
       "      <th>geonames_id</th>\n",
       "      <th>lat-lon</th>\n",
       "      <th>price</th>\n",
       "      <th>currency</th>\n",
       "      <th>price_aprox_local_currency</th>\n",
       "      <th>price_aprox_usd</th>\n",
       "      <th>surface_total_in_m2</th>\n",
       "      <th>surface_covered_in_m2</th>\n",
       "      <th>price_usd_per_m2</th>\n",
       "      <th>price_per_m2</th>\n",
       "      <th>rooms</th>\n",
       "      <th>properati_url</th>\n",
       "      <th>description</th>\n",
       "      <th>title</th>\n",
       "    </tr>\n",
       "  </thead>\n",
       "  <tbody>\n",
       "    <tr>\n",
       "      <th>0</th>\n",
       "      <td>PH</td>\n",
       "      <td>Mataderos</td>\n",
       "      <td>|Argentina|Capital Federal|Mataderos|</td>\n",
       "      <td>Capital Federal</td>\n",
       "      <td>3430787.0</td>\n",
       "      <td>-34.6618237,-58.5088387</td>\n",
       "      <td>62000.0</td>\n",
       "      <td>USD</td>\n",
       "      <td>1093959.0</td>\n",
       "      <td>62000.0</td>\n",
       "      <td>55.0</td>\n",
       "      <td>40.0</td>\n",
       "      <td>1127.272727</td>\n",
       "      <td>1550.0</td>\n",
       "      <td>NaN</td>\n",
       "      <td>http://www.properati.com.ar/15bo8_venta_ph_mat...</td>\n",
       "      <td>2 AMBIENTES TIPO CASA PLANTA BAJA POR PASILLO,...</td>\n",
       "      <td>2 AMB TIPO CASA SIN EXPENSAS EN PB</td>\n",
       "    </tr>\n",
       "    <tr>\n",
       "      <th>1</th>\n",
       "      <td>apartment</td>\n",
       "      <td>La Plata</td>\n",
       "      <td>|Argentina|Bs.As. G.B.A. Zona Sur|La Plata|</td>\n",
       "      <td>Bs.As. G.B.A. Zona Sur</td>\n",
       "      <td>3432039.0</td>\n",
       "      <td>-34.9038831,-57.9643295</td>\n",
       "      <td>150000.0</td>\n",
       "      <td>USD</td>\n",
       "      <td>2646675.0</td>\n",
       "      <td>150000.0</td>\n",
       "      <td>NaN</td>\n",
       "      <td>NaN</td>\n",
       "      <td>NaN</td>\n",
       "      <td>NaN</td>\n",
       "      <td>NaN</td>\n",
       "      <td>http://www.properati.com.ar/15bob_venta_depart...</td>\n",
       "      <td>Venta de departamento en décimo piso al frente...</td>\n",
       "      <td>VENTA Depto 2 dorm. a estrenar 7 e/ 36 y 37   ...</td>\n",
       "    </tr>\n",
       "  </tbody>\n",
       "</table>\n",
       "</div>"
      ],
      "text/plain": [
       "  property_type place_name                      place_with_parent_names  \\\n",
       "0            PH  Mataderos        |Argentina|Capital Federal|Mataderos|   \n",
       "1     apartment   La Plata  |Argentina|Bs.As. G.B.A. Zona Sur|La Plata|   \n",
       "\n",
       "               state_name  geonames_id                  lat-lon     price  \\\n",
       "0         Capital Federal    3430787.0  -34.6618237,-58.5088387   62000.0   \n",
       "1  Bs.As. G.B.A. Zona Sur    3432039.0  -34.9038831,-57.9643295  150000.0   \n",
       "\n",
       "  currency  price_aprox_local_currency  price_aprox_usd  surface_total_in_m2  \\\n",
       "0      USD                   1093959.0          62000.0                 55.0   \n",
       "1      USD                   2646675.0         150000.0                  NaN   \n",
       "\n",
       "   surface_covered_in_m2  price_usd_per_m2  price_per_m2  rooms  \\\n",
       "0                   40.0       1127.272727        1550.0    NaN   \n",
       "1                    NaN               NaN           NaN    NaN   \n",
       "\n",
       "                                       properati_url  \\\n",
       "0  http://www.properati.com.ar/15bo8_venta_ph_mat...   \n",
       "1  http://www.properati.com.ar/15bob_venta_depart...   \n",
       "\n",
       "                                         description  \\\n",
       "0  2 AMBIENTES TIPO CASA PLANTA BAJA POR PASILLO,...   \n",
       "1  Venta de departamento en décimo piso al frente...   \n",
       "\n",
       "                                               title  \n",
       "0                 2 AMB TIPO CASA SIN EXPENSAS EN PB  \n",
       "1  VENTA Depto 2 dorm. a estrenar 7 e/ 36 y 37   ...  "
      ]
     },
     "execution_count": 21,
     "metadata": {},
     "output_type": "execute_result"
    }
   ],
   "source": [
    "df.head(2)"
   ]
  },
  {
   "cell_type": "code",
   "execution_count": 22,
   "id": "65bed8b2",
   "metadata": {},
   "outputs": [],
   "source": [
    "df['state_name'] = df['state_name'].str.lower()\n",
    "df = df[df['state_name'].isin(states)]"
   ]
  },
  {
   "cell_type": "code",
   "execution_count": 23,
   "id": "06798493",
   "metadata": {},
   "outputs": [],
   "source": [
    "df_group_state_null = pd.DataFrame(df.groupby(['state_name'])['price'].apply(lambda x: x.isnull().sum())/df.groupby(['state_name'])['price'].size())\n",
    "for i in df.columns:\n",
    "    df1 = pd.DataFrame(df.groupby(['state_name'])[i].apply(lambda x: x.isnull().sum())/df.groupby(['state_name'])[i].size())\n",
    "    df_group_state_null = pd.concat([df_group_state_null, df1], axis = 1)\n"
   ]
  },
  {
   "cell_type": "code",
   "execution_count": 24,
   "id": "54d70f0a",
   "metadata": {},
   "outputs": [
    {
     "data": {
      "text/html": [
       "<div>\n",
       "<style scoped>\n",
       "    .dataframe tbody tr th:only-of-type {\n",
       "        vertical-align: middle;\n",
       "    }\n",
       "\n",
       "    .dataframe tbody tr th {\n",
       "        vertical-align: top;\n",
       "    }\n",
       "\n",
       "    .dataframe thead th {\n",
       "        text-align: right;\n",
       "    }\n",
       "</style>\n",
       "<table border=\"1\" class=\"dataframe\">\n",
       "  <thead>\n",
       "    <tr style=\"text-align: right;\">\n",
       "      <th></th>\n",
       "      <th>price</th>\n",
       "      <th>property_type</th>\n",
       "      <th>place_name</th>\n",
       "      <th>place_with_parent_names</th>\n",
       "      <th>state_name</th>\n",
       "      <th>geonames_id</th>\n",
       "      <th>lat-lon</th>\n",
       "      <th>price</th>\n",
       "      <th>currency</th>\n",
       "      <th>price_aprox_local_currency</th>\n",
       "      <th>price_aprox_usd</th>\n",
       "      <th>surface_total_in_m2</th>\n",
       "      <th>surface_covered_in_m2</th>\n",
       "      <th>price_usd_per_m2</th>\n",
       "      <th>price_per_m2</th>\n",
       "      <th>rooms</th>\n",
       "      <th>properati_url</th>\n",
       "      <th>description</th>\n",
       "      <th>title</th>\n",
       "    </tr>\n",
       "    <tr>\n",
       "      <th>state_name</th>\n",
       "      <th></th>\n",
       "      <th></th>\n",
       "      <th></th>\n",
       "      <th></th>\n",
       "      <th></th>\n",
       "      <th></th>\n",
       "      <th></th>\n",
       "      <th></th>\n",
       "      <th></th>\n",
       "      <th></th>\n",
       "      <th></th>\n",
       "      <th></th>\n",
       "      <th></th>\n",
       "      <th></th>\n",
       "      <th></th>\n",
       "      <th></th>\n",
       "      <th></th>\n",
       "      <th></th>\n",
       "      <th></th>\n",
       "    </tr>\n",
       "  </thead>\n",
       "  <tbody>\n",
       "    <tr>\n",
       "      <th>bs.as. g.b.a. zona norte</th>\n",
       "      <td>0.058764</td>\n",
       "      <td>0.0</td>\n",
       "      <td>0.0009</td>\n",
       "      <td>0.0</td>\n",
       "      <td>0.0</td>\n",
       "      <td>0.397144</td>\n",
       "      <td>0.552504</td>\n",
       "      <td>0.058764</td>\n",
       "      <td>0.058764</td>\n",
       "      <td>0.058764</td>\n",
       "      <td>0.058764</td>\n",
       "      <td>0.266158</td>\n",
       "      <td>0.069327</td>\n",
       "      <td>0.319053</td>\n",
       "      <td>0.119014</td>\n",
       "      <td>0.728482</td>\n",
       "      <td>0.0</td>\n",
       "      <td>0.000039</td>\n",
       "      <td>0.0</td>\n",
       "    </tr>\n",
       "    <tr>\n",
       "      <th>bs.as. g.b.a. zona oeste</th>\n",
       "      <td>0.213366</td>\n",
       "      <td>0.0</td>\n",
       "      <td>0.0000</td>\n",
       "      <td>0.0</td>\n",
       "      <td>0.0</td>\n",
       "      <td>0.148144</td>\n",
       "      <td>0.397447</td>\n",
       "      <td>0.213366</td>\n",
       "      <td>0.213366</td>\n",
       "      <td>0.213366</td>\n",
       "      <td>0.213366</td>\n",
       "      <td>0.350461</td>\n",
       "      <td>0.148251</td>\n",
       "      <td>0.504076</td>\n",
       "      <td>0.327827</td>\n",
       "      <td>0.486162</td>\n",
       "      <td>0.0</td>\n",
       "      <td>0.000000</td>\n",
       "      <td>0.0</td>\n",
       "    </tr>\n",
       "    <tr>\n",
       "      <th>bs.as. g.b.a. zona sur</th>\n",
       "      <td>0.133816</td>\n",
       "      <td>0.0</td>\n",
       "      <td>0.0000</td>\n",
       "      <td>0.0</td>\n",
       "      <td>0.0</td>\n",
       "      <td>0.317947</td>\n",
       "      <td>0.572176</td>\n",
       "      <td>0.133816</td>\n",
       "      <td>0.133816</td>\n",
       "      <td>0.133816</td>\n",
       "      <td>0.133816</td>\n",
       "      <td>0.490467</td>\n",
       "      <td>0.215883</td>\n",
       "      <td>0.557554</td>\n",
       "      <td>0.289923</td>\n",
       "      <td>0.793291</td>\n",
       "      <td>0.0</td>\n",
       "      <td>0.000000</td>\n",
       "      <td>0.0</td>\n",
       "    </tr>\n",
       "    <tr>\n",
       "      <th>buenos aires costa atlántica</th>\n",
       "      <td>0.094643</td>\n",
       "      <td>0.0</td>\n",
       "      <td>0.0000</td>\n",
       "      <td>0.0</td>\n",
       "      <td>0.0</td>\n",
       "      <td>0.106836</td>\n",
       "      <td>0.179992</td>\n",
       "      <td>0.094643</td>\n",
       "      <td>0.094643</td>\n",
       "      <td>0.094643</td>\n",
       "      <td>0.094643</td>\n",
       "      <td>0.301919</td>\n",
       "      <td>0.246952</td>\n",
       "      <td>0.365381</td>\n",
       "      <td>0.308015</td>\n",
       "      <td>0.235858</td>\n",
       "      <td>0.0</td>\n",
       "      <td>0.000000</td>\n",
       "      <td>0.0</td>\n",
       "    </tr>\n",
       "    <tr>\n",
       "      <th>buenos aires interior</th>\n",
       "      <td>0.208206</td>\n",
       "      <td>0.0</td>\n",
       "      <td>0.0000</td>\n",
       "      <td>0.0</td>\n",
       "      <td>0.0</td>\n",
       "      <td>0.059799</td>\n",
       "      <td>0.324749</td>\n",
       "      <td>0.208206</td>\n",
       "      <td>0.208206</td>\n",
       "      <td>0.208206</td>\n",
       "      <td>0.208206</td>\n",
       "      <td>0.406373</td>\n",
       "      <td>0.223047</td>\n",
       "      <td>0.558708</td>\n",
       "      <td>0.371017</td>\n",
       "      <td>0.589699</td>\n",
       "      <td>0.0</td>\n",
       "      <td>0.000000</td>\n",
       "      <td>0.0</td>\n",
       "    </tr>\n",
       "    <tr>\n",
       "      <th>capital federal</th>\n",
       "      <td>0.102055</td>\n",
       "      <td>0.0</td>\n",
       "      <td>0.0000</td>\n",
       "      <td>0.0</td>\n",
       "      <td>0.0</td>\n",
       "      <td>0.039795</td>\n",
       "      <td>0.264451</td>\n",
       "      <td>0.102055</td>\n",
       "      <td>0.102055</td>\n",
       "      <td>0.102055</td>\n",
       "      <td>0.102055</td>\n",
       "      <td>0.181922</td>\n",
       "      <td>0.072379</td>\n",
       "      <td>0.274848</td>\n",
       "      <td>0.154475</td>\n",
       "      <td>0.525777</td>\n",
       "      <td>0.0</td>\n",
       "      <td>0.000000</td>\n",
       "      <td>0.0</td>\n",
       "    </tr>\n",
       "    <tr>\n",
       "      <th>córdoba</th>\n",
       "      <td>0.251139</td>\n",
       "      <td>0.0</td>\n",
       "      <td>0.0000</td>\n",
       "      <td>0.0</td>\n",
       "      <td>0.0</td>\n",
       "      <td>0.004226</td>\n",
       "      <td>0.575607</td>\n",
       "      <td>0.251139</td>\n",
       "      <td>0.251222</td>\n",
       "      <td>0.251139</td>\n",
       "      <td>0.251139</td>\n",
       "      <td>0.582070</td>\n",
       "      <td>0.286851</td>\n",
       "      <td>0.695584</td>\n",
       "      <td>0.465076</td>\n",
       "      <td>0.677769</td>\n",
       "      <td>0.0</td>\n",
       "      <td>0.000083</td>\n",
       "      <td>0.0</td>\n",
       "    </tr>\n",
       "    <tr>\n",
       "      <th>santa fe</th>\n",
       "      <td>0.467853</td>\n",
       "      <td>0.0</td>\n",
       "      <td>0.0000</td>\n",
       "      <td>0.0</td>\n",
       "      <td>0.0</td>\n",
       "      <td>0.001573</td>\n",
       "      <td>0.470999</td>\n",
       "      <td>0.467853</td>\n",
       "      <td>0.467853</td>\n",
       "      <td>0.467853</td>\n",
       "      <td>0.467853</td>\n",
       "      <td>0.323339</td>\n",
       "      <td>0.274774</td>\n",
       "      <td>0.610696</td>\n",
       "      <td>0.540208</td>\n",
       "      <td>0.677055</td>\n",
       "      <td>0.0</td>\n",
       "      <td>0.000000</td>\n",
       "      <td>0.0</td>\n",
       "    </tr>\n",
       "  </tbody>\n",
       "</table>\n",
       "</div>"
      ],
      "text/plain": [
       "                                 price  property_type  place_name  \\\n",
       "state_name                                                          \n",
       "bs.as. g.b.a. zona norte      0.058764            0.0      0.0009   \n",
       "bs.as. g.b.a. zona oeste      0.213366            0.0      0.0000   \n",
       "bs.as. g.b.a. zona sur        0.133816            0.0      0.0000   \n",
       "buenos aires costa atlántica  0.094643            0.0      0.0000   \n",
       "buenos aires interior         0.208206            0.0      0.0000   \n",
       "capital federal               0.102055            0.0      0.0000   \n",
       "córdoba                       0.251139            0.0      0.0000   \n",
       "santa fe                      0.467853            0.0      0.0000   \n",
       "\n",
       "                              place_with_parent_names  state_name  \\\n",
       "state_name                                                          \n",
       "bs.as. g.b.a. zona norte                          0.0         0.0   \n",
       "bs.as. g.b.a. zona oeste                          0.0         0.0   \n",
       "bs.as. g.b.a. zona sur                            0.0         0.0   \n",
       "buenos aires costa atlántica                      0.0         0.0   \n",
       "buenos aires interior                             0.0         0.0   \n",
       "capital federal                                   0.0         0.0   \n",
       "córdoba                                           0.0         0.0   \n",
       "santa fe                                          0.0         0.0   \n",
       "\n",
       "                              geonames_id   lat-lon     price  currency  \\\n",
       "state_name                                                                \n",
       "bs.as. g.b.a. zona norte         0.397144  0.552504  0.058764  0.058764   \n",
       "bs.as. g.b.a. zona oeste         0.148144  0.397447  0.213366  0.213366   \n",
       "bs.as. g.b.a. zona sur           0.317947  0.572176  0.133816  0.133816   \n",
       "buenos aires costa atlántica     0.106836  0.179992  0.094643  0.094643   \n",
       "buenos aires interior            0.059799  0.324749  0.208206  0.208206   \n",
       "capital federal                  0.039795  0.264451  0.102055  0.102055   \n",
       "córdoba                          0.004226  0.575607  0.251139  0.251222   \n",
       "santa fe                         0.001573  0.470999  0.467853  0.467853   \n",
       "\n",
       "                              price_aprox_local_currency  price_aprox_usd  \\\n",
       "state_name                                                                  \n",
       "bs.as. g.b.a. zona norte                        0.058764         0.058764   \n",
       "bs.as. g.b.a. zona oeste                        0.213366         0.213366   \n",
       "bs.as. g.b.a. zona sur                          0.133816         0.133816   \n",
       "buenos aires costa atlántica                    0.094643         0.094643   \n",
       "buenos aires interior                           0.208206         0.208206   \n",
       "capital federal                                 0.102055         0.102055   \n",
       "córdoba                                         0.251139         0.251139   \n",
       "santa fe                                        0.467853         0.467853   \n",
       "\n",
       "                              surface_total_in_m2  surface_covered_in_m2  \\\n",
       "state_name                                                                 \n",
       "bs.as. g.b.a. zona norte                 0.266158               0.069327   \n",
       "bs.as. g.b.a. zona oeste                 0.350461               0.148251   \n",
       "bs.as. g.b.a. zona sur                   0.490467               0.215883   \n",
       "buenos aires costa atlántica             0.301919               0.246952   \n",
       "buenos aires interior                    0.406373               0.223047   \n",
       "capital federal                          0.181922               0.072379   \n",
       "córdoba                                  0.582070               0.286851   \n",
       "santa fe                                 0.323339               0.274774   \n",
       "\n",
       "                              price_usd_per_m2  price_per_m2     rooms  \\\n",
       "state_name                                                               \n",
       "bs.as. g.b.a. zona norte              0.319053      0.119014  0.728482   \n",
       "bs.as. g.b.a. zona oeste              0.504076      0.327827  0.486162   \n",
       "bs.as. g.b.a. zona sur                0.557554      0.289923  0.793291   \n",
       "buenos aires costa atlántica          0.365381      0.308015  0.235858   \n",
       "buenos aires interior                 0.558708      0.371017  0.589699   \n",
       "capital federal                       0.274848      0.154475  0.525777   \n",
       "córdoba                               0.695584      0.465076  0.677769   \n",
       "santa fe                              0.610696      0.540208  0.677055   \n",
       "\n",
       "                              properati_url  description  title  \n",
       "state_name                                                       \n",
       "bs.as. g.b.a. zona norte                0.0     0.000039    0.0  \n",
       "bs.as. g.b.a. zona oeste                0.0     0.000000    0.0  \n",
       "bs.as. g.b.a. zona sur                  0.0     0.000000    0.0  \n",
       "buenos aires costa atlántica            0.0     0.000000    0.0  \n",
       "buenos aires interior                   0.0     0.000000    0.0  \n",
       "capital federal                         0.0     0.000000    0.0  \n",
       "córdoba                                 0.0     0.000083    0.0  \n",
       "santa fe                                0.0     0.000000    0.0  "
      ]
     },
     "execution_count": 24,
     "metadata": {},
     "output_type": "execute_result"
    }
   ],
   "source": [
    "df_group_state_null"
   ]
  },
  {
   "cell_type": "code",
   "execution_count": 25,
   "id": "0bc01fa6",
   "metadata": {},
   "outputs": [
    {
     "data": {
      "text/plain": [
       "(115688, 18)"
      ]
     },
     "execution_count": 25,
     "metadata": {},
     "output_type": "execute_result"
    }
   ],
   "source": [
    "df.shape"
   ]
  },
  {
   "cell_type": "code",
   "execution_count": 26,
   "id": "88b3799d",
   "metadata": {},
   "outputs": [
    {
     "data": {
      "text/plain": [
       "property_type                 0.000000\n",
       "place_name                    0.000199\n",
       "place_with_parent_names       0.000000\n",
       "state_name                    0.000000\n",
       "geonames_id                   0.160146\n",
       "lat-lon                       0.420433\n",
       "price                         0.154467\n",
       "currency                      0.154476\n",
       "price_aprox_local_currency    0.154467\n",
       "price_aprox_usd               0.154467\n",
       "surface_total_in_m2           0.320327\n",
       "surface_covered_in_m2         0.153378\n",
       "price_usd_per_m2              0.424054\n",
       "price_per_m2                  0.260831\n",
       "rooms                         0.604981\n",
       "properati_url                 0.000000\n",
       "description                   0.000017\n",
       "title                         0.000000\n",
       "dtype: float64"
      ]
     },
     "execution_count": 26,
     "metadata": {},
     "output_type": "execute_result"
    }
   ],
   "source": [
    "df.isnull().sum()/df.shape[0]"
   ]
  },
  {
   "cell_type": "markdown",
   "id": "ff2534d9",
   "metadata": {},
   "source": [
    "#### 4. Trabajo con place name"
   ]
  },
  {
   "cell_type": "code",
   "execution_count": 27,
   "id": "7f38b9f4",
   "metadata": {},
   "outputs": [
    {
     "data": {
      "text/plain": [
       "(115688, 18)"
      ]
     },
     "execution_count": 27,
     "metadata": {},
     "output_type": "execute_result"
    }
   ],
   "source": [
    "df.shape"
   ]
  },
  {
   "cell_type": "code",
   "execution_count": 28,
   "id": "88d3b0ed",
   "metadata": {},
   "outputs": [],
   "source": [
    "df_place_null = df.loc[df['place_name'].isnull(), ['place_with_parent_names', 'place_name']]"
   ]
  },
  {
   "cell_type": "code",
   "execution_count": 29,
   "id": "b1e110e4",
   "metadata": {},
   "outputs": [
    {
     "data": {
      "text/html": [
       "<div>\n",
       "<style scoped>\n",
       "    .dataframe tbody tr th:only-of-type {\n",
       "        vertical-align: middle;\n",
       "    }\n",
       "\n",
       "    .dataframe tbody tr th {\n",
       "        vertical-align: top;\n",
       "    }\n",
       "\n",
       "    .dataframe thead th {\n",
       "        text-align: right;\n",
       "    }\n",
       "</style>\n",
       "<table border=\"1\" class=\"dataframe\">\n",
       "  <thead>\n",
       "    <tr style=\"text-align: right;\">\n",
       "      <th></th>\n",
       "      <th>place_with_parent_names</th>\n",
       "      <th>place_name</th>\n",
       "    </tr>\n",
       "  </thead>\n",
       "  <tbody>\n",
       "    <tr>\n",
       "      <th>6489</th>\n",
       "      <td>|Argentina|Bs.As. G.B.A. Zona Norte|Tigre||</td>\n",
       "      <td>NaN</td>\n",
       "    </tr>\n",
       "    <tr>\n",
       "      <th>10201</th>\n",
       "      <td>|Argentina|Bs.As. G.B.A. Zona Norte|Tigre||</td>\n",
       "      <td>NaN</td>\n",
       "    </tr>\n",
       "    <tr>\n",
       "      <th>11451</th>\n",
       "      <td>|Argentina|Bs.As. G.B.A. Zona Norte|Tigre||</td>\n",
       "      <td>NaN</td>\n",
       "    </tr>\n",
       "    <tr>\n",
       "      <th>14839</th>\n",
       "      <td>|Argentina|Bs.As. G.B.A. Zona Norte|Tigre||</td>\n",
       "      <td>NaN</td>\n",
       "    </tr>\n",
       "    <tr>\n",
       "      <th>18622</th>\n",
       "      <td>|Argentina|Bs.As. G.B.A. Zona Norte|Tigre||</td>\n",
       "      <td>NaN</td>\n",
       "    </tr>\n",
       "    <tr>\n",
       "      <th>21922</th>\n",
       "      <td>|Argentina|Bs.As. G.B.A. Zona Norte|Tigre||</td>\n",
       "      <td>NaN</td>\n",
       "    </tr>\n",
       "    <tr>\n",
       "      <th>23664</th>\n",
       "      <td>|Argentina|Bs.As. G.B.A. Zona Norte|Tigre||</td>\n",
       "      <td>NaN</td>\n",
       "    </tr>\n",
       "    <tr>\n",
       "      <th>24722</th>\n",
       "      <td>|Argentina|Bs.As. G.B.A. Zona Norte|Tigre||</td>\n",
       "      <td>NaN</td>\n",
       "    </tr>\n",
       "    <tr>\n",
       "      <th>38856</th>\n",
       "      <td>|Argentina|Bs.As. G.B.A. Zona Norte|Tigre||</td>\n",
       "      <td>NaN</td>\n",
       "    </tr>\n",
       "    <tr>\n",
       "      <th>45970</th>\n",
       "      <td>|Argentina|Bs.As. G.B.A. Zona Norte|Tigre||</td>\n",
       "      <td>NaN</td>\n",
       "    </tr>\n",
       "    <tr>\n",
       "      <th>46642</th>\n",
       "      <td>|Argentina|Bs.As. G.B.A. Zona Norte|Tigre||</td>\n",
       "      <td>NaN</td>\n",
       "    </tr>\n",
       "    <tr>\n",
       "      <th>53130</th>\n",
       "      <td>|Argentina|Bs.As. G.B.A. Zona Norte|Tigre||</td>\n",
       "      <td>NaN</td>\n",
       "    </tr>\n",
       "    <tr>\n",
       "      <th>55306</th>\n",
       "      <td>|Argentina|Bs.As. G.B.A. Zona Norte|Tigre||</td>\n",
       "      <td>NaN</td>\n",
       "    </tr>\n",
       "    <tr>\n",
       "      <th>57703</th>\n",
       "      <td>|Argentina|Bs.As. G.B.A. Zona Norte|Tigre||</td>\n",
       "      <td>NaN</td>\n",
       "    </tr>\n",
       "    <tr>\n",
       "      <th>57759</th>\n",
       "      <td>|Argentina|Bs.As. G.B.A. Zona Norte|Tigre||</td>\n",
       "      <td>NaN</td>\n",
       "    </tr>\n",
       "    <tr>\n",
       "      <th>57764</th>\n",
       "      <td>|Argentina|Bs.As. G.B.A. Zona Norte|Tigre||</td>\n",
       "      <td>NaN</td>\n",
       "    </tr>\n",
       "    <tr>\n",
       "      <th>57793</th>\n",
       "      <td>|Argentina|Bs.As. G.B.A. Zona Norte|Tigre||</td>\n",
       "      <td>NaN</td>\n",
       "    </tr>\n",
       "    <tr>\n",
       "      <th>58004</th>\n",
       "      <td>|Argentina|Bs.As. G.B.A. Zona Norte|Tigre||</td>\n",
       "      <td>NaN</td>\n",
       "    </tr>\n",
       "    <tr>\n",
       "      <th>58037</th>\n",
       "      <td>|Argentina|Bs.As. G.B.A. Zona Norte|Tigre||</td>\n",
       "      <td>NaN</td>\n",
       "    </tr>\n",
       "    <tr>\n",
       "      <th>59069</th>\n",
       "      <td>|Argentina|Bs.As. G.B.A. Zona Norte|Tigre||</td>\n",
       "      <td>NaN</td>\n",
       "    </tr>\n",
       "    <tr>\n",
       "      <th>62411</th>\n",
       "      <td>|Argentina|Bs.As. G.B.A. Zona Norte|Tigre||</td>\n",
       "      <td>NaN</td>\n",
       "    </tr>\n",
       "    <tr>\n",
       "      <th>62413</th>\n",
       "      <td>|Argentina|Bs.As. G.B.A. Zona Norte|Tigre||</td>\n",
       "      <td>NaN</td>\n",
       "    </tr>\n",
       "    <tr>\n",
       "      <th>63849</th>\n",
       "      <td>|Argentina|Bs.As. G.B.A. Zona Norte|Tigre||</td>\n",
       "      <td>NaN</td>\n",
       "    </tr>\n",
       "  </tbody>\n",
       "</table>\n",
       "</div>"
      ],
      "text/plain": [
       "                           place_with_parent_names place_name\n",
       "6489   |Argentina|Bs.As. G.B.A. Zona Norte|Tigre||        NaN\n",
       "10201  |Argentina|Bs.As. G.B.A. Zona Norte|Tigre||        NaN\n",
       "11451  |Argentina|Bs.As. G.B.A. Zona Norte|Tigre||        NaN\n",
       "14839  |Argentina|Bs.As. G.B.A. Zona Norte|Tigre||        NaN\n",
       "18622  |Argentina|Bs.As. G.B.A. Zona Norte|Tigre||        NaN\n",
       "21922  |Argentina|Bs.As. G.B.A. Zona Norte|Tigre||        NaN\n",
       "23664  |Argentina|Bs.As. G.B.A. Zona Norte|Tigre||        NaN\n",
       "24722  |Argentina|Bs.As. G.B.A. Zona Norte|Tigre||        NaN\n",
       "38856  |Argentina|Bs.As. G.B.A. Zona Norte|Tigre||        NaN\n",
       "45970  |Argentina|Bs.As. G.B.A. Zona Norte|Tigre||        NaN\n",
       "46642  |Argentina|Bs.As. G.B.A. Zona Norte|Tigre||        NaN\n",
       "53130  |Argentina|Bs.As. G.B.A. Zona Norte|Tigre||        NaN\n",
       "55306  |Argentina|Bs.As. G.B.A. Zona Norte|Tigre||        NaN\n",
       "57703  |Argentina|Bs.As. G.B.A. Zona Norte|Tigre||        NaN\n",
       "57759  |Argentina|Bs.As. G.B.A. Zona Norte|Tigre||        NaN\n",
       "57764  |Argentina|Bs.As. G.B.A. Zona Norte|Tigre||        NaN\n",
       "57793  |Argentina|Bs.As. G.B.A. Zona Norte|Tigre||        NaN\n",
       "58004  |Argentina|Bs.As. G.B.A. Zona Norte|Tigre||        NaN\n",
       "58037  |Argentina|Bs.As. G.B.A. Zona Norte|Tigre||        NaN\n",
       "59069  |Argentina|Bs.As. G.B.A. Zona Norte|Tigre||        NaN\n",
       "62411  |Argentina|Bs.As. G.B.A. Zona Norte|Tigre||        NaN\n",
       "62413  |Argentina|Bs.As. G.B.A. Zona Norte|Tigre||        NaN\n",
       "63849  |Argentina|Bs.As. G.B.A. Zona Norte|Tigre||        NaN"
      ]
     },
     "execution_count": 29,
     "metadata": {},
     "output_type": "execute_result"
    }
   ],
   "source": [
    "df_place_null"
   ]
  },
  {
   "cell_type": "code",
   "execution_count": 30,
   "id": "b0bba8ca",
   "metadata": {},
   "outputs": [
    {
     "data": {
      "text/html": [
       "<div>\n",
       "<style scoped>\n",
       "    .dataframe tbody tr th:only-of-type {\n",
       "        vertical-align: middle;\n",
       "    }\n",
       "\n",
       "    .dataframe tbody tr th {\n",
       "        vertical-align: top;\n",
       "    }\n",
       "\n",
       "    .dataframe thead th {\n",
       "        text-align: right;\n",
       "    }\n",
       "</style>\n",
       "<table border=\"1\" class=\"dataframe\">\n",
       "  <thead>\n",
       "    <tr style=\"text-align: right;\">\n",
       "      <th></th>\n",
       "      <th>place_with_parent_names</th>\n",
       "      <th>place_name</th>\n",
       "    </tr>\n",
       "  </thead>\n",
       "  <tbody>\n",
       "    <tr>\n",
       "      <th>6489</th>\n",
       "      <td>|Argentina|Bs.As. G.B.A. Zona Norte|Tigre||</td>\n",
       "      <td>Tigre</td>\n",
       "    </tr>\n",
       "    <tr>\n",
       "      <th>10201</th>\n",
       "      <td>|Argentina|Bs.As. G.B.A. Zona Norte|Tigre||</td>\n",
       "      <td>Tigre</td>\n",
       "    </tr>\n",
       "    <tr>\n",
       "      <th>11451</th>\n",
       "      <td>|Argentina|Bs.As. G.B.A. Zona Norte|Tigre||</td>\n",
       "      <td>Tigre</td>\n",
       "    </tr>\n",
       "    <tr>\n",
       "      <th>14839</th>\n",
       "      <td>|Argentina|Bs.As. G.B.A. Zona Norte|Tigre||</td>\n",
       "      <td>Tigre</td>\n",
       "    </tr>\n",
       "    <tr>\n",
       "      <th>18622</th>\n",
       "      <td>|Argentina|Bs.As. G.B.A. Zona Norte|Tigre||</td>\n",
       "      <td>Tigre</td>\n",
       "    </tr>\n",
       "    <tr>\n",
       "      <th>21922</th>\n",
       "      <td>|Argentina|Bs.As. G.B.A. Zona Norte|Tigre||</td>\n",
       "      <td>Tigre</td>\n",
       "    </tr>\n",
       "    <tr>\n",
       "      <th>23664</th>\n",
       "      <td>|Argentina|Bs.As. G.B.A. Zona Norte|Tigre||</td>\n",
       "      <td>Tigre</td>\n",
       "    </tr>\n",
       "    <tr>\n",
       "      <th>24722</th>\n",
       "      <td>|Argentina|Bs.As. G.B.A. Zona Norte|Tigre||</td>\n",
       "      <td>Tigre</td>\n",
       "    </tr>\n",
       "    <tr>\n",
       "      <th>38856</th>\n",
       "      <td>|Argentina|Bs.As. G.B.A. Zona Norte|Tigre||</td>\n",
       "      <td>Tigre</td>\n",
       "    </tr>\n",
       "    <tr>\n",
       "      <th>45970</th>\n",
       "      <td>|Argentina|Bs.As. G.B.A. Zona Norte|Tigre||</td>\n",
       "      <td>Tigre</td>\n",
       "    </tr>\n",
       "    <tr>\n",
       "      <th>46642</th>\n",
       "      <td>|Argentina|Bs.As. G.B.A. Zona Norte|Tigre||</td>\n",
       "      <td>Tigre</td>\n",
       "    </tr>\n",
       "    <tr>\n",
       "      <th>53130</th>\n",
       "      <td>|Argentina|Bs.As. G.B.A. Zona Norte|Tigre||</td>\n",
       "      <td>Tigre</td>\n",
       "    </tr>\n",
       "    <tr>\n",
       "      <th>55306</th>\n",
       "      <td>|Argentina|Bs.As. G.B.A. Zona Norte|Tigre||</td>\n",
       "      <td>Tigre</td>\n",
       "    </tr>\n",
       "    <tr>\n",
       "      <th>57703</th>\n",
       "      <td>|Argentina|Bs.As. G.B.A. Zona Norte|Tigre||</td>\n",
       "      <td>Tigre</td>\n",
       "    </tr>\n",
       "    <tr>\n",
       "      <th>57759</th>\n",
       "      <td>|Argentina|Bs.As. G.B.A. Zona Norte|Tigre||</td>\n",
       "      <td>Tigre</td>\n",
       "    </tr>\n",
       "    <tr>\n",
       "      <th>57764</th>\n",
       "      <td>|Argentina|Bs.As. G.B.A. Zona Norte|Tigre||</td>\n",
       "      <td>Tigre</td>\n",
       "    </tr>\n",
       "    <tr>\n",
       "      <th>57793</th>\n",
       "      <td>|Argentina|Bs.As. G.B.A. Zona Norte|Tigre||</td>\n",
       "      <td>Tigre</td>\n",
       "    </tr>\n",
       "    <tr>\n",
       "      <th>58004</th>\n",
       "      <td>|Argentina|Bs.As. G.B.A. Zona Norte|Tigre||</td>\n",
       "      <td>Tigre</td>\n",
       "    </tr>\n",
       "    <tr>\n",
       "      <th>58037</th>\n",
       "      <td>|Argentina|Bs.As. G.B.A. Zona Norte|Tigre||</td>\n",
       "      <td>Tigre</td>\n",
       "    </tr>\n",
       "    <tr>\n",
       "      <th>59069</th>\n",
       "      <td>|Argentina|Bs.As. G.B.A. Zona Norte|Tigre||</td>\n",
       "      <td>Tigre</td>\n",
       "    </tr>\n",
       "    <tr>\n",
       "      <th>62411</th>\n",
       "      <td>|Argentina|Bs.As. G.B.A. Zona Norte|Tigre||</td>\n",
       "      <td>Tigre</td>\n",
       "    </tr>\n",
       "    <tr>\n",
       "      <th>62413</th>\n",
       "      <td>|Argentina|Bs.As. G.B.A. Zona Norte|Tigre||</td>\n",
       "      <td>Tigre</td>\n",
       "    </tr>\n",
       "    <tr>\n",
       "      <th>63849</th>\n",
       "      <td>|Argentina|Bs.As. G.B.A. Zona Norte|Tigre||</td>\n",
       "      <td>Tigre</td>\n",
       "    </tr>\n",
       "  </tbody>\n",
       "</table>\n",
       "</div>"
      ],
      "text/plain": [
       "                           place_with_parent_names place_name\n",
       "6489   |Argentina|Bs.As. G.B.A. Zona Norte|Tigre||      Tigre\n",
       "10201  |Argentina|Bs.As. G.B.A. Zona Norte|Tigre||      Tigre\n",
       "11451  |Argentina|Bs.As. G.B.A. Zona Norte|Tigre||      Tigre\n",
       "14839  |Argentina|Bs.As. G.B.A. Zona Norte|Tigre||      Tigre\n",
       "18622  |Argentina|Bs.As. G.B.A. Zona Norte|Tigre||      Tigre\n",
       "21922  |Argentina|Bs.As. G.B.A. Zona Norte|Tigre||      Tigre\n",
       "23664  |Argentina|Bs.As. G.B.A. Zona Norte|Tigre||      Tigre\n",
       "24722  |Argentina|Bs.As. G.B.A. Zona Norte|Tigre||      Tigre\n",
       "38856  |Argentina|Bs.As. G.B.A. Zona Norte|Tigre||      Tigre\n",
       "45970  |Argentina|Bs.As. G.B.A. Zona Norte|Tigre||      Tigre\n",
       "46642  |Argentina|Bs.As. G.B.A. Zona Norte|Tigre||      Tigre\n",
       "53130  |Argentina|Bs.As. G.B.A. Zona Norte|Tigre||      Tigre\n",
       "55306  |Argentina|Bs.As. G.B.A. Zona Norte|Tigre||      Tigre\n",
       "57703  |Argentina|Bs.As. G.B.A. Zona Norte|Tigre||      Tigre\n",
       "57759  |Argentina|Bs.As. G.B.A. Zona Norte|Tigre||      Tigre\n",
       "57764  |Argentina|Bs.As. G.B.A. Zona Norte|Tigre||      Tigre\n",
       "57793  |Argentina|Bs.As. G.B.A. Zona Norte|Tigre||      Tigre\n",
       "58004  |Argentina|Bs.As. G.B.A. Zona Norte|Tigre||      Tigre\n",
       "58037  |Argentina|Bs.As. G.B.A. Zona Norte|Tigre||      Tigre\n",
       "59069  |Argentina|Bs.As. G.B.A. Zona Norte|Tigre||      Tigre\n",
       "62411  |Argentina|Bs.As. G.B.A. Zona Norte|Tigre||      Tigre\n",
       "62413  |Argentina|Bs.As. G.B.A. Zona Norte|Tigre||      Tigre\n",
       "63849  |Argentina|Bs.As. G.B.A. Zona Norte|Tigre||      Tigre"
      ]
     },
     "execution_count": 30,
     "metadata": {},
     "output_type": "execute_result"
    }
   ],
   "source": [
    "df_place_null['place_name'] = df.apply(lambda x : x['place_with_parent_names'].split('|')[3] if pd.isna(x['place_name']) == True else x['place_name'] , axis = 1)\n",
    "df_place_null\n",
    "### usamos la columna place_with_parent_names para imputar los valores faltantes de la columna place name"
   ]
  },
  {
   "cell_type": "code",
   "execution_count": 31,
   "id": "59833fd5",
   "metadata": {},
   "outputs": [],
   "source": [
    "df['place_name'] = df.apply(lambda x : x['place_with_parent_names'].split('|')[3] if pd.isna(x['place_name']) == True else x['place_name'] , axis = 1)\n"
   ]
  },
  {
   "cell_type": "code",
   "execution_count": 32,
   "id": "dcaae846",
   "metadata": {},
   "outputs": [],
   "source": [
    "df = df.drop('place_with_parent_names', axis=1)\n"
   ]
  },
  {
   "cell_type": "code",
   "execution_count": 33,
   "id": "001ab9b5",
   "metadata": {},
   "outputs": [
    {
     "data": {
      "text/plain": [
       "property_type                 0.000000\n",
       "place_name                    0.000000\n",
       "state_name                    0.000000\n",
       "geonames_id                   0.160146\n",
       "lat-lon                       0.420433\n",
       "price                         0.154467\n",
       "currency                      0.154476\n",
       "price_aprox_local_currency    0.154467\n",
       "price_aprox_usd               0.154467\n",
       "surface_total_in_m2           0.320327\n",
       "surface_covered_in_m2         0.153378\n",
       "price_usd_per_m2              0.424054\n",
       "price_per_m2                  0.260831\n",
       "rooms                         0.604981\n",
       "properati_url                 0.000000\n",
       "description                   0.000017\n",
       "title                         0.000000\n",
       "dtype: float64"
      ]
     },
     "execution_count": 33,
     "metadata": {},
     "output_type": "execute_result"
    }
   ],
   "source": [
    "df.isnull().sum()/df.shape[0]"
   ]
  },
  {
   "cell_type": "markdown",
   "id": "9be12a0c",
   "metadata": {},
   "source": [
    "#### 5. expresiones regulares"
   ]
  },
  {
   "cell_type": "code",
   "execution_count": 34,
   "id": "dd9c3f32",
   "metadata": {},
   "outputs": [],
   "source": [
    "pattern = r'(?P<n_ambientes>\\d+)\\s*(?:ambientes?|amb|cuartos?|habitaci[oó]n|habitaciones|dormitorios?|dorm|hab)'"
   ]
  },
  {
   "cell_type": "code",
   "execution_count": 35,
   "id": "41500eeb",
   "metadata": {},
   "outputs": [],
   "source": [
    "resultado = df.description.str.extract(pattern, flags=re.IGNORECASE)"
   ]
  },
  {
   "cell_type": "markdown",
   "id": "49b523fb",
   "metadata": {},
   "source": [
    "Cambiamos la serie a tipo float para poder incoporarla a rooms y no la castee a Object"
   ]
  },
  {
   "cell_type": "code",
   "execution_count": 36,
   "id": "f4c9bb67",
   "metadata": {},
   "outputs": [
    {
     "data": {
      "text/plain": [
       "0         2.0\n",
       "1         NaN\n",
       "2         2.0\n",
       "3         3.0\n",
       "4         1.0\n",
       "         ... \n",
       "121215    2.0\n",
       "121216    3.0\n",
       "121217    NaN\n",
       "121218    2.0\n",
       "121219    NaN\n",
       "Name: n_ambientes, Length: 115688, dtype: float64"
      ]
     },
     "execution_count": 36,
     "metadata": {},
     "output_type": "execute_result"
    }
   ],
   "source": [
    "s_ambientes = resultado.n_ambientes.astype(float)\n",
    "s_ambientes"
   ]
  },
  {
   "cell_type": "markdown",
   "id": "cf575d34",
   "metadata": {},
   "source": [
    "#### Vemos como está distribuida la extracción"
   ]
  },
  {
   "cell_type": "code",
   "execution_count": 37,
   "id": "5de26b67",
   "metadata": {},
   "outputs": [
    {
     "data": {
      "image/png": "[encoded data removed]",
      "text/plain": [
       "<Figure size 1080x576 with 1 Axes>"
      ]
     },
     "metadata": {
      "needs_background": "light"
     },
     "output_type": "display_data"
    }
   ],
   "source": [
    "plt.figure(figsize=(15, 8))\n",
    "sns.boxplot(data=s_ambientes) \n",
    "plt.show()"
   ]
  },
  {
   "cell_type": "markdown",
   "id": "76088ad5",
   "metadata": {},
   "source": [
    "Vemos que hay valores recolectados erroneos por lo extremo. Así que vamos a recortar esos valores seleccionando el ultimo quartil (.99) para rellenar con ese valor"
   ]
  },
  {
   "cell_type": "code",
   "execution_count": 38,
   "id": "43b5e45a",
   "metadata": {},
   "outputs": [
    {
     "data": {
      "text/plain": [
       "7.0"
      ]
     },
     "execution_count": 38,
     "metadata": {},
     "output_type": "execute_result"
    }
   ],
   "source": [
    "s_ambientes.quantile(.99)"
   ]
  },
  {
   "cell_type": "markdown",
   "id": "09cebadc",
   "metadata": {},
   "source": [
    "Asigno el valor a esa parte:"
   ]
  },
  {
   "cell_type": "code",
   "execution_count": 39,
   "id": "33c69394",
   "metadata": {},
   "outputs": [],
   "source": [
    "s_ambientes.loc[s_ambientes > s_ambientes.quantile(.99)] = s_ambientes.quantile(.99)"
   ]
  },
  {
   "cell_type": "markdown",
   "id": "119f8b00",
   "metadata": {},
   "source": [
    "Vemos como queda ahora la distribucion"
   ]
  },
  {
   "cell_type": "code",
   "execution_count": 40,
   "id": "5be98882",
   "metadata": {},
   "outputs": [
    {
     "data": {
      "image/png": "[encoded data removed]",
      "text/plain": [
       "<Figure size 1080x576 with 1 Axes>"
      ]
     },
     "metadata": {
      "needs_background": "light"
     },
     "output_type": "display_data"
    }
   ],
   "source": [
    "plt.figure(figsize=(15, 8))\n",
    "sns.boxplot(data=s_ambientes) \n",
    "plt.show()"
   ]
  },
  {
   "cell_type": "markdown",
   "id": "0d8a0870",
   "metadata": {},
   "source": [
    "Seleccionamos los indices donde los valores de rooms son na"
   ]
  },
  {
   "cell_type": "code",
   "execution_count": 41,
   "id": "109ef4b0",
   "metadata": {},
   "outputs": [],
   "source": [
    "index_rooms_null = df.loc[df['rooms'].isna()].index"
   ]
  },
  {
   "cell_type": "markdown",
   "id": "c95e89ee",
   "metadata": {},
   "source": [
    "Imputamos los ambientes extraidos a la columna rooms con valores nulos"
   ]
  },
  {
   "cell_type": "code",
   "execution_count": 42,
   "id": "376eaf76",
   "metadata": {},
   "outputs": [],
   "source": [
    "df.loc[index_rooms_null, 'rooms'] = s_ambientes.loc[index_rooms_null]\n"
   ]
  },
  {
   "cell_type": "code",
   "execution_count": 43,
   "id": "1df2143f",
   "metadata": {},
   "outputs": [
    {
     "data": {
      "text/plain": [
       "0         2.0\n",
       "1         NaN\n",
       "2         2.0\n",
       "3         3.0\n",
       "4         1.0\n",
       "         ... \n",
       "121215    2.0\n",
       "121216    3.0\n",
       "121217    NaN\n",
       "121218    2.0\n",
       "121219    NaN\n",
       "Name: rooms, Length: 115688, dtype: float64"
      ]
     },
     "execution_count": 43,
     "metadata": {},
     "output_type": "execute_result"
    }
   ],
   "source": [
    "df.rooms"
   ]
  },
  {
   "cell_type": "code",
   "execution_count": 44,
   "id": "c045af0b",
   "metadata": {},
   "outputs": [
    {
     "name": "stdout",
     "output_type": "stream",
     "text": [
      "<class 'pandas.core.frame.DataFrame'>\n",
      "Int64Index: 115688 entries, 0 to 121219\n",
      "Data columns (total 17 columns):\n",
      " #   Column                      Non-Null Count   Dtype  \n",
      "---  ------                      --------------   -----  \n",
      " 0   property_type               115688 non-null  object \n",
      " 1   place_name                  115688 non-null  object \n",
      " 2   state_name                  115688 non-null  object \n",
      " 3   geonames_id                 97161 non-null   float64\n",
      " 4   lat-lon                     67049 non-null   object \n",
      " 5   price                       97818 non-null   float64\n",
      " 6   currency                    97817 non-null   object \n",
      " 7   price_aprox_local_currency  97818 non-null   float64\n",
      " 8   price_aprox_usd             97818 non-null   float64\n",
      " 9   surface_total_in_m2         78630 non-null   float64\n",
      " 10  surface_covered_in_m2       97944 non-null   float64\n",
      " 11  price_usd_per_m2            66630 non-null   float64\n",
      " 12  price_per_m2                85513 non-null   float64\n",
      " 13  rooms                       83771 non-null   float64\n",
      " 14  properati_url               115688 non-null  object \n",
      " 15  description                 115686 non-null  object \n",
      " 16  title                       115688 non-null  object \n",
      "dtypes: float64(9), object(8)\n",
      "memory usage: 20.9+ MB\n"
     ]
    }
   ],
   "source": [
    "# vemos que rooms sigue siendo float\n",
    "df.info()\n"
   ]
  },
  {
   "cell_type": "markdown",
   "id": "810f0dcc",
   "metadata": {},
   "source": [
    "Logramos reducir los valores nulos de rooms a el 27,58%"
   ]
  },
  {
   "cell_type": "code",
   "execution_count": 45,
   "id": "bcbd2488",
   "metadata": {},
   "outputs": [
    {
     "data": {
      "text/plain": [
       "property_type                 0.000000\n",
       "place_name                    0.000000\n",
       "state_name                    0.000000\n",
       "geonames_id                   0.160146\n",
       "lat-lon                       0.420433\n",
       "price                         0.154467\n",
       "currency                      0.154476\n",
       "price_aprox_local_currency    0.154467\n",
       "price_aprox_usd               0.154467\n",
       "surface_total_in_m2           0.320327\n",
       "surface_covered_in_m2         0.153378\n",
       "price_usd_per_m2              0.424054\n",
       "price_per_m2                  0.260831\n",
       "rooms                         0.275889\n",
       "properati_url                 0.000000\n",
       "description                   0.000017\n",
       "title                         0.000000\n",
       "dtype: float64"
      ]
     },
     "execution_count": 45,
     "metadata": {},
     "output_type": "execute_result"
    }
   ],
   "source": [
    "df.isnull().sum()/df.shape[0]"
   ]
  },
  {
   "cell_type": "code",
   "execution_count": 46,
   "id": "19f1d941",
   "metadata": {},
   "outputs": [
    {
     "data": {
      "image/png": "[encoded data removed]",
      "text/plain": [
       "<Figure size 1080x576 with 1 Axes>"
      ]
     },
     "metadata": {
      "needs_background": "light"
     },
     "output_type": "display_data"
    }
   ],
   "source": [
    "plt.figure(figsize=(15, 8))\n",
    "sns.boxplot(data=df, x='rooms') \n",
    "plt.show()\n",
    "## tenemos posibles valores errados"
   ]
  },
  {
   "cell_type": "markdown",
   "id": "3c8d5598",
   "metadata": {},
   "source": [
    "Hasta acá filtramos los maximos de los valores extraídos con expresiones regulares. El resto de los valores ya vienen directo desde el dataframe."
   ]
  },
  {
   "cell_type": "code",
   "execution_count": 47,
   "id": "9ffd38c2",
   "metadata": {},
   "outputs": [
    {
     "data": {
      "text/plain": [
       "apartment    68740\n",
       "house        37554\n",
       "PH            5523\n",
       "store         3871\n",
       "Name: property_type, dtype: int64"
      ]
     },
     "execution_count": 47,
     "metadata": {},
     "output_type": "execute_result"
    }
   ],
   "source": [
    "### sacamos valores del quantil 'X' para cada tipo de propiedad\n",
    "# usamos ese valor para que no se sesgue por los outilers\n",
    "df.property_type.value_counts()"
   ]
  },
  {
   "cell_type": "code",
   "execution_count": 48,
   "id": "aee4d7bf",
   "metadata": {},
   "outputs": [],
   "source": [
    "quantile = .99\n",
    "rooms_apartment_quantile = df.loc[df.property_type =='apartment', 'rooms'].quantile(quantile)\n",
    "rooms_house_quantile = df.loc[df.property_type =='house', 'rooms'].quantile(quantile)   \n",
    "rooms_PH_quantile = df.loc[df.property_type =='PH', 'rooms'].quantile(quantile)\n",
    "rooms_store_quantile = df.loc[df.property_type =='store', 'rooms'].quantile(quantile)"
   ]
  },
  {
   "cell_type": "code",
   "execution_count": 49,
   "id": "c252ad60",
   "metadata": {},
   "outputs": [
    {
     "name": "stdout",
     "output_type": "stream",
     "text": [
      "Consideramos outlier todo lo que exceda estos valores para cada tipo de propiedad\n",
      " apartment: 6.0\n",
      " house: 10.0 \n",
      " PH: 7.0\n",
      " store:7.0\n"
     ]
    }
   ],
   "source": [
    "print('Consideramos outlier todo lo que exceda estos valores para cada tipo de propiedad')\n",
    "print(f' apartment: {rooms_apartment_quantile}\\n house: {rooms_house_quantile} \\n PH: {rooms_PH_quantile}\\n store:{rooms_store_quantile}')"
   ]
  },
  {
   "cell_type": "markdown",
   "id": "816c0022",
   "metadata": {},
   "source": [
    "Vamos a imputar ahora los valores de los quantiles a todo lo que esté por encima de ellos en cada tipo de propiedad"
   ]
  },
  {
   "cell_type": "code",
   "execution_count": 50,
   "id": "a845d667",
   "metadata": {},
   "outputs": [
    {
     "data": {
      "text/plain": [
       "array(['PH', 'apartment', 'house', 'store'], dtype=object)"
      ]
     },
     "execution_count": 50,
     "metadata": {},
     "output_type": "execute_result"
    }
   ],
   "source": [
    "# Creo un array con los tipos de propiedad para looper \n",
    "property_types = df.property_type.unique()\n",
    "property_types"
   ]
  },
  {
   "cell_type": "code",
   "execution_count": 51,
   "id": "3070fc9b",
   "metadata": {},
   "outputs": [
    {
     "data": {
      "text/plain": [
       "{'PH': 7.0, 'apartment': 6.0, 'house': 10.0, 'store': 7.0}"
      ]
     },
     "execution_count": 51,
     "metadata": {},
     "output_type": "execute_result"
    }
   ],
   "source": [
    "# Creo un diccionario para acceder a los valores de los quantiles a partir del property_type\n",
    "quantiles_prop = {'PH': rooms_PH_quantile, 'apartment': rooms_apartment_quantile, 'house': rooms_house_quantile, 'store': rooms_store_quantile}\n",
    "quantiles_prop"
   ]
  },
  {
   "cell_type": "code",
   "execution_count": 52,
   "id": "354c5bb6",
   "metadata": {},
   "outputs": [],
   "source": [
    "for type in property_types:\n",
    "    index_to_replace = df.loc[(df['rooms']> quantiles_prop[type]) & (df['property_type'] ==type),:].index\n",
    "    df.loc[index_to_replace, 'rooms'] = quantiles_prop[type]\n",
    "    "
   ]
  },
  {
   "cell_type": "markdown",
   "id": "9b0658e9",
   "metadata": {},
   "source": [
    "Vemos como se recortan las puntas. El máximo queda en el quantile .99 de cada tipo de vivienda."
   ]
  },
  {
   "cell_type": "code",
   "execution_count": 53,
   "id": "881844ba",
   "metadata": {},
   "outputs": [
    {
     "data": {
      "image/png": "[encoded data removed]",
      "text/plain": [
       "<Figure size 1080x432 with 1 Axes>"
      ]
     },
     "metadata": {
      "needs_background": "light"
     },
     "output_type": "display_data"
    }
   ],
   "source": [
    "plt.figure(figsize=(15, 6))\n",
    "sns.boxplot(data=df, x='rooms') \n",
    "plt.show()"
   ]
  },
  {
   "cell_type": "code",
   "execution_count": 54,
   "id": "4f4f380a",
   "metadata": {},
   "outputs": [
    {
     "data": {
      "text/plain": [
       "property_type                 0.000000\n",
       "place_name                    0.000000\n",
       "state_name                    0.000000\n",
       "geonames_id                   0.160146\n",
       "lat-lon                       0.420433\n",
       "price                         0.154467\n",
       "currency                      0.154476\n",
       "price_aprox_local_currency    0.154467\n",
       "price_aprox_usd               0.154467\n",
       "surface_total_in_m2           0.320327\n",
       "surface_covered_in_m2         0.153378\n",
       "price_usd_per_m2              0.424054\n",
       "price_per_m2                  0.260831\n",
       "rooms                         0.275889\n",
       "properati_url                 0.000000\n",
       "description                   0.000017\n",
       "title                         0.000000\n",
       "dtype: float64"
      ]
     },
     "execution_count": 54,
     "metadata": {},
     "output_type": "execute_result"
    }
   ],
   "source": [
    "df.isna().sum()/df.shape[0]"
   ]
  },
  {
   "cell_type": "markdown",
   "id": "5952dbde",
   "metadata": {},
   "source": [
    "##### Imputar NA con valores de cuartos promedio agrupado por state_name, place_name y property_type"
   ]
  },
  {
   "cell_type": "code",
   "execution_count": 55,
   "id": "ca375822",
   "metadata": {},
   "outputs": [
    {
     "data": {
      "text/plain": [
       "state_name                place_name               property_type\n",
       "bs.as. g.b.a. zona norte   Country Maschwitz Club  house            3.500000\n",
       "                           los alamos              apartment        1.000000\n",
       "                          Acacias Blancas          house            3.565217\n",
       "                          Acassuso                 PH               3.400000\n",
       "                                                   apartment        2.818182\n",
       "                                                                      ...   \n",
       "santa fe                  Susana                   house            2.000000\n",
       "                          Timbúes                  house            1.000000\n",
       "                          Venado Tuerto            house            9.000000\n",
       "                          Villa Constitución       apartment        3.000000\n",
       "                                                   house            2.555556\n",
       "Name: rooms, Length: 1578, dtype: float64"
      ]
     },
     "execution_count": 55,
     "metadata": {},
     "output_type": "execute_result"
    }
   ],
   "source": [
    "df_rooms_means = df.groupby(['state_name', 'place_name', 'property_type'])['rooms'].mean()\n",
    "df_rooms_means = df_rooms_means[df_rooms_means.notna()]\n",
    "df_rooms_means\n"
   ]
  },
  {
   "cell_type": "code",
   "execution_count": 56,
   "id": "e05af4e4",
   "metadata": {},
   "outputs": [
    {
     "data": {
      "text/plain": [
       "count    83771.000000\n",
       "mean         2.861480\n",
       "std          1.418935\n",
       "min          0.000000\n",
       "25%          2.000000\n",
       "50%          3.000000\n",
       "75%          4.000000\n",
       "max         10.000000\n",
       "Name: rooms, dtype: float64"
      ]
     },
     "execution_count": 56,
     "metadata": {},
     "output_type": "execute_result"
    }
   ],
   "source": [
    "df['rooms'].describe()"
   ]
  },
  {
   "cell_type": "code",
   "execution_count": 57,
   "id": "65006dec",
   "metadata": {},
   "outputs": [
    {
     "data": {
      "text/plain": [
       "('bs.as. g.b.a. zona norte', ' Country Maschwitz Club', 'house')"
      ]
     },
     "execution_count": 57,
     "metadata": {},
     "output_type": "execute_result"
    }
   ],
   "source": [
    "df_rooms_means.index[0]\n"
   ]
  },
  {
   "cell_type": "code",
   "execution_count": 58,
   "id": "776bd8f7",
   "metadata": {},
   "outputs": [],
   "source": [
    "# Desacoplamos el index para sacar el state_name, place_name y property_type que necesitamos para componer la asignacion\n",
    "# Ademas nos permite ahorrar iteraciones donde el valor sea NA o en combinaciones que no existan\n",
    "for state, place, prop_type in df_rooms_means.index:\n",
    "        df.loc[(df['state_name'] == state) & (df['place_name'] == place) & (df['property_type'] == prop_type) & df['rooms'].isna(),'rooms'] = df_rooms_means[state,place,prop_type]"
   ]
  },
  {
   "cell_type": "code",
   "execution_count": 59,
   "id": "1ba2768a",
   "metadata": {},
   "outputs": [
    {
     "data": {
      "text/plain": [
       "808"
      ]
     },
     "execution_count": 59,
     "metadata": {},
     "output_type": "execute_result"
    }
   ],
   "source": [
    "df.rooms.isna().sum()"
   ]
  },
  {
   "cell_type": "code",
   "execution_count": 60,
   "id": "900bc1d7",
   "metadata": {},
   "outputs": [],
   "source": [
    "### Imputemos al resto de los valores faltantes el promedio de cuartos del dataframe ahora sí\n",
    "df.loc[df['rooms'].isna(), 'rooms'] = df['rooms'].mean()"
   ]
  },
  {
   "cell_type": "code",
   "execution_count": 61,
   "id": "5ed2017b",
   "metadata": {},
   "outputs": [
    {
     "data": {
      "text/plain": [
       "count    115688.000000\n",
       "mean          2.840015\n",
       "std           1.268229\n",
       "min           0.000000\n",
       "25%           2.000000\n",
       "50%           2.967213\n",
       "75%           3.285714\n",
       "max          10.000000\n",
       "Name: rooms, dtype: float64"
      ]
     },
     "execution_count": 61,
     "metadata": {},
     "output_type": "execute_result"
    }
   ],
   "source": [
    "df.rooms.describe()"
   ]
  },
  {
   "cell_type": "markdown",
   "id": "2fa1a48e",
   "metadata": {},
   "source": [
    "#### 4. Trabajo con las columnas de price"
   ]
  },
  {
   "cell_type": "markdown",
   "id": "e3c86d97",
   "metadata": {},
   "source": [
    "Dropeamos donde todos los precios sean nulos"
   ]
  },
  {
   "cell_type": "code",
   "execution_count": 62,
   "id": "76d1957a",
   "metadata": {},
   "outputs": [],
   "source": [
    "prices_nulos_index = df[df.price.isna() & df.price_aprox_local_currency.isna() \n",
    "                        & df.price_aprox_usd.isna() & df.price_usd_per_m2.isna() \n",
    "                        & df.price_per_m2.isna()].index"
   ]
  },
  {
   "cell_type": "code",
   "execution_count": 63,
   "id": "b4411c62",
   "metadata": {},
   "outputs": [
    {
     "name": "stdout",
     "output_type": "stream",
     "text": [
      "(97818, 17)\n"
     ]
    }
   ],
   "source": [
    "df.drop(index=prices_nulos_index, inplace=True)\n",
    "print(df.shape)"
   ]
  },
  {
   "cell_type": "code",
   "execution_count": 64,
   "id": "838146b2",
   "metadata": {},
   "outputs": [
    {
     "data": {
      "text/plain": [
       "property_type                 0.000000\n",
       "place_name                    0.000000\n",
       "state_name                    0.000000\n",
       "geonames_id                   0.172208\n",
       "lat-lon                       0.414474\n",
       "price                         0.000000\n",
       "currency                      0.000010\n",
       "price_aprox_local_currency    0.000000\n",
       "price_aprox_usd               0.000000\n",
       "surface_total_in_m2           0.316291\n",
       "surface_covered_in_m2         0.125774\n",
       "price_usd_per_m2              0.318837\n",
       "price_per_m2                  0.125795\n",
       "rooms                         0.000000\n",
       "properati_url                 0.000000\n",
       "description                   0.000020\n",
       "title                         0.000000\n",
       "dtype: float64"
      ]
     },
     "execution_count": 64,
     "metadata": {},
     "output_type": "execute_result"
    }
   ],
   "source": [
    "df.isna().sum() / df.shape[0]"
   ]
  },
  {
   "cell_type": "code",
   "execution_count": 65,
   "id": "c6b9f2bd",
   "metadata": {},
   "outputs": [
    {
     "data": {
      "text/plain": [
       "<AxesSubplot:ylabel='Frequency'>"
      ]
     },
     "execution_count": 65,
     "metadata": {},
     "output_type": "execute_result"
    },
    {
     "data": {
      "image/png": "[encoded data removed]",
      "text/plain": [
       "<Figure size 432x288 with 1 Axes>"
      ]
     },
     "metadata": {
      "needs_background": "light"
     },
     "output_type": "display_data"
    }
   ],
   "source": [
    "df.price_aprox_usd.plot(kind='hist', bins=100)"
   ]
  },
  {
   "cell_type": "code",
   "execution_count": 66,
   "id": "bbd3e26f",
   "metadata": {},
   "outputs": [
    {
     "name": "stdout",
     "output_type": "stream",
     "text": [
      "96733\n"
     ]
    },
    {
     "data": {
      "text/plain": [
       "<AxesSubplot:ylabel='Frequency'>"
      ]
     },
     "execution_count": 66,
     "metadata": {},
     "output_type": "execute_result"
    },
    {
     "data": {
      "image/png": "[encoded data removed]",
      "text/plain": [
       "<Figure size 432x288 with 1 Axes>"
      ]
     },
     "metadata": {
      "needs_background": "light"
     },
     "output_type": "display_data"
    }
   ],
   "source": [
    "print(df[df.price_aprox_usd < df.price_aprox_usd.quantile(0.99)].shape[0])\n",
    "df[df.price_aprox_usd < df.price_aprox_usd.quantile(0.99)].price_aprox_usd.plot(kind='hist')"
   ]
  },
  {
   "cell_type": "markdown",
   "id": "13cfd430",
   "metadata": {},
   "source": [
    "Nos quedamos con los valores por debajo del quartile .99"
   ]
  },
  {
   "cell_type": "code",
   "execution_count": 67,
   "id": "07a29a75",
   "metadata": {},
   "outputs": [],
   "source": [
    "df = df[df.price_aprox_usd < df.price_aprox_usd.quantile(0.99)]"
   ]
  },
  {
   "cell_type": "code",
   "execution_count": 68,
   "id": "8d7aee3e",
   "metadata": {},
   "outputs": [
    {
     "data": {
      "text/plain": [
       "<AxesSubplot:ylabel='Frequency'>"
      ]
     },
     "execution_count": 68,
     "metadata": {},
     "output_type": "execute_result"
    },
    {
     "data": {
      "image/png": "[encoded data removed]",
      "text/plain": [
       "<Figure size 432x288 with 1 Axes>"
      ]
     },
     "metadata": {
      "needs_background": "light"
     },
     "output_type": "display_data"
    }
   ],
   "source": [
    "df.price_aprox_usd.plot(kind='hist')"
   ]
  },
  {
   "cell_type": "markdown",
   "id": "e16eb379",
   "metadata": {},
   "source": [
    "Vamos a ver los valores minimos:"
   ]
  },
  {
   "cell_type": "code",
   "execution_count": 69,
   "id": "204590a4",
   "metadata": {},
   "outputs": [
    {
     "data": {
      "text/plain": [
       "count    9.673300e+04\n",
       "mean     2.155377e+05\n",
       "std      2.053982e+05\n",
       "min      0.000000e+00\n",
       "25%      8.965000e+04\n",
       "50%      1.449000e+05\n",
       "75%      2.600000e+05\n",
       "max      1.494502e+06\n",
       "Name: price_aprox_usd, dtype: float64"
      ]
     },
     "execution_count": 69,
     "metadata": {},
     "output_type": "execute_result"
    }
   ],
   "source": [
    "df.price_aprox_usd.describe()"
   ]
  },
  {
   "cell_type": "markdown",
   "id": "22bfbfcf",
   "metadata": {},
   "source": [
    "Vemos que hay valores con Price en 0. Así que vamos a retirarlos"
   ]
  },
  {
   "cell_type": "code",
   "execution_count": 70,
   "id": "6273daae",
   "metadata": {},
   "outputs": [],
   "source": [
    "df = df[df.price_aprox_usd > 0]"
   ]
  },
  {
   "cell_type": "markdown",
   "id": "7a120e65",
   "metadata": {},
   "source": [
    "Nos vamos a quedar con price_aprox_usd por lo que dropeamos el resto"
   ]
  },
  {
   "cell_type": "code",
   "execution_count": 71,
   "id": "81c94b21",
   "metadata": {},
   "outputs": [
    {
     "name": "stdout",
     "output_type": "stream",
     "text": [
      "['price' 'price_aprox_local_currency' 'price_aprox_usd' 'price_usd_per_m2'\n",
      " 'price_per_m2']\n",
      "<class 'pandas.core.frame.DataFrame'>\n",
      "Int64Index: 96732 entries, 0 to 121219\n",
      "Data columns (total 13 columns):\n",
      " #   Column                 Non-Null Count  Dtype  \n",
      "---  ------                 --------------  -----  \n",
      " 0   property_type          96732 non-null  object \n",
      " 1   place_name             96732 non-null  object \n",
      " 2   state_name             96732 non-null  object \n",
      " 3   geonames_id            80102 non-null  float64\n",
      " 4   lat-lon                56644 non-null  object \n",
      " 5   currency               96732 non-null  object \n",
      " 6   price_aprox_usd        96732 non-null  float64\n",
      " 7   surface_total_in_m2    66106 non-null  float64\n",
      " 8   surface_covered_in_m2  84545 non-null  float64\n",
      " 9   rooms                  96732 non-null  float64\n",
      " 10  properati_url          96732 non-null  object \n",
      " 11  description            96730 non-null  object \n",
      " 12  title                  96732 non-null  object \n",
      "dtypes: float64(5), object(8)\n",
      "memory usage: 10.3+ MB\n"
     ]
    }
   ],
   "source": [
    "# Guardamos los nombres de columnas que empiezan con price\n",
    "price_columns = df.columns[df.columns.str.startswith(r'price')].values\n",
    "print(price_columns)\n",
    "\n",
    "# Pasamos la lista filtrando la columna price que nos interesa para dropear\n",
    "df = df.drop([column for column in price_columns if column != 'price_aprox_usd'], axis=1)\n",
    "df.info()\n",
    "# Si todas las columnas tienen el patron de comenzar con price podemos \n",
    "# mantener el codigo sin tener que dropear una a una las columans price."
   ]
  },
  {
   "cell_type": "markdown",
   "id": "e1250822",
   "metadata": {},
   "source": [
    "### 5. Vamos a trabajar con las superficies"
   ]
  },
  {
   "cell_type": "markdown",
   "id": "c1432faf",
   "metadata": {},
   "source": [
    "Creamos primero una columna donde guardamos el ratio de superficie cubierta / superficie total"
   ]
  },
  {
   "cell_type": "code",
   "execution_count": 72,
   "id": "6de95ac9",
   "metadata": {},
   "outputs": [
    {
     "data": {
      "text/plain": [
       "count    61131.000000\n",
       "mean         0.874328\n",
       "std          3.927486\n",
       "min          0.000000\n",
       "25%          0.781818\n",
       "50%          0.904762\n",
       "75%          1.000000\n",
       "max        942.307692\n",
       "Name: surface_ratio, dtype: float64"
      ]
     },
     "execution_count": 72,
     "metadata": {},
     "output_type": "execute_result"
    }
   ],
   "source": [
    "df['surface_ratio'] = df['surface_covered_in_m2'] / df['surface_total_in_m2']\n",
    "df['surface_ratio'].describe()"
   ]
  },
  {
   "cell_type": "markdown",
   "id": "abb44b12",
   "metadata": {},
   "source": [
    "Se puede ver que hay ratios positivos. Por lo que podría haber un error. Vamos a ver las filas con surface_ratio > 1"
   ]
  },
  {
   "cell_type": "code",
   "execution_count": 73,
   "id": "17fc8dc2",
   "metadata": {},
   "outputs": [
    {
     "name": "stdout",
     "output_type": "stream",
     "text": [
      "surface_total_in_m2                                                    130\n",
      "surface_covered_in_m2                                                  384\n",
      "description              CODIGO: 2388-LLG1122 ubicado en: Podestá 764 -...\n",
      "Name: 55725, dtype: object\n",
      "CODIGO: 2388-LLG1122 ubicado en: Podestá 764 -  Publicado por: LUIS LORAY NEGOCIOS INMOBILIARIOS. El precio es de USD 130000 null. Lote de 12 por 32m. Superficie cubierta 130m2. Propiedad compuesta por living y comedor diario integrado con pisos de porcelanato, aire acondicionado y ventanal al frente. Cocina totalmente amueblada con desayunador y aberturas con vista al parque. Tres dormitorios con pisos de cerámicos y placards. Escritorio, toillete y baño principal. Galería semicubierta con parrilla, lavadero y cuarto de enseres. Además la propiedad cuenta con parque libre, y todo el techo de loza.  LUIS LORAY NEGOCIOS INMOBILIARIOS / .  . Publicado a través de Mapaprop\n"
     ]
    }
   ],
   "source": [
    "# Hay varios ejemplos como este donde se ve que el dato esta cargado al revez\n",
    "sample = df.loc[df.surface_ratio > 1, [ 'surface_total_in_m2', 'surface_covered_in_m2', 'description']].loc[55725]\n",
    "print(sample)\n",
    "print(sample.description)"
   ]
  },
  {
   "cell_type": "markdown",
   "id": "7307b496",
   "metadata": {},
   "source": [
    "Vamos a suponer que estos casos son errores de carga e invertir los valores"
   ]
  },
  {
   "cell_type": "code",
   "execution_count": 74,
   "id": "a1293dea",
   "metadata": {},
   "outputs": [
    {
     "name": "stdout",
     "output_type": "stream",
     "text": [
      "(945,) (945,)\n"
     ]
    }
   ],
   "source": [
    "to_replace_covered = df.loc[df.surface_ratio > 1, 'surface_total_in_m2'].copy()\n",
    "to_replace_total = df.loc[df.surface_ratio > 1, 'surface_covered_in_m2'].copy()\n",
    "print(to_replace_covered.shape, to_replace_total.shape)"
   ]
  },
  {
   "cell_type": "markdown",
   "id": "8d8bf1a3",
   "metadata": {},
   "source": [
    "Realizamos el reemplazo"
   ]
  },
  {
   "cell_type": "code",
   "execution_count": 75,
   "id": "daec7b5f",
   "metadata": {},
   "outputs": [],
   "source": [
    "df.loc[df.surface_ratio > 1, 'surface_total_in_m2'] = to_replace_total\n",
    "df.loc[df.surface_ratio > 1, 'surface_covered_in_m2'] = to_replace_covered"
   ]
  },
  {
   "cell_type": "markdown",
   "id": "c1f1882a",
   "metadata": {},
   "source": [
    "Vemos que si calculamos nuevamente ya no tenemos superficies totales mayores a las cubiertas"
   ]
  },
  {
   "cell_type": "code",
   "execution_count": 76,
   "id": "30f3581b",
   "metadata": {},
   "outputs": [
    {
     "data": {
      "text/plain": [
       "count    61131.000000\n",
       "mean         0.827668\n",
       "std          0.218765\n",
       "min          0.000000\n",
       "25%          0.773333\n",
       "50%          0.901235\n",
       "75%          1.000000\n",
       "max          1.000000\n",
       "Name: surface_ratio, dtype: float64"
      ]
     },
     "execution_count": 76,
     "metadata": {},
     "output_type": "execute_result"
    }
   ],
   "source": [
    "df['surface_ratio'] = df['surface_covered_in_m2'] / df['surface_total_in_m2']\n",
    "df['surface_ratio'].describe()"
   ]
  },
  {
   "cell_type": "markdown",
   "id": "d70385bc",
   "metadata": {},
   "source": [
    "#### Vamos a hacer lo mismo que hicimos antes. Imputamos la superficie total según el promedio de una pivot table"
   ]
  },
  {
   "cell_type": "markdown",
   "id": "942eecec",
   "metadata": {},
   "source": [
    "Vamos a ver la cantidad de valores a completar"
   ]
  },
  {
   "cell_type": "code",
   "execution_count": 77,
   "id": "e89f31f7",
   "metadata": {},
   "outputs": [
    {
     "data": {
      "text/plain": [
       "(23414, 14)"
      ]
     },
     "execution_count": 77,
     "metadata": {},
     "output_type": "execute_result"
    }
   ],
   "source": [
    "surfaces_to_complete = df[df['surface_covered_in_m2'].notna() & df['surface_total_in_m2'].isna()]\n",
    "surfaces_to_complete.shape"
   ]
  },
  {
   "cell_type": "code",
   "execution_count": 78,
   "id": "7899fac7",
   "metadata": {},
   "outputs": [
    {
     "data": {
      "text/html": [
       "<div>\n",
       "<style scoped>\n",
       "    .dataframe tbody tr th:only-of-type {\n",
       "        vertical-align: middle;\n",
       "    }\n",
       "\n",
       "    .dataframe tbody tr th {\n",
       "        vertical-align: top;\n",
       "    }\n",
       "\n",
       "    .dataframe thead th {\n",
       "        text-align: right;\n",
       "    }\n",
       "</style>\n",
       "<table border=\"1\" class=\"dataframe\">\n",
       "  <thead>\n",
       "    <tr style=\"text-align: right;\">\n",
       "      <th></th>\n",
       "      <th></th>\n",
       "      <th>surface_ratio</th>\n",
       "    </tr>\n",
       "    <tr>\n",
       "      <th>state_name</th>\n",
       "      <th>property_type</th>\n",
       "      <th></th>\n",
       "    </tr>\n",
       "  </thead>\n",
       "  <tbody>\n",
       "    <tr>\n",
       "      <th rowspan=\"4\" valign=\"top\">bs.as. g.b.a. zona norte</th>\n",
       "      <th>PH</th>\n",
       "      <td>0.828151</td>\n",
       "    </tr>\n",
       "    <tr>\n",
       "      <th>apartment</th>\n",
       "      <td>0.847809</td>\n",
       "    </tr>\n",
       "    <tr>\n",
       "      <th>house</th>\n",
       "      <td>0.728975</td>\n",
       "    </tr>\n",
       "    <tr>\n",
       "      <th>store</th>\n",
       "      <td>0.931096</td>\n",
       "    </tr>\n",
       "    <tr>\n",
       "      <th rowspan=\"4\" valign=\"top\">bs.as. g.b.a. zona oeste</th>\n",
       "      <th>PH</th>\n",
       "      <td>0.768526</td>\n",
       "    </tr>\n",
       "    <tr>\n",
       "      <th>apartment</th>\n",
       "      <td>0.905049</td>\n",
       "    </tr>\n",
       "    <tr>\n",
       "      <th>house</th>\n",
       "      <td>0.663726</td>\n",
       "    </tr>\n",
       "    <tr>\n",
       "      <th>store</th>\n",
       "      <td>0.855974</td>\n",
       "    </tr>\n",
       "    <tr>\n",
       "      <th rowspan=\"4\" valign=\"top\">bs.as. g.b.a. zona sur</th>\n",
       "      <th>PH</th>\n",
       "      <td>0.810525</td>\n",
       "    </tr>\n",
       "    <tr>\n",
       "      <th>apartment</th>\n",
       "      <td>0.912269</td>\n",
       "    </tr>\n",
       "    <tr>\n",
       "      <th>house</th>\n",
       "      <td>0.761035</td>\n",
       "    </tr>\n",
       "    <tr>\n",
       "      <th>store</th>\n",
       "      <td>0.878106</td>\n",
       "    </tr>\n",
       "    <tr>\n",
       "      <th rowspan=\"4\" valign=\"top\">buenos aires costa atlántica</th>\n",
       "      <th>PH</th>\n",
       "      <td>0.830390</td>\n",
       "    </tr>\n",
       "    <tr>\n",
       "      <th>apartment</th>\n",
       "      <td>0.924983</td>\n",
       "    </tr>\n",
       "    <tr>\n",
       "      <th>house</th>\n",
       "      <td>0.568530</td>\n",
       "    </tr>\n",
       "    <tr>\n",
       "      <th>store</th>\n",
       "      <td>0.909506</td>\n",
       "    </tr>\n",
       "    <tr>\n",
       "      <th rowspan=\"4\" valign=\"top\">buenos aires interior</th>\n",
       "      <th>PH</th>\n",
       "      <td>0.861284</td>\n",
       "    </tr>\n",
       "    <tr>\n",
       "      <th>apartment</th>\n",
       "      <td>0.923836</td>\n",
       "    </tr>\n",
       "    <tr>\n",
       "      <th>house</th>\n",
       "      <td>0.546810</td>\n",
       "    </tr>\n",
       "    <tr>\n",
       "      <th>store</th>\n",
       "      <td>0.864820</td>\n",
       "    </tr>\n",
       "    <tr>\n",
       "      <th rowspan=\"4\" valign=\"top\">capital federal</th>\n",
       "      <th>PH</th>\n",
       "      <td>0.789767</td>\n",
       "    </tr>\n",
       "    <tr>\n",
       "      <th>apartment</th>\n",
       "      <td>0.892436</td>\n",
       "    </tr>\n",
       "    <tr>\n",
       "      <th>house</th>\n",
       "      <td>0.692504</td>\n",
       "    </tr>\n",
       "    <tr>\n",
       "      <th>store</th>\n",
       "      <td>0.962087</td>\n",
       "    </tr>\n",
       "    <tr>\n",
       "      <th rowspan=\"4\" valign=\"top\">córdoba</th>\n",
       "      <th>PH</th>\n",
       "      <td>0.758428</td>\n",
       "    </tr>\n",
       "    <tr>\n",
       "      <th>apartment</th>\n",
       "      <td>0.857582</td>\n",
       "    </tr>\n",
       "    <tr>\n",
       "      <th>house</th>\n",
       "      <td>0.620279</td>\n",
       "    </tr>\n",
       "    <tr>\n",
       "      <th>store</th>\n",
       "      <td>0.902728</td>\n",
       "    </tr>\n",
       "    <tr>\n",
       "      <th rowspan=\"4\" valign=\"top\">santa fe</th>\n",
       "      <th>PH</th>\n",
       "      <td>0.828310</td>\n",
       "    </tr>\n",
       "    <tr>\n",
       "      <th>apartment</th>\n",
       "      <td>0.888461</td>\n",
       "    </tr>\n",
       "    <tr>\n",
       "      <th>house</th>\n",
       "      <td>0.664073</td>\n",
       "    </tr>\n",
       "    <tr>\n",
       "      <th>store</th>\n",
       "      <td>0.970423</td>\n",
       "    </tr>\n",
       "  </tbody>\n",
       "</table>\n",
       "</div>"
      ],
      "text/plain": [
       "                                            surface_ratio\n",
       "state_name                   property_type               \n",
       "bs.as. g.b.a. zona norte     PH                  0.828151\n",
       "                             apartment           0.847809\n",
       "                             house               0.728975\n",
       "                             store               0.931096\n",
       "bs.as. g.b.a. zona oeste     PH                  0.768526\n",
       "                             apartment           0.905049\n",
       "                             house               0.663726\n",
       "                             store               0.855974\n",
       "bs.as. g.b.a. zona sur       PH                  0.810525\n",
       "                             apartment           0.912269\n",
       "                             house               0.761035\n",
       "                             store               0.878106\n",
       "buenos aires costa atlántica PH                  0.830390\n",
       "                             apartment           0.924983\n",
       "                             house               0.568530\n",
       "                             store               0.909506\n",
       "buenos aires interior        PH                  0.861284\n",
       "                             apartment           0.923836\n",
       "                             house               0.546810\n",
       "                             store               0.864820\n",
       "capital federal              PH                  0.789767\n",
       "                             apartment           0.892436\n",
       "                             house               0.692504\n",
       "                             store               0.962087\n",
       "córdoba                      PH                  0.758428\n",
       "                             apartment           0.857582\n",
       "                             house               0.620279\n",
       "                             store               0.902728\n",
       "santa fe                     PH                  0.828310\n",
       "                             apartment           0.888461\n",
       "                             house               0.664073\n",
       "                             store               0.970423"
      ]
     },
     "execution_count": 78,
     "metadata": {},
     "output_type": "execute_result"
    }
   ],
   "source": [
    "df_mean_surface_ratio = df.pivot_table(values='surface_ratio', index=['state_name','property_type'], aggfunc='mean')\n",
    "df_mean_surface_ratio"
   ]
  },
  {
   "cell_type": "code",
   "execution_count": 79,
   "id": "34d57e1e",
   "metadata": {},
   "outputs": [
    {
     "data": {
      "text/plain": [
       "0.8281510580669719"
      ]
     },
     "execution_count": 79,
     "metadata": {},
     "output_type": "execute_result"
    }
   ],
   "source": [
    "df_mean_surface_ratio.loc[('bs.as. g.b.a. zona norte','PH'),'surface_ratio']"
   ]
  },
  {
   "cell_type": "markdown",
   "id": "18b2f8d7",
   "metadata": {},
   "source": [
    "Ahora vamos a:\n",
    " - Extraer los valores de los indices para acceder a cada elemento del df_mean_surface_ratio y usarlos para filtrar el dataframe.\n",
    " - Seleccionamos state y prop_type donde surface_total sea nula pero surface_covered no lo sea.\n",
    " - Con esa mascara seleccionamos la superficie total (que en cada iteracion me va a dar la de un state/propType diferente), \n",
    " - Hacemos un apply sobre la superficie cubierta en esa misma mascara para dividirla por el ratio y así imputar el valor a surface_total\n",
    "\n",
    " Pero también incluimos a las superficies totales con valor 0 como si fueran NA"
   ]
  },
  {
   "cell_type": "code",
   "execution_count": 80,
   "id": "568d6c67",
   "metadata": {},
   "outputs": [],
   "source": [
    "for state, prop_type in df_mean_surface_ratio.index:\n",
    "        mask = (df['state_name'] == state) & \\\n",
    "                (df['property_type'] == prop_type) & \\\n",
    "                (df['surface_total_in_m2'].isna() | \\\n",
    "                (df['surface_total_in_m2'] == 0)) & \\\n",
    "                df['surface_covered_in_m2'].notna()\n",
    "\n",
    "        df.loc[mask,'surface_total_in_m2'] = df.loc[mask,'surface_covered_in_m2']\\\n",
    "        .apply(lambda x: x / df_mean_surface_ratio.loc[(state,prop_type),'surface_ratio'])"
   ]
  },
  {
   "cell_type": "markdown",
   "id": "10f117b9",
   "metadata": {},
   "source": [
    "Vemos que logramos llenar todos los lugares donde la superficie total no estaba pero teníamos datos de superficie cubierta."
   ]
  },
  {
   "cell_type": "code",
   "execution_count": 81,
   "id": "735ff12b",
   "metadata": {},
   "outputs": [
    {
     "data": {
      "text/plain": [
       "Int64Index([], dtype='int64')"
      ]
     },
     "execution_count": 81,
     "metadata": {},
     "output_type": "execute_result"
    }
   ],
   "source": [
    "df[df['surface_covered_in_m2'].notna() & df['surface_total_in_m2'].isna()].index"
   ]
  },
  {
   "cell_type": "markdown",
   "id": "4d059a38",
   "metadata": {},
   "source": [
    "Vemos algunos ejemplos para ver si se rellenó bien"
   ]
  },
  {
   "cell_type": "code",
   "execution_count": 82,
   "id": "929c0c69",
   "metadata": {},
   "outputs": [
    {
     "data": {
      "text/html": [
       "<div>\n",
       "<style scoped>\n",
       "    .dataframe tbody tr th:only-of-type {\n",
       "        vertical-align: middle;\n",
       "    }\n",
       "\n",
       "    .dataframe tbody tr th {\n",
       "        vertical-align: top;\n",
       "    }\n",
       "\n",
       "    .dataframe thead th {\n",
       "        text-align: right;\n",
       "    }\n",
       "</style>\n",
       "<table border=\"1\" class=\"dataframe\">\n",
       "  <thead>\n",
       "    <tr style=\"text-align: right;\">\n",
       "      <th></th>\n",
       "      <th>property_type</th>\n",
       "      <th>place_name</th>\n",
       "      <th>state_name</th>\n",
       "      <th>geonames_id</th>\n",
       "      <th>lat-lon</th>\n",
       "      <th>currency</th>\n",
       "      <th>price_aprox_usd</th>\n",
       "      <th>surface_total_in_m2</th>\n",
       "      <th>surface_covered_in_m2</th>\n",
       "      <th>rooms</th>\n",
       "      <th>properati_url</th>\n",
       "      <th>description</th>\n",
       "      <th>title</th>\n",
       "      <th>surface_ratio</th>\n",
       "    </tr>\n",
       "  </thead>\n",
       "  <tbody>\n",
       "    <tr>\n",
       "      <th>87470</th>\n",
       "      <td>house</td>\n",
       "      <td>Olivos</td>\n",
       "      <td>bs.as. g.b.a. zona norte</td>\n",
       "      <td>3430310.0</td>\n",
       "      <td>NaN</td>\n",
       "      <td>USD</td>\n",
       "      <td>398000.00</td>\n",
       "      <td>466.408474</td>\n",
       "      <td>340.0</td>\n",
       "      <td>2.000000</td>\n",
       "      <td>http://www.properati.com.ar/1b5ya_venta_casa_o...</td>\n",
       "      <td>Muy lindo Chalet desarrollado en dos plantas. ...</td>\n",
       "      <td>casa venta olivos 3 dormitorios cochera jardin...</td>\n",
       "      <td>NaN</td>\n",
       "    </tr>\n",
       "    <tr>\n",
       "      <th>96938</th>\n",
       "      <td>apartment</td>\n",
       "      <td>Belgrano</td>\n",
       "      <td>capital federal</td>\n",
       "      <td>3436077.0</td>\n",
       "      <td>NaN</td>\n",
       "      <td>ARS</td>\n",
       "      <td>486487.59</td>\n",
       "      <td>113.173342</td>\n",
       "      <td>101.0</td>\n",
       "      <td>2.852152</td>\n",
       "      <td>http://www.properati.com.ar/1bjd6_venta_depart...</td>\n",
       "      <td>UNIDAD 136 - PISO 12. CON TERRAZA PROPIA.VALOR...</td>\n",
       "      <td>Departamento - Belgrano</td>\n",
       "      <td>NaN</td>\n",
       "    </tr>\n",
       "    <tr>\n",
       "      <th>116184</th>\n",
       "      <td>store</td>\n",
       "      <td>Floresta</td>\n",
       "      <td>capital federal</td>\n",
       "      <td>3433910.0</td>\n",
       "      <td>-34.63003,-58.488185</td>\n",
       "      <td>USD</td>\n",
       "      <td>395000.00</td>\n",
       "      <td>20.788135</td>\n",
       "      <td>20.0</td>\n",
       "      <td>1.000000</td>\n",
       "      <td>http://www.properati.com.ar/1cc0a_venta_local_...</td>\n",
       "      <td>Corredor Responsable: Mario Gabriel Gerez - CU...</td>\n",
       "      <td>Venta Local multiples usos en Floresta</td>\n",
       "      <td>NaN</td>\n",
       "    </tr>\n",
       "    <tr>\n",
       "      <th>30349</th>\n",
       "      <td>PH</td>\n",
       "      <td>Haedo</td>\n",
       "      <td>bs.as. g.b.a. zona oeste</td>\n",
       "      <td>NaN</td>\n",
       "      <td>-34.629165,-58.581543</td>\n",
       "      <td>USD</td>\n",
       "      <td>145000.00</td>\n",
       "      <td>123.613323</td>\n",
       "      <td>95.0</td>\n",
       "      <td>4.000000</td>\n",
       "      <td>http://www.properati.com.ar/1816w_venta_ph_hae...</td>\n",
       "      <td>Corredor Responsable: FLORENCIA BALAGUE - CMCP...</td>\n",
       "      <td>A 3 CUADRAS DE ACCESO A CAPITAL. DUPLEX CON CO...</td>\n",
       "      <td>NaN</td>\n",
       "    </tr>\n",
       "    <tr>\n",
       "      <th>34119</th>\n",
       "      <td>apartment</td>\n",
       "      <td>San Martín</td>\n",
       "      <td>bs.as. g.b.a. zona norte</td>\n",
       "      <td>NaN</td>\n",
       "      <td>NaN</td>\n",
       "      <td>USD</td>\n",
       "      <td>148000.00</td>\n",
       "      <td>74.309180</td>\n",
       "      <td>63.0</td>\n",
       "      <td>3.000000</td>\n",
       "      <td>http://www.properati.com.ar/18bb2_venta_depart...</td>\n",
       "      <td>A estrenar, excelente departamento al frente, ...</td>\n",
       "      <td>Departamento en Venta San Martin / San Martin ...</td>\n",
       "      <td>NaN</td>\n",
       "    </tr>\n",
       "  </tbody>\n",
       "</table>\n",
       "</div>"
      ],
      "text/plain": [
       "       property_type  place_name                state_name  geonames_id  \\\n",
       "87470          house      Olivos  bs.as. g.b.a. zona norte    3430310.0   \n",
       "96938      apartment    Belgrano           capital federal    3436077.0   \n",
       "116184         store    Floresta           capital federal    3433910.0   \n",
       "30349             PH       Haedo  bs.as. g.b.a. zona oeste          NaN   \n",
       "34119      apartment  San Martín  bs.as. g.b.a. zona norte          NaN   \n",
       "\n",
       "                      lat-lon currency  price_aprox_usd  surface_total_in_m2  \\\n",
       "87470                     NaN      USD        398000.00           466.408474   \n",
       "96938                     NaN      ARS        486487.59           113.173342   \n",
       "116184   -34.63003,-58.488185      USD        395000.00            20.788135   \n",
       "30349   -34.629165,-58.581543      USD        145000.00           123.613323   \n",
       "34119                     NaN      USD        148000.00            74.309180   \n",
       "\n",
       "        surface_covered_in_m2     rooms  \\\n",
       "87470                   340.0  2.000000   \n",
       "96938                   101.0  2.852152   \n",
       "116184                   20.0  1.000000   \n",
       "30349                    95.0  4.000000   \n",
       "34119                    63.0  3.000000   \n",
       "\n",
       "                                            properati_url  \\\n",
       "87470   http://www.properati.com.ar/1b5ya_venta_casa_o...   \n",
       "96938   http://www.properati.com.ar/1bjd6_venta_depart...   \n",
       "116184  http://www.properati.com.ar/1cc0a_venta_local_...   \n",
       "30349   http://www.properati.com.ar/1816w_venta_ph_hae...   \n",
       "34119   http://www.properati.com.ar/18bb2_venta_depart...   \n",
       "\n",
       "                                              description  \\\n",
       "87470   Muy lindo Chalet desarrollado en dos plantas. ...   \n",
       "96938   UNIDAD 136 - PISO 12. CON TERRAZA PROPIA.VALOR...   \n",
       "116184  Corredor Responsable: Mario Gabriel Gerez - CU...   \n",
       "30349   Corredor Responsable: FLORENCIA BALAGUE - CMCP...   \n",
       "34119   A estrenar, excelente departamento al frente, ...   \n",
       "\n",
       "                                                    title  surface_ratio  \n",
       "87470   casa venta olivos 3 dormitorios cochera jardin...            NaN  \n",
       "96938                             Departamento - Belgrano            NaN  \n",
       "116184             Venta Local multiples usos en Floresta            NaN  \n",
       "30349   A 3 CUADRAS DE ACCESO A CAPITAL. DUPLEX CON CO...            NaN  \n",
       "34119   Departamento en Venta San Martin / San Martin ...            NaN  "
      ]
     },
     "execution_count": 82,
     "metadata": {},
     "output_type": "execute_result"
    }
   ],
   "source": [
    "# Tomamos los indices del dataframe que se hizo mas arriba con las filas a completar y vemos 5 filas al azar\n",
    "df.loc[surfaces_to_complete.sample(5).index]"
   ]
  },
  {
   "cell_type": "code",
   "execution_count": 83,
   "id": "97cd9115",
   "metadata": {},
   "outputs": [
    {
     "name": "stdout",
     "output_type": "stream",
     "text": [
      "<class 'pandas.core.frame.DataFrame'>\n",
      "Int64Index: 96732 entries, 0 to 121219\n",
      "Data columns (total 14 columns):\n",
      " #   Column                 Non-Null Count  Dtype  \n",
      "---  ------                 --------------  -----  \n",
      " 0   property_type          96732 non-null  object \n",
      " 1   place_name             96732 non-null  object \n",
      " 2   state_name             96732 non-null  object \n",
      " 3   geonames_id            80102 non-null  float64\n",
      " 4   lat-lon                56644 non-null  object \n",
      " 5   currency               96732 non-null  object \n",
      " 6   price_aprox_usd        96732 non-null  float64\n",
      " 7   surface_total_in_m2    89520 non-null  float64\n",
      " 8   surface_covered_in_m2  84545 non-null  float64\n",
      " 9   rooms                  96732 non-null  float64\n",
      " 10  properati_url          96732 non-null  object \n",
      " 11  description            96730 non-null  object \n",
      " 12  title                  96732 non-null  object \n",
      " 13  surface_ratio          61131 non-null  float64\n",
      "dtypes: float64(6), object(8)\n",
      "memory usage: 13.6+ MB\n"
     ]
    }
   ],
   "source": [
    "df.info()"
   ]
  },
  {
   "cell_type": "markdown",
   "id": "587f1ed2",
   "metadata": {},
   "source": [
    "### Vamos a ver ahora cuantos casos hay al reves. Tenemos superficie total pero no superficie cubierta"
   ]
  },
  {
   "cell_type": "code",
   "execution_count": 84,
   "id": "0bb2a228",
   "metadata": {},
   "outputs": [
    {
     "data": {
      "text/plain": [
       "(4975, 14)"
      ]
     },
     "execution_count": 84,
     "metadata": {},
     "output_type": "execute_result"
    }
   ],
   "source": [
    "df[df.surface_total_in_m2.notna() & df.surface_covered_in_m2.isna()].shape"
   ]
  },
  {
   "cell_type": "markdown",
   "id": "4b5d5d03",
   "metadata": {},
   "source": [
    "Aplicamos la misma lógica que antes:"
   ]
  },
  {
   "cell_type": "code",
   "execution_count": 85,
   "id": "f3bf17a7",
   "metadata": {},
   "outputs": [],
   "source": [
    "for state, prop_type in df_mean_surface_ratio.index:\n",
    "        mask = (df['state_name'] == state) & \\\n",
    "                (df['property_type'] == prop_type) & \\\n",
    "                df['surface_total_in_m2'].notna() & \\\n",
    "                df['surface_covered_in_m2'].isna() # notar que notna y isna estan invertidos con respecto al anterior, obviamente\n",
    "\n",
    "        df.loc[mask,'surface_covered_in_m2'] = df.loc[mask,'surface_total_in_m2'].apply(lambda x: x *  df_mean_surface_ratio.loc[(state,prop_type),'surface_ratio'])"
   ]
  },
  {
   "cell_type": "markdown",
   "id": "413f4317",
   "metadata": {},
   "source": [
    "Logramos reducir los valores nulos"
   ]
  },
  {
   "cell_type": "code",
   "execution_count": 86,
   "id": "b1d42a8d",
   "metadata": {},
   "outputs": [
    {
     "data": {
      "text/plain": [
       "(0, 14)"
      ]
     },
     "execution_count": 86,
     "metadata": {},
     "output_type": "execute_result"
    }
   ],
   "source": [
    "df[df.surface_total_in_m2.notna() & df.surface_covered_in_m2.isna()].shape"
   ]
  },
  {
   "cell_type": "code",
   "execution_count": 87,
   "id": "560885a9",
   "metadata": {},
   "outputs": [
    {
     "name": "stdout",
     "output_type": "stream",
     "text": [
      "<class 'pandas.core.frame.DataFrame'>\n",
      "Int64Index: 96732 entries, 0 to 121219\n",
      "Data columns (total 14 columns):\n",
      " #   Column                 Non-Null Count  Dtype  \n",
      "---  ------                 --------------  -----  \n",
      " 0   property_type          96732 non-null  object \n",
      " 1   place_name             96732 non-null  object \n",
      " 2   state_name             96732 non-null  object \n",
      " 3   geonames_id            80102 non-null  float64\n",
      " 4   lat-lon                56644 non-null  object \n",
      " 5   currency               96732 non-null  object \n",
      " 6   price_aprox_usd        96732 non-null  float64\n",
      " 7   surface_total_in_m2    89520 non-null  float64\n",
      " 8   surface_covered_in_m2  89520 non-null  float64\n",
      " 9   rooms                  96732 non-null  float64\n",
      " 10  properati_url          96732 non-null  object \n",
      " 11  description            96730 non-null  object \n",
      " 12  title                  96732 non-null  object \n",
      " 13  surface_ratio          61131 non-null  float64\n",
      "dtypes: float64(6), object(8)\n",
      "memory usage: 13.6+ MB\n"
     ]
    }
   ],
   "source": [
    "df.info()"
   ]
  },
  {
   "cell_type": "markdown",
   "id": "ff48b4e4",
   "metadata": {},
   "source": [
    "Para asegurar que se completen los valores pendientes vamos a aplicar la media de sup_total y sup_cub de cada provincia a esos valores faltantes en superficies"
   ]
  },
  {
   "cell_type": "code",
   "execution_count": 88,
   "id": "ce58be2f",
   "metadata": {},
   "outputs": [
    {
     "data": {
      "text/html": [
       "<div>\n",
       "<style scoped>\n",
       "    .dataframe tbody tr th:only-of-type {\n",
       "        vertical-align: middle;\n",
       "    }\n",
       "\n",
       "    .dataframe tbody tr th {\n",
       "        vertical-align: top;\n",
       "    }\n",
       "\n",
       "    .dataframe thead th {\n",
       "        text-align: right;\n",
       "    }\n",
       "</style>\n",
       "<table border=\"1\" class=\"dataframe\">\n",
       "  <thead>\n",
       "    <tr style=\"text-align: right;\">\n",
       "      <th></th>\n",
       "      <th></th>\n",
       "      <th>surface_total_in_m2</th>\n",
       "      <th>surface_covered_in_m2</th>\n",
       "    </tr>\n",
       "    <tr>\n",
       "      <th>state_name</th>\n",
       "      <th>property_type</th>\n",
       "      <th></th>\n",
       "      <th></th>\n",
       "    </tr>\n",
       "  </thead>\n",
       "  <tbody>\n",
       "    <tr>\n",
       "      <th rowspan=\"4\" valign=\"top\">bs.as. g.b.a. zona norte</th>\n",
       "      <th>PH</th>\n",
       "      <td>108.289000</td>\n",
       "      <td>86.375982</td>\n",
       "    </tr>\n",
       "    <tr>\n",
       "      <th>apartment</th>\n",
       "      <td>91.430525</td>\n",
       "      <td>73.001359</td>\n",
       "    </tr>\n",
       "    <tr>\n",
       "      <th>house</th>\n",
       "      <td>428.957998</td>\n",
       "      <td>229.654163</td>\n",
       "    </tr>\n",
       "    <tr>\n",
       "      <th>store</th>\n",
       "      <td>319.924849</td>\n",
       "      <td>287.262281</td>\n",
       "    </tr>\n",
       "    <tr>\n",
       "      <th>bs.as. g.b.a. zona oeste</th>\n",
       "      <th>PH</th>\n",
       "      <td>117.853505</td>\n",
       "      <td>78.063968</td>\n",
       "    </tr>\n",
       "  </tbody>\n",
       "</table>\n",
       "</div>"
      ],
      "text/plain": [
       "                                        surface_total_in_m2  \\\n",
       "state_name               property_type                        \n",
       "bs.as. g.b.a. zona norte PH                      108.289000   \n",
       "                         apartment                91.430525   \n",
       "                         house                   428.957998   \n",
       "                         store                   319.924849   \n",
       "bs.as. g.b.a. zona oeste PH                      117.853505   \n",
       "\n",
       "                                        surface_covered_in_m2  \n",
       "state_name               property_type                         \n",
       "bs.as. g.b.a. zona norte PH                         86.375982  \n",
       "                         apartment                  73.001359  \n",
       "                         house                     229.654163  \n",
       "                         store                     287.262281  \n",
       "bs.as. g.b.a. zona oeste PH                         78.063968  "
      ]
     },
     "execution_count": 88,
     "metadata": {},
     "output_type": "execute_result"
    }
   ],
   "source": [
    "df_surfaces_states_means = df.groupby(['state_name', 'property_type'])[['surface_total_in_m2', 'surface_covered_in_m2']].mean()\n",
    "df_surfaces_states_means.head()"
   ]
  },
  {
   "cell_type": "markdown",
   "id": "1318df72",
   "metadata": {},
   "source": [
    "Vamos a rellenar ahora con estos valores:"
   ]
  },
  {
   "cell_type": "markdown",
   "id": "45fd380b",
   "metadata": {},
   "source": [
    "Pero antes hay que notar una cosa:"
   ]
  },
  {
   "cell_type": "code",
   "execution_count": 89,
   "id": "d12b3623",
   "metadata": {},
   "outputs": [
    {
     "data": {
      "text/html": [
       "<div>\n",
       "<style scoped>\n",
       "    .dataframe tbody tr th:only-of-type {\n",
       "        vertical-align: middle;\n",
       "    }\n",
       "\n",
       "    .dataframe tbody tr th {\n",
       "        vertical-align: top;\n",
       "    }\n",
       "\n",
       "    .dataframe thead th {\n",
       "        text-align: right;\n",
       "    }\n",
       "</style>\n",
       "<table border=\"1\" class=\"dataframe\">\n",
       "  <thead>\n",
       "    <tr style=\"text-align: right;\">\n",
       "      <th></th>\n",
       "      <th>surface_total_in_m2</th>\n",
       "      <th>surface_covered_in_m2</th>\n",
       "    </tr>\n",
       "  </thead>\n",
       "  <tbody>\n",
       "    <tr>\n",
       "      <th>205</th>\n",
       "      <td>0.000000</td>\n",
       "      <td>0.0</td>\n",
       "    </tr>\n",
       "    <tr>\n",
       "      <th>206</th>\n",
       "      <td>0.000000</td>\n",
       "      <td>0.0</td>\n",
       "    </tr>\n",
       "    <tr>\n",
       "      <th>349</th>\n",
       "      <td>1.166070</td>\n",
       "      <td>1.0</td>\n",
       "    </tr>\n",
       "    <tr>\n",
       "      <th>561</th>\n",
       "      <td>0.000000</td>\n",
       "      <td>0.0</td>\n",
       "    </tr>\n",
       "    <tr>\n",
       "      <th>562</th>\n",
       "      <td>0.000000</td>\n",
       "      <td>0.0</td>\n",
       "    </tr>\n",
       "    <tr>\n",
       "      <th>...</th>\n",
       "      <td>...</td>\n",
       "      <td>...</td>\n",
       "    </tr>\n",
       "    <tr>\n",
       "      <th>116328</th>\n",
       "      <td>0.000000</td>\n",
       "      <td>0.0</td>\n",
       "    </tr>\n",
       "    <tr>\n",
       "      <th>116947</th>\n",
       "      <td>1.179511</td>\n",
       "      <td>1.0</td>\n",
       "    </tr>\n",
       "    <tr>\n",
       "      <th>116956</th>\n",
       "      <td>1.371790</td>\n",
       "      <td>1.0</td>\n",
       "    </tr>\n",
       "    <tr>\n",
       "      <th>118839</th>\n",
       "      <td>0.000000</td>\n",
       "      <td>0.0</td>\n",
       "    </tr>\n",
       "    <tr>\n",
       "      <th>120157</th>\n",
       "      <td>0.000000</td>\n",
       "      <td>0.0</td>\n",
       "    </tr>\n",
       "  </tbody>\n",
       "</table>\n",
       "<p>464 rows × 2 columns</p>\n",
       "</div>"
      ],
      "text/plain": [
       "        surface_total_in_m2  surface_covered_in_m2\n",
       "205                0.000000                    0.0\n",
       "206                0.000000                    0.0\n",
       "349                1.166070                    1.0\n",
       "561                0.000000                    0.0\n",
       "562                0.000000                    0.0\n",
       "...                     ...                    ...\n",
       "116328             0.000000                    0.0\n",
       "116947             1.179511                    1.0\n",
       "116956             1.371790                    1.0\n",
       "118839             0.000000                    0.0\n",
       "120157             0.000000                    0.0\n",
       "\n",
       "[464 rows x 2 columns]"
      ]
     },
     "execution_count": 89,
     "metadata": {},
     "output_type": "execute_result"
    }
   ],
   "source": [
    "df.loc[df.surface_total_in_m2 <5,['surface_total_in_m2','surface_covered_in_m2']]"
   ]
  },
  {
   "cell_type": "markdown",
   "id": "b094329f",
   "metadata": {},
   "source": [
    "Tenemos valores donde superficie total, y superficie cubierta es 0 o se imputó la superficie total siendo la cubierta 1, lo que claramente se ve como un error"
   ]
  },
  {
   "cell_type": "markdown",
   "id": "540e1859",
   "metadata": {},
   "source": [
    "Por eso vamos a imputar junto con los NA las superficies totales menores a 5:"
   ]
  },
  {
   "cell_type": "code",
   "execution_count": 90,
   "id": "a2e2b9eb",
   "metadata": {},
   "outputs": [],
   "source": [
    "for state, prop_type in df_surfaces_states_means.index:\n",
    "    df.loc[(df['state_name'] == state) & (df['property_type'] == prop_type) & (df.surface_covered_in_m2.isna()),'surface_covered_in_m2'] = \\\n",
    "        df_surfaces_states_means.loc[(state,prop_type), 'surface_covered_in_m2']\n",
    "\n",
    "    df.loc[(df['state_name'] == state) & (df['property_type'] == prop_type) & (df.surface_total_in_m2.isna() | (df.surface_total_in_m2 < 5)),'surface_total_in_m2'] = \\\n",
    "        df_surfaces_states_means.loc[(state,prop_type), 'surface_total_in_m2']"
   ]
  },
  {
   "cell_type": "markdown",
   "id": "dc572d84",
   "metadata": {},
   "source": [
    "Vemos que ya no quedan valores vacios"
   ]
  },
  {
   "cell_type": "code",
   "execution_count": 91,
   "id": "5a301d0c",
   "metadata": {},
   "outputs": [
    {
     "data": {
      "text/plain": [
       "(0, 14)"
      ]
     },
     "execution_count": 91,
     "metadata": {},
     "output_type": "execute_result"
    }
   ],
   "source": [
    "df[df.surface_covered_in_m2.isna() | df.surface_total_in_m2.isna()].shape"
   ]
  },
  {
   "cell_type": "code",
   "execution_count": 92,
   "id": "e584f166",
   "metadata": {},
   "outputs": [
    {
     "name": "stdout",
     "output_type": "stream",
     "text": [
      "Total Filas: 96732\n"
     ]
    },
    {
     "data": {
      "text/plain": [
       "property_type            0.000000\n",
       "place_name               0.000000\n",
       "state_name               0.000000\n",
       "geonames_id              0.171918\n",
       "lat-lon                  0.414423\n",
       "currency                 0.000000\n",
       "price_aprox_usd          0.000000\n",
       "surface_total_in_m2      0.000000\n",
       "surface_covered_in_m2    0.000000\n",
       "rooms                    0.000000\n",
       "properati_url            0.000000\n",
       "description              0.000021\n",
       "title                    0.000000\n",
       "surface_ratio            0.368037\n",
       "dtype: float64"
      ]
     },
     "execution_count": 92,
     "metadata": {},
     "output_type": "execute_result"
    }
   ],
   "source": [
    "print(f'Total Filas: {df.shape[0]}')\n",
    "df.isna().sum() / df.shape[0]"
   ]
  },
  {
   "cell_type": "markdown",
   "id": "b7ab147c",
   "metadata": {},
   "source": [
    "### Vamos a quitar los outliers de la superficie"
   ]
  },
  {
   "cell_type": "markdown",
   "id": "74b0ddda",
   "metadata": {},
   "source": [
    "Esta es la distribucion de la superficie cubierta vista desde los states:"
   ]
  },
  {
   "cell_type": "code",
   "execution_count": 93,
   "id": "285a04bf",
   "metadata": {},
   "outputs": [
    {
     "data": {
      "text/plain": [
       "<AxesSubplot:xlabel='surface_total_in_m2', ylabel='state_name'>"
      ]
     },
     "execution_count": 93,
     "metadata": {},
     "output_type": "execute_result"
    },
    {
     "data": {
      "image/png": "[encoded data removed]",
      "text/plain": [
       "<Figure size 720x432 with 2 Axes>"
      ]
     },
     "metadata": {
      "needs_background": "light"
     },
     "output_type": "display_data"
    }
   ],
   "source": [
    "figure, ax = plt.subplots(2,1, figsize=(10,6))\n",
    "sns.boxplot(data=df, x=\"surface_covered_in_m2\", y=\"state_name\", ax=ax[0])\n",
    "sns.boxplot(data=df, x=\"surface_total_in_m2\", y=\"state_name\", ax=ax[1])"
   ]
  },
  {
   "cell_type": "markdown",
   "id": "9e858d23",
   "metadata": {},
   "source": [
    "Se ve que hay un par de outliers que achican mucho el boxplot. Vemos si quitando el .01 de los valores superiores ajusta un poco la distribucion"
   ]
  },
  {
   "cell_type": "code",
   "execution_count": 94,
   "id": "1fe18886",
   "metadata": {},
   "outputs": [
    {
     "name": "stdout",
     "output_type": "stream",
     "text": [
      "Quantile value Covered=  509.22329182704556\n",
      "Quantile value Total=  1184.6900000000023\n",
      "Cantidad de filas restantes: 95070\n"
     ]
    },
    {
     "data": {
      "text/plain": [
       "<AxesSubplot:xlabel='surface_total_in_m2', ylabel='state_name'>"
      ]
     },
     "execution_count": 94,
     "metadata": {},
     "output_type": "execute_result"
    },
    {
     "data": {
      "image/png": "[encoded data removed]",
      "text/plain": [
       "<Figure size 720x432 with 2 Axes>"
      ]
     },
     "metadata": {
      "needs_background": "light"
     },
     "output_type": "display_data"
    }
   ],
   "source": [
    "quantile = .99\n",
    "quantile_covered = df.surface_covered_in_m2.quantile(quantile)\n",
    "quantile_total = df.surface_total_in_m2.quantile(quantile)\n",
    "print('Quantile value Covered= ', quantile_covered)\n",
    "print('Quantile value Total= ', quantile_total)\n",
    "print(f'Cantidad de filas restantes: {df[(df.surface_covered_in_m2 < quantile_covered) & (df.surface_total_in_m2 < quantile_total)].shape[0]}')\n",
    "\n",
    "\n",
    "figure, ax = plt.subplots(2,1, figsize=(10,6))\n",
    "sns.boxplot(data=df[df.surface_covered_in_m2 < quantile_covered], x=\"surface_covered_in_m2\", y=\"state_name\", ax=ax[0])\n",
    "sns.boxplot(data=df[df.surface_total_in_m2 < quantile_total], x=\"surface_total_in_m2\", y=\"state_name\", ax=ax[1])"
   ]
  },
  {
   "cell_type": "markdown",
   "id": "a5da5333",
   "metadata": {},
   "source": [
    "Esa distribución se ve menos afectada por posibles valores errones. Así que recortamos el dataframe:"
   ]
  },
  {
   "cell_type": "code",
   "execution_count": 95,
   "id": "f645409c",
   "metadata": {},
   "outputs": [],
   "source": [
    "df = df[(df['surface_covered_in_m2'] < quantile_covered) & (df['surface_total_in_m2'] < quantile_total)]\n"
   ]
  },
  {
   "cell_type": "markdown",
   "id": "8f1c7387",
   "metadata": {},
   "source": [
    "## PROBAMOS EXTRAER CARACTERISTICAS DE LA URL Y DESCRIPCION"
   ]
  },
  {
   "cell_type": "markdown",
   "id": "2b143295",
   "metadata": {},
   "source": [
    "Hacemos un split en la url sobre '_' y nos quedamos desde el primer elemento en adelante (ya que en todas las urls el primer elemento es un codigo de la pagina que no nos sirve)"
   ]
  },
  {
   "cell_type": "code",
   "execution_count": 96,
   "id": "38ca9b59",
   "metadata": {},
   "outputs": [
    {
     "data": {
      "text/plain": [
       "'http://www.properati.com.ar/15bo8_venta_ph_mataderos_lavadero_patio_inmobiliaria-fedele'"
      ]
     },
     "execution_count": 96,
     "metadata": {},
     "output_type": "execute_result"
    }
   ],
   "source": [
    "df.properati_url.iloc[0]"
   ]
  },
  {
   "cell_type": "code",
   "execution_count": 97,
   "id": "355cd880",
   "metadata": {},
   "outputs": [
    {
     "data": {
      "text/plain": [
       "0         [venta, ph, mataderos, lavadero, patio, inmobi...\n",
       "1         [venta, departamentos, la-plata, balcon, lavad...\n",
       "2         [venta, departamentos, mataderos, lavadero, pl...\n",
       "3                   [venta, ph, liniers, patio, g-goffredo]\n",
       "4         [venta, departamentos, centro, cristina-pavone...\n",
       "                                ...                        \n",
       "121215    [venta, departamento, belgrano, balcon, suite,...\n",
       "121216    [venta, casa, beccar, suite, hidromasaje, jard...\n",
       "121217    [venta, departamento, villa-urquiza, holmberg,...\n",
       "121218    [venta, departamento, plaza-colon, lavadero, l...\n",
       "121219    [venta, departamento, capital-federal, baulera...\n",
       "Name: url_first_split, Length: 95070, dtype: object"
      ]
     },
     "execution_count": 97,
     "metadata": {},
     "output_type": "execute_result"
    }
   ],
   "source": [
    "df['url_first_split'] = df['properati_url'].apply(lambda x: x.split('_')[1::])\n",
    "#Esta columna ahora contiene un array con las caracteristicas extraidas\n",
    "df['url_first_split']"
   ]
  },
  {
   "cell_type": "code",
   "execution_count": 98,
   "id": "894d4a6c",
   "metadata": {},
   "outputs": [
    {
     "data": {
      "text/plain": [
       "venta                 94961\n",
       "departamento          57898\n",
       "garage                44696\n",
       "lavadero              35770\n",
       "balcon                34406\n",
       "casa                  29378\n",
       "parrilla              27897\n",
       "luminoso              27249\n",
       "piscina               24865\n",
       "placard               22335\n",
       "suite                 20982\n",
       "terraza               20667\n",
       "toilette              18985\n",
       "patio                 16727\n",
       "vestidor              13956\n",
       "jardin                13904\n",
       "aire-acondicionado    10660\n",
       "sum                    9953\n",
       "dependencias           9190\n",
       "baulera                8997\n",
       "Name: url_first_split, dtype: int64"
      ]
     },
     "execution_count": 98,
     "metadata": {},
     "output_type": "execute_result"
    }
   ],
   "source": [
    "df['url_first_split'].explode().value_counts().head(20)"
   ]
  },
  {
   "cell_type": "markdown",
   "id": "0d8836a2",
   "metadata": {},
   "source": [
    "Se ven varias caracteristicas interesantes con varias apariciones que se pueden utilizar. "
   ]
  },
  {
   "cell_type": "code",
   "execution_count": 99,
   "id": "05d8fa7e",
   "metadata": {},
   "outputs": [],
   "source": [
    "caracteristicas = ['garage', 'lavadero','balcon','parrilla','piscina','terraza','patio','jardin','sum','quincho','estrenar' ]"
   ]
  },
  {
   "cell_type": "markdown",
   "id": "0f89f5e0",
   "metadata": {},
   "source": [
    "Creamos una nueva columna para guardar valores 1/0 que indican presencia o no de esa caracteristica"
   ]
  },
  {
   "cell_type": "code",
   "execution_count": 100,
   "id": "47939654",
   "metadata": {},
   "outputs": [],
   "source": [
    "for feature in caracteristicas:\n",
    "    df[feature] = df.url_first_split.apply(lambda x: 1 if feature in x else 0)"
   ]
  },
  {
   "cell_type": "markdown",
   "id": "502f5174",
   "metadata": {},
   "source": [
    "Controlamos:"
   ]
  },
  {
   "cell_type": "code",
   "execution_count": 101,
   "id": "e3f59bba",
   "metadata": {},
   "outputs": [
    {
     "data": {
      "text/html": [
       "<div>\n",
       "<style scoped>\n",
       "    .dataframe tbody tr th:only-of-type {\n",
       "        vertical-align: middle;\n",
       "    }\n",
       "\n",
       "    .dataframe tbody tr th {\n",
       "        vertical-align: top;\n",
       "    }\n",
       "\n",
       "    .dataframe thead th {\n",
       "        text-align: right;\n",
       "    }\n",
       "</style>\n",
       "<table border=\"1\" class=\"dataframe\">\n",
       "  <thead>\n",
       "    <tr style=\"text-align: right;\">\n",
       "      <th></th>\n",
       "      <th>garage</th>\n",
       "      <th>lavadero</th>\n",
       "      <th>balcon</th>\n",
       "      <th>parrilla</th>\n",
       "      <th>piscina</th>\n",
       "      <th>terraza</th>\n",
       "      <th>patio</th>\n",
       "      <th>jardin</th>\n",
       "      <th>sum</th>\n",
       "      <th>quincho</th>\n",
       "      <th>estrenar</th>\n",
       "    </tr>\n",
       "  </thead>\n",
       "  <tbody>\n",
       "    <tr>\n",
       "      <th>0</th>\n",
       "      <td>0</td>\n",
       "      <td>1</td>\n",
       "      <td>0</td>\n",
       "      <td>0</td>\n",
       "      <td>0</td>\n",
       "      <td>0</td>\n",
       "      <td>1</td>\n",
       "      <td>0</td>\n",
       "      <td>0</td>\n",
       "      <td>0</td>\n",
       "      <td>0</td>\n",
       "    </tr>\n",
       "    <tr>\n",
       "      <th>1</th>\n",
       "      <td>1</td>\n",
       "      <td>1</td>\n",
       "      <td>1</td>\n",
       "      <td>0</td>\n",
       "      <td>0</td>\n",
       "      <td>0</td>\n",
       "      <td>0</td>\n",
       "      <td>0</td>\n",
       "      <td>0</td>\n",
       "      <td>0</td>\n",
       "      <td>1</td>\n",
       "    </tr>\n",
       "    <tr>\n",
       "      <th>2</th>\n",
       "      <td>0</td>\n",
       "      <td>1</td>\n",
       "      <td>0</td>\n",
       "      <td>0</td>\n",
       "      <td>0</td>\n",
       "      <td>0</td>\n",
       "      <td>0</td>\n",
       "      <td>0</td>\n",
       "      <td>0</td>\n",
       "      <td>0</td>\n",
       "      <td>0</td>\n",
       "    </tr>\n",
       "    <tr>\n",
       "      <th>3</th>\n",
       "      <td>0</td>\n",
       "      <td>0</td>\n",
       "      <td>0</td>\n",
       "      <td>0</td>\n",
       "      <td>0</td>\n",
       "      <td>0</td>\n",
       "      <td>1</td>\n",
       "      <td>0</td>\n",
       "      <td>0</td>\n",
       "      <td>0</td>\n",
       "      <td>0</td>\n",
       "    </tr>\n",
       "    <tr>\n",
       "      <th>4</th>\n",
       "      <td>0</td>\n",
       "      <td>0</td>\n",
       "      <td>0</td>\n",
       "      <td>0</td>\n",
       "      <td>0</td>\n",
       "      <td>0</td>\n",
       "      <td>0</td>\n",
       "      <td>0</td>\n",
       "      <td>0</td>\n",
       "      <td>0</td>\n",
       "      <td>0</td>\n",
       "    </tr>\n",
       "    <tr>\n",
       "      <th>...</th>\n",
       "      <td>...</td>\n",
       "      <td>...</td>\n",
       "      <td>...</td>\n",
       "      <td>...</td>\n",
       "      <td>...</td>\n",
       "      <td>...</td>\n",
       "      <td>...</td>\n",
       "      <td>...</td>\n",
       "      <td>...</td>\n",
       "      <td>...</td>\n",
       "      <td>...</td>\n",
       "    </tr>\n",
       "    <tr>\n",
       "      <th>121215</th>\n",
       "      <td>1</td>\n",
       "      <td>0</td>\n",
       "      <td>1</td>\n",
       "      <td>1</td>\n",
       "      <td>1</td>\n",
       "      <td>0</td>\n",
       "      <td>0</td>\n",
       "      <td>0</td>\n",
       "      <td>0</td>\n",
       "      <td>1</td>\n",
       "      <td>0</td>\n",
       "    </tr>\n",
       "    <tr>\n",
       "      <th>121216</th>\n",
       "      <td>1</td>\n",
       "      <td>0</td>\n",
       "      <td>0</td>\n",
       "      <td>1</td>\n",
       "      <td>1</td>\n",
       "      <td>0</td>\n",
       "      <td>0</td>\n",
       "      <td>1</td>\n",
       "      <td>0</td>\n",
       "      <td>1</td>\n",
       "      <td>0</td>\n",
       "    </tr>\n",
       "    <tr>\n",
       "      <th>121217</th>\n",
       "      <td>1</td>\n",
       "      <td>1</td>\n",
       "      <td>1</td>\n",
       "      <td>1</td>\n",
       "      <td>0</td>\n",
       "      <td>1</td>\n",
       "      <td>0</td>\n",
       "      <td>0</td>\n",
       "      <td>0</td>\n",
       "      <td>0</td>\n",
       "      <td>1</td>\n",
       "    </tr>\n",
       "    <tr>\n",
       "      <th>121218</th>\n",
       "      <td>0</td>\n",
       "      <td>1</td>\n",
       "      <td>0</td>\n",
       "      <td>0</td>\n",
       "      <td>0</td>\n",
       "      <td>0</td>\n",
       "      <td>0</td>\n",
       "      <td>0</td>\n",
       "      <td>0</td>\n",
       "      <td>0</td>\n",
       "      <td>0</td>\n",
       "    </tr>\n",
       "    <tr>\n",
       "      <th>121219</th>\n",
       "      <td>0</td>\n",
       "      <td>1</td>\n",
       "      <td>0</td>\n",
       "      <td>0</td>\n",
       "      <td>0</td>\n",
       "      <td>0</td>\n",
       "      <td>0</td>\n",
       "      <td>0</td>\n",
       "      <td>0</td>\n",
       "      <td>0</td>\n",
       "      <td>0</td>\n",
       "    </tr>\n",
       "  </tbody>\n",
       "</table>\n",
       "<p>95070 rows × 11 columns</p>\n",
       "</div>"
      ],
      "text/plain": [
       "        garage  lavadero  balcon  parrilla  piscina  terraza  patio  jardin  \\\n",
       "0            0         1       0         0        0        0      1       0   \n",
       "1            1         1       1         0        0        0      0       0   \n",
       "2            0         1       0         0        0        0      0       0   \n",
       "3            0         0       0         0        0        0      1       0   \n",
       "4            0         0       0         0        0        0      0       0   \n",
       "...        ...       ...     ...       ...      ...      ...    ...     ...   \n",
       "121215       1         0       1         1        1        0      0       0   \n",
       "121216       1         0       0         1        1        0      0       1   \n",
       "121217       1         1       1         1        0        1      0       0   \n",
       "121218       0         1       0         0        0        0      0       0   \n",
       "121219       0         1       0         0        0        0      0       0   \n",
       "\n",
       "        sum  quincho  estrenar  \n",
       "0         0        0         0  \n",
       "1         0        0         1  \n",
       "2         0        0         0  \n",
       "3         0        0         0  \n",
       "4         0        0         0  \n",
       "...     ...      ...       ...  \n",
       "121215    0        1         0  \n",
       "121216    0        1         0  \n",
       "121217    0        0         1  \n",
       "121218    0        0         0  \n",
       "121219    0        0         0  \n",
       "\n",
       "[95070 rows x 11 columns]"
      ]
     },
     "execution_count": 101,
     "metadata": {},
     "output_type": "execute_result"
    }
   ],
   "source": [
    "df[caracteristicas]"
   ]
  },
  {
   "cell_type": "code",
   "execution_count": 102,
   "id": "dff26794",
   "metadata": {},
   "outputs": [
    {
     "data": {
      "text/plain": [
       "garage      44696\n",
       "lavadero    35770\n",
       "balcon      34406\n",
       "parrilla    27897\n",
       "piscina     24865\n",
       "terraza     20667\n",
       "patio       16727\n",
       "jardin      13904\n",
       "sum          9953\n",
       "quincho      8793\n",
       "estrenar     8794\n",
       "dtype: int64"
      ]
     },
     "execution_count": 102,
     "metadata": {},
     "output_type": "execute_result"
    }
   ],
   "source": [
    "df[caracteristicas].sum()"
   ]
  },
  {
   "cell_type": "code",
   "execution_count": 103,
   "id": "dee42981",
   "metadata": {},
   "outputs": [
    {
     "data": {
      "text/plain": [
       "Index(['property_type', 'place_name', 'state_name', 'geonames_id', 'lat-lon',\n",
       "       'currency', 'price_aprox_usd', 'surface_total_in_m2',\n",
       "       'surface_covered_in_m2', 'rooms', 'properati_url', 'description',\n",
       "       'title', 'surface_ratio', 'url_first_split', 'garage', 'lavadero',\n",
       "       'balcon', 'parrilla', 'piscina', 'terraza', 'patio', 'jardin', 'sum',\n",
       "       'quincho', 'estrenar'],\n",
       "      dtype='object')"
      ]
     },
     "execution_count": 103,
     "metadata": {},
     "output_type": "execute_result"
    }
   ],
   "source": [
    "df.columns"
   ]
  },
  {
   "cell_type": "markdown",
   "id": "5370a01b",
   "metadata": {},
   "source": [
    "## Vamos a dropear las columnas que ya no utilizamos"
   ]
  },
  {
   "cell_type": "code",
   "execution_count": 104,
   "id": "e85c535b",
   "metadata": {},
   "outputs": [
    {
     "name": "stdout",
     "output_type": "stream",
     "text": [
      "<class 'pandas.core.frame.DataFrame'>\n",
      "Int64Index: 95070 entries, 0 to 121219\n",
      "Data columns (total 20 columns):\n",
      " #   Column                 Non-Null Count  Dtype  \n",
      "---  ------                 --------------  -----  \n",
      " 0   property_type          95070 non-null  object \n",
      " 1   place_name             95070 non-null  object \n",
      " 2   state_name             95070 non-null  object \n",
      " 3   geonames_id            78813 non-null  float64\n",
      " 4   lat-lon                55782 non-null  object \n",
      " 5   price_aprox_usd        95070 non-null  float64\n",
      " 6   surface_total_in_m2    95070 non-null  float64\n",
      " 7   surface_covered_in_m2  95070 non-null  float64\n",
      " 8   rooms                  95070 non-null  float64\n",
      " 9   garage                 95070 non-null  int64  \n",
      " 10  lavadero               95070 non-null  int64  \n",
      " 11  balcon                 95070 non-null  int64  \n",
      " 12  parrilla               95070 non-null  int64  \n",
      " 13  piscina                95070 non-null  int64  \n",
      " 14  terraza                95070 non-null  int64  \n",
      " 15  patio                  95070 non-null  int64  \n",
      " 16  jardin                 95070 non-null  int64  \n",
      " 17  sum                    95070 non-null  int64  \n",
      " 18  quincho                95070 non-null  int64  \n",
      " 19  estrenar               95070 non-null  int64  \n",
      "dtypes: float64(5), int64(11), object(4)\n",
      "memory usage: 15.2+ MB\n"
     ]
    }
   ],
   "source": [
    "df = df.drop(['surface_ratio','currency','properati_url','description','title','url_first_split'],axis=1)\n",
    "df.info()"
   ]
  },
  {
   "cell_type": "markdown",
   "id": "d29c9b69",
   "metadata": {},
   "source": [
    "# Geopandas"
   ]
  },
  {
   "cell_type": "markdown",
   "id": "59197f76",
   "metadata": {},
   "source": [
    "#### Cuidado con correr esta sección, puede demorar 30 min o más. En el analisis descriptivo se usa un csv ya exportado"
   ]
  },
  {
   "cell_type": "code",
   "execution_count": 105,
   "id": "dcebc4b9",
   "metadata": {},
   "outputs": [
    {
     "data": {
      "text/plain": [
       "(95070, 20)"
      ]
     },
     "execution_count": 105,
     "metadata": {},
     "output_type": "execute_result"
    }
   ],
   "source": [
    "df.shape"
   ]
  },
  {
   "cell_type": "code",
   "execution_count": 106,
   "id": "f0793217",
   "metadata": {},
   "outputs": [
    {
     "data": {
      "text/html": [
       "<div>\n",
       "<style scoped>\n",
       "    .dataframe tbody tr th:only-of-type {\n",
       "        vertical-align: middle;\n",
       "    }\n",
       "\n",
       "    .dataframe tbody tr th {\n",
       "        vertical-align: top;\n",
       "    }\n",
       "\n",
       "    .dataframe thead th {\n",
       "        text-align: right;\n",
       "    }\n",
       "</style>\n",
       "<table border=\"1\" class=\"dataframe\">\n",
       "  <thead>\n",
       "    <tr style=\"text-align: right;\">\n",
       "      <th></th>\n",
       "      <th>property_type</th>\n",
       "      <th>place_name</th>\n",
       "      <th>state_name</th>\n",
       "      <th>geonames_id</th>\n",
       "      <th>lat-lon</th>\n",
       "      <th>price_aprox_usd</th>\n",
       "      <th>surface_total_in_m2</th>\n",
       "      <th>surface_covered_in_m2</th>\n",
       "      <th>rooms</th>\n",
       "      <th>garage</th>\n",
       "      <th>lavadero</th>\n",
       "      <th>balcon</th>\n",
       "      <th>parrilla</th>\n",
       "      <th>piscina</th>\n",
       "      <th>terraza</th>\n",
       "      <th>patio</th>\n",
       "      <th>jardin</th>\n",
       "      <th>sum</th>\n",
       "      <th>quincho</th>\n",
       "      <th>estrenar</th>\n",
       "    </tr>\n",
       "  </thead>\n",
       "  <tbody>\n",
       "    <tr>\n",
       "      <th>0</th>\n",
       "      <td>PH</td>\n",
       "      <td>Mataderos</td>\n",
       "      <td>capital federal</td>\n",
       "      <td>3430787.0</td>\n",
       "      <td>-34.6618237,-58.5088387</td>\n",
       "      <td>62000.0</td>\n",
       "      <td>55.000000</td>\n",
       "      <td>40.000000</td>\n",
       "      <td>2.000000</td>\n",
       "      <td>0</td>\n",
       "      <td>1</td>\n",
       "      <td>0</td>\n",
       "      <td>0</td>\n",
       "      <td>0</td>\n",
       "      <td>0</td>\n",
       "      <td>1</td>\n",
       "      <td>0</td>\n",
       "      <td>0</td>\n",
       "      <td>0</td>\n",
       "      <td>0</td>\n",
       "    </tr>\n",
       "    <tr>\n",
       "      <th>1</th>\n",
       "      <td>apartment</td>\n",
       "      <td>La Plata</td>\n",
       "      <td>bs.as. g.b.a. zona sur</td>\n",
       "      <td>3432039.0</td>\n",
       "      <td>-34.9038831,-57.9643295</td>\n",
       "      <td>150000.0</td>\n",
       "      <td>74.495117</td>\n",
       "      <td>66.250204</td>\n",
       "      <td>2.276693</td>\n",
       "      <td>1</td>\n",
       "      <td>1</td>\n",
       "      <td>1</td>\n",
       "      <td>0</td>\n",
       "      <td>0</td>\n",
       "      <td>0</td>\n",
       "      <td>0</td>\n",
       "      <td>0</td>\n",
       "      <td>0</td>\n",
       "      <td>0</td>\n",
       "      <td>1</td>\n",
       "    </tr>\n",
       "    <tr>\n",
       "      <th>2</th>\n",
       "      <td>apartment</td>\n",
       "      <td>Mataderos</td>\n",
       "      <td>capital federal</td>\n",
       "      <td>3430787.0</td>\n",
       "      <td>-34.6522615,-58.5229825</td>\n",
       "      <td>72000.0</td>\n",
       "      <td>55.000000</td>\n",
       "      <td>55.000000</td>\n",
       "      <td>2.000000</td>\n",
       "      <td>0</td>\n",
       "      <td>1</td>\n",
       "      <td>0</td>\n",
       "      <td>0</td>\n",
       "      <td>0</td>\n",
       "      <td>0</td>\n",
       "      <td>0</td>\n",
       "      <td>0</td>\n",
       "      <td>0</td>\n",
       "      <td>0</td>\n",
       "      <td>0</td>\n",
       "    </tr>\n",
       "    <tr>\n",
       "      <th>3</th>\n",
       "      <td>PH</td>\n",
       "      <td>Liniers</td>\n",
       "      <td>capital federal</td>\n",
       "      <td>3431333.0</td>\n",
       "      <td>-34.6477969,-58.5164244</td>\n",
       "      <td>95000.0</td>\n",
       "      <td>120.857451</td>\n",
       "      <td>91.601224</td>\n",
       "      <td>3.000000</td>\n",
       "      <td>0</td>\n",
       "      <td>0</td>\n",
       "      <td>0</td>\n",
       "      <td>0</td>\n",
       "      <td>0</td>\n",
       "      <td>0</td>\n",
       "      <td>1</td>\n",
       "      <td>0</td>\n",
       "      <td>0</td>\n",
       "      <td>0</td>\n",
       "      <td>0</td>\n",
       "    </tr>\n",
       "    <tr>\n",
       "      <th>4</th>\n",
       "      <td>apartment</td>\n",
       "      <td>Centro</td>\n",
       "      <td>buenos aires costa atlántica</td>\n",
       "      <td>3435548.0</td>\n",
       "      <td>-38.0026256,-57.5494468</td>\n",
       "      <td>64000.0</td>\n",
       "      <td>35.000000</td>\n",
       "      <td>35.000000</td>\n",
       "      <td>1.000000</td>\n",
       "      <td>0</td>\n",
       "      <td>0</td>\n",
       "      <td>0</td>\n",
       "      <td>0</td>\n",
       "      <td>0</td>\n",
       "      <td>0</td>\n",
       "      <td>0</td>\n",
       "      <td>0</td>\n",
       "      <td>0</td>\n",
       "      <td>0</td>\n",
       "      <td>0</td>\n",
       "    </tr>\n",
       "  </tbody>\n",
       "</table>\n",
       "</div>"
      ],
      "text/plain": [
       "  property_type place_name                    state_name  geonames_id  \\\n",
       "0            PH  Mataderos               capital federal    3430787.0   \n",
       "1     apartment   La Plata        bs.as. g.b.a. zona sur    3432039.0   \n",
       "2     apartment  Mataderos               capital federal    3430787.0   \n",
       "3            PH    Liniers               capital federal    3431333.0   \n",
       "4     apartment     Centro  buenos aires costa atlántica    3435548.0   \n",
       "\n",
       "                   lat-lon  price_aprox_usd  surface_total_in_m2  \\\n",
       "0  -34.6618237,-58.5088387          62000.0            55.000000   \n",
       "1  -34.9038831,-57.9643295         150000.0            74.495117   \n",
       "2  -34.6522615,-58.5229825          72000.0            55.000000   \n",
       "3  -34.6477969,-58.5164244          95000.0           120.857451   \n",
       "4  -38.0026256,-57.5494468          64000.0            35.000000   \n",
       "\n",
       "   surface_covered_in_m2     rooms  garage  lavadero  balcon  parrilla  \\\n",
       "0              40.000000  2.000000       0         1       0         0   \n",
       "1              66.250204  2.276693       1         1       1         0   \n",
       "2              55.000000  2.000000       0         1       0         0   \n",
       "3              91.601224  3.000000       0         0       0         0   \n",
       "4              35.000000  1.000000       0         0       0         0   \n",
       "\n",
       "   piscina  terraza  patio  jardin  sum  quincho  estrenar  \n",
       "0        0        0      1       0    0        0         0  \n",
       "1        0        0      0       0    0        0         1  \n",
       "2        0        0      0       0    0        0         0  \n",
       "3        0        0      1       0    0        0         0  \n",
       "4        0        0      0       0    0        0         0  "
      ]
     },
     "execution_count": 106,
     "metadata": {},
     "output_type": "execute_result"
    }
   ],
   "source": [
    "df.head()"
   ]
  },
  {
   "cell_type": "markdown",
   "id": "d56e5ada",
   "metadata": {},
   "source": [
    "## MODIFICACION DEL ORIGINAL 1:\n"
   ]
  },
  {
   "cell_type": "code",
   "execution_count": 107,
   "id": "3ae169ee",
   "metadata": {},
   "outputs": [
    {
     "data": {
      "text/plain": [
       "(28399, 20)"
      ]
     },
     "execution_count": 107,
     "metadata": {},
     "output_type": "execute_result"
    }
   ],
   "source": [
    "## ME QUEDO CON CAPITAL SOLAMENTE\n",
    "\n",
    "df = df[df.state_name == 'capital federal']\n",
    "df.shape"
   ]
  },
  {
   "cell_type": "code",
   "execution_count": 108,
   "id": "04745ba0",
   "metadata": {},
   "outputs": [
    {
     "data": {
      "text/plain": [
       "property_type            0.000000\n",
       "place_name               0.000000\n",
       "state_name               0.000000\n",
       "geonames_id              0.039121\n",
       "lat-lon                  0.233917\n",
       "price_aprox_usd          0.000000\n",
       "surface_total_in_m2      0.000000\n",
       "surface_covered_in_m2    0.000000\n",
       "rooms                    0.000000\n",
       "garage                   0.000000\n",
       "lavadero                 0.000000\n",
       "balcon                   0.000000\n",
       "parrilla                 0.000000\n",
       "piscina                  0.000000\n",
       "terraza                  0.000000\n",
       "patio                    0.000000\n",
       "jardin                   0.000000\n",
       "sum                      0.000000\n",
       "quincho                  0.000000\n",
       "estrenar                 0.000000\n",
       "dtype: float64"
      ]
     },
     "execution_count": 108,
     "metadata": {},
     "output_type": "execute_result"
    }
   ],
   "source": [
    "df.isna().sum() / df.shape[0]"
   ]
  },
  {
   "cell_type": "markdown",
   "id": "2ea60315",
   "metadata": {},
   "source": [
    "Extraemos en otro dataset las columnas con las que vamos a trabajar:"
   ]
  },
  {
   "cell_type": "code",
   "execution_count": 109,
   "id": "4559bc87",
   "metadata": {},
   "outputs": [
    {
     "data": {
      "text/html": [
       "<div>\n",
       "<style scoped>\n",
       "    .dataframe tbody tr th:only-of-type {\n",
       "        vertical-align: middle;\n",
       "    }\n",
       "\n",
       "    .dataframe tbody tr th {\n",
       "        vertical-align: top;\n",
       "    }\n",
       "\n",
       "    .dataframe thead th {\n",
       "        text-align: right;\n",
       "    }\n",
       "</style>\n",
       "<table border=\"1\" class=\"dataframe\">\n",
       "  <thead>\n",
       "    <tr style=\"text-align: right;\">\n",
       "      <th></th>\n",
       "      <th>state_name</th>\n",
       "      <th>place_name</th>\n",
       "      <th>lat-lon</th>\n",
       "    </tr>\n",
       "  </thead>\n",
       "  <tbody>\n",
       "    <tr>\n",
       "      <th>0</th>\n",
       "      <td>capital federal</td>\n",
       "      <td>Mataderos</td>\n",
       "      <td>-34.6618237,-58.5088387</td>\n",
       "    </tr>\n",
       "    <tr>\n",
       "      <th>2</th>\n",
       "      <td>capital federal</td>\n",
       "      <td>Mataderos</td>\n",
       "      <td>-34.6522615,-58.5229825</td>\n",
       "    </tr>\n",
       "    <tr>\n",
       "      <th>3</th>\n",
       "      <td>capital federal</td>\n",
       "      <td>Liniers</td>\n",
       "      <td>-34.6477969,-58.5164244</td>\n",
       "    </tr>\n",
       "    <tr>\n",
       "      <th>7</th>\n",
       "      <td>capital federal</td>\n",
       "      <td>Belgrano</td>\n",
       "      <td>-34.5598729,-58.443362</td>\n",
       "    </tr>\n",
       "    <tr>\n",
       "      <th>8</th>\n",
       "      <td>capital federal</td>\n",
       "      <td>Belgrano</td>\n",
       "      <td>-34.5598729,-58.443362</td>\n",
       "    </tr>\n",
       "  </tbody>\n",
       "</table>\n",
       "</div>"
      ],
      "text/plain": [
       "        state_name place_name                  lat-lon\n",
       "0  capital federal  Mataderos  -34.6618237,-58.5088387\n",
       "2  capital federal  Mataderos  -34.6522615,-58.5229825\n",
       "3  capital federal    Liniers  -34.6477969,-58.5164244\n",
       "7  capital federal   Belgrano   -34.5598729,-58.443362\n",
       "8  capital federal   Belgrano   -34.5598729,-58.443362"
      ]
     },
     "execution_count": 109,
     "metadata": {},
     "output_type": "execute_result"
    }
   ],
   "source": [
    "df_geo = df.loc[df['lat-lon'].notna(),['state_name', 'place_name', 'lat-lon']]\n",
    "df_geo.head()"
   ]
  },
  {
   "cell_type": "markdown",
   "id": "8bd4942f",
   "metadata": {},
   "source": [
    "Transformamos lat y lon en columnas separadas:\n"
   ]
  },
  {
   "cell_type": "code",
   "execution_count": 110,
   "id": "22bf6435",
   "metadata": {},
   "outputs": [
    {
     "data": {
      "text/html": [
       "<div>\n",
       "<style scoped>\n",
       "    .dataframe tbody tr th:only-of-type {\n",
       "        vertical-align: middle;\n",
       "    }\n",
       "\n",
       "    .dataframe tbody tr th {\n",
       "        vertical-align: top;\n",
       "    }\n",
       "\n",
       "    .dataframe thead th {\n",
       "        text-align: right;\n",
       "    }\n",
       "</style>\n",
       "<table border=\"1\" class=\"dataframe\">\n",
       "  <thead>\n",
       "    <tr style=\"text-align: right;\">\n",
       "      <th></th>\n",
       "      <th>state_name</th>\n",
       "      <th>place_name</th>\n",
       "      <th>lat-lon</th>\n",
       "      <th>lat</th>\n",
       "      <th>lon</th>\n",
       "    </tr>\n",
       "  </thead>\n",
       "  <tbody>\n",
       "    <tr>\n",
       "      <th>0</th>\n",
       "      <td>capital federal</td>\n",
       "      <td>Mataderos</td>\n",
       "      <td>-34.6618237,-58.5088387</td>\n",
       "      <td>-34.6618237</td>\n",
       "      <td>-58.5088387</td>\n",
       "    </tr>\n",
       "    <tr>\n",
       "      <th>2</th>\n",
       "      <td>capital federal</td>\n",
       "      <td>Mataderos</td>\n",
       "      <td>-34.6522615,-58.5229825</td>\n",
       "      <td>-34.6522615</td>\n",
       "      <td>-58.5229825</td>\n",
       "    </tr>\n",
       "    <tr>\n",
       "      <th>3</th>\n",
       "      <td>capital federal</td>\n",
       "      <td>Liniers</td>\n",
       "      <td>-34.6477969,-58.5164244</td>\n",
       "      <td>-34.6477969</td>\n",
       "      <td>-58.5164244</td>\n",
       "    </tr>\n",
       "    <tr>\n",
       "      <th>7</th>\n",
       "      <td>capital federal</td>\n",
       "      <td>Belgrano</td>\n",
       "      <td>-34.5598729,-58.443362</td>\n",
       "      <td>-34.5598729</td>\n",
       "      <td>-58.443362</td>\n",
       "    </tr>\n",
       "    <tr>\n",
       "      <th>8</th>\n",
       "      <td>capital federal</td>\n",
       "      <td>Belgrano</td>\n",
       "      <td>-34.5598729,-58.443362</td>\n",
       "      <td>-34.5598729</td>\n",
       "      <td>-58.443362</td>\n",
       "    </tr>\n",
       "  </tbody>\n",
       "</table>\n",
       "</div>"
      ],
      "text/plain": [
       "        state_name place_name                  lat-lon          lat  \\\n",
       "0  capital federal  Mataderos  -34.6618237,-58.5088387  -34.6618237   \n",
       "2  capital federal  Mataderos  -34.6522615,-58.5229825  -34.6522615   \n",
       "3  capital federal    Liniers  -34.6477969,-58.5164244  -34.6477969   \n",
       "7  capital federal   Belgrano   -34.5598729,-58.443362  -34.5598729   \n",
       "8  capital federal   Belgrano   -34.5598729,-58.443362  -34.5598729   \n",
       "\n",
       "           lon  \n",
       "0  -58.5088387  \n",
       "2  -58.5229825  \n",
       "3  -58.5164244  \n",
       "7   -58.443362  \n",
       "8   -58.443362  "
      ]
     },
     "execution_count": 110,
     "metadata": {},
     "output_type": "execute_result"
    }
   ],
   "source": [
    "df_geo['lat'] = df_geo['lat-lon'].apply(lambda x : x.split(',')[0]  )\n",
    "df_geo['lon'] = df_geo['lat-lon'].apply(lambda x : x.split(',')[1]  )\n",
    "df_geo.head()"
   ]
  },
  {
   "cell_type": "markdown",
   "id": "585cf419",
   "metadata": {},
   "source": [
    "Asignamos la geometría:"
   ]
  },
  {
   "cell_type": "code",
   "execution_count": 111,
   "id": "09276337",
   "metadata": {},
   "outputs": [],
   "source": [
    "geometria = gpd.points_from_xy(df_geo['lon'], df_geo['lat'])"
   ]
  },
  {
   "cell_type": "markdown",
   "id": "83689364",
   "metadata": {},
   "source": [
    "Convertimos a geodataframe:\n"
   ]
  },
  {
   "cell_type": "code",
   "execution_count": 112,
   "id": "909741c5",
   "metadata": {},
   "outputs": [
    {
     "data": {
      "text/html": [
       "<div>\n",
       "<style scoped>\n",
       "    .dataframe tbody tr th:only-of-type {\n",
       "        vertical-align: middle;\n",
       "    }\n",
       "\n",
       "    .dataframe tbody tr th {\n",
       "        vertical-align: top;\n",
       "    }\n",
       "\n",
       "    .dataframe thead th {\n",
       "        text-align: right;\n",
       "    }\n",
       "</style>\n",
       "<table border=\"1\" class=\"dataframe\">\n",
       "  <thead>\n",
       "    <tr style=\"text-align: right;\">\n",
       "      <th></th>\n",
       "      <th>state_name</th>\n",
       "      <th>place_name</th>\n",
       "      <th>lat-lon</th>\n",
       "      <th>lat</th>\n",
       "      <th>lon</th>\n",
       "      <th>geometry</th>\n",
       "    </tr>\n",
       "  </thead>\n",
       "  <tbody>\n",
       "    <tr>\n",
       "      <th>0</th>\n",
       "      <td>capital federal</td>\n",
       "      <td>Mataderos</td>\n",
       "      <td>-34.6618237,-58.5088387</td>\n",
       "      <td>-34.6618237</td>\n",
       "      <td>-58.5088387</td>\n",
       "      <td>POINT (-58.50884 -34.66182)</td>\n",
       "    </tr>\n",
       "    <tr>\n",
       "      <th>2</th>\n",
       "      <td>capital federal</td>\n",
       "      <td>Mataderos</td>\n",
       "      <td>-34.6522615,-58.5229825</td>\n",
       "      <td>-34.6522615</td>\n",
       "      <td>-58.5229825</td>\n",
       "      <td>POINT (-58.52298 -34.65226)</td>\n",
       "    </tr>\n",
       "    <tr>\n",
       "      <th>3</th>\n",
       "      <td>capital federal</td>\n",
       "      <td>Liniers</td>\n",
       "      <td>-34.6477969,-58.5164244</td>\n",
       "      <td>-34.6477969</td>\n",
       "      <td>-58.5164244</td>\n",
       "      <td>POINT (-58.51642 -34.64780)</td>\n",
       "    </tr>\n",
       "    <tr>\n",
       "      <th>7</th>\n",
       "      <td>capital federal</td>\n",
       "      <td>Belgrano</td>\n",
       "      <td>-34.5598729,-58.443362</td>\n",
       "      <td>-34.5598729</td>\n",
       "      <td>-58.443362</td>\n",
       "      <td>POINT (-58.44336 -34.55987)</td>\n",
       "    </tr>\n",
       "    <tr>\n",
       "      <th>8</th>\n",
       "      <td>capital federal</td>\n",
       "      <td>Belgrano</td>\n",
       "      <td>-34.5598729,-58.443362</td>\n",
       "      <td>-34.5598729</td>\n",
       "      <td>-58.443362</td>\n",
       "      <td>POINT (-58.44336 -34.55987)</td>\n",
       "    </tr>\n",
       "  </tbody>\n",
       "</table>\n",
       "</div>"
      ],
      "text/plain": [
       "        state_name place_name                  lat-lon          lat  \\\n",
       "0  capital federal  Mataderos  -34.6618237,-58.5088387  -34.6618237   \n",
       "2  capital federal  Mataderos  -34.6522615,-58.5229825  -34.6522615   \n",
       "3  capital federal    Liniers  -34.6477969,-58.5164244  -34.6477969   \n",
       "7  capital federal   Belgrano   -34.5598729,-58.443362  -34.5598729   \n",
       "8  capital federal   Belgrano   -34.5598729,-58.443362  -34.5598729   \n",
       "\n",
       "           lon                     geometry  \n",
       "0  -58.5088387  POINT (-58.50884 -34.66182)  \n",
       "2  -58.5229825  POINT (-58.52298 -34.65226)  \n",
       "3  -58.5164244  POINT (-58.51642 -34.64780)  \n",
       "7   -58.443362  POINT (-58.44336 -34.55987)  \n",
       "8   -58.443362  POINT (-58.44336 -34.55987)  "
      ]
     },
     "execution_count": 112,
     "metadata": {},
     "output_type": "execute_result"
    }
   ],
   "source": [
    "geo_df = gpd.GeoDataFrame(df_geo, geometry=geometria)\n",
    "geo_df.head()"
   ]
  },
  {
   "cell_type": "markdown",
   "id": "4640b7b4",
   "metadata": {},
   "source": [
    "Importamos data de subtes:"
   ]
  },
  {
   "cell_type": "code",
   "execution_count": 114,
   "id": "ac8bb87d",
   "metadata": {},
   "outputs": [
    {
     "data": {
      "text/html": [
       "<div>\n",
       "<style scoped>\n",
       "    .dataframe tbody tr th:only-of-type {\n",
       "        vertical-align: middle;\n",
       "    }\n",
       "\n",
       "    .dataframe tbody tr th {\n",
       "        vertical-align: top;\n",
       "    }\n",
       "\n",
       "    .dataframe thead th {\n",
       "        text-align: right;\n",
       "    }\n",
       "</style>\n",
       "<table border=\"1\" class=\"dataframe\">\n",
       "  <thead>\n",
       "    <tr style=\"text-align: right;\">\n",
       "      <th></th>\n",
       "      <th>lon</th>\n",
       "      <th>lat</th>\n",
       "      <th>id</th>\n",
       "      <th>estacion</th>\n",
       "      <th>linea</th>\n",
       "      <th>geometry</th>\n",
       "    </tr>\n",
       "  </thead>\n",
       "  <tbody>\n",
       "    <tr>\n",
       "      <th>0</th>\n",
       "      <td>-58.398928</td>\n",
       "      <td>-34.635750</td>\n",
       "      <td>1.0</td>\n",
       "      <td>CASEROS</td>\n",
       "      <td>H</td>\n",
       "      <td>POINT (2752843.207 -4474495.110)</td>\n",
       "    </tr>\n",
       "    <tr>\n",
       "      <th>1</th>\n",
       "      <td>-58.400970</td>\n",
       "      <td>-34.629376</td>\n",
       "      <td>2.0</td>\n",
       "      <td>INCLAN - MEZQUITA AL AHMAD</td>\n",
       "      <td>H</td>\n",
       "      <td>POINT (2752894.312 -4474935.513)</td>\n",
       "    </tr>\n",
       "    <tr>\n",
       "      <th>2</th>\n",
       "      <td>-58.402323</td>\n",
       "      <td>-34.623092</td>\n",
       "      <td>3.0</td>\n",
       "      <td>HUMBERTO 1°</td>\n",
       "      <td>H</td>\n",
       "      <td>POINT (2752996.147 -4475337.879)</td>\n",
       "    </tr>\n",
       "    <tr>\n",
       "      <th>3</th>\n",
       "      <td>-58.404732</td>\n",
       "      <td>-34.615242</td>\n",
       "      <td>4.0</td>\n",
       "      <td>VENEZUELA</td>\n",
       "      <td>H</td>\n",
       "      <td>POINT (2753067.184 -4475875.033)</td>\n",
       "    </tr>\n",
       "    <tr>\n",
       "      <th>4</th>\n",
       "      <td>-58.406036</td>\n",
       "      <td>-34.608935</td>\n",
       "      <td>5.0</td>\n",
       "      <td>ONCE - 30 DE DICIEMBRE</td>\n",
       "      <td>H</td>\n",
       "      <td>POINT (2753173.468 -4476276.230)</td>\n",
       "    </tr>\n",
       "    <tr>\n",
       "      <th>5</th>\n",
       "      <td>-58.380574</td>\n",
       "      <td>-34.604245</td>\n",
       "      <td>6.0</td>\n",
       "      <td>9 DE JULIO</td>\n",
       "      <td>D</td>\n",
       "      <td>POINT (2755317.354 -4475303.910)</td>\n",
       "    </tr>\n",
       "    <tr>\n",
       "      <th>6</th>\n",
       "      <td>-58.397924</td>\n",
       "      <td>-34.599757</td>\n",
       "      <td>7.0</td>\n",
       "      <td>FACULTAD DE MEDICINA</td>\n",
       "      <td>D</td>\n",
       "      <td>POINT (2754110.243 -4476378.834)</td>\n",
       "    </tr>\n",
       "    <tr>\n",
       "      <th>7</th>\n",
       "      <td>-58.385142</td>\n",
       "      <td>-34.601587</td>\n",
       "      <td>8.0</td>\n",
       "      <td>TRIBUNALES - TEATRO COLÓN</td>\n",
       "      <td>D</td>\n",
       "      <td>POINT (2755048.321 -4475666.167)</td>\n",
       "    </tr>\n",
       "    <tr>\n",
       "      <th>8</th>\n",
       "      <td>-58.407161</td>\n",
       "      <td>-34.591628</td>\n",
       "      <td>9.0</td>\n",
       "      <td>AGÜERO</td>\n",
       "      <td>D</td>\n",
       "      <td>POINT (2753656.739 -4477258.950)</td>\n",
       "    </tr>\n",
       "    <tr>\n",
       "      <th>9</th>\n",
       "      <td>-58.415955</td>\n",
       "      <td>-34.585156</td>\n",
       "      <td>10.0</td>\n",
       "      <td>R.SCALABRINI ORTIZ</td>\n",
       "      <td>D</td>\n",
       "      <td>POINT (2753182.970 -4478028.736)</td>\n",
       "    </tr>\n",
       "  </tbody>\n",
       "</table>\n",
       "</div>"
      ],
      "text/plain": [
       "         lon        lat    id                    estacion linea  \\\n",
       "0 -58.398928 -34.635750   1.0                     CASEROS     H   \n",
       "1 -58.400970 -34.629376   2.0  INCLAN - MEZQUITA AL AHMAD     H   \n",
       "2 -58.402323 -34.623092   3.0                 HUMBERTO 1°     H   \n",
       "3 -58.404732 -34.615242   4.0                   VENEZUELA     H   \n",
       "4 -58.406036 -34.608935   5.0      ONCE - 30 DE DICIEMBRE     H   \n",
       "5 -58.380574 -34.604245   6.0                  9 DE JULIO     D   \n",
       "6 -58.397924 -34.599757   7.0        FACULTAD DE MEDICINA     D   \n",
       "7 -58.385142 -34.601587   8.0   TRIBUNALES - TEATRO COLÓN     D   \n",
       "8 -58.407161 -34.591628   9.0                      AGÜERO     D   \n",
       "9 -58.415955 -34.585156  10.0          R.SCALABRINI ORTIZ     D   \n",
       "\n",
       "                           geometry  \n",
       "0  POINT (2752843.207 -4474495.110)  \n",
       "1  POINT (2752894.312 -4474935.513)  \n",
       "2  POINT (2752996.147 -4475337.879)  \n",
       "3  POINT (2753067.184 -4475875.033)  \n",
       "4  POINT (2753173.468 -4476276.230)  \n",
       "5  POINT (2755317.354 -4475303.910)  \n",
       "6  POINT (2754110.243 -4476378.834)  \n",
       "7  POINT (2755048.321 -4475666.167)  \n",
       "8  POINT (2753656.739 -4477258.950)  \n",
       "9  POINT (2753182.970 -4478028.736)  "
      ]
     },
     "execution_count": 114,
     "metadata": {},
     "output_type": "execute_result"
    }
   ],
   "source": [
    "\n",
    "def read_geo(path, lon_col=\"lon\", lat_col=\"lat\", from_crs=\"EPSG:4326\", to_crs=\"EPSG:5341\", **kwargs):\n",
    "    df = pd.read_csv(path, **kwargs).rename(columns={lon_col: \"lon\", lat_col: \"lat\"})\n",
    "    geo = gpd.GeoDataFrame(df, geometry=gpd.points_from_xy(df.lon, df.lat), crs=from_crs)\n",
    "    return geo[~geo.geometry.isna()].to_crs(to_crs) \n",
    "geo_subte = read_geo(f\"./data/estaciones-de-subte.csv\", \"long\")\n",
    "geo_subte.head(10)"
   ]
  },
  {
   "cell_type": "markdown",
   "id": "5e21424d",
   "metadata": {},
   "source": [
    "Creamos una columna en ceros para asginar el valor\n"
   ]
  },
  {
   "cell_type": "code",
   "execution_count": 115,
   "id": "286c11e8",
   "metadata": {},
   "outputs": [
    {
     "data": {
      "text/html": [
       "<div>\n",
       "<style scoped>\n",
       "    .dataframe tbody tr th:only-of-type {\n",
       "        vertical-align: middle;\n",
       "    }\n",
       "\n",
       "    .dataframe tbody tr th {\n",
       "        vertical-align: top;\n",
       "    }\n",
       "\n",
       "    .dataframe thead th {\n",
       "        text-align: right;\n",
       "    }\n",
       "</style>\n",
       "<table border=\"1\" class=\"dataframe\">\n",
       "  <thead>\n",
       "    <tr style=\"text-align: right;\">\n",
       "      <th></th>\n",
       "      <th>state_name</th>\n",
       "      <th>place_name</th>\n",
       "      <th>lat-lon</th>\n",
       "      <th>lat</th>\n",
       "      <th>lon</th>\n",
       "      <th>geometry</th>\n",
       "      <th>min_subte</th>\n",
       "    </tr>\n",
       "  </thead>\n",
       "  <tbody>\n",
       "    <tr>\n",
       "      <th>0</th>\n",
       "      <td>capital federal</td>\n",
       "      <td>Mataderos</td>\n",
       "      <td>-34.6618237,-58.5088387</td>\n",
       "      <td>-34.6618237</td>\n",
       "      <td>-58.5088387</td>\n",
       "      <td>POINT (-58.50884 -34.66182)</td>\n",
       "      <td>0</td>\n",
       "    </tr>\n",
       "    <tr>\n",
       "      <th>2</th>\n",
       "      <td>capital federal</td>\n",
       "      <td>Mataderos</td>\n",
       "      <td>-34.6522615,-58.5229825</td>\n",
       "      <td>-34.6522615</td>\n",
       "      <td>-58.5229825</td>\n",
       "      <td>POINT (-58.52298 -34.65226)</td>\n",
       "      <td>0</td>\n",
       "    </tr>\n",
       "    <tr>\n",
       "      <th>3</th>\n",
       "      <td>capital federal</td>\n",
       "      <td>Liniers</td>\n",
       "      <td>-34.6477969,-58.5164244</td>\n",
       "      <td>-34.6477969</td>\n",
       "      <td>-58.5164244</td>\n",
       "      <td>POINT (-58.51642 -34.64780)</td>\n",
       "      <td>0</td>\n",
       "    </tr>\n",
       "    <tr>\n",
       "      <th>7</th>\n",
       "      <td>capital federal</td>\n",
       "      <td>Belgrano</td>\n",
       "      <td>-34.5598729,-58.443362</td>\n",
       "      <td>-34.5598729</td>\n",
       "      <td>-58.443362</td>\n",
       "      <td>POINT (-58.44336 -34.55987)</td>\n",
       "      <td>0</td>\n",
       "    </tr>\n",
       "    <tr>\n",
       "      <th>8</th>\n",
       "      <td>capital federal</td>\n",
       "      <td>Belgrano</td>\n",
       "      <td>-34.5598729,-58.443362</td>\n",
       "      <td>-34.5598729</td>\n",
       "      <td>-58.443362</td>\n",
       "      <td>POINT (-58.44336 -34.55987)</td>\n",
       "      <td>0</td>\n",
       "    </tr>\n",
       "  </tbody>\n",
       "</table>\n",
       "</div>"
      ],
      "text/plain": [
       "        state_name place_name                  lat-lon          lat  \\\n",
       "0  capital federal  Mataderos  -34.6618237,-58.5088387  -34.6618237   \n",
       "2  capital federal  Mataderos  -34.6522615,-58.5229825  -34.6522615   \n",
       "3  capital federal    Liniers  -34.6477969,-58.5164244  -34.6477969   \n",
       "7  capital federal   Belgrano   -34.5598729,-58.443362  -34.5598729   \n",
       "8  capital federal   Belgrano   -34.5598729,-58.443362  -34.5598729   \n",
       "\n",
       "           lon                     geometry  min_subte  \n",
       "0  -58.5088387  POINT (-58.50884 -34.66182)          0  \n",
       "2  -58.5229825  POINT (-58.52298 -34.65226)          0  \n",
       "3  -58.5164244  POINT (-58.51642 -34.64780)          0  \n",
       "7   -58.443362  POINT (-58.44336 -34.55987)          0  \n",
       "8   -58.443362  POINT (-58.44336 -34.55987)          0  "
      ]
     },
     "execution_count": 115,
     "metadata": {},
     "output_type": "execute_result"
    }
   ],
   "source": [
    "geo_df['min_subte'] = 0\n",
    "geo_df.head()"
   ]
  },
  {
   "cell_type": "markdown",
   "id": "49692cca",
   "metadata": {},
   "source": [
    "Con un for generamos una lista de distancias de cada punto a cada subte y despues sacamos el valor mínimo:\n"
   ]
  },
  {
   "cell_type": "code",
   "execution_count": 116,
   "id": "62b8f113",
   "metadata": {},
   "outputs": [
    {
     "data": {
      "text/html": [
       "<div>\n",
       "<style scoped>\n",
       "    .dataframe tbody tr th:only-of-type {\n",
       "        vertical-align: middle;\n",
       "    }\n",
       "\n",
       "    .dataframe tbody tr th {\n",
       "        vertical-align: top;\n",
       "    }\n",
       "\n",
       "    .dataframe thead th {\n",
       "        text-align: right;\n",
       "    }\n",
       "</style>\n",
       "<table border=\"1\" class=\"dataframe\">\n",
       "  <thead>\n",
       "    <tr style=\"text-align: right;\">\n",
       "      <th></th>\n",
       "      <th>state_name</th>\n",
       "      <th>place_name</th>\n",
       "      <th>lat-lon</th>\n",
       "      <th>lat</th>\n",
       "      <th>lon</th>\n",
       "      <th>geometry</th>\n",
       "      <th>min_subte</th>\n",
       "    </tr>\n",
       "  </thead>\n",
       "  <tbody>\n",
       "    <tr>\n",
       "      <th>0</th>\n",
       "      <td>capital federal</td>\n",
       "      <td>Mataderos</td>\n",
       "      <td>-34.6618237,-58.5088387</td>\n",
       "      <td>-34.6618237</td>\n",
       "      <td>-58.5088387</td>\n",
       "      <td>POINT (-58.50884 -34.66182)</td>\n",
       "      <td>4728.393676</td>\n",
       "    </tr>\n",
       "    <tr>\n",
       "      <th>2</th>\n",
       "      <td>capital federal</td>\n",
       "      <td>Mataderos</td>\n",
       "      <td>-34.6522615,-58.5229825</td>\n",
       "      <td>-34.6522615</td>\n",
       "      <td>-58.5229825</td>\n",
       "      <td>POINT (-58.52298 -34.65226)</td>\n",
       "      <td>6073.153602</td>\n",
       "    </tr>\n",
       "    <tr>\n",
       "      <th>3</th>\n",
       "      <td>capital federal</td>\n",
       "      <td>Liniers</td>\n",
       "      <td>-34.6477969,-58.5164244</td>\n",
       "      <td>-34.6477969</td>\n",
       "      <td>-58.5164244</td>\n",
       "      <td>POINT (-58.51642 -34.64780)</td>\n",
       "      <td>5305.630900</td>\n",
       "    </tr>\n",
       "    <tr>\n",
       "      <th>7</th>\n",
       "      <td>capital federal</td>\n",
       "      <td>Belgrano</td>\n",
       "      <td>-34.5598729,-58.443362</td>\n",
       "      <td>-34.5598729</td>\n",
       "      <td>-58.443362</td>\n",
       "      <td>POINT (-58.44336 -34.55987)</td>\n",
       "      <td>609.743234</td>\n",
       "    </tr>\n",
       "    <tr>\n",
       "      <th>8</th>\n",
       "      <td>capital federal</td>\n",
       "      <td>Belgrano</td>\n",
       "      <td>-34.5598729,-58.443362</td>\n",
       "      <td>-34.5598729</td>\n",
       "      <td>-58.443362</td>\n",
       "      <td>POINT (-58.44336 -34.55987)</td>\n",
       "      <td>609.743234</td>\n",
       "    </tr>\n",
       "  </tbody>\n",
       "</table>\n",
       "</div>"
      ],
      "text/plain": [
       "        state_name place_name                  lat-lon          lat  \\\n",
       "0  capital federal  Mataderos  -34.6618237,-58.5088387  -34.6618237   \n",
       "2  capital federal  Mataderos  -34.6522615,-58.5229825  -34.6522615   \n",
       "3  capital federal    Liniers  -34.6477969,-58.5164244  -34.6477969   \n",
       "7  capital federal   Belgrano   -34.5598729,-58.443362  -34.5598729   \n",
       "8  capital federal   Belgrano   -34.5598729,-58.443362  -34.5598729   \n",
       "\n",
       "           lon                     geometry    min_subte  \n",
       "0  -58.5088387  POINT (-58.50884 -34.66182)  4728.393676  \n",
       "2  -58.5229825  POINT (-58.52298 -34.65226)  6073.153602  \n",
       "3  -58.5164244  POINT (-58.51642 -34.64780)  5305.630900  \n",
       "7   -58.443362  POINT (-58.44336 -34.55987)   609.743234  \n",
       "8   -58.443362  POINT (-58.44336 -34.55987)   609.743234  "
      ]
     },
     "execution_count": 116,
     "metadata": {},
     "output_type": "execute_result"
    }
   ],
   "source": [
    "import geopy\n",
    "for i in geo_df.index:\n",
    "    distancias = []\n",
    "    for j in geo_subte.index:\n",
    "        punto_1 = (geo_subte.lon[j], geo_subte.lat[j])\n",
    "        punto_2 = (geo_df.lon[i], geo_df.lat[i])\n",
    "        dist = geopy.distance.geodesic(punto_1,punto_2)\n",
    "        distancias.append(dist.meters)\n",
    "    geo_df.loc[i,'min_subte'] = np.min(distancias)\n",
    "      \n",
    "geo_df.head()"
   ]
  },
  {
   "cell_type": "markdown",
   "id": "97660e06",
   "metadata": {},
   "source": [
    "Con un for generamos una lista de las diferentes lineas con una distancia menor a 500mts:"
   ]
  },
  {
   "cell_type": "code",
   "execution_count": 117,
   "id": "59fecdc7",
   "metadata": {},
   "outputs": [],
   "source": [
    "geo_df['subtes_menor_500m'] = 0\n",
    "for i in geo_df.index:\n",
    "    lineas = []\n",
    "    for j in geo_subte.index:\n",
    "        punto_1 = (geo_subte.lon[j], geo_subte.lat[j])\n",
    "        punto_2 = (geo_df.lon[i], geo_df.lat[i])\n",
    "        dist = geopy.distance.geodesic(punto_1,punto_2)\n",
    "        \n",
    "        if dist.meters < 500:\n",
    "            lineas.append(geo_subte.linea[j])\n",
    "            # index.append(j)\n",
    "        else:\n",
    "            pass\n",
    "    \n",
    "    geo_df.loc[i,'subtes_menor_500m'] = len(set(lineas))"
   ]
  },
  {
   "cell_type": "code",
   "execution_count": 118,
   "id": "0d9a7890",
   "metadata": {},
   "outputs": [
    {
     "data": {
      "text/html": [
       "<div>\n",
       "<style scoped>\n",
       "    .dataframe tbody tr th:only-of-type {\n",
       "        vertical-align: middle;\n",
       "    }\n",
       "\n",
       "    .dataframe tbody tr th {\n",
       "        vertical-align: top;\n",
       "    }\n",
       "\n",
       "    .dataframe thead th {\n",
       "        text-align: right;\n",
       "    }\n",
       "</style>\n",
       "<table border=\"1\" class=\"dataframe\">\n",
       "  <thead>\n",
       "    <tr style=\"text-align: right;\">\n",
       "      <th></th>\n",
       "      <th>state_name</th>\n",
       "      <th>place_name</th>\n",
       "      <th>lat-lon</th>\n",
       "      <th>lat</th>\n",
       "      <th>lon</th>\n",
       "      <th>geometry</th>\n",
       "      <th>min_subte</th>\n",
       "      <th>subtes_menor_500m</th>\n",
       "    </tr>\n",
       "  </thead>\n",
       "  <tbody>\n",
       "    <tr>\n",
       "      <th>0</th>\n",
       "      <td>capital federal</td>\n",
       "      <td>Mataderos</td>\n",
       "      <td>-34.6618237,-58.5088387</td>\n",
       "      <td>-34.6618237</td>\n",
       "      <td>-58.5088387</td>\n",
       "      <td>POINT (-58.50884 -34.66182)</td>\n",
       "      <td>4728.393676</td>\n",
       "      <td>0</td>\n",
       "    </tr>\n",
       "    <tr>\n",
       "      <th>2</th>\n",
       "      <td>capital federal</td>\n",
       "      <td>Mataderos</td>\n",
       "      <td>-34.6522615,-58.5229825</td>\n",
       "      <td>-34.6522615</td>\n",
       "      <td>-58.5229825</td>\n",
       "      <td>POINT (-58.52298 -34.65226)</td>\n",
       "      <td>6073.153602</td>\n",
       "      <td>0</td>\n",
       "    </tr>\n",
       "    <tr>\n",
       "      <th>3</th>\n",
       "      <td>capital federal</td>\n",
       "      <td>Liniers</td>\n",
       "      <td>-34.6477969,-58.5164244</td>\n",
       "      <td>-34.6477969</td>\n",
       "      <td>-58.5164244</td>\n",
       "      <td>POINT (-58.51642 -34.64780)</td>\n",
       "      <td>5305.630900</td>\n",
       "      <td>0</td>\n",
       "    </tr>\n",
       "    <tr>\n",
       "      <th>7</th>\n",
       "      <td>capital federal</td>\n",
       "      <td>Belgrano</td>\n",
       "      <td>-34.5598729,-58.443362</td>\n",
       "      <td>-34.5598729</td>\n",
       "      <td>-58.443362</td>\n",
       "      <td>POINT (-58.44336 -34.55987)</td>\n",
       "      <td>609.743234</td>\n",
       "      <td>0</td>\n",
       "    </tr>\n",
       "    <tr>\n",
       "      <th>8</th>\n",
       "      <td>capital federal</td>\n",
       "      <td>Belgrano</td>\n",
       "      <td>-34.5598729,-58.443362</td>\n",
       "      <td>-34.5598729</td>\n",
       "      <td>-58.443362</td>\n",
       "      <td>POINT (-58.44336 -34.55987)</td>\n",
       "      <td>609.743234</td>\n",
       "      <td>0</td>\n",
       "    </tr>\n",
       "  </tbody>\n",
       "</table>\n",
       "</div>"
      ],
      "text/plain": [
       "        state_name place_name                  lat-lon          lat  \\\n",
       "0  capital federal  Mataderos  -34.6618237,-58.5088387  -34.6618237   \n",
       "2  capital federal  Mataderos  -34.6522615,-58.5229825  -34.6522615   \n",
       "3  capital federal    Liniers  -34.6477969,-58.5164244  -34.6477969   \n",
       "7  capital federal   Belgrano   -34.5598729,-58.443362  -34.5598729   \n",
       "8  capital federal   Belgrano   -34.5598729,-58.443362  -34.5598729   \n",
       "\n",
       "           lon                     geometry    min_subte  subtes_menor_500m  \n",
       "0  -58.5088387  POINT (-58.50884 -34.66182)  4728.393676                  0  \n",
       "2  -58.5229825  POINT (-58.52298 -34.65226)  6073.153602                  0  \n",
       "3  -58.5164244  POINT (-58.51642 -34.64780)  5305.630900                  0  \n",
       "7   -58.443362  POINT (-58.44336 -34.55987)   609.743234                  0  \n",
       "8   -58.443362  POINT (-58.44336 -34.55987)   609.743234                  0  "
      ]
     },
     "execution_count": 118,
     "metadata": {},
     "output_type": "execute_result"
    }
   ],
   "source": [
    "geo_df.head()"
   ]
  },
  {
   "cell_type": "code",
   "execution_count": 119,
   "id": "36e7f5fe",
   "metadata": {},
   "outputs": [
    {
     "data": {
      "text/plain": [
       "count    21756.000000\n",
       "mean         0.850248\n",
       "std          0.946127\n",
       "min          0.000000\n",
       "25%          0.000000\n",
       "50%          1.000000\n",
       "75%          1.000000\n",
       "max          5.000000\n",
       "Name: subtes_menor_500m, dtype: float64"
      ]
     },
     "execution_count": 119,
     "metadata": {},
     "output_type": "execute_result"
    }
   ],
   "source": [
    "geo_df.subtes_menor_500m.describe()"
   ]
  },
  {
   "cell_type": "code",
   "execution_count": 120,
   "id": "8f51b7c6",
   "metadata": {},
   "outputs": [
    {
     "data": {
      "text/plain": [
       "(21756, 8)"
      ]
     },
     "execution_count": 120,
     "metadata": {},
     "output_type": "execute_result"
    }
   ],
   "source": [
    "geo_df.shape"
   ]
  },
  {
   "cell_type": "markdown",
   "id": "b658e1b2",
   "metadata": {},
   "source": [
    "Creamos las nuevas columnas en el dataset original:\n"
   ]
  },
  {
   "cell_type": "code",
   "execution_count": 121,
   "id": "f6515b57",
   "metadata": {},
   "outputs": [],
   "source": [
    "df['min_subte']= np.nan\n",
    "df['subtes_menor_500m']= np.nan"
   ]
  },
  {
   "cell_type": "code",
   "execution_count": 122,
   "id": "52fe80d9",
   "metadata": {},
   "outputs": [
    {
     "data": {
      "text/plain": [
       "(21756,)"
      ]
     },
     "execution_count": 122,
     "metadata": {},
     "output_type": "execute_result"
    }
   ],
   "source": [
    "df.loc[df['lat-lon'].notna(),'min_subte'].shape"
   ]
  },
  {
   "cell_type": "markdown",
   "id": "b2dc43ef",
   "metadata": {},
   "source": [
    "Asignamos los valores:"
   ]
  },
  {
   "cell_type": "code",
   "execution_count": 123,
   "id": "bd8a888c",
   "metadata": {},
   "outputs": [
    {
     "data": {
      "text/html": [
       "<div>\n",
       "<style scoped>\n",
       "    .dataframe tbody tr th:only-of-type {\n",
       "        vertical-align: middle;\n",
       "    }\n",
       "\n",
       "    .dataframe tbody tr th {\n",
       "        vertical-align: top;\n",
       "    }\n",
       "\n",
       "    .dataframe thead th {\n",
       "        text-align: right;\n",
       "    }\n",
       "</style>\n",
       "<table border=\"1\" class=\"dataframe\">\n",
       "  <thead>\n",
       "    <tr style=\"text-align: right;\">\n",
       "      <th></th>\n",
       "      <th>property_type</th>\n",
       "      <th>place_name</th>\n",
       "      <th>state_name</th>\n",
       "      <th>geonames_id</th>\n",
       "      <th>lat-lon</th>\n",
       "      <th>price_aprox_usd</th>\n",
       "      <th>surface_total_in_m2</th>\n",
       "      <th>surface_covered_in_m2</th>\n",
       "      <th>rooms</th>\n",
       "      <th>garage</th>\n",
       "      <th>lavadero</th>\n",
       "      <th>balcon</th>\n",
       "      <th>parrilla</th>\n",
       "      <th>piscina</th>\n",
       "      <th>terraza</th>\n",
       "      <th>patio</th>\n",
       "      <th>jardin</th>\n",
       "      <th>sum</th>\n",
       "      <th>quincho</th>\n",
       "      <th>estrenar</th>\n",
       "      <th>min_subte</th>\n",
       "      <th>subtes_menor_500m</th>\n",
       "    </tr>\n",
       "  </thead>\n",
       "  <tbody>\n",
       "    <tr>\n",
       "      <th>0</th>\n",
       "      <td>PH</td>\n",
       "      <td>Mataderos</td>\n",
       "      <td>capital federal</td>\n",
       "      <td>3430787.0</td>\n",
       "      <td>-34.6618237,-58.5088387</td>\n",
       "      <td>62000.0</td>\n",
       "      <td>55.000000</td>\n",
       "      <td>40.000000</td>\n",
       "      <td>2.000000</td>\n",
       "      <td>0</td>\n",
       "      <td>1</td>\n",
       "      <td>0</td>\n",
       "      <td>0</td>\n",
       "      <td>0</td>\n",
       "      <td>0</td>\n",
       "      <td>1</td>\n",
       "      <td>0</td>\n",
       "      <td>0</td>\n",
       "      <td>0</td>\n",
       "      <td>0</td>\n",
       "      <td>4728.393676</td>\n",
       "      <td>0.0</td>\n",
       "    </tr>\n",
       "    <tr>\n",
       "      <th>2</th>\n",
       "      <td>apartment</td>\n",
       "      <td>Mataderos</td>\n",
       "      <td>capital federal</td>\n",
       "      <td>3430787.0</td>\n",
       "      <td>-34.6522615,-58.5229825</td>\n",
       "      <td>72000.0</td>\n",
       "      <td>55.000000</td>\n",
       "      <td>55.000000</td>\n",
       "      <td>2.000000</td>\n",
       "      <td>0</td>\n",
       "      <td>1</td>\n",
       "      <td>0</td>\n",
       "      <td>0</td>\n",
       "      <td>0</td>\n",
       "      <td>0</td>\n",
       "      <td>0</td>\n",
       "      <td>0</td>\n",
       "      <td>0</td>\n",
       "      <td>0</td>\n",
       "      <td>0</td>\n",
       "      <td>6073.153602</td>\n",
       "      <td>0.0</td>\n",
       "    </tr>\n",
       "    <tr>\n",
       "      <th>3</th>\n",
       "      <td>PH</td>\n",
       "      <td>Liniers</td>\n",
       "      <td>capital federal</td>\n",
       "      <td>3431333.0</td>\n",
       "      <td>-34.6477969,-58.5164244</td>\n",
       "      <td>95000.0</td>\n",
       "      <td>120.857451</td>\n",
       "      <td>91.601224</td>\n",
       "      <td>3.000000</td>\n",
       "      <td>0</td>\n",
       "      <td>0</td>\n",
       "      <td>0</td>\n",
       "      <td>0</td>\n",
       "      <td>0</td>\n",
       "      <td>0</td>\n",
       "      <td>1</td>\n",
       "      <td>0</td>\n",
       "      <td>0</td>\n",
       "      <td>0</td>\n",
       "      <td>0</td>\n",
       "      <td>5305.630900</td>\n",
       "      <td>0.0</td>\n",
       "    </tr>\n",
       "    <tr>\n",
       "      <th>7</th>\n",
       "      <td>apartment</td>\n",
       "      <td>Belgrano</td>\n",
       "      <td>capital federal</td>\n",
       "      <td>3436077.0</td>\n",
       "      <td>-34.5598729,-58.443362</td>\n",
       "      <td>138000.0</td>\n",
       "      <td>45.000000</td>\n",
       "      <td>40.000000</td>\n",
       "      <td>2.852152</td>\n",
       "      <td>0</td>\n",
       "      <td>1</td>\n",
       "      <td>0</td>\n",
       "      <td>0</td>\n",
       "      <td>1</td>\n",
       "      <td>0</td>\n",
       "      <td>0</td>\n",
       "      <td>0</td>\n",
       "      <td>0</td>\n",
       "      <td>0</td>\n",
       "      <td>1</td>\n",
       "      <td>609.743234</td>\n",
       "      <td>0.0</td>\n",
       "    </tr>\n",
       "    <tr>\n",
       "      <th>8</th>\n",
       "      <td>apartment</td>\n",
       "      <td>Belgrano</td>\n",
       "      <td>capital federal</td>\n",
       "      <td>3436077.0</td>\n",
       "      <td>-34.5598729,-58.443362</td>\n",
       "      <td>195000.0</td>\n",
       "      <td>65.000000</td>\n",
       "      <td>60.000000</td>\n",
       "      <td>2.852152</td>\n",
       "      <td>0</td>\n",
       "      <td>1</td>\n",
       "      <td>0</td>\n",
       "      <td>0</td>\n",
       "      <td>1</td>\n",
       "      <td>0</td>\n",
       "      <td>0</td>\n",
       "      <td>0</td>\n",
       "      <td>0</td>\n",
       "      <td>0</td>\n",
       "      <td>1</td>\n",
       "      <td>609.743234</td>\n",
       "      <td>0.0</td>\n",
       "    </tr>\n",
       "  </tbody>\n",
       "</table>\n",
       "</div>"
      ],
      "text/plain": [
       "  property_type place_name       state_name  geonames_id  \\\n",
       "0            PH  Mataderos  capital federal    3430787.0   \n",
       "2     apartment  Mataderos  capital federal    3430787.0   \n",
       "3            PH    Liniers  capital federal    3431333.0   \n",
       "7     apartment   Belgrano  capital federal    3436077.0   \n",
       "8     apartment   Belgrano  capital federal    3436077.0   \n",
       "\n",
       "                   lat-lon  price_aprox_usd  surface_total_in_m2  \\\n",
       "0  -34.6618237,-58.5088387          62000.0            55.000000   \n",
       "2  -34.6522615,-58.5229825          72000.0            55.000000   \n",
       "3  -34.6477969,-58.5164244          95000.0           120.857451   \n",
       "7   -34.5598729,-58.443362         138000.0            45.000000   \n",
       "8   -34.5598729,-58.443362         195000.0            65.000000   \n",
       "\n",
       "   surface_covered_in_m2     rooms  garage  lavadero  balcon  parrilla  \\\n",
       "0              40.000000  2.000000       0         1       0         0   \n",
       "2              55.000000  2.000000       0         1       0         0   \n",
       "3              91.601224  3.000000       0         0       0         0   \n",
       "7              40.000000  2.852152       0         1       0         0   \n",
       "8              60.000000  2.852152       0         1       0         0   \n",
       "\n",
       "   piscina  terraza  patio  jardin  sum  quincho  estrenar    min_subte  \\\n",
       "0        0        0      1       0    0        0         0  4728.393676   \n",
       "2        0        0      0       0    0        0         0  6073.153602   \n",
       "3        0        0      1       0    0        0         0  5305.630900   \n",
       "7        1        0      0       0    0        0         1   609.743234   \n",
       "8        1        0      0       0    0        0         1   609.743234   \n",
       "\n",
       "   subtes_menor_500m  \n",
       "0                0.0  \n",
       "2                0.0  \n",
       "3                0.0  \n",
       "7                0.0  \n",
       "8                0.0  "
      ]
     },
     "execution_count": 123,
     "metadata": {},
     "output_type": "execute_result"
    }
   ],
   "source": [
    "df.loc[df['lat-lon'].notna(),'min_subte'] = geo_df.loc[:,'min_subte']\n",
    "df.loc[df['lat-lon'].notna(),'subtes_menor_500m'] = geo_df.loc[:,'subtes_menor_500m']\n",
    "df.head()"
   ]
  },
  {
   "cell_type": "code",
   "execution_count": 124,
   "id": "fb45dc37",
   "metadata": {},
   "outputs": [
    {
     "data": {
      "text/plain": [
       "property_type            0.000000\n",
       "place_name               0.000000\n",
       "state_name               0.000000\n",
       "geonames_id              0.039121\n",
       "lat-lon                  0.233917\n",
       "price_aprox_usd          0.000000\n",
       "surface_total_in_m2      0.000000\n",
       "surface_covered_in_m2    0.000000\n",
       "rooms                    0.000000\n",
       "garage                   0.000000\n",
       "lavadero                 0.000000\n",
       "balcon                   0.000000\n",
       "parrilla                 0.000000\n",
       "piscina                  0.000000\n",
       "terraza                  0.000000\n",
       "patio                    0.000000\n",
       "jardin                   0.000000\n",
       "sum                      0.000000\n",
       "quincho                  0.000000\n",
       "estrenar                 0.000000\n",
       "min_subte                0.233917\n",
       "subtes_menor_500m        0.233917\n",
       "dtype: float64"
      ]
     },
     "execution_count": 124,
     "metadata": {},
     "output_type": "execute_result"
    }
   ],
   "source": [
    "df.isna().sum() / df.shape[0]"
   ]
  },
  {
   "cell_type": "markdown",
   "id": "cc48c6b7",
   "metadata": {},
   "source": [
    "En el dataframe tenemos un total de 807 place_name diferentes:"
   ]
  },
  {
   "cell_type": "code",
   "execution_count": 125,
   "id": "c5ade1bf",
   "metadata": {},
   "outputs": [
    {
     "data": {
      "text/plain": [
       "62"
      ]
     },
     "execution_count": 125,
     "metadata": {},
     "output_type": "execute_result"
    }
   ],
   "source": [
    "len(df.place_name.value_counts())"
   ]
  },
  {
   "cell_type": "markdown",
   "id": "b6053dd2",
   "metadata": {},
   "source": [
    "Generamos un dataframe con los valores de place name y la media de min_subte y la media de subtes menor a 500m:\n"
   ]
  },
  {
   "cell_type": "code",
   "execution_count": 126,
   "id": "971b6fc7",
   "metadata": {},
   "outputs": [
    {
     "data": {
      "text/html": [
       "<div>\n",
       "<style scoped>\n",
       "    .dataframe tbody tr th:only-of-type {\n",
       "        vertical-align: middle;\n",
       "    }\n",
       "\n",
       "    .dataframe tbody tr th {\n",
       "        vertical-align: top;\n",
       "    }\n",
       "\n",
       "    .dataframe thead th {\n",
       "        text-align: right;\n",
       "    }\n",
       "</style>\n",
       "<table border=\"1\" class=\"dataframe\">\n",
       "  <thead>\n",
       "    <tr style=\"text-align: right;\">\n",
       "      <th></th>\n",
       "      <th>place_name</th>\n",
       "      <th>min_subte</th>\n",
       "      <th>subtes_menor_500m</th>\n",
       "    </tr>\n",
       "  </thead>\n",
       "  <tbody>\n",
       "    <tr>\n",
       "      <th>0</th>\n",
       "      <td>Abasto</td>\n",
       "      <td>197.404155</td>\n",
       "      <td>1.887324</td>\n",
       "    </tr>\n",
       "    <tr>\n",
       "      <th>1</th>\n",
       "      <td>Agronomía</td>\n",
       "      <td>1080.185297</td>\n",
       "      <td>0.135135</td>\n",
       "    </tr>\n",
       "    <tr>\n",
       "      <th>2</th>\n",
       "      <td>Almagro</td>\n",
       "      <td>325.743882</td>\n",
       "      <td>1.194196</td>\n",
       "    </tr>\n",
       "    <tr>\n",
       "      <th>3</th>\n",
       "      <td>Balvanera</td>\n",
       "      <td>212.981997</td>\n",
       "      <td>2.408451</td>\n",
       "    </tr>\n",
       "    <tr>\n",
       "      <th>4</th>\n",
       "      <td>Barracas</td>\n",
       "      <td>1132.234700</td>\n",
       "      <td>0.033898</td>\n",
       "    </tr>\n",
       "    <tr>\n",
       "      <th>...</th>\n",
       "      <td>...</td>\n",
       "      <td>...</td>\n",
       "      <td>...</td>\n",
       "    </tr>\n",
       "    <tr>\n",
       "      <th>57</th>\n",
       "      <td>Villa Riachuelo</td>\n",
       "      <td>3092.717357</td>\n",
       "      <td>0.000000</td>\n",
       "    </tr>\n",
       "    <tr>\n",
       "      <th>58</th>\n",
       "      <td>Villa Santa Rita</td>\n",
       "      <td>1646.758899</td>\n",
       "      <td>0.090909</td>\n",
       "    </tr>\n",
       "    <tr>\n",
       "      <th>59</th>\n",
       "      <td>Villa Soldati</td>\n",
       "      <td>1750.426136</td>\n",
       "      <td>0.000000</td>\n",
       "    </tr>\n",
       "    <tr>\n",
       "      <th>60</th>\n",
       "      <td>Villa Urquiza</td>\n",
       "      <td>540.947078</td>\n",
       "      <td>0.673550</td>\n",
       "    </tr>\n",
       "    <tr>\n",
       "      <th>61</th>\n",
       "      <td>Villa del Parque</td>\n",
       "      <td>1813.127271</td>\n",
       "      <td>0.009585</td>\n",
       "    </tr>\n",
       "  </tbody>\n",
       "</table>\n",
       "<p>62 rows × 3 columns</p>\n",
       "</div>"
      ],
      "text/plain": [
       "          place_name    min_subte  subtes_menor_500m\n",
       "0             Abasto   197.404155           1.887324\n",
       "1          Agronomía  1080.185297           0.135135\n",
       "2            Almagro   325.743882           1.194196\n",
       "3          Balvanera   212.981997           2.408451\n",
       "4           Barracas  1132.234700           0.033898\n",
       "..               ...          ...                ...\n",
       "57   Villa Riachuelo  3092.717357           0.000000\n",
       "58  Villa Santa Rita  1646.758899           0.090909\n",
       "59     Villa Soldati  1750.426136           0.000000\n",
       "60     Villa Urquiza   540.947078           0.673550\n",
       "61  Villa del Parque  1813.127271           0.009585\n",
       "\n",
       "[62 rows x 3 columns]"
      ]
     },
     "execution_count": 126,
     "metadata": {},
     "output_type": "execute_result"
    }
   ],
   "source": [
    "dist_mean_min_subte = pd.DataFrame(geo_df.groupby(by = ['place_name'])['min_subte'].mean().reset_index()).merge(pd.DataFrame(geo_df.groupby(by = ['place_name'])['subtes_menor_500m'].mean().reset_index()),how = 'left', on = 'place_name')\n",
    "dist_mean_min_subte"
   ]
  },
  {
   "cell_type": "markdown",
   "id": "c2fc63da",
   "metadata": {},
   "source": [
    "Generamos el dataset con los valores que son nulos en 'min_subte':"
   ]
  },
  {
   "cell_type": "code",
   "execution_count": 127,
   "id": "0c453da1",
   "metadata": {},
   "outputs": [
    {
     "data": {
      "text/html": [
       "<div>\n",
       "<style scoped>\n",
       "    .dataframe tbody tr th:only-of-type {\n",
       "        vertical-align: middle;\n",
       "    }\n",
       "\n",
       "    .dataframe tbody tr th {\n",
       "        vertical-align: top;\n",
       "    }\n",
       "\n",
       "    .dataframe thead th {\n",
       "        text-align: right;\n",
       "    }\n",
       "</style>\n",
       "<table border=\"1\" class=\"dataframe\">\n",
       "  <thead>\n",
       "    <tr style=\"text-align: right;\">\n",
       "      <th></th>\n",
       "      <th>property_type</th>\n",
       "      <th>place_name</th>\n",
       "      <th>state_name</th>\n",
       "      <th>geonames_id</th>\n",
       "      <th>lat-lon</th>\n",
       "      <th>price_aprox_usd</th>\n",
       "      <th>surface_total_in_m2</th>\n",
       "      <th>surface_covered_in_m2</th>\n",
       "      <th>rooms</th>\n",
       "      <th>garage</th>\n",
       "      <th>lavadero</th>\n",
       "      <th>balcon</th>\n",
       "      <th>parrilla</th>\n",
       "      <th>piscina</th>\n",
       "      <th>terraza</th>\n",
       "      <th>patio</th>\n",
       "      <th>jardin</th>\n",
       "      <th>sum</th>\n",
       "      <th>quincho</th>\n",
       "      <th>estrenar</th>\n",
       "      <th>min_subte</th>\n",
       "      <th>subtes_menor_500m</th>\n",
       "    </tr>\n",
       "  </thead>\n",
       "  <tbody>\n",
       "    <tr>\n",
       "      <th>13</th>\n",
       "      <td>apartment</td>\n",
       "      <td>Palermo Soho</td>\n",
       "      <td>capital federal</td>\n",
       "      <td>3430234.0</td>\n",
       "      <td>NaN</td>\n",
       "      <td>111700.0</td>\n",
       "      <td>50.0</td>\n",
       "      <td>30.0</td>\n",
       "      <td>1.0</td>\n",
       "      <td>0</td>\n",
       "      <td>0</td>\n",
       "      <td>0</td>\n",
       "      <td>0</td>\n",
       "      <td>1</td>\n",
       "      <td>1</td>\n",
       "      <td>0</td>\n",
       "      <td>0</td>\n",
       "      <td>0</td>\n",
       "      <td>0</td>\n",
       "      <td>0</td>\n",
       "      <td>NaN</td>\n",
       "      <td>NaN</td>\n",
       "    </tr>\n",
       "    <tr>\n",
       "      <th>14</th>\n",
       "      <td>apartment</td>\n",
       "      <td>Palermo Soho</td>\n",
       "      <td>capital federal</td>\n",
       "      <td>3430234.0</td>\n",
       "      <td>NaN</td>\n",
       "      <td>147900.0</td>\n",
       "      <td>42.0</td>\n",
       "      <td>31.0</td>\n",
       "      <td>1.0</td>\n",
       "      <td>0</td>\n",
       "      <td>0</td>\n",
       "      <td>0</td>\n",
       "      <td>0</td>\n",
       "      <td>1</td>\n",
       "      <td>0</td>\n",
       "      <td>0</td>\n",
       "      <td>0</td>\n",
       "      <td>0</td>\n",
       "      <td>0</td>\n",
       "      <td>0</td>\n",
       "      <td>NaN</td>\n",
       "      <td>NaN</td>\n",
       "    </tr>\n",
       "    <tr>\n",
       "      <th>98</th>\n",
       "      <td>apartment</td>\n",
       "      <td>Almagro</td>\n",
       "      <td>capital federal</td>\n",
       "      <td>3436397.0</td>\n",
       "      <td>NaN</td>\n",
       "      <td>109900.0</td>\n",
       "      <td>50.0</td>\n",
       "      <td>40.0</td>\n",
       "      <td>2.0</td>\n",
       "      <td>1</td>\n",
       "      <td>0</td>\n",
       "      <td>0</td>\n",
       "      <td>1</td>\n",
       "      <td>1</td>\n",
       "      <td>0</td>\n",
       "      <td>0</td>\n",
       "      <td>0</td>\n",
       "      <td>0</td>\n",
       "      <td>0</td>\n",
       "      <td>1</td>\n",
       "      <td>NaN</td>\n",
       "      <td>NaN</td>\n",
       "    </tr>\n",
       "    <tr>\n",
       "      <th>108</th>\n",
       "      <td>house</td>\n",
       "      <td>Capital Federal</td>\n",
       "      <td>capital federal</td>\n",
       "      <td>3433955.0</td>\n",
       "      <td>NaN</td>\n",
       "      <td>170000.0</td>\n",
       "      <td>180.0</td>\n",
       "      <td>165.0</td>\n",
       "      <td>2.0</td>\n",
       "      <td>1</td>\n",
       "      <td>1</td>\n",
       "      <td>0</td>\n",
       "      <td>1</td>\n",
       "      <td>0</td>\n",
       "      <td>0</td>\n",
       "      <td>1</td>\n",
       "      <td>0</td>\n",
       "      <td>0</td>\n",
       "      <td>0</td>\n",
       "      <td>0</td>\n",
       "      <td>NaN</td>\n",
       "      <td>NaN</td>\n",
       "    </tr>\n",
       "    <tr>\n",
       "      <th>110</th>\n",
       "      <td>house</td>\n",
       "      <td>Capital Federal</td>\n",
       "      <td>capital federal</td>\n",
       "      <td>3433955.0</td>\n",
       "      <td>NaN</td>\n",
       "      <td>490000.0</td>\n",
       "      <td>744.0</td>\n",
       "      <td>350.0</td>\n",
       "      <td>3.0</td>\n",
       "      <td>1</td>\n",
       "      <td>0</td>\n",
       "      <td>0</td>\n",
       "      <td>1</td>\n",
       "      <td>1</td>\n",
       "      <td>0</td>\n",
       "      <td>0</td>\n",
       "      <td>1</td>\n",
       "      <td>0</td>\n",
       "      <td>1</td>\n",
       "      <td>0</td>\n",
       "      <td>NaN</td>\n",
       "      <td>NaN</td>\n",
       "    </tr>\n",
       "  </tbody>\n",
       "</table>\n",
       "</div>"
      ],
      "text/plain": [
       "    property_type       place_name       state_name  geonames_id lat-lon  \\\n",
       "13      apartment     Palermo Soho  capital federal    3430234.0     NaN   \n",
       "14      apartment     Palermo Soho  capital federal    3430234.0     NaN   \n",
       "98      apartment          Almagro  capital federal    3436397.0     NaN   \n",
       "108         house  Capital Federal  capital federal    3433955.0     NaN   \n",
       "110         house  Capital Federal  capital federal    3433955.0     NaN   \n",
       "\n",
       "     price_aprox_usd  surface_total_in_m2  surface_covered_in_m2  rooms  \\\n",
       "13          111700.0                 50.0                   30.0    1.0   \n",
       "14          147900.0                 42.0                   31.0    1.0   \n",
       "98          109900.0                 50.0                   40.0    2.0   \n",
       "108         170000.0                180.0                  165.0    2.0   \n",
       "110         490000.0                744.0                  350.0    3.0   \n",
       "\n",
       "     garage  lavadero  balcon  parrilla  piscina  terraza  patio  jardin  sum  \\\n",
       "13        0         0       0         0        1        1      0       0    0   \n",
       "14        0         0       0         0        1        0      0       0    0   \n",
       "98        1         0       0         1        1        0      0       0    0   \n",
       "108       1         1       0         1        0        0      1       0    0   \n",
       "110       1         0       0         1        1        0      0       1    0   \n",
       "\n",
       "     quincho  estrenar  min_subte  subtes_menor_500m  \n",
       "13         0         0        NaN                NaN  \n",
       "14         0         0        NaN                NaN  \n",
       "98         0         1        NaN                NaN  \n",
       "108        0         0        NaN                NaN  \n",
       "110        1         0        NaN                NaN  "
      ]
     },
     "execution_count": 127,
     "metadata": {},
     "output_type": "execute_result"
    }
   ],
   "source": [
    "df_min_subtes_na = df.loc[df['min_subte'].isna(),:]\n",
    "df_min_subtes_na.head()\n"
   ]
  },
  {
   "cell_type": "code",
   "execution_count": 128,
   "id": "9b7c19cd",
   "metadata": {},
   "outputs": [
    {
     "data": {
      "text/html": [
       "<div>\n",
       "<style scoped>\n",
       "    .dataframe tbody tr th:only-of-type {\n",
       "        vertical-align: middle;\n",
       "    }\n",
       "\n",
       "    .dataframe tbody tr th {\n",
       "        vertical-align: top;\n",
       "    }\n",
       "\n",
       "    .dataframe thead th {\n",
       "        text-align: right;\n",
       "    }\n",
       "</style>\n",
       "<table border=\"1\" class=\"dataframe\">\n",
       "  <thead>\n",
       "    <tr style=\"text-align: right;\">\n",
       "      <th></th>\n",
       "      <th>place_name</th>\n",
       "      <th>min_subte</th>\n",
       "      <th>subtes_menor_500m</th>\n",
       "    </tr>\n",
       "  </thead>\n",
       "  <tbody>\n",
       "    <tr>\n",
       "      <th>0</th>\n",
       "      <td>Abasto</td>\n",
       "      <td>197.404155</td>\n",
       "      <td>1.887324</td>\n",
       "    </tr>\n",
       "    <tr>\n",
       "      <th>1</th>\n",
       "      <td>Agronomía</td>\n",
       "      <td>1080.185297</td>\n",
       "      <td>0.135135</td>\n",
       "    </tr>\n",
       "    <tr>\n",
       "      <th>2</th>\n",
       "      <td>Almagro</td>\n",
       "      <td>325.743882</td>\n",
       "      <td>1.194196</td>\n",
       "    </tr>\n",
       "    <tr>\n",
       "      <th>3</th>\n",
       "      <td>Balvanera</td>\n",
       "      <td>212.981997</td>\n",
       "      <td>2.408451</td>\n",
       "    </tr>\n",
       "    <tr>\n",
       "      <th>4</th>\n",
       "      <td>Barracas</td>\n",
       "      <td>1132.234700</td>\n",
       "      <td>0.033898</td>\n",
       "    </tr>\n",
       "  </tbody>\n",
       "</table>\n",
       "</div>"
      ],
      "text/plain": [
       "  place_name    min_subte  subtes_menor_500m\n",
       "0     Abasto   197.404155           1.887324\n",
       "1  Agronomía  1080.185297           0.135135\n",
       "2    Almagro   325.743882           1.194196\n",
       "3  Balvanera   212.981997           2.408451\n",
       "4   Barracas  1132.234700           0.033898"
      ]
     },
     "execution_count": 128,
     "metadata": {},
     "output_type": "execute_result"
    }
   ],
   "source": [
    "dist_mean_min_subte.head()"
   ]
  },
  {
   "cell_type": "markdown",
   "id": "eeaa342a",
   "metadata": {},
   "source": [
    "Imputamos con medias por place name para subtes:"
   ]
  },
  {
   "cell_type": "code",
   "execution_count": 129,
   "id": "e32d8e8c",
   "metadata": {},
   "outputs": [
    {
     "name": "stderr",
     "output_type": "stream",
     "text": [
      "c:\\Users\\Usuario\\anaconda3\\envs\\geopandassb\\lib\\site-packages\\pandas\\core\\indexing.py:1763: SettingWithCopyWarning: \n",
      "A value is trying to be set on a copy of a slice from a DataFrame.\n",
      "Try using .loc[row_indexer,col_indexer] = value instead\n",
      "\n",
      "See the caveats in the documentation: https://pandas.pydata.org/pandas-docs/stable/user_guide/indexing.html#returning-a-view-versus-a-copy\n",
      "  isetter(loc, value)\n"
     ]
    },
    {
     "data": {
      "text/html": [
       "<div>\n",
       "<style scoped>\n",
       "    .dataframe tbody tr th:only-of-type {\n",
       "        vertical-align: middle;\n",
       "    }\n",
       "\n",
       "    .dataframe tbody tr th {\n",
       "        vertical-align: top;\n",
       "    }\n",
       "\n",
       "    .dataframe thead th {\n",
       "        text-align: right;\n",
       "    }\n",
       "</style>\n",
       "<table border=\"1\" class=\"dataframe\">\n",
       "  <thead>\n",
       "    <tr style=\"text-align: right;\">\n",
       "      <th></th>\n",
       "      <th>property_type</th>\n",
       "      <th>place_name</th>\n",
       "      <th>state_name</th>\n",
       "      <th>geonames_id</th>\n",
       "      <th>lat-lon</th>\n",
       "      <th>price_aprox_usd</th>\n",
       "      <th>surface_total_in_m2</th>\n",
       "      <th>surface_covered_in_m2</th>\n",
       "      <th>rooms</th>\n",
       "      <th>garage</th>\n",
       "      <th>lavadero</th>\n",
       "      <th>balcon</th>\n",
       "      <th>parrilla</th>\n",
       "      <th>piscina</th>\n",
       "      <th>terraza</th>\n",
       "      <th>patio</th>\n",
       "      <th>jardin</th>\n",
       "      <th>sum</th>\n",
       "      <th>quincho</th>\n",
       "      <th>estrenar</th>\n",
       "      <th>min_subte</th>\n",
       "      <th>subtes_menor_500m</th>\n",
       "    </tr>\n",
       "  </thead>\n",
       "  <tbody>\n",
       "    <tr>\n",
       "      <th>13</th>\n",
       "      <td>apartment</td>\n",
       "      <td>Palermo Soho</td>\n",
       "      <td>capital federal</td>\n",
       "      <td>3430234.0</td>\n",
       "      <td>NaN</td>\n",
       "      <td>111700.0</td>\n",
       "      <td>50.0</td>\n",
       "      <td>30.0</td>\n",
       "      <td>1.0</td>\n",
       "      <td>0</td>\n",
       "      <td>0</td>\n",
       "      <td>0</td>\n",
       "      <td>0</td>\n",
       "      <td>1</td>\n",
       "      <td>1</td>\n",
       "      <td>0</td>\n",
       "      <td>0</td>\n",
       "      <td>0</td>\n",
       "      <td>0</td>\n",
       "      <td>0</td>\n",
       "      <td>503.922722</td>\n",
       "      <td>0.556291</td>\n",
       "    </tr>\n",
       "    <tr>\n",
       "      <th>14</th>\n",
       "      <td>apartment</td>\n",
       "      <td>Palermo Soho</td>\n",
       "      <td>capital federal</td>\n",
       "      <td>3430234.0</td>\n",
       "      <td>NaN</td>\n",
       "      <td>147900.0</td>\n",
       "      <td>42.0</td>\n",
       "      <td>31.0</td>\n",
       "      <td>1.0</td>\n",
       "      <td>0</td>\n",
       "      <td>0</td>\n",
       "      <td>0</td>\n",
       "      <td>0</td>\n",
       "      <td>1</td>\n",
       "      <td>0</td>\n",
       "      <td>0</td>\n",
       "      <td>0</td>\n",
       "      <td>0</td>\n",
       "      <td>0</td>\n",
       "      <td>0</td>\n",
       "      <td>503.922722</td>\n",
       "      <td>0.556291</td>\n",
       "    </tr>\n",
       "    <tr>\n",
       "      <th>98</th>\n",
       "      <td>apartment</td>\n",
       "      <td>Almagro</td>\n",
       "      <td>capital federal</td>\n",
       "      <td>3436397.0</td>\n",
       "      <td>NaN</td>\n",
       "      <td>109900.0</td>\n",
       "      <td>50.0</td>\n",
       "      <td>40.0</td>\n",
       "      <td>2.0</td>\n",
       "      <td>1</td>\n",
       "      <td>0</td>\n",
       "      <td>0</td>\n",
       "      <td>1</td>\n",
       "      <td>1</td>\n",
       "      <td>0</td>\n",
       "      <td>0</td>\n",
       "      <td>0</td>\n",
       "      <td>0</td>\n",
       "      <td>0</td>\n",
       "      <td>1</td>\n",
       "      <td>325.743882</td>\n",
       "      <td>1.194196</td>\n",
       "    </tr>\n",
       "    <tr>\n",
       "      <th>108</th>\n",
       "      <td>house</td>\n",
       "      <td>Capital Federal</td>\n",
       "      <td>capital federal</td>\n",
       "      <td>3433955.0</td>\n",
       "      <td>NaN</td>\n",
       "      <td>170000.0</td>\n",
       "      <td>180.0</td>\n",
       "      <td>165.0</td>\n",
       "      <td>2.0</td>\n",
       "      <td>1</td>\n",
       "      <td>1</td>\n",
       "      <td>0</td>\n",
       "      <td>1</td>\n",
       "      <td>0</td>\n",
       "      <td>0</td>\n",
       "      <td>1</td>\n",
       "      <td>0</td>\n",
       "      <td>0</td>\n",
       "      <td>0</td>\n",
       "      <td>0</td>\n",
       "      <td>1089.870588</td>\n",
       "      <td>1.172881</td>\n",
       "    </tr>\n",
       "    <tr>\n",
       "      <th>110</th>\n",
       "      <td>house</td>\n",
       "      <td>Capital Federal</td>\n",
       "      <td>capital federal</td>\n",
       "      <td>3433955.0</td>\n",
       "      <td>NaN</td>\n",
       "      <td>490000.0</td>\n",
       "      <td>744.0</td>\n",
       "      <td>350.0</td>\n",
       "      <td>3.0</td>\n",
       "      <td>1</td>\n",
       "      <td>0</td>\n",
       "      <td>0</td>\n",
       "      <td>1</td>\n",
       "      <td>1</td>\n",
       "      <td>0</td>\n",
       "      <td>0</td>\n",
       "      <td>1</td>\n",
       "      <td>0</td>\n",
       "      <td>1</td>\n",
       "      <td>0</td>\n",
       "      <td>1089.870588</td>\n",
       "      <td>1.172881</td>\n",
       "    </tr>\n",
       "  </tbody>\n",
       "</table>\n",
       "</div>"
      ],
      "text/plain": [
       "    property_type       place_name       state_name  geonames_id lat-lon  \\\n",
       "13      apartment     Palermo Soho  capital federal    3430234.0     NaN   \n",
       "14      apartment     Palermo Soho  capital federal    3430234.0     NaN   \n",
       "98      apartment          Almagro  capital federal    3436397.0     NaN   \n",
       "108         house  Capital Federal  capital federal    3433955.0     NaN   \n",
       "110         house  Capital Federal  capital federal    3433955.0     NaN   \n",
       "\n",
       "     price_aprox_usd  surface_total_in_m2  surface_covered_in_m2  rooms  \\\n",
       "13          111700.0                 50.0                   30.0    1.0   \n",
       "14          147900.0                 42.0                   31.0    1.0   \n",
       "98          109900.0                 50.0                   40.0    2.0   \n",
       "108         170000.0                180.0                  165.0    2.0   \n",
       "110         490000.0                744.0                  350.0    3.0   \n",
       "\n",
       "     garage  lavadero  balcon  parrilla  piscina  terraza  patio  jardin  sum  \\\n",
       "13        0         0       0         0        1        1      0       0    0   \n",
       "14        0         0       0         0        1        0      0       0    0   \n",
       "98        1         0       0         1        1        0      0       0    0   \n",
       "108       1         1       0         1        0        0      1       0    0   \n",
       "110       1         0       0         1        1        0      0       1    0   \n",
       "\n",
       "     quincho  estrenar    min_subte  subtes_menor_500m  \n",
       "13         0         0   503.922722           0.556291  \n",
       "14         0         0   503.922722           0.556291  \n",
       "98         0         1   325.743882           1.194196  \n",
       "108        0         0  1089.870588           1.172881  \n",
       "110        1         0  1089.870588           1.172881  "
      ]
     },
     "execution_count": 129,
     "metadata": {},
     "output_type": "execute_result"
    }
   ],
   "source": [
    "#TODO\n",
    "for i in df_min_subtes_na['place_name'].unique():\n",
    "    # df_min_subtes_na.loc[df_min_subtes_na['place_name']==i,'min_subte'] = dist_mean_min_subte.loc[dist_mean_min_subte['place_name']==i,'min_subte'].min()\n",
    "    # df_min_subtes_na.loc[df_min_subtes_na['place_name']==i,'subtes_menor_500m'] = dist_mean_min_subte.loc[dist_mean_min_subte['place_name']==i,'subtes_menor_500m'].min()\n",
    "    df_min_subtes_na.loc[df_min_subtes_na['place_name']==i,'min_subte'] = dist_mean_min_subte.loc[dist_mean_min_subte['place_name']==i,'min_subte'].mean()\n",
    "    df_min_subtes_na.loc[df_min_subtes_na['place_name']==i,'subtes_menor_500m'] = dist_mean_min_subte.loc[dist_mean_min_subte['place_name']==i,'subtes_menor_500m'].mean()\n",
    "df_min_subtes_na.head()\n"
   ]
  },
  {
   "cell_type": "code",
   "execution_count": 130,
   "id": "2d44f084",
   "metadata": {},
   "outputs": [
    {
     "data": {
      "text/plain": [
       "property_type            0.000000\n",
       "place_name               0.000000\n",
       "state_name               0.000000\n",
       "geonames_id              0.051031\n",
       "lat-lon                  1.000000\n",
       "price_aprox_usd          0.000000\n",
       "surface_total_in_m2      0.000000\n",
       "surface_covered_in_m2    0.000000\n",
       "rooms                    0.000000\n",
       "garage                   0.000000\n",
       "lavadero                 0.000000\n",
       "balcon                   0.000000\n",
       "parrilla                 0.000000\n",
       "piscina                  0.000000\n",
       "terraza                  0.000000\n",
       "patio                    0.000000\n",
       "jardin                   0.000000\n",
       "sum                      0.000000\n",
       "quincho                  0.000000\n",
       "estrenar                 0.000000\n",
       "min_subte                0.000000\n",
       "subtes_menor_500m        0.000000\n",
       "dtype: float64"
      ]
     },
     "execution_count": 130,
     "metadata": {},
     "output_type": "execute_result"
    }
   ],
   "source": [
    "df_min_subtes_na.isna().sum() / df_min_subtes_na.shape[0]"
   ]
  },
  {
   "cell_type": "markdown",
   "id": "637873df",
   "metadata": {},
   "source": [
    "Asignamos los valores:"
   ]
  },
  {
   "cell_type": "code",
   "execution_count": 131,
   "id": "d0cc22b7",
   "metadata": {},
   "outputs": [],
   "source": [
    "df.loc[df['min_subte'].isna(),'min_subte'] = df_min_subtes_na.loc[:, 'min_subte']\n",
    "df.loc[df['subtes_menor_500m'].isna(),'subtes_menor_500m'] = df_min_subtes_na.loc[:, 'subtes_menor_500m']\n"
   ]
  },
  {
   "cell_type": "markdown",
   "id": "adc564a1",
   "metadata": {},
   "source": [
    "Aún tenemos nulos en min_subte y subtes_menor a 500m, esto es por que hay place names que no tienen mínimo al ser todos nulos.\n",
    "\n",
    "Para esos casos vamos a droperar las filas al igual que droperamos las columnas lat-lon y geonames id ya que cumplieron su proposito:"
   ]
  },
  {
   "cell_type": "code",
   "execution_count": 132,
   "id": "11c35193",
   "metadata": {},
   "outputs": [
    {
     "name": "stdout",
     "output_type": "stream",
     "text": [
      "(28399, 22)\n"
     ]
    },
    {
     "data": {
      "text/plain": [
       "property_type            0.000000\n",
       "place_name               0.000000\n",
       "state_name               0.000000\n",
       "geonames_id              0.039121\n",
       "lat-lon                  0.233917\n",
       "price_aprox_usd          0.000000\n",
       "surface_total_in_m2      0.000000\n",
       "surface_covered_in_m2    0.000000\n",
       "rooms                    0.000000\n",
       "garage                   0.000000\n",
       "lavadero                 0.000000\n",
       "balcon                   0.000000\n",
       "parrilla                 0.000000\n",
       "piscina                  0.000000\n",
       "terraza                  0.000000\n",
       "patio                    0.000000\n",
       "jardin                   0.000000\n",
       "sum                      0.000000\n",
       "quincho                  0.000000\n",
       "estrenar                 0.000000\n",
       "min_subte                0.000000\n",
       "subtes_menor_500m        0.000000\n",
       "dtype: float64"
      ]
     },
     "execution_count": 132,
     "metadata": {},
     "output_type": "execute_result"
    }
   ],
   "source": [
    "print(df.shape)\n",
    "df.isna().sum() / df.shape[0]\n"
   ]
  },
  {
   "cell_type": "code",
   "execution_count": 133,
   "id": "222f31d4",
   "metadata": {},
   "outputs": [
    {
     "data": {
      "text/html": [
       "<div>\n",
       "<style scoped>\n",
       "    .dataframe tbody tr th:only-of-type {\n",
       "        vertical-align: middle;\n",
       "    }\n",
       "\n",
       "    .dataframe tbody tr th {\n",
       "        vertical-align: top;\n",
       "    }\n",
       "\n",
       "    .dataframe thead th {\n",
       "        text-align: right;\n",
       "    }\n",
       "</style>\n",
       "<table border=\"1\" class=\"dataframe\">\n",
       "  <thead>\n",
       "    <tr style=\"text-align: right;\">\n",
       "      <th></th>\n",
       "      <th>state_name</th>\n",
       "      <th>place_name</th>\n",
       "      <th>lat-lon</th>\n",
       "      <th>lat</th>\n",
       "      <th>lon</th>\n",
       "      <th>geometry</th>\n",
       "      <th>min_subte</th>\n",
       "      <th>subtes_menor_500m</th>\n",
       "    </tr>\n",
       "  </thead>\n",
       "  <tbody>\n",
       "    <tr>\n",
       "      <th>0</th>\n",
       "      <td>capital federal</td>\n",
       "      <td>Mataderos</td>\n",
       "      <td>-34.6618237,-58.5088387</td>\n",
       "      <td>-34.6618237</td>\n",
       "      <td>-58.5088387</td>\n",
       "      <td>POINT (-58.50884 -34.66182)</td>\n",
       "      <td>4728.393676</td>\n",
       "      <td>0</td>\n",
       "    </tr>\n",
       "    <tr>\n",
       "      <th>2</th>\n",
       "      <td>capital federal</td>\n",
       "      <td>Mataderos</td>\n",
       "      <td>-34.6522615,-58.5229825</td>\n",
       "      <td>-34.6522615</td>\n",
       "      <td>-58.5229825</td>\n",
       "      <td>POINT (-58.52298 -34.65226)</td>\n",
       "      <td>6073.153602</td>\n",
       "      <td>0</td>\n",
       "    </tr>\n",
       "    <tr>\n",
       "      <th>3</th>\n",
       "      <td>capital federal</td>\n",
       "      <td>Liniers</td>\n",
       "      <td>-34.6477969,-58.5164244</td>\n",
       "      <td>-34.6477969</td>\n",
       "      <td>-58.5164244</td>\n",
       "      <td>POINT (-58.51642 -34.64780)</td>\n",
       "      <td>5305.630900</td>\n",
       "      <td>0</td>\n",
       "    </tr>\n",
       "    <tr>\n",
       "      <th>7</th>\n",
       "      <td>capital federal</td>\n",
       "      <td>Belgrano</td>\n",
       "      <td>-34.5598729,-58.443362</td>\n",
       "      <td>-34.5598729</td>\n",
       "      <td>-58.443362</td>\n",
       "      <td>POINT (-58.44336 -34.55987)</td>\n",
       "      <td>609.743234</td>\n",
       "      <td>0</td>\n",
       "    </tr>\n",
       "    <tr>\n",
       "      <th>8</th>\n",
       "      <td>capital federal</td>\n",
       "      <td>Belgrano</td>\n",
       "      <td>-34.5598729,-58.443362</td>\n",
       "      <td>-34.5598729</td>\n",
       "      <td>-58.443362</td>\n",
       "      <td>POINT (-58.44336 -34.55987)</td>\n",
       "      <td>609.743234</td>\n",
       "      <td>0</td>\n",
       "    </tr>\n",
       "    <tr>\n",
       "      <th>...</th>\n",
       "      <td>...</td>\n",
       "      <td>...</td>\n",
       "      <td>...</td>\n",
       "      <td>...</td>\n",
       "      <td>...</td>\n",
       "      <td>...</td>\n",
       "      <td>...</td>\n",
       "      <td>...</td>\n",
       "    </tr>\n",
       "    <tr>\n",
       "      <th>121153</th>\n",
       "      <td>capital federal</td>\n",
       "      <td>Barrio Norte</td>\n",
       "      <td>-34.5992135511,-58.4025191971</td>\n",
       "      <td>-34.5992135511</td>\n",
       "      <td>-58.4025191971</td>\n",
       "      <td>POINT (-58.40252 -34.59921)</td>\n",
       "      <td>141.068508</td>\n",
       "      <td>3</td>\n",
       "    </tr>\n",
       "    <tr>\n",
       "      <th>121158</th>\n",
       "      <td>capital federal</td>\n",
       "      <td>Recoleta</td>\n",
       "      <td>-34.587425443,-58.3973722534</td>\n",
       "      <td>-34.587425443</td>\n",
       "      <td>-58.3973722534</td>\n",
       "      <td>POINT (-58.39737 -34.58743)</td>\n",
       "      <td>17.578792</td>\n",
       "      <td>1</td>\n",
       "    </tr>\n",
       "    <tr>\n",
       "      <th>121160</th>\n",
       "      <td>capital federal</td>\n",
       "      <td>Belgrano</td>\n",
       "      <td>-34.563685346,-58.4426825896</td>\n",
       "      <td>-34.563685346</td>\n",
       "      <td>-58.4426825896</td>\n",
       "      <td>POINT (-58.44268 -34.56369)</td>\n",
       "      <td>430.624480</td>\n",
       "      <td>1</td>\n",
       "    </tr>\n",
       "    <tr>\n",
       "      <th>121209</th>\n",
       "      <td>capital federal</td>\n",
       "      <td>Belgrano</td>\n",
       "      <td>-34.563685346,-58.4426825896</td>\n",
       "      <td>-34.563685346</td>\n",
       "      <td>-58.4426825896</td>\n",
       "      <td>POINT (-58.44268 -34.56369)</td>\n",
       "      <td>430.624480</td>\n",
       "      <td>1</td>\n",
       "    </tr>\n",
       "    <tr>\n",
       "      <th>121217</th>\n",
       "      <td>capital federal</td>\n",
       "      <td>Villa Urquiza</td>\n",
       "      <td>-34.5706388726,-58.4755963355</td>\n",
       "      <td>-34.5706388726</td>\n",
       "      <td>-58.4755963355</td>\n",
       "      <td>POINT (-58.47560 -34.57064)</td>\n",
       "      <td>637.215519</td>\n",
       "      <td>0</td>\n",
       "    </tr>\n",
       "  </tbody>\n",
       "</table>\n",
       "<p>21756 rows × 8 columns</p>\n",
       "</div>"
      ],
      "text/plain": [
       "             state_name     place_name                        lat-lon  \\\n",
       "0       capital federal      Mataderos        -34.6618237,-58.5088387   \n",
       "2       capital federal      Mataderos        -34.6522615,-58.5229825   \n",
       "3       capital federal        Liniers        -34.6477969,-58.5164244   \n",
       "7       capital federal       Belgrano         -34.5598729,-58.443362   \n",
       "8       capital federal       Belgrano         -34.5598729,-58.443362   \n",
       "...                 ...            ...                            ...   \n",
       "121153  capital federal   Barrio Norte  -34.5992135511,-58.4025191971   \n",
       "121158  capital federal       Recoleta   -34.587425443,-58.3973722534   \n",
       "121160  capital federal       Belgrano   -34.563685346,-58.4426825896   \n",
       "121209  capital federal       Belgrano   -34.563685346,-58.4426825896   \n",
       "121217  capital federal  Villa Urquiza  -34.5706388726,-58.4755963355   \n",
       "\n",
       "                   lat             lon                     geometry  \\\n",
       "0          -34.6618237     -58.5088387  POINT (-58.50884 -34.66182)   \n",
       "2          -34.6522615     -58.5229825  POINT (-58.52298 -34.65226)   \n",
       "3          -34.6477969     -58.5164244  POINT (-58.51642 -34.64780)   \n",
       "7          -34.5598729      -58.443362  POINT (-58.44336 -34.55987)   \n",
       "8          -34.5598729      -58.443362  POINT (-58.44336 -34.55987)   \n",
       "...                ...             ...                          ...   \n",
       "121153  -34.5992135511  -58.4025191971  POINT (-58.40252 -34.59921)   \n",
       "121158   -34.587425443  -58.3973722534  POINT (-58.39737 -34.58743)   \n",
       "121160   -34.563685346  -58.4426825896  POINT (-58.44268 -34.56369)   \n",
       "121209   -34.563685346  -58.4426825896  POINT (-58.44268 -34.56369)   \n",
       "121217  -34.5706388726  -58.4755963355  POINT (-58.47560 -34.57064)   \n",
       "\n",
       "          min_subte  subtes_menor_500m  \n",
       "0       4728.393676                  0  \n",
       "2       6073.153602                  0  \n",
       "3       5305.630900                  0  \n",
       "7        609.743234                  0  \n",
       "8        609.743234                  0  \n",
       "...             ...                ...  \n",
       "121153   141.068508                  3  \n",
       "121158    17.578792                  1  \n",
       "121160   430.624480                  1  \n",
       "121209   430.624480                  1  \n",
       "121217   637.215519                  0  \n",
       "\n",
       "[21756 rows x 8 columns]"
      ]
     },
     "execution_count": 133,
     "metadata": {},
     "output_type": "execute_result"
    }
   ],
   "source": [
    "df_geo"
   ]
  },
  {
   "cell_type": "code",
   "execution_count": 129,
   "id": "b33081d6",
   "metadata": {},
   "outputs": [
    {
     "data": {
      "text/plain": [
       "(94730, 20)"
      ]
     },
     "execution_count": 129,
     "metadata": {},
     "output_type": "execute_result"
    }
   ],
   "source": [
    "df = df.drop('geonames_id', axis=1)\n",
    "df = df.drop('lat-lon', axis=1)\n",
    "df= df.dropna(subset=['min_subte'] )\n",
    "df.shape"
   ]
  },
  {
   "cell_type": "code",
   "execution_count": 130,
   "id": "83e44d9c",
   "metadata": {},
   "outputs": [
    {
     "data": {
      "text/plain": [
       "property_type            0.0\n",
       "place_name               0.0\n",
       "state_name               0.0\n",
       "price_aprox_usd          0.0\n",
       "surface_total_in_m2      0.0\n",
       "surface_covered_in_m2    0.0\n",
       "rooms                    0.0\n",
       "garage                   0.0\n",
       "lavadero                 0.0\n",
       "balcon                   0.0\n",
       "parrilla                 0.0\n",
       "piscina                  0.0\n",
       "terraza                  0.0\n",
       "patio                    0.0\n",
       "jardin                   0.0\n",
       "sum                      0.0\n",
       "quincho                  0.0\n",
       "estrenar                 0.0\n",
       "min_subte                0.0\n",
       "subtes_menor_500m        0.0\n",
       "dtype: float64"
      ]
     },
     "execution_count": 130,
     "metadata": {},
     "output_type": "execute_result"
    }
   ],
   "source": [
    "df.isna().sum() / df.shape[0]"
   ]
  },
  {
   "cell_type": "code",
   "execution_count": 131,
   "id": "64561525",
   "metadata": {},
   "outputs": [
    {
     "data": {
      "text/html": [
       "<div>\n",
       "<style scoped>\n",
       "    .dataframe tbody tr th:only-of-type {\n",
       "        vertical-align: middle;\n",
       "    }\n",
       "\n",
       "    .dataframe tbody tr th {\n",
       "        vertical-align: top;\n",
       "    }\n",
       "\n",
       "    .dataframe thead th {\n",
       "        text-align: right;\n",
       "    }\n",
       "</style>\n",
       "<table border=\"1\" class=\"dataframe\">\n",
       "  <thead>\n",
       "    <tr style=\"text-align: right;\">\n",
       "      <th></th>\n",
       "      <th>property_type</th>\n",
       "      <th>place_name</th>\n",
       "      <th>state_name</th>\n",
       "      <th>price_aprox_usd</th>\n",
       "      <th>surface_total_in_m2</th>\n",
       "      <th>surface_covered_in_m2</th>\n",
       "      <th>rooms</th>\n",
       "      <th>garage</th>\n",
       "      <th>lavadero</th>\n",
       "      <th>balcon</th>\n",
       "      <th>parrilla</th>\n",
       "      <th>piscina</th>\n",
       "      <th>terraza</th>\n",
       "      <th>patio</th>\n",
       "      <th>jardin</th>\n",
       "      <th>sum</th>\n",
       "      <th>quincho</th>\n",
       "      <th>estrenar</th>\n",
       "      <th>min_subte</th>\n",
       "      <th>subtes_menor_500m</th>\n",
       "    </tr>\n",
       "  </thead>\n",
       "  <tbody>\n",
       "    <tr>\n",
       "      <th>0</th>\n",
       "      <td>PH</td>\n",
       "      <td>Mataderos</td>\n",
       "      <td>capital federal</td>\n",
       "      <td>62000.0</td>\n",
       "      <td>55.000000</td>\n",
       "      <td>40.000000</td>\n",
       "      <td>2.000000</td>\n",
       "      <td>0</td>\n",
       "      <td>1</td>\n",
       "      <td>0</td>\n",
       "      <td>0</td>\n",
       "      <td>0</td>\n",
       "      <td>0</td>\n",
       "      <td>1</td>\n",
       "      <td>0</td>\n",
       "      <td>0</td>\n",
       "      <td>0</td>\n",
       "      <td>0</td>\n",
       "      <td>4728.393676</td>\n",
       "      <td>0.0</td>\n",
       "    </tr>\n",
       "    <tr>\n",
       "      <th>1</th>\n",
       "      <td>apartment</td>\n",
       "      <td>La Plata</td>\n",
       "      <td>bs.as. g.b.a. zona sur</td>\n",
       "      <td>150000.0</td>\n",
       "      <td>74.495117</td>\n",
       "      <td>66.250204</td>\n",
       "      <td>2.276693</td>\n",
       "      <td>1</td>\n",
       "      <td>1</td>\n",
       "      <td>1</td>\n",
       "      <td>0</td>\n",
       "      <td>0</td>\n",
       "      <td>0</td>\n",
       "      <td>0</td>\n",
       "      <td>0</td>\n",
       "      <td>0</td>\n",
       "      <td>0</td>\n",
       "      <td>1</td>\n",
       "      <td>48507.053867</td>\n",
       "      <td>0.0</td>\n",
       "    </tr>\n",
       "    <tr>\n",
       "      <th>2</th>\n",
       "      <td>apartment</td>\n",
       "      <td>Mataderos</td>\n",
       "      <td>capital federal</td>\n",
       "      <td>72000.0</td>\n",
       "      <td>55.000000</td>\n",
       "      <td>55.000000</td>\n",
       "      <td>2.000000</td>\n",
       "      <td>0</td>\n",
       "      <td>1</td>\n",
       "      <td>0</td>\n",
       "      <td>0</td>\n",
       "      <td>0</td>\n",
       "      <td>0</td>\n",
       "      <td>0</td>\n",
       "      <td>0</td>\n",
       "      <td>0</td>\n",
       "      <td>0</td>\n",
       "      <td>0</td>\n",
       "      <td>6073.153602</td>\n",
       "      <td>0.0</td>\n",
       "    </tr>\n",
       "    <tr>\n",
       "      <th>3</th>\n",
       "      <td>PH</td>\n",
       "      <td>Liniers</td>\n",
       "      <td>capital federal</td>\n",
       "      <td>95000.0</td>\n",
       "      <td>120.857451</td>\n",
       "      <td>91.601224</td>\n",
       "      <td>3.000000</td>\n",
       "      <td>0</td>\n",
       "      <td>0</td>\n",
       "      <td>0</td>\n",
       "      <td>0</td>\n",
       "      <td>0</td>\n",
       "      <td>0</td>\n",
       "      <td>1</td>\n",
       "      <td>0</td>\n",
       "      <td>0</td>\n",
       "      <td>0</td>\n",
       "      <td>0</td>\n",
       "      <td>5305.630900</td>\n",
       "      <td>0.0</td>\n",
       "    </tr>\n",
       "    <tr>\n",
       "      <th>4</th>\n",
       "      <td>apartment</td>\n",
       "      <td>Centro</td>\n",
       "      <td>buenos aires costa atlántica</td>\n",
       "      <td>64000.0</td>\n",
       "      <td>35.000000</td>\n",
       "      <td>35.000000</td>\n",
       "      <td>1.000000</td>\n",
       "      <td>0</td>\n",
       "      <td>0</td>\n",
       "      <td>0</td>\n",
       "      <td>0</td>\n",
       "      <td>0</td>\n",
       "      <td>0</td>\n",
       "      <td>0</td>\n",
       "      <td>0</td>\n",
       "      <td>0</td>\n",
       "      <td>0</td>\n",
       "      <td>0</td>\n",
       "      <td>220178.930519</td>\n",
       "      <td>0.0</td>\n",
       "    </tr>\n",
       "  </tbody>\n",
       "</table>\n",
       "</div>"
      ],
      "text/plain": [
       "  property_type place_name                    state_name  price_aprox_usd  \\\n",
       "0            PH  Mataderos               capital federal          62000.0   \n",
       "1     apartment   La Plata        bs.as. g.b.a. zona sur         150000.0   \n",
       "2     apartment  Mataderos               capital federal          72000.0   \n",
       "3            PH    Liniers               capital federal          95000.0   \n",
       "4     apartment     Centro  buenos aires costa atlántica          64000.0   \n",
       "\n",
       "   surface_total_in_m2  surface_covered_in_m2     rooms  garage  lavadero  \\\n",
       "0            55.000000              40.000000  2.000000       0         1   \n",
       "1            74.495117              66.250204  2.276693       1         1   \n",
       "2            55.000000              55.000000  2.000000       0         1   \n",
       "3           120.857451              91.601224  3.000000       0         0   \n",
       "4            35.000000              35.000000  1.000000       0         0   \n",
       "\n",
       "   balcon  parrilla  piscina  terraza  patio  jardin  sum  quincho  estrenar  \\\n",
       "0       0         0        0        0      1       0    0        0         0   \n",
       "1       1         0        0        0      0       0    0        0         1   \n",
       "2       0         0        0        0      0       0    0        0         0   \n",
       "3       0         0        0        0      1       0    0        0         0   \n",
       "4       0         0        0        0      0       0    0        0         0   \n",
       "\n",
       "       min_subte  subtes_menor_500m  \n",
       "0    4728.393676                0.0  \n",
       "1   48507.053867                0.0  \n",
       "2    6073.153602                0.0  \n",
       "3    5305.630900                0.0  \n",
       "4  220178.930519                0.0  "
      ]
     },
     "execution_count": 131,
     "metadata": {},
     "output_type": "execute_result"
    }
   ],
   "source": [
    "df.head()"
   ]
  },
  {
   "cell_type": "markdown",
   "id": "832dc9fa",
   "metadata": {},
   "source": [
    "Con esto podemos exportar el archivo a un csv:"
   ]
  },
  {
   "cell_type": "code",
   "execution_count": 132,
   "id": "14b8e810",
   "metadata": {},
   "outputs": [],
   "source": [
    "df.to_csv('properatti_clean.csv')"
   ]
  },
  {
   "cell_type": "markdown",
   "id": "7c68299c",
   "metadata": {},
   "source": [
    "# Analisis Descriptivo"
   ]
  },
  {
   "cell_type": "code",
   "execution_count": 133,
   "id": "f72114c5",
   "metadata": {},
   "outputs": [
    {
     "data": {
      "text/html": [
       "<div>\n",
       "<style scoped>\n",
       "    .dataframe tbody tr th:only-of-type {\n",
       "        vertical-align: middle;\n",
       "    }\n",
       "\n",
       "    .dataframe tbody tr th {\n",
       "        vertical-align: top;\n",
       "    }\n",
       "\n",
       "    .dataframe thead th {\n",
       "        text-align: right;\n",
       "    }\n",
       "</style>\n",
       "<table border=\"1\" class=\"dataframe\">\n",
       "  <thead>\n",
       "    <tr style=\"text-align: right;\">\n",
       "      <th></th>\n",
       "      <th>property_type</th>\n",
       "      <th>place_name</th>\n",
       "      <th>state_name</th>\n",
       "      <th>price_aprox_usd</th>\n",
       "      <th>surface_total_in_m2</th>\n",
       "      <th>surface_covered_in_m2</th>\n",
       "      <th>rooms</th>\n",
       "      <th>garage</th>\n",
       "      <th>lavadero</th>\n",
       "      <th>balcon</th>\n",
       "      <th>parrilla</th>\n",
       "      <th>piscina</th>\n",
       "      <th>terraza</th>\n",
       "      <th>patio</th>\n",
       "      <th>jardin</th>\n",
       "      <th>sum</th>\n",
       "      <th>quincho</th>\n",
       "      <th>estrenar</th>\n",
       "      <th>min_subte</th>\n",
       "      <th>subtes_menor_500m</th>\n",
       "    </tr>\n",
       "  </thead>\n",
       "  <tbody>\n",
       "    <tr>\n",
       "      <th>0</th>\n",
       "      <td>PH</td>\n",
       "      <td>Mataderos</td>\n",
       "      <td>capital federal</td>\n",
       "      <td>62000.0</td>\n",
       "      <td>55.000000</td>\n",
       "      <td>40.000000</td>\n",
       "      <td>2.000000</td>\n",
       "      <td>0</td>\n",
       "      <td>1</td>\n",
       "      <td>0</td>\n",
       "      <td>0</td>\n",
       "      <td>0</td>\n",
       "      <td>0</td>\n",
       "      <td>1</td>\n",
       "      <td>0</td>\n",
       "      <td>0</td>\n",
       "      <td>0</td>\n",
       "      <td>0</td>\n",
       "      <td>4728.393676</td>\n",
       "      <td>0.0</td>\n",
       "    </tr>\n",
       "    <tr>\n",
       "      <th>1</th>\n",
       "      <td>apartment</td>\n",
       "      <td>La Plata</td>\n",
       "      <td>bs.as. g.b.a. zona sur</td>\n",
       "      <td>150000.0</td>\n",
       "      <td>74.495117</td>\n",
       "      <td>66.250204</td>\n",
       "      <td>2.276693</td>\n",
       "      <td>1</td>\n",
       "      <td>1</td>\n",
       "      <td>1</td>\n",
       "      <td>0</td>\n",
       "      <td>0</td>\n",
       "      <td>0</td>\n",
       "      <td>0</td>\n",
       "      <td>0</td>\n",
       "      <td>0</td>\n",
       "      <td>0</td>\n",
       "      <td>1</td>\n",
       "      <td>48507.053867</td>\n",
       "      <td>0.0</td>\n",
       "    </tr>\n",
       "  </tbody>\n",
       "</table>\n",
       "</div>"
      ],
      "text/plain": [
       "  property_type place_name              state_name  price_aprox_usd  \\\n",
       "0            PH  Mataderos         capital federal          62000.0   \n",
       "1     apartment   La Plata  bs.as. g.b.a. zona sur         150000.0   \n",
       "\n",
       "   surface_total_in_m2  surface_covered_in_m2     rooms  garage  lavadero  \\\n",
       "0            55.000000              40.000000  2.000000       0         1   \n",
       "1            74.495117              66.250204  2.276693       1         1   \n",
       "\n",
       "   balcon  parrilla  piscina  terraza  patio  jardin  sum  quincho  estrenar  \\\n",
       "0       0         0        0        0      1       0    0        0         0   \n",
       "1       1         0        0        0      0       0    0        0         1   \n",
       "\n",
       "      min_subte  subtes_menor_500m  \n",
       "0   4728.393676                0.0  \n",
       "1  48507.053867                0.0  "
      ]
     },
     "execution_count": 133,
     "metadata": {},
     "output_type": "execute_result"
    }
   ],
   "source": [
    "df = pd.read_csv('properatti_clean.csv')\n",
    "df = df.drop('Unnamed: 0', axis=1)\n",
    "data = df.copy()\n",
    "df.head(2)"
   ]
  },
  {
   "cell_type": "markdown",
   "id": "3e243768",
   "metadata": {},
   "source": [
    "Empecemos viendo cuantos datos de cada state tenemos:"
   ]
  },
  {
   "cell_type": "code",
   "execution_count": 134,
   "id": "9c5b62f7",
   "metadata": {},
   "outputs": [
    {
     "data": {
      "image/png": "[encoded data removed]",
      "text/plain": [
       "<Figure size 720x432 with 1 Axes>"
      ]
     },
     "metadata": {
      "needs_background": "light"
     },
     "output_type": "display_data"
    }
   ],
   "source": [
    "state_proportion = df['state_name'].value_counts() / df.shape[0]\n",
    "\n",
    "plt.figure(figsize=(10,6))\n",
    "ax = sns.barplot(x=state_proportion.index, y=state_proportion.values)\n",
    "ax.tick_params(axis='x', rotation=90)\n"
   ]
  },
  {
   "cell_type": "markdown",
   "id": "6a3ed161",
   "metadata": {},
   "source": [
    "## Vamos a empezar viendo los datos agregadamente por columnas"
   ]
  },
  {
   "cell_type": "markdown",
   "id": "38931590",
   "metadata": {},
   "source": [
    "### Superficies"
   ]
  },
  {
   "cell_type": "code",
   "execution_count": 135,
   "id": "b7e67f39",
   "metadata": {},
   "outputs": [],
   "source": [
    "sns.set_style('whitegrid')"
   ]
  },
  {
   "cell_type": "code",
   "execution_count": 136,
   "id": "7d50721f",
   "metadata": {},
   "outputs": [
    {
     "data": {
      "text/plain": [
       "<matplotlib.legend.Legend at 0x19451598988>"
      ]
     },
     "execution_count": 136,
     "metadata": {},
     "output_type": "execute_result"
    },
    {
     "data": {
      "image/png": "[encoded data removed]",
      "text/plain": [
       "<Figure size 1008x576 with 1 Axes>"
      ]
     },
     "metadata": {},
     "output_type": "display_data"
    }
   ],
   "source": [
    "fig, ax = plt.subplots(figsize=(14,8))\n",
    "sns.ecdfplot(data=df, x=\"surface_total_in_m2\", ax=ax, label='surface_total')\n",
    "sns.ecdfplot(data=df, x=\"surface_covered_in_m2\", ax=ax, label='surface_covered')\n",
    "plt.legend()\n"
   ]
  },
  {
   "cell_type": "markdown",
   "id": "d7e296ad",
   "metadata": {},
   "source": [
    "Podemos ver que la mayor parte de las propiedades consta de menos de 200m2. Y casi la totalidad, tanto en m2 cubiertos o totales se encuentra dentro de los 400m2"
   ]
  },
  {
   "cell_type": "code",
   "execution_count": 137,
   "id": "ccc2eb0c",
   "metadata": {},
   "outputs": [
    {
     "data": {
      "text/plain": [
       "<AxesSubplot:xlabel='surface_covered_in_m2'>"
      ]
     },
     "execution_count": 137,
     "metadata": {},
     "output_type": "execute_result"
    },
    {
     "data": {
      "image/png": "[encoded data removed]",
      "text/plain": [
       "<Figure size 432x288 with 2 Axes>"
      ]
     },
     "metadata": {},
     "output_type": "display_data"
    }
   ],
   "source": [
    "fig, ax = plt.subplots(2,1,sharex=True)\n",
    "sns.boxplot(x=df.surface_total_in_m2, ax=ax[0])\n",
    "sns.boxplot(x=df.surface_covered_in_m2, ax=ax[1])\n"
   ]
  },
  {
   "cell_type": "markdown",
   "id": "38ddae81",
   "metadata": {},
   "source": [
    "### Precio"
   ]
  },
  {
   "cell_type": "code",
   "execution_count": 138,
   "id": "d98b84e1",
   "metadata": {},
   "outputs": [
    {
     "data": {
      "text/plain": [
       "<AxesSubplot:xlabel='price_aprox_usd', ylabel='Count'>"
      ]
     },
     "execution_count": 138,
     "metadata": {},
     "output_type": "execute_result"
    },
    {
     "data": {
      "image/png": "[encoded data removed]",
      "text/plain": [
       "<Figure size 1152x576 with 1 Axes>"
      ]
     },
     "metadata": {},
     "output_type": "display_data"
    }
   ],
   "source": [
    "price = df.price_aprox_usd / 1000\n",
    "plt.figure(figsize=(16,8))\n",
    "plt.xticks(np.arange(0,3500,100))\n",
    "plt.xticks(rotation = 90)\n",
    "sns.histplot(data=price,)\n"
   ]
  },
  {
   "cell_type": "markdown",
   "id": "1c908e99",
   "metadata": {},
   "source": [
    "Se puede ver claramente que los valores se concentran fuertemente hasta los 300.000 usd aproximadamente con cola hacia la dereha."
   ]
  },
  {
   "cell_type": "code",
   "execution_count": 139,
   "id": "cc187309",
   "metadata": {},
   "outputs": [
    {
     "data": {
      "text/plain": [
       "<AxesSubplot:xlabel='price_aprox_usd', ylabel='Proportion'>"
      ]
     },
     "execution_count": 139,
     "metadata": {},
     "output_type": "execute_result"
    },
    {
     "data": {
      "image/png": "[encoded data removed]",
      "text/plain": [
       "<Figure size 1152x576 with 1 Axes>"
      ]
     },
     "metadata": {},
     "output_type": "display_data"
    }
   ],
   "source": [
    "plt.figure(figsize=(16,8))\n",
    "plt.xticks(np.arange(0,3600,100))\n",
    "plt.xticks(rotation = 90)\n",
    "sns.ecdfplot(data=price)"
   ]
  },
  {
   "cell_type": "markdown",
   "id": "424d7303",
   "metadata": {},
   "source": [
    "El 80% de los precios cae debajo de los 300.000 USD"
   ]
  },
  {
   "cell_type": "markdown",
   "id": "9cf6f65f",
   "metadata": {},
   "source": [
    "#### Vamos a ver los boxplots por estados"
   ]
  },
  {
   "cell_type": "code",
   "execution_count": 140,
   "id": "98a5af81",
   "metadata": {},
   "outputs": [
    {
     "data": {
      "text/plain": [
       "<seaborn.axisgrid.FacetGrid at 0x194534cf908>"
      ]
     },
     "execution_count": 140,
     "metadata": {},
     "output_type": "execute_result"
    },
    {
     "data": {
      "image/png": "[encoded data removed]",
      "text/plain": [
       "<Figure size 1440x720 with 8 Axes>"
      ]
     },
     "metadata": {},
     "output_type": "display_data"
    }
   ],
   "source": [
    "g = sns.FacetGrid(df, col='state_name',col_wrap=4, height=5,sharex=False)\n",
    "g.map(sns.boxplot,'price_aprox_usd', order=['bs.as. g.b.a. zona norte','capital federal', 'bs.as. g.b.a. zona sur','bs.as. g.b.a. zona oeste','buenos aires interior','buenos aires costa atlántica','córdoba','santa fe'],)\n"
   ]
  },
  {
   "cell_type": "markdown",
   "id": "a6d449bf",
   "metadata": {},
   "source": [
    "Vamos a ver como es el precio promedio de las propiedades en cada estado"
   ]
  },
  {
   "cell_type": "code",
   "execution_count": 141,
   "id": "eec04992",
   "metadata": {},
   "outputs": [
    {
     "data": {
      "text/plain": [
       "<AxesSubplot:xlabel='state_name'>"
      ]
     },
     "execution_count": 141,
     "metadata": {},
     "output_type": "execute_result"
    },
    {
     "data": {
      "image/png": "[encoded data removed]",
      "text/plain": [
       "<Figure size 864x432 with 1 Axes>"
      ]
     },
     "metadata": {},
     "output_type": "display_data"
    }
   ],
   "source": [
    "df.groupby('state_name')['price_aprox_usd'].mean().sort_values(ascending=False).plot(kind='bar', figsize=(12,6))\n"
   ]
  },
  {
   "cell_type": "markdown",
   "id": "d3f0482d",
   "metadata": {},
   "source": [
    "Nos encontramos con Zona norte y Capital Federal como los lugares que concentran el mayor promedio de precios"
   ]
  },
  {
   "cell_type": "markdown",
   "id": "28e78a8a",
   "metadata": {},
   "source": [
    "En terminos de caracteristicas, claramente vamos a ver mas valores en Capital Federal y Zona Norte ya que concentran más de la mitad de los datos del dataframe:"
   ]
  },
  {
   "cell_type": "code",
   "execution_count": 142,
   "id": "cb40cdc9",
   "metadata": {},
   "outputs": [
    {
     "data": {
      "text/plain": [
       "<AxesSubplot:xlabel='state_name'>"
      ]
     },
     "execution_count": 142,
     "metadata": {},
     "output_type": "execute_result"
    },
    {
     "data": {
      "image/png": "[encoded data removed]",
      "text/plain": [
       "<Figure size 1152x432 with 1 Axes>"
      ]
     },
     "metadata": {},
     "output_type": "display_data"
    }
   ],
   "source": [
    "df.groupby('state_name')[caracteristicas].sum().plot(kind='bar',figsize=(16,6))"
   ]
  },
  {
   "cell_type": "markdown",
   "id": "6832abfd",
   "metadata": {},
   "source": [
    "### Vamos a mirar un poquito mas adentro:"
   ]
  },
  {
   "cell_type": "markdown",
   "id": "61aec1c9",
   "metadata": {},
   "source": [
    "Densidad por tipo de propiedad:"
   ]
  },
  {
   "cell_type": "code",
   "execution_count": 143,
   "id": "4dbdc5f8",
   "metadata": {},
   "outputs": [
    {
     "data": {
      "text/plain": [
       "<AxesSubplot:xlabel='price_aprox_usd', ylabel='Density'>"
      ]
     },
     "execution_count": 143,
     "metadata": {},
     "output_type": "execute_result"
    },
    {
     "data": {
      "image/png": "[encoded data removed]",
      "text/plain": [
       "<Figure size 1080x576 with 1 Axes>"
      ]
     },
     "metadata": {},
     "output_type": "display_data"
    }
   ],
   "source": [
    "df_density = df.copy()\n",
    "df_density.price_aprox_usd = df_density.price_aprox_usd / 1000 \n",
    "plt.figure(figsize=(15, 8))\n",
    "plt.xticks(np.arange(0,3600,50))\n",
    "plt.xticks(rotation = 90)\n",
    "sns.kdeplot(data = df_density, x = 'price_aprox_usd', hue='property_type', shade=True)"
   ]
  },
  {
   "cell_type": "markdown",
   "id": "fa36ed50",
   "metadata": {},
   "source": [
    "Vamos a ver qué cantidad cuantos tipos de propiedades hay en cada estado:"
   ]
  },
  {
   "cell_type": "code",
   "execution_count": 144,
   "id": "476da9da",
   "metadata": {},
   "outputs": [],
   "source": [
    "# df.groupby(['state_name', 'property_type']).count()['place_name']"
   ]
  },
  {
   "cell_type": "code",
   "execution_count": 145,
   "id": "6a1acb83",
   "metadata": {},
   "outputs": [
    {
     "data": {
      "text/plain": [
       "<AxesSubplot:xlabel='state_name', ylabel='count'>"
      ]
     },
     "execution_count": 145,
     "metadata": {},
     "output_type": "execute_result"
    },
    {
     "data": {
      "image/png": "[encoded data removed]",
      "text/plain": [
       "<Figure size 1152x576 with 1 Axes>"
      ]
     },
     "metadata": {},
     "output_type": "display_data"
    }
   ],
   "source": [
    "plt.figure(figsize=(16,8))\n",
    "plt.xticks(rotation = 45)\n",
    "sns.countplot(data=df, x='state_name',hue='property_type')"
   ]
  },
  {
   "cell_type": "markdown",
   "id": "709dda73",
   "metadata": {},
   "source": [
    "Por lo que se ve Capital Federal aporta gran parte de los departamentos, siendo casi el unico tipo de propiedad que ofrece. Mientras que en zona norte, sur, y oeste la relación entre departamentos y casas se mantiene más pareja"
   ]
  },
  {
   "cell_type": "markdown",
   "id": "cda6403c",
   "metadata": {},
   "source": [
    "### Veamos si hay alguna correlacion dentro de las variables que recolectamos en el DataFrame:"
   ]
  },
  {
   "cell_type": "code",
   "execution_count": 146,
   "id": "ce9243e3",
   "metadata": {},
   "outputs": [
    {
     "data": {
      "text/plain": [
       "<AxesSubplot:>"
      ]
     },
     "execution_count": 146,
     "metadata": {},
     "output_type": "execute_result"
    },
    {
     "data": {
      "image/png": "[encoded data removed]",
      "text/plain": [
       "<Figure size 792x648 with 2 Axes>"
      ]
     },
     "metadata": {},
     "output_type": "display_data"
    }
   ],
   "source": [
    "corr = df.corr()\n",
    "mask = np.triu(np.ones_like(corr, dtype=bool))\n",
    "f, ax = plt.subplots(figsize=(11, 9))\n",
    "cmap = sns.diverging_palette(230, 20, as_cmap=True)\n",
    "sns.heatmap(corr, mask=mask, cmap=cmap, vmax=1, center=0,\n",
    "            square=True, linewidths=.5, cbar_kws={\"shrink\": .6},annot=True)\n"
   ]
  }
 ],
 "metadata": {
  "kernelspec": {
   "display_name": "Python 3.7.13 ('geopandassb')",
   "language": "python",
   "name": "python3"
  },
  "language_info": {
   "codemirror_mode": {
    "name": "ipython",
    "version": 3
   },
   "file_extension": ".py",
   "mimetype": "text/x-python",
   "name": "python",
   "nbconvert_exporter": "python",
   "pygments_lexer": "ipython3",
   "version": "3.7.13"
  },
  "vscode": {
   "interpreter": {
    "hash": "262bac522b6915c5e5a5fb0426e665e2dbb84150e9e763970f79760832ddd771"
   }
  }
 },
 "nbformat": 4,
 "nbformat_minor": 5
}
