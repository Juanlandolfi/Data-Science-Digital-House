{
 "cells": [
  {
   "cell_type": "markdown",
   "id": "780c4a3e",
   "metadata": {
    "id": "8cb294a0"
   },
   "source": [
    "# Limpieza"
   ]
  },
  {
   "cell_type": "code",
   "execution_count": 1,
   "id": "25e9a045",
   "metadata": {
    "colab": {
     "base_uri": "https://localhost:8080/",
     "height": 373
    },
    "executionInfo": {
     "elapsed": 9,
     "status": "error",
     "timestamp": 1663029189587,
     "user": {
      "displayName": "Daiana Gamarra",
      "userId": "04303350967342292841"
     },
     "user_tz": 180
    },
    "id": "a7f583aa",
    "outputId": "02bf017f-c3d7-42e2-947a-468f18a8a113"
   },
   "outputs": [],
   "source": [
    "import pandas as pd\n",
    "import numpy as np\n",
    "import matplotlib.pyplot as plt\n",
    "import seaborn as sns\n",
    "import re\n",
    "import geopandas as gpd\n",
    "import descartes\n",
    "from shapely.geometry import Point, LineString, MultiPoint, MultiLineString\n",
    "from geopy import distance\n",
    "import geopy"
   ]
  },
  {
   "cell_type": "markdown",
   "id": "82516f86",
   "metadata": {},
   "source": [
    "Cargando el dataset"
   ]
  },
  {
   "cell_type": "code",
   "execution_count": 3,
   "id": "1a7715c4",
   "metadata": {
    "id": "75699fb8",
    "outputId": "6001fa95-1c41-464c-c995-e57da6f0e9cb"
   },
   "outputs": [
    {
     "data": {
      "text/html": [
       "<div>\n",
       "<style scoped>\n",
       "    .dataframe tbody tr th:only-of-type {\n",
       "        vertical-align: middle;\n",
       "    }\n",
       "\n",
       "    .dataframe tbody tr th {\n",
       "        vertical-align: top;\n",
       "    }\n",
       "\n",
       "    .dataframe thead th {\n",
       "        text-align: right;\n",
       "    }\n",
       "</style>\n",
       "<table border=\"1\" class=\"dataframe\">\n",
       "  <thead>\n",
       "    <tr style=\"text-align: right;\">\n",
       "      <th></th>\n",
       "      <th>Unnamed: 0</th>\n",
       "      <th>operation</th>\n",
       "      <th>property_type</th>\n",
       "      <th>place_name</th>\n",
       "      <th>place_with_parent_names</th>\n",
       "      <th>country_name</th>\n",
       "      <th>state_name</th>\n",
       "      <th>geonames_id</th>\n",
       "      <th>lat-lon</th>\n",
       "      <th>lat</th>\n",
       "      <th>lon</th>\n",
       "      <th>price</th>\n",
       "      <th>currency</th>\n",
       "      <th>price_aprox_local_currency</th>\n",
       "      <th>price_aprox_usd</th>\n",
       "      <th>surface_total_in_m2</th>\n",
       "      <th>surface_covered_in_m2</th>\n",
       "      <th>price_usd_per_m2</th>\n",
       "      <th>price_per_m2</th>\n",
       "      <th>floor</th>\n",
       "      <th>rooms</th>\n",
       "      <th>expenses</th>\n",
       "      <th>properati_url</th>\n",
       "      <th>description</th>\n",
       "      <th>title</th>\n",
       "      <th>image_thumbnail</th>\n",
       "    </tr>\n",
       "  </thead>\n",
       "  <tbody>\n",
       "    <tr>\n",
       "      <th>0</th>\n",
       "      <td>0</td>\n",
       "      <td>sell</td>\n",
       "      <td>PH</td>\n",
       "      <td>Mataderos</td>\n",
       "      <td>|Argentina|Capital Federal|Mataderos|</td>\n",
       "      <td>Argentina</td>\n",
       "      <td>Capital Federal</td>\n",
       "      <td>3430787.0</td>\n",
       "      <td>-34.6618237,-58.5088387</td>\n",
       "      <td>-34.661824</td>\n",
       "      <td>-58.508839</td>\n",
       "      <td>62000.0</td>\n",
       "      <td>USD</td>\n",
       "      <td>1093959.0</td>\n",
       "      <td>62000.0</td>\n",
       "      <td>55.0</td>\n",
       "      <td>40.0</td>\n",
       "      <td>1127.272727</td>\n",
       "      <td>1550.000000</td>\n",
       "      <td>NaN</td>\n",
       "      <td>NaN</td>\n",
       "      <td>NaN</td>\n",
       "      <td>http://www.properati.com.ar/15bo8_venta_ph_mat...</td>\n",
       "      <td>2 AMBIENTES TIPO CASA PLANTA BAJA POR PASILLO,...</td>\n",
       "      <td>2 AMB TIPO CASA SIN EXPENSAS EN PB</td>\n",
       "      <td>https://thumbs4.properati.com/8/BluUYiHJLhgIIK...</td>\n",
       "    </tr>\n",
       "    <tr>\n",
       "      <th>1</th>\n",
       "      <td>1</td>\n",
       "      <td>sell</td>\n",
       "      <td>apartment</td>\n",
       "      <td>La Plata</td>\n",
       "      <td>|Argentina|Bs.As. G.B.A. Zona Sur|La Plata|</td>\n",
       "      <td>Argentina</td>\n",
       "      <td>Bs.As. G.B.A. Zona Sur</td>\n",
       "      <td>3432039.0</td>\n",
       "      <td>-34.9038831,-57.9643295</td>\n",
       "      <td>-34.903883</td>\n",
       "      <td>-57.964330</td>\n",
       "      <td>150000.0</td>\n",
       "      <td>USD</td>\n",
       "      <td>2646675.0</td>\n",
       "      <td>150000.0</td>\n",
       "      <td>NaN</td>\n",
       "      <td>NaN</td>\n",
       "      <td>NaN</td>\n",
       "      <td>NaN</td>\n",
       "      <td>NaN</td>\n",
       "      <td>NaN</td>\n",
       "      <td>NaN</td>\n",
       "      <td>http://www.properati.com.ar/15bob_venta_depart...</td>\n",
       "      <td>Venta de departamento en décimo piso al frente...</td>\n",
       "      <td>VENTA Depto 2 dorm. a estrenar 7 e/ 36 y 37   ...</td>\n",
       "      <td>https://thumbs4.properati.com/7/ikpVBu2ztHA7jv...</td>\n",
       "    </tr>\n",
       "    <tr>\n",
       "      <th>2</th>\n",
       "      <td>2</td>\n",
       "      <td>sell</td>\n",
       "      <td>apartment</td>\n",
       "      <td>Mataderos</td>\n",
       "      <td>|Argentina|Capital Federal|Mataderos|</td>\n",
       "      <td>Argentina</td>\n",
       "      <td>Capital Federal</td>\n",
       "      <td>3430787.0</td>\n",
       "      <td>-34.6522615,-58.5229825</td>\n",
       "      <td>-34.652262</td>\n",
       "      <td>-58.522982</td>\n",
       "      <td>72000.0</td>\n",
       "      <td>USD</td>\n",
       "      <td>1270404.0</td>\n",
       "      <td>72000.0</td>\n",
       "      <td>55.0</td>\n",
       "      <td>55.0</td>\n",
       "      <td>1309.090909</td>\n",
       "      <td>1309.090909</td>\n",
       "      <td>NaN</td>\n",
       "      <td>NaN</td>\n",
       "      <td>NaN</td>\n",
       "      <td>http://www.properati.com.ar/15bod_venta_depart...</td>\n",
       "      <td>2 AMBIENTES 3ER PISO LATERAL LIVING COMEDOR AM...</td>\n",
       "      <td>2 AMB 3ER PISO CON ASCENSOR APTO CREDITO</td>\n",
       "      <td>https://thumbs4.properati.com/5/SXKr34F_IwG3W_...</td>\n",
       "    </tr>\n",
       "    <tr>\n",
       "      <th>3</th>\n",
       "      <td>3</td>\n",
       "      <td>sell</td>\n",
       "      <td>PH</td>\n",
       "      <td>Liniers</td>\n",
       "      <td>|Argentina|Capital Federal|Liniers|</td>\n",
       "      <td>Argentina</td>\n",
       "      <td>Capital Federal</td>\n",
       "      <td>3431333.0</td>\n",
       "      <td>-34.6477969,-58.5164244</td>\n",
       "      <td>-34.647797</td>\n",
       "      <td>-58.516424</td>\n",
       "      <td>95000.0</td>\n",
       "      <td>USD</td>\n",
       "      <td>1676227.5</td>\n",
       "      <td>95000.0</td>\n",
       "      <td>NaN</td>\n",
       "      <td>NaN</td>\n",
       "      <td>NaN</td>\n",
       "      <td>NaN</td>\n",
       "      <td>NaN</td>\n",
       "      <td>NaN</td>\n",
       "      <td>NaN</td>\n",
       "      <td>http://www.properati.com.ar/15boh_venta_ph_lin...</td>\n",
       "      <td>PH 3 ambientes con patio. Hay 3 deptos en lote...</td>\n",
       "      <td>PH 3 amb. cfte. reciclado</td>\n",
       "      <td>https://thumbs4.properati.com/3/DgIfX-85Mog5SP...</td>\n",
       "    </tr>\n",
       "    <tr>\n",
       "      <th>4</th>\n",
       "      <td>4</td>\n",
       "      <td>sell</td>\n",
       "      <td>apartment</td>\n",
       "      <td>Centro</td>\n",
       "      <td>|Argentina|Buenos Aires Costa Atlántica|Mar de...</td>\n",
       "      <td>Argentina</td>\n",
       "      <td>Buenos Aires Costa Atlántica</td>\n",
       "      <td>3435548.0</td>\n",
       "      <td>-38.0026256,-57.5494468</td>\n",
       "      <td>-38.002626</td>\n",
       "      <td>-57.549447</td>\n",
       "      <td>64000.0</td>\n",
       "      <td>USD</td>\n",
       "      <td>1129248.0</td>\n",
       "      <td>64000.0</td>\n",
       "      <td>35.0</td>\n",
       "      <td>35.0</td>\n",
       "      <td>1828.571429</td>\n",
       "      <td>1828.571429</td>\n",
       "      <td>NaN</td>\n",
       "      <td>NaN</td>\n",
       "      <td>NaN</td>\n",
       "      <td>http://www.properati.com.ar/15bok_venta_depart...</td>\n",
       "      <td>DEPARTAMENTO CON FANTÁSTICA ILUMINACIÓN NATURA...</td>\n",
       "      <td>DEPTO 2 AMB AL CONTRAFRENTE ZONA CENTRO/PLAZA ...</td>\n",
       "      <td>https://thumbs4.properati.com/5/xrRqlNcSI_vs-f...</td>\n",
       "    </tr>\n",
       "  </tbody>\n",
       "</table>\n",
       "</div>"
      ],
      "text/plain": [
       "   Unnamed: 0 operation property_type place_name  \\\n",
       "0           0      sell            PH  Mataderos   \n",
       "1           1      sell     apartment   La Plata   \n",
       "2           2      sell     apartment  Mataderos   \n",
       "3           3      sell            PH    Liniers   \n",
       "4           4      sell     apartment     Centro   \n",
       "\n",
       "                             place_with_parent_names country_name  \\\n",
       "0              |Argentina|Capital Federal|Mataderos|    Argentina   \n",
       "1        |Argentina|Bs.As. G.B.A. Zona Sur|La Plata|    Argentina   \n",
       "2              |Argentina|Capital Federal|Mataderos|    Argentina   \n",
       "3                |Argentina|Capital Federal|Liniers|    Argentina   \n",
       "4  |Argentina|Buenos Aires Costa Atlántica|Mar de...    Argentina   \n",
       "\n",
       "                     state_name  geonames_id                  lat-lon  \\\n",
       "0               Capital Federal    3430787.0  -34.6618237,-58.5088387   \n",
       "1        Bs.As. G.B.A. Zona Sur    3432039.0  -34.9038831,-57.9643295   \n",
       "2               Capital Federal    3430787.0  -34.6522615,-58.5229825   \n",
       "3               Capital Federal    3431333.0  -34.6477969,-58.5164244   \n",
       "4  Buenos Aires Costa Atlántica    3435548.0  -38.0026256,-57.5494468   \n",
       "\n",
       "         lat        lon     price currency  price_aprox_local_currency  \\\n",
       "0 -34.661824 -58.508839   62000.0      USD                   1093959.0   \n",
       "1 -34.903883 -57.964330  150000.0      USD                   2646675.0   \n",
       "2 -34.652262 -58.522982   72000.0      USD                   1270404.0   \n",
       "3 -34.647797 -58.516424   95000.0      USD                   1676227.5   \n",
       "4 -38.002626 -57.549447   64000.0      USD                   1129248.0   \n",
       "\n",
       "   price_aprox_usd  surface_total_in_m2  surface_covered_in_m2  \\\n",
       "0          62000.0                 55.0                   40.0   \n",
       "1         150000.0                  NaN                    NaN   \n",
       "2          72000.0                 55.0                   55.0   \n",
       "3          95000.0                  NaN                    NaN   \n",
       "4          64000.0                 35.0                   35.0   \n",
       "\n",
       "   price_usd_per_m2  price_per_m2  floor  rooms  expenses  \\\n",
       "0       1127.272727   1550.000000    NaN    NaN       NaN   \n",
       "1               NaN           NaN    NaN    NaN       NaN   \n",
       "2       1309.090909   1309.090909    NaN    NaN       NaN   \n",
       "3               NaN           NaN    NaN    NaN       NaN   \n",
       "4       1828.571429   1828.571429    NaN    NaN       NaN   \n",
       "\n",
       "                                       properati_url  \\\n",
       "0  http://www.properati.com.ar/15bo8_venta_ph_mat...   \n",
       "1  http://www.properati.com.ar/15bob_venta_depart...   \n",
       "2  http://www.properati.com.ar/15bod_venta_depart...   \n",
       "3  http://www.properati.com.ar/15boh_venta_ph_lin...   \n",
       "4  http://www.properati.com.ar/15bok_venta_depart...   \n",
       "\n",
       "                                         description  \\\n",
       "0  2 AMBIENTES TIPO CASA PLANTA BAJA POR PASILLO,...   \n",
       "1  Venta de departamento en décimo piso al frente...   \n",
       "2  2 AMBIENTES 3ER PISO LATERAL LIVING COMEDOR AM...   \n",
       "3  PH 3 ambientes con patio. Hay 3 deptos en lote...   \n",
       "4  DEPARTAMENTO CON FANTÁSTICA ILUMINACIÓN NATURA...   \n",
       "\n",
       "                                               title  \\\n",
       "0                 2 AMB TIPO CASA SIN EXPENSAS EN PB   \n",
       "1  VENTA Depto 2 dorm. a estrenar 7 e/ 36 y 37   ...   \n",
       "2           2 AMB 3ER PISO CON ASCENSOR APTO CREDITO   \n",
       "3                       PH 3 amb. cfte. reciclado      \n",
       "4  DEPTO 2 AMB AL CONTRAFRENTE ZONA CENTRO/PLAZA ...   \n",
       "\n",
       "                                     image_thumbnail  \n",
       "0  https://thumbs4.properati.com/8/BluUYiHJLhgIIK...  \n",
       "1  https://thumbs4.properati.com/7/ikpVBu2ztHA7jv...  \n",
       "2  https://thumbs4.properati.com/5/SXKr34F_IwG3W_...  \n",
       "3  https://thumbs4.properati.com/3/DgIfX-85Mog5SP...  \n",
       "4  https://thumbs4.properati.com/5/xrRqlNcSI_vs-f...  "
      ]
     },
     "execution_count": 3,
     "metadata": {},
     "output_type": "execute_result"
    }
   ],
   "source": [
    "df = pd.read_csv('../data/properatti.csv')\n",
    "pd.options.display.max_columns = None\n",
    "df.head()"
   ]
  },
  {
   "cell_type": "code",
   "execution_count": 143,
   "id": "9ef0444a",
   "metadata": {
    "id": "cf0ba633",
    "outputId": "799b0c00-3089-46cd-edfe-5ddc606bb112"
   },
   "outputs": [
    {
     "name": "stdout",
     "output_type": "stream",
     "text": [
      "<class 'pandas.core.frame.DataFrame'>\n",
      "RangeIndex: 121220 entries, 0 to 121219\n",
      "Data columns (total 26 columns):\n",
      " #   Column                      Non-Null Count   Dtype  \n",
      "---  ------                      --------------   -----  \n",
      " 0   Unnamed: 0                  121220 non-null  int64  \n",
      " 1   operation                   121220 non-null  object \n",
      " 2   property_type               121220 non-null  object \n",
      " 3   place_name                  121197 non-null  object \n",
      " 4   place_with_parent_names     121220 non-null  object \n",
      " 5   country_name                121220 non-null  object \n",
      " 6   state_name                  121220 non-null  object \n",
      " 7   geonames_id                 102503 non-null  float64\n",
      " 8   lat-lon                     69670 non-null   object \n",
      " 9   lat                         69670 non-null   float64\n",
      " 10  lon                         69670 non-null   float64\n",
      " 11  price                       100810 non-null  float64\n",
      " 12  currency                    100809 non-null  object \n",
      " 13  price_aprox_local_currency  100810 non-null  float64\n",
      " 14  price_aprox_usd             100810 non-null  float64\n",
      " 15  surface_total_in_m2         81892 non-null   float64\n",
      " 16  surface_covered_in_m2       101313 non-null  float64\n",
      " 17  price_usd_per_m2            68617 non-null   float64\n",
      " 18  price_per_m2                87658 non-null   float64\n",
      " 19  floor                       7899 non-null    float64\n",
      " 20  rooms                       47390 non-null   float64\n",
      " 21  expenses                    14262 non-null   float64\n",
      " 22  properati_url               121220 non-null  object \n",
      " 23  description                 121218 non-null  object \n",
      " 24  title                       121220 non-null  object \n",
      " 25  image_thumbnail             118108 non-null  object \n",
      "dtypes: float64(13), int64(1), object(12)\n",
      "memory usage: 24.0+ MB\n"
     ]
    }
   ],
   "source": [
    "df.info()"
   ]
  },
  {
   "cell_type": "code",
   "execution_count": 144,
   "id": "76ce7d16",
   "metadata": {
    "id": "c861f96a",
    "outputId": "2db4ee5d-fc4f-4796-be1a-d7592b52ea51"
   },
   "outputs": [
    {
     "data": {
      "text/plain": [
       "(121220, 26)"
      ]
     },
     "execution_count": 144,
     "metadata": {},
     "output_type": "execute_result"
    }
   ],
   "source": [
    "df.shape"
   ]
  },
  {
   "cell_type": "code",
   "execution_count": 145,
   "id": "5f14b5f2",
   "metadata": {
    "id": "fbb34ae1"
   },
   "outputs": [],
   "source": [
    "#backup de la data\n",
    "data = df.copy()"
   ]
  },
  {
   "cell_type": "markdown",
   "id": "8590e7df",
   "metadata": {
    "id": "6eb5cf4b"
   },
   "source": [
    "#### 1. Drop sobre columnas con único valor\n",
    "- La variable solo tiene un tipo, que es sell y no tiene nulos, no aporta nada a un modelo\n",
    "- La variable Country solo tiene un valor y no tiene nulos\n",
    "  "
   ]
  },
  {
   "cell_type": "code",
   "execution_count": 146,
   "id": "0dba8edd",
   "metadata": {
    "id": "e021fa2f",
    "outputId": "094d1c20-958d-4704-913b-5b7b79c565f9"
   },
   "outputs": [
    {
     "data": {
      "text/plain": [
       "sell    121220\n",
       "Name: operation, dtype: int64"
      ]
     },
     "execution_count": 146,
     "metadata": {},
     "output_type": "execute_result"
    }
   ],
   "source": [
    "df.loc[:,'operation'].value_counts()\n",
    "## un solor valor"
   ]
  },
  {
   "cell_type": "code",
   "execution_count": 147,
   "id": "0add4eaa",
   "metadata": {
    "id": "70b48ac5",
    "outputId": "cf8bd366-8521-4c5c-b3ae-d1553e524e1d"
   },
   "outputs": [
    {
     "data": {
      "text/plain": [
       "0.0"
      ]
     },
     "execution_count": 147,
     "metadata": {},
     "output_type": "execute_result"
    }
   ],
   "source": [
    "df.loc[:,'operation'].isnull().sum()/df.shape[0]\n",
    "# no hay nulos"
   ]
  },
  {
   "cell_type": "code",
   "execution_count": 148,
   "id": "44118e32",
   "metadata": {
    "id": "65abab79",
    "outputId": "9b312ca5-9fd4-4606-88f2-af7fa35fd073"
   },
   "outputs": [
    {
     "data": {
      "text/plain": [
       "(121220, 24)"
      ]
     },
     "execution_count": 148,
     "metadata": {},
     "output_type": "execute_result"
    }
   ],
   "source": [
    "df = df.drop('operation', axis=1)\n",
    "df = df.drop('Unnamed: 0', axis=1)\n",
    "df.shape"
   ]
  },
  {
   "cell_type": "code",
   "execution_count": 149,
   "id": "79d1257b",
   "metadata": {
    "id": "5e457af6",
    "outputId": "96d0d45e-3404-423d-97e8-05455d21f94f"
   },
   "outputs": [
    {
     "data": {
      "text/plain": [
       "Argentina    121220\n",
       "Name: country_name, dtype: int64"
      ]
     },
     "execution_count": 149,
     "metadata": {},
     "output_type": "execute_result"
    }
   ],
   "source": [
    "df.loc[:,'country_name'].value_counts()\n",
    "## un solo valor"
   ]
  },
  {
   "cell_type": "code",
   "execution_count": 150,
   "id": "67b764ab",
   "metadata": {
    "id": "a8a5f1a9",
    "outputId": "3a71bff8-e5fe-4343-edab-7330a577d939"
   },
   "outputs": [
    {
     "data": {
      "text/plain": [
       "0.0"
      ]
     },
     "execution_count": 150,
     "metadata": {},
     "output_type": "execute_result"
    }
   ],
   "source": [
    "df.loc[:,'country_name'].isnull().sum()/df.shape[0]\n",
    "# no hay nulos"
   ]
  },
  {
   "cell_type": "code",
   "execution_count": 151,
   "id": "ecbc2585",
   "metadata": {
    "id": "264ecc2b",
    "outputId": "a2951c5b-774d-42da-ce41-511577f13194"
   },
   "outputs": [
    {
     "data": {
      "text/plain": [
       "(121220, 23)"
      ]
     },
     "execution_count": 151,
     "metadata": {},
     "output_type": "execute_result"
    }
   ],
   "source": [
    "df = df.drop('country_name', axis=1)\n",
    "df.shape"
   ]
  },
  {
   "cell_type": "markdown",
   "id": "fecb372b",
   "metadata": {
    "id": "dd65d2b8"
   },
   "source": [
    "#### 2. Eliminando columnas con demsiados valores nulos"
   ]
  },
  {
   "cell_type": "code",
   "execution_count": 152,
   "id": "70990f50",
   "metadata": {
    "id": "2a75166c",
    "outputId": "2fac24f7-766c-43e3-efdc-4c9de0879db3"
   },
   "outputs": [
    {
     "data": {
      "text/plain": [
       "property_type                 0.000000\n",
       "place_name                    0.000190\n",
       "place_with_parent_names       0.000000\n",
       "state_name                    0.000000\n",
       "geonames_id                   0.154405\n",
       "lat-lon                       0.425260\n",
       "lat                           0.425260\n",
       "lon                           0.425260\n",
       "price                         0.168372\n",
       "currency                      0.168380\n",
       "price_aprox_local_currency    0.168372\n",
       "price_aprox_usd               0.168372\n",
       "surface_total_in_m2           0.324435\n",
       "surface_covered_in_m2         0.164222\n",
       "price_usd_per_m2              0.433947\n",
       "price_per_m2                  0.276869\n",
       "floor                         0.934837\n",
       "rooms                         0.609058\n",
       "expenses                      0.882346\n",
       "properati_url                 0.000000\n",
       "description                   0.000016\n",
       "title                         0.000000\n",
       "image_thumbnail               0.025672\n",
       "dtype: float64"
      ]
     },
     "execution_count": 152,
     "metadata": {},
     "output_type": "execute_result"
    }
   ],
   "source": [
    "df.isnull().sum()/df.shape[0]"
   ]
  },
  {
   "cell_type": "code",
   "execution_count": 153,
   "id": "213424f6",
   "metadata": {
    "id": "1bab0aa9",
    "outputId": "03a6b0ed-8ee4-4ea0-dc9a-4b4e01491653"
   },
   "outputs": [
    {
     "data": {
      "text/plain": [
       "(121220, 20)"
      ]
     },
     "execution_count": 153,
     "metadata": {},
     "output_type": "execute_result"
    }
   ],
   "source": [
    "## las variables floor y expenses tienen un porcentaje muy grande de nulos por lo que es mejor dropearlas\n",
    "## tambien dropeamos image_thumbnail, ya que no observamos que aporte valor\n",
    "df = df.drop('floor', axis=1)\n",
    "df = df.drop('expenses', axis=1)\n",
    "df = df.drop('image_thumbnail', axis=1)\n",
    "df.shape"
   ]
  },
  {
   "cell_type": "code",
   "execution_count": 154,
   "id": "3503d04d",
   "metadata": {
    "id": "d97db955",
    "outputId": "df0e5efb-cfd9-40b0-c2e1-5fb09dcf9f0d"
   },
   "outputs": [
    {
     "data": {
      "text/plain": [
       "property_type                 0.000000\n",
       "place_name                    0.000190\n",
       "place_with_parent_names       0.000000\n",
       "state_name                    0.000000\n",
       "geonames_id                   0.154405\n",
       "lat-lon                       0.425260\n",
       "lat                           0.425260\n",
       "lon                           0.425260\n",
       "price                         0.168372\n",
       "currency                      0.168380\n",
       "price_aprox_local_currency    0.168372\n",
       "price_aprox_usd               0.168372\n",
       "surface_total_in_m2           0.324435\n",
       "surface_covered_in_m2         0.164222\n",
       "price_usd_per_m2              0.433947\n",
       "price_per_m2                  0.276869\n",
       "rooms                         0.609058\n",
       "properati_url                 0.000000\n",
       "description                   0.000016\n",
       "title                         0.000000\n",
       "dtype: float64"
      ]
     },
     "execution_count": 154,
     "metadata": {},
     "output_type": "execute_result"
    }
   ],
   "source": [
    "df.isnull().sum()/df.shape[0]"
   ]
  },
  {
   "cell_type": "code",
   "execution_count": 155,
   "id": "e9ca3c28",
   "metadata": {
    "id": "d1d8eb6f",
    "outputId": "07548011-d6e9-4a53-80ed-ff9a1ef9ba5b"
   },
   "outputs": [
    {
     "data": {
      "text/plain": [
       "Int64Index([], dtype='int64')"
      ]
     },
     "execution_count": 155,
     "metadata": {},
     "output_type": "execute_result"
    }
   ],
   "source": [
    "# dropeamos lat y lon para quedarnos con la columna lat-lon, \n",
    "## ya que observamos que no nos puede servir para imputar algun valor faltante\n",
    "df.loc[(df['lat-lon'].isna()) & (df['lat'].notna()) & (df['lon'].notna()),: ].index"
   ]
  },
  {
   "cell_type": "code",
   "execution_count": 156,
   "id": "5bfbeee7",
   "metadata": {
    "id": "b6a5dc73",
    "outputId": "133dfa39-c1f9-4f91-9338-02a957b8fedc"
   },
   "outputs": [
    {
     "data": {
      "text/plain": [
       "(121220, 18)"
      ]
     },
     "execution_count": 156,
     "metadata": {},
     "output_type": "execute_result"
    }
   ],
   "source": [
    "df = df.drop('lon', axis=1)\n",
    "df = df.drop('lat', axis=1)\n",
    "df.shape"
   ]
  },
  {
   "cell_type": "markdown",
   "id": "2920f9e2",
   "metadata": {
    "id": "441d492b"
   },
   "source": [
    "#### 3. Usando la columna state_name para reducir la longitud del dataset\n"
   ]
  },
  {
   "cell_type": "code",
   "execution_count": 157,
   "id": "8124af36",
   "metadata": {
    "id": "9db3d4f1",
    "outputId": "f3b5ef2e-ff77-4f84-dcb0-ca2cba2713b5"
   },
   "outputs": [
    {
     "data": {
      "text/plain": [
       "0                 capital federal\n",
       "1          bs.as. g.b.a. zona sur\n",
       "2                 capital federal\n",
       "3                 capital federal\n",
       "4    buenos aires costa atlántica\n",
       "Name: state_name, dtype: object"
      ]
     },
     "execution_count": 157,
     "metadata": {},
     "output_type": "execute_result"
    }
   ],
   "source": [
    "df_state_name = df['state_name'].str.lower()\n",
    "df_state_name.head()\n",
    "### convertimos la variable en cuestión en una serie, cambiamos a lower"
   ]
  },
  {
   "cell_type": "code",
   "execution_count": 158,
   "id": "9b6c800f",
   "metadata": {
    "id": "1bf4af81",
    "outputId": "1669dff3-2c63-4628-93d3-3adcdb082900"
   },
   "outputs": [
    {
     "data": {
      "text/plain": [
       "0.0"
      ]
     },
     "execution_count": 158,
     "metadata": {},
     "output_type": "execute_result"
    }
   ],
   "source": [
    "df_state_name.isnull().sum()/df_state_name.shape[0]"
   ]
  },
  {
   "cell_type": "code",
   "execution_count": 159,
   "id": "c3b3224b",
   "metadata": {
    "id": "525492f5",
    "outputId": "1f23eec2-d1be-4bd8-faa1-3d347d7fbba4"
   },
   "outputs": [
    {
     "data": {
      "text/html": [
       "<div>\n",
       "<style scoped>\n",
       "    .dataframe tbody tr th:only-of-type {\n",
       "        vertical-align: middle;\n",
       "    }\n",
       "\n",
       "    .dataframe tbody tr th {\n",
       "        vertical-align: top;\n",
       "    }\n",
       "\n",
       "    .dataframe thead th {\n",
       "        text-align: right;\n",
       "    }\n",
       "</style>\n",
       "<table border=\"1\" class=\"dataframe\">\n",
       "  <thead>\n",
       "    <tr style=\"text-align: right;\">\n",
       "      <th></th>\n",
       "      <th>state_name</th>\n",
       "      <th>porcentaje</th>\n",
       "      <th>porcentaje_acumulado</th>\n",
       "    </tr>\n",
       "  </thead>\n",
       "  <tbody>\n",
       "    <tr>\n",
       "      <th>capital federal</th>\n",
       "      <td>32316</td>\n",
       "      <td>26.658967</td>\n",
       "      <td>26.658967</td>\n",
       "    </tr>\n",
       "    <tr>\n",
       "      <th>bs.as. g.b.a. zona norte</th>\n",
       "      <td>25560</td>\n",
       "      <td>21.085629</td>\n",
       "      <td>47.744597</td>\n",
       "    </tr>\n",
       "    <tr>\n",
       "      <th>bs.as. g.b.a. zona sur</th>\n",
       "      <td>13952</td>\n",
       "      <td>11.509652</td>\n",
       "      <td>59.254248</td>\n",
       "    </tr>\n",
       "    <tr>\n",
       "      <th>córdoba</th>\n",
       "      <td>12069</td>\n",
       "      <td>9.956278</td>\n",
       "      <td>69.210526</td>\n",
       "    </tr>\n",
       "    <tr>\n",
       "      <th>santa fe</th>\n",
       "      <td>10172</td>\n",
       "      <td>8.391355</td>\n",
       "      <td>77.601881</td>\n",
       "    </tr>\n",
       "    <tr>\n",
       "      <th>buenos aires costa atlántica</th>\n",
       "      <td>10006</td>\n",
       "      <td>8.254413</td>\n",
       "      <td>85.856294</td>\n",
       "    </tr>\n",
       "    <tr>\n",
       "      <th>bs.as. g.b.a. zona oeste</th>\n",
       "      <td>9322</td>\n",
       "      <td>7.690150</td>\n",
       "      <td>93.546444</td>\n",
       "    </tr>\n",
       "    <tr>\n",
       "      <th>buenos aires interior</th>\n",
       "      <td>2291</td>\n",
       "      <td>1.889952</td>\n",
       "      <td>95.436397</td>\n",
       "    </tr>\n",
       "    <tr>\n",
       "      <th>río negro</th>\n",
       "      <td>808</td>\n",
       "      <td>0.666557</td>\n",
       "      <td>96.102953</td>\n",
       "    </tr>\n",
       "    <tr>\n",
       "      <th>neuquén</th>\n",
       "      <td>733</td>\n",
       "      <td>0.604686</td>\n",
       "      <td>96.707639</td>\n",
       "    </tr>\n",
       "    <tr>\n",
       "      <th>mendoza</th>\n",
       "      <td>681</td>\n",
       "      <td>0.561788</td>\n",
       "      <td>97.269427</td>\n",
       "    </tr>\n",
       "    <tr>\n",
       "      <th>tucumán</th>\n",
       "      <td>674</td>\n",
       "      <td>0.556014</td>\n",
       "      <td>97.825441</td>\n",
       "    </tr>\n",
       "    <tr>\n",
       "      <th>corrientes</th>\n",
       "      <td>583</td>\n",
       "      <td>0.480944</td>\n",
       "      <td>98.306385</td>\n",
       "    </tr>\n",
       "    <tr>\n",
       "      <th>misiones</th>\n",
       "      <td>464</td>\n",
       "      <td>0.382775</td>\n",
       "      <td>98.689160</td>\n",
       "    </tr>\n",
       "    <tr>\n",
       "      <th>entre ríos</th>\n",
       "      <td>369</td>\n",
       "      <td>0.304405</td>\n",
       "      <td>98.993565</td>\n",
       "    </tr>\n",
       "    <tr>\n",
       "      <th>salta</th>\n",
       "      <td>278</td>\n",
       "      <td>0.229335</td>\n",
       "      <td>99.222901</td>\n",
       "    </tr>\n",
       "    <tr>\n",
       "      <th>chubut</th>\n",
       "      <td>259</td>\n",
       "      <td>0.213661</td>\n",
       "      <td>99.436562</td>\n",
       "    </tr>\n",
       "    <tr>\n",
       "      <th>san luis</th>\n",
       "      <td>252</td>\n",
       "      <td>0.207886</td>\n",
       "      <td>99.644448</td>\n",
       "    </tr>\n",
       "    <tr>\n",
       "      <th>la pampa</th>\n",
       "      <td>157</td>\n",
       "      <td>0.129517</td>\n",
       "      <td>99.773965</td>\n",
       "    </tr>\n",
       "    <tr>\n",
       "      <th>formosa</th>\n",
       "      <td>65</td>\n",
       "      <td>0.053622</td>\n",
       "      <td>99.827586</td>\n",
       "    </tr>\n",
       "  </tbody>\n",
       "</table>\n",
       "</div>"
      ],
      "text/plain": [
       "                              state_name  porcentaje  porcentaje_acumulado\n",
       "capital federal                    32316   26.658967             26.658967\n",
       "bs.as. g.b.a. zona norte           25560   21.085629             47.744597\n",
       "bs.as. g.b.a. zona sur             13952   11.509652             59.254248\n",
       "córdoba                            12069    9.956278             69.210526\n",
       "santa fe                           10172    8.391355             77.601881\n",
       "buenos aires costa atlántica       10006    8.254413             85.856294\n",
       "bs.as. g.b.a. zona oeste            9322    7.690150             93.546444\n",
       "buenos aires interior               2291    1.889952             95.436397\n",
       "río negro                            808    0.666557             96.102953\n",
       "neuquén                              733    0.604686             96.707639\n",
       "mendoza                              681    0.561788             97.269427\n",
       "tucumán                              674    0.556014             97.825441\n",
       "corrientes                           583    0.480944             98.306385\n",
       "misiones                             464    0.382775             98.689160\n",
       "entre ríos                           369    0.304405             98.993565\n",
       "salta                                278    0.229335             99.222901\n",
       "chubut                               259    0.213661             99.436562\n",
       "san luis                             252    0.207886             99.644448\n",
       "la pampa                             157    0.129517             99.773965\n",
       "formosa                               65    0.053622             99.827586"
      ]
     },
     "execution_count": 159,
     "metadata": {},
     "output_type": "execute_result"
    }
   ],
   "source": [
    "df_state_name_value_counts = pd.DataFrame(df_state_name.value_counts())\n",
    "df_state_name_value_counts['porcentaje']  = 100*(df_state_name_value_counts['state_name']/df_state_name.shape[0])\n",
    "df_state_name_value_counts['porcentaje_acumulado'] = df_state_name_value_counts['porcentaje'].cumsum(axis = 0, skipna = True)\n",
    "df_state_name_value_counts.head(20)\n",
    "### tomaremos solo los valores que tengan un porcentaje mayor a 1%"
   ]
  },
  {
   "cell_type": "code",
   "execution_count": 160,
   "id": "8587eb8a",
   "metadata": {
    "id": "27b73d4d"
   },
   "outputs": [],
   "source": [
    "states = ['capital federal', 'bs.as. g.b.a. zona norte', 'bs.as. g.b.a. zona sur', 'córdoba', 'santa fe', \n",
    "          'buenos aires costa atlántica', 'bs.as. g.b.a. zona oeste', 'buenos aires interior']"
   ]
  },
  {
   "cell_type": "code",
   "execution_count": 161,
   "id": "dc762e3e",
   "metadata": {
    "id": "353a79fb",
    "outputId": "10395e49-5326-4b36-8cf3-9d3ec78970d1"
   },
   "outputs": [
    {
     "data": {
      "text/html": [
       "<div>\n",
       "<style scoped>\n",
       "    .dataframe tbody tr th:only-of-type {\n",
       "        vertical-align: middle;\n",
       "    }\n",
       "\n",
       "    .dataframe tbody tr th {\n",
       "        vertical-align: top;\n",
       "    }\n",
       "\n",
       "    .dataframe thead th {\n",
       "        text-align: right;\n",
       "    }\n",
       "</style>\n",
       "<table border=\"1\" class=\"dataframe\">\n",
       "  <thead>\n",
       "    <tr style=\"text-align: right;\">\n",
       "      <th></th>\n",
       "      <th>property_type</th>\n",
       "      <th>place_name</th>\n",
       "      <th>place_with_parent_names</th>\n",
       "      <th>state_name</th>\n",
       "      <th>geonames_id</th>\n",
       "      <th>lat-lon</th>\n",
       "      <th>price</th>\n",
       "      <th>currency</th>\n",
       "      <th>price_aprox_local_currency</th>\n",
       "      <th>price_aprox_usd</th>\n",
       "      <th>surface_total_in_m2</th>\n",
       "      <th>surface_covered_in_m2</th>\n",
       "      <th>price_usd_per_m2</th>\n",
       "      <th>price_per_m2</th>\n",
       "      <th>rooms</th>\n",
       "      <th>properati_url</th>\n",
       "      <th>description</th>\n",
       "      <th>title</th>\n",
       "    </tr>\n",
       "  </thead>\n",
       "  <tbody>\n",
       "    <tr>\n",
       "      <th>0</th>\n",
       "      <td>PH</td>\n",
       "      <td>Mataderos</td>\n",
       "      <td>|Argentina|Capital Federal|Mataderos|</td>\n",
       "      <td>Capital Federal</td>\n",
       "      <td>3430787.0</td>\n",
       "      <td>-34.6618237,-58.5088387</td>\n",
       "      <td>62000.0</td>\n",
       "      <td>USD</td>\n",
       "      <td>1093959.0</td>\n",
       "      <td>62000.0</td>\n",
       "      <td>55.0</td>\n",
       "      <td>40.0</td>\n",
       "      <td>1127.272727</td>\n",
       "      <td>1550.0</td>\n",
       "      <td>NaN</td>\n",
       "      <td>http://www.properati.com.ar/15bo8_venta_ph_mat...</td>\n",
       "      <td>2 AMBIENTES TIPO CASA PLANTA BAJA POR PASILLO,...</td>\n",
       "      <td>2 AMB TIPO CASA SIN EXPENSAS EN PB</td>\n",
       "    </tr>\n",
       "    <tr>\n",
       "      <th>1</th>\n",
       "      <td>apartment</td>\n",
       "      <td>La Plata</td>\n",
       "      <td>|Argentina|Bs.As. G.B.A. Zona Sur|La Plata|</td>\n",
       "      <td>Bs.As. G.B.A. Zona Sur</td>\n",
       "      <td>3432039.0</td>\n",
       "      <td>-34.9038831,-57.9643295</td>\n",
       "      <td>150000.0</td>\n",
       "      <td>USD</td>\n",
       "      <td>2646675.0</td>\n",
       "      <td>150000.0</td>\n",
       "      <td>NaN</td>\n",
       "      <td>NaN</td>\n",
       "      <td>NaN</td>\n",
       "      <td>NaN</td>\n",
       "      <td>NaN</td>\n",
       "      <td>http://www.properati.com.ar/15bob_venta_depart...</td>\n",
       "      <td>Venta de departamento en décimo piso al frente...</td>\n",
       "      <td>VENTA Depto 2 dorm. a estrenar 7 e/ 36 y 37   ...</td>\n",
       "    </tr>\n",
       "  </tbody>\n",
       "</table>\n",
       "</div>"
      ],
      "text/plain": [
       "  property_type place_name                      place_with_parent_names  \\\n",
       "0            PH  Mataderos        |Argentina|Capital Federal|Mataderos|   \n",
       "1     apartment   La Plata  |Argentina|Bs.As. G.B.A. Zona Sur|La Plata|   \n",
       "\n",
       "               state_name  geonames_id                  lat-lon     price  \\\n",
       "0         Capital Federal    3430787.0  -34.6618237,-58.5088387   62000.0   \n",
       "1  Bs.As. G.B.A. Zona Sur    3432039.0  -34.9038831,-57.9643295  150000.0   \n",
       "\n",
       "  currency  price_aprox_local_currency  price_aprox_usd  surface_total_in_m2  \\\n",
       "0      USD                   1093959.0          62000.0                 55.0   \n",
       "1      USD                   2646675.0         150000.0                  NaN   \n",
       "\n",
       "   surface_covered_in_m2  price_usd_per_m2  price_per_m2  rooms  \\\n",
       "0                   40.0       1127.272727        1550.0    NaN   \n",
       "1                    NaN               NaN           NaN    NaN   \n",
       "\n",
       "                                       properati_url  \\\n",
       "0  http://www.properati.com.ar/15bo8_venta_ph_mat...   \n",
       "1  http://www.properati.com.ar/15bob_venta_depart...   \n",
       "\n",
       "                                         description  \\\n",
       "0  2 AMBIENTES TIPO CASA PLANTA BAJA POR PASILLO,...   \n",
       "1  Venta de departamento en décimo piso al frente...   \n",
       "\n",
       "                                               title  \n",
       "0                 2 AMB TIPO CASA SIN EXPENSAS EN PB  \n",
       "1  VENTA Depto 2 dorm. a estrenar 7 e/ 36 y 37   ...  "
      ]
     },
     "execution_count": 161,
     "metadata": {},
     "output_type": "execute_result"
    }
   ],
   "source": [
    "df.head(2)"
   ]
  },
  {
   "cell_type": "code",
   "execution_count": 162,
   "id": "3bebc9f3",
   "metadata": {
    "id": "65bed8b2"
   },
   "outputs": [],
   "source": [
    "df['state_name'] = df['state_name'].str.lower()\n",
    "df = df[df['state_name'].isin(states)]"
   ]
  },
  {
   "cell_type": "code",
   "execution_count": 163,
   "id": "425c859a",
   "metadata": {
    "id": "06798493"
   },
   "outputs": [],
   "source": [
    "df_group_state_null = pd.DataFrame(df.groupby(['state_name'])['price'].apply(lambda x: x.isnull().sum())/df.groupby(['state_name'])['price'].size())\n",
    "for i in df.columns:\n",
    "    df1 = pd.DataFrame(df.groupby(['state_name'])[i].apply(lambda x: x.isnull().sum())/df.groupby(['state_name'])[i].size())\n",
    "    df_group_state_null = pd.concat([df_group_state_null, df1], axis = 1)\n"
   ]
  },
  {
   "cell_type": "code",
   "execution_count": 164,
   "id": "18f325ee",
   "metadata": {
    "id": "54d70f0a",
    "outputId": "94cdc012-634a-46ce-c5f5-f9ce73ce78aa"
   },
   "outputs": [
    {
     "data": {
      "text/html": [
       "<div>\n",
       "<style scoped>\n",
       "    .dataframe tbody tr th:only-of-type {\n",
       "        vertical-align: middle;\n",
       "    }\n",
       "\n",
       "    .dataframe tbody tr th {\n",
       "        vertical-align: top;\n",
       "    }\n",
       "\n",
       "    .dataframe thead th {\n",
       "        text-align: right;\n",
       "    }\n",
       "</style>\n",
       "<table border=\"1\" class=\"dataframe\">\n",
       "  <thead>\n",
       "    <tr style=\"text-align: right;\">\n",
       "      <th></th>\n",
       "      <th>price</th>\n",
       "      <th>property_type</th>\n",
       "      <th>place_name</th>\n",
       "      <th>place_with_parent_names</th>\n",
       "      <th>state_name</th>\n",
       "      <th>geonames_id</th>\n",
       "      <th>lat-lon</th>\n",
       "      <th>price</th>\n",
       "      <th>currency</th>\n",
       "      <th>price_aprox_local_currency</th>\n",
       "      <th>price_aprox_usd</th>\n",
       "      <th>surface_total_in_m2</th>\n",
       "      <th>surface_covered_in_m2</th>\n",
       "      <th>price_usd_per_m2</th>\n",
       "      <th>price_per_m2</th>\n",
       "      <th>rooms</th>\n",
       "      <th>properati_url</th>\n",
       "      <th>description</th>\n",
       "      <th>title</th>\n",
       "    </tr>\n",
       "    <tr>\n",
       "      <th>state_name</th>\n",
       "      <th></th>\n",
       "      <th></th>\n",
       "      <th></th>\n",
       "      <th></th>\n",
       "      <th></th>\n",
       "      <th></th>\n",
       "      <th></th>\n",
       "      <th></th>\n",
       "      <th></th>\n",
       "      <th></th>\n",
       "      <th></th>\n",
       "      <th></th>\n",
       "      <th></th>\n",
       "      <th></th>\n",
       "      <th></th>\n",
       "      <th></th>\n",
       "      <th></th>\n",
       "      <th></th>\n",
       "      <th></th>\n",
       "    </tr>\n",
       "  </thead>\n",
       "  <tbody>\n",
       "    <tr>\n",
       "      <th>bs.as. g.b.a. zona norte</th>\n",
       "      <td>0.058764</td>\n",
       "      <td>0.0</td>\n",
       "      <td>0.0009</td>\n",
       "      <td>0.0</td>\n",
       "      <td>0.0</td>\n",
       "      <td>0.397144</td>\n",
       "      <td>0.552504</td>\n",
       "      <td>0.058764</td>\n",
       "      <td>0.058764</td>\n",
       "      <td>0.058764</td>\n",
       "      <td>0.058764</td>\n",
       "      <td>0.266158</td>\n",
       "      <td>0.069327</td>\n",
       "      <td>0.319053</td>\n",
       "      <td>0.119014</td>\n",
       "      <td>0.728482</td>\n",
       "      <td>0.0</td>\n",
       "      <td>0.000039</td>\n",
       "      <td>0.0</td>\n",
       "    </tr>\n",
       "    <tr>\n",
       "      <th>bs.as. g.b.a. zona oeste</th>\n",
       "      <td>0.213366</td>\n",
       "      <td>0.0</td>\n",
       "      <td>0.0000</td>\n",
       "      <td>0.0</td>\n",
       "      <td>0.0</td>\n",
       "      <td>0.148144</td>\n",
       "      <td>0.397447</td>\n",
       "      <td>0.213366</td>\n",
       "      <td>0.213366</td>\n",
       "      <td>0.213366</td>\n",
       "      <td>0.213366</td>\n",
       "      <td>0.350461</td>\n",
       "      <td>0.148251</td>\n",
       "      <td>0.504076</td>\n",
       "      <td>0.327827</td>\n",
       "      <td>0.486162</td>\n",
       "      <td>0.0</td>\n",
       "      <td>0.000000</td>\n",
       "      <td>0.0</td>\n",
       "    </tr>\n",
       "    <tr>\n",
       "      <th>bs.as. g.b.a. zona sur</th>\n",
       "      <td>0.133816</td>\n",
       "      <td>0.0</td>\n",
       "      <td>0.0000</td>\n",
       "      <td>0.0</td>\n",
       "      <td>0.0</td>\n",
       "      <td>0.317947</td>\n",
       "      <td>0.572176</td>\n",
       "      <td>0.133816</td>\n",
       "      <td>0.133816</td>\n",
       "      <td>0.133816</td>\n",
       "      <td>0.133816</td>\n",
       "      <td>0.490467</td>\n",
       "      <td>0.215883</td>\n",
       "      <td>0.557554</td>\n",
       "      <td>0.289923</td>\n",
       "      <td>0.793291</td>\n",
       "      <td>0.0</td>\n",
       "      <td>0.000000</td>\n",
       "      <td>0.0</td>\n",
       "    </tr>\n",
       "    <tr>\n",
       "      <th>buenos aires costa atlántica</th>\n",
       "      <td>0.094643</td>\n",
       "      <td>0.0</td>\n",
       "      <td>0.0000</td>\n",
       "      <td>0.0</td>\n",
       "      <td>0.0</td>\n",
       "      <td>0.106836</td>\n",
       "      <td>0.179992</td>\n",
       "      <td>0.094643</td>\n",
       "      <td>0.094643</td>\n",
       "      <td>0.094643</td>\n",
       "      <td>0.094643</td>\n",
       "      <td>0.301919</td>\n",
       "      <td>0.246952</td>\n",
       "      <td>0.365381</td>\n",
       "      <td>0.308015</td>\n",
       "      <td>0.235858</td>\n",
       "      <td>0.0</td>\n",
       "      <td>0.000000</td>\n",
       "      <td>0.0</td>\n",
       "    </tr>\n",
       "    <tr>\n",
       "      <th>buenos aires interior</th>\n",
       "      <td>0.208206</td>\n",
       "      <td>0.0</td>\n",
       "      <td>0.0000</td>\n",
       "      <td>0.0</td>\n",
       "      <td>0.0</td>\n",
       "      <td>0.059799</td>\n",
       "      <td>0.324749</td>\n",
       "      <td>0.208206</td>\n",
       "      <td>0.208206</td>\n",
       "      <td>0.208206</td>\n",
       "      <td>0.208206</td>\n",
       "      <td>0.406373</td>\n",
       "      <td>0.223047</td>\n",
       "      <td>0.558708</td>\n",
       "      <td>0.371017</td>\n",
       "      <td>0.589699</td>\n",
       "      <td>0.0</td>\n",
       "      <td>0.000000</td>\n",
       "      <td>0.0</td>\n",
       "    </tr>\n",
       "    <tr>\n",
       "      <th>capital federal</th>\n",
       "      <td>0.102055</td>\n",
       "      <td>0.0</td>\n",
       "      <td>0.0000</td>\n",
       "      <td>0.0</td>\n",
       "      <td>0.0</td>\n",
       "      <td>0.039795</td>\n",
       "      <td>0.264451</td>\n",
       "      <td>0.102055</td>\n",
       "      <td>0.102055</td>\n",
       "      <td>0.102055</td>\n",
       "      <td>0.102055</td>\n",
       "      <td>0.181922</td>\n",
       "      <td>0.072379</td>\n",
       "      <td>0.274848</td>\n",
       "      <td>0.154475</td>\n",
       "      <td>0.525777</td>\n",
       "      <td>0.0</td>\n",
       "      <td>0.000000</td>\n",
       "      <td>0.0</td>\n",
       "    </tr>\n",
       "    <tr>\n",
       "      <th>córdoba</th>\n",
       "      <td>0.251139</td>\n",
       "      <td>0.0</td>\n",
       "      <td>0.0000</td>\n",
       "      <td>0.0</td>\n",
       "      <td>0.0</td>\n",
       "      <td>0.004226</td>\n",
       "      <td>0.575607</td>\n",
       "      <td>0.251139</td>\n",
       "      <td>0.251222</td>\n",
       "      <td>0.251139</td>\n",
       "      <td>0.251139</td>\n",
       "      <td>0.582070</td>\n",
       "      <td>0.286851</td>\n",
       "      <td>0.695584</td>\n",
       "      <td>0.465076</td>\n",
       "      <td>0.677769</td>\n",
       "      <td>0.0</td>\n",
       "      <td>0.000083</td>\n",
       "      <td>0.0</td>\n",
       "    </tr>\n",
       "    <tr>\n",
       "      <th>santa fe</th>\n",
       "      <td>0.467853</td>\n",
       "      <td>0.0</td>\n",
       "      <td>0.0000</td>\n",
       "      <td>0.0</td>\n",
       "      <td>0.0</td>\n",
       "      <td>0.001573</td>\n",
       "      <td>0.470999</td>\n",
       "      <td>0.467853</td>\n",
       "      <td>0.467853</td>\n",
       "      <td>0.467853</td>\n",
       "      <td>0.467853</td>\n",
       "      <td>0.323339</td>\n",
       "      <td>0.274774</td>\n",
       "      <td>0.610696</td>\n",
       "      <td>0.540208</td>\n",
       "      <td>0.677055</td>\n",
       "      <td>0.0</td>\n",
       "      <td>0.000000</td>\n",
       "      <td>0.0</td>\n",
       "    </tr>\n",
       "  </tbody>\n",
       "</table>\n",
       "</div>"
      ],
      "text/plain": [
       "                                 price  property_type  place_name  \\\n",
       "state_name                                                          \n",
       "bs.as. g.b.a. zona norte      0.058764            0.0      0.0009   \n",
       "bs.as. g.b.a. zona oeste      0.213366            0.0      0.0000   \n",
       "bs.as. g.b.a. zona sur        0.133816            0.0      0.0000   \n",
       "buenos aires costa atlántica  0.094643            0.0      0.0000   \n",
       "buenos aires interior         0.208206            0.0      0.0000   \n",
       "capital federal               0.102055            0.0      0.0000   \n",
       "córdoba                       0.251139            0.0      0.0000   \n",
       "santa fe                      0.467853            0.0      0.0000   \n",
       "\n",
       "                              place_with_parent_names  state_name  \\\n",
       "state_name                                                          \n",
       "bs.as. g.b.a. zona norte                          0.0         0.0   \n",
       "bs.as. g.b.a. zona oeste                          0.0         0.0   \n",
       "bs.as. g.b.a. zona sur                            0.0         0.0   \n",
       "buenos aires costa atlántica                      0.0         0.0   \n",
       "buenos aires interior                             0.0         0.0   \n",
       "capital federal                                   0.0         0.0   \n",
       "córdoba                                           0.0         0.0   \n",
       "santa fe                                          0.0         0.0   \n",
       "\n",
       "                              geonames_id   lat-lon     price  currency  \\\n",
       "state_name                                                                \n",
       "bs.as. g.b.a. zona norte         0.397144  0.552504  0.058764  0.058764   \n",
       "bs.as. g.b.a. zona oeste         0.148144  0.397447  0.213366  0.213366   \n",
       "bs.as. g.b.a. zona sur           0.317947  0.572176  0.133816  0.133816   \n",
       "buenos aires costa atlántica     0.106836  0.179992  0.094643  0.094643   \n",
       "buenos aires interior            0.059799  0.324749  0.208206  0.208206   \n",
       "capital federal                  0.039795  0.264451  0.102055  0.102055   \n",
       "córdoba                          0.004226  0.575607  0.251139  0.251222   \n",
       "santa fe                         0.001573  0.470999  0.467853  0.467853   \n",
       "\n",
       "                              price_aprox_local_currency  price_aprox_usd  \\\n",
       "state_name                                                                  \n",
       "bs.as. g.b.a. zona norte                        0.058764         0.058764   \n",
       "bs.as. g.b.a. zona oeste                        0.213366         0.213366   \n",
       "bs.as. g.b.a. zona sur                          0.133816         0.133816   \n",
       "buenos aires costa atlántica                    0.094643         0.094643   \n",
       "buenos aires interior                           0.208206         0.208206   \n",
       "capital federal                                 0.102055         0.102055   \n",
       "córdoba                                         0.251139         0.251139   \n",
       "santa fe                                        0.467853         0.467853   \n",
       "\n",
       "                              surface_total_in_m2  surface_covered_in_m2  \\\n",
       "state_name                                                                 \n",
       "bs.as. g.b.a. zona norte                 0.266158               0.069327   \n",
       "bs.as. g.b.a. zona oeste                 0.350461               0.148251   \n",
       "bs.as. g.b.a. zona sur                   0.490467               0.215883   \n",
       "buenos aires costa atlántica             0.301919               0.246952   \n",
       "buenos aires interior                    0.406373               0.223047   \n",
       "capital federal                          0.181922               0.072379   \n",
       "córdoba                                  0.582070               0.286851   \n",
       "santa fe                                 0.323339               0.274774   \n",
       "\n",
       "                              price_usd_per_m2  price_per_m2     rooms  \\\n",
       "state_name                                                               \n",
       "bs.as. g.b.a. zona norte              0.319053      0.119014  0.728482   \n",
       "bs.as. g.b.a. zona oeste              0.504076      0.327827  0.486162   \n",
       "bs.as. g.b.a. zona sur                0.557554      0.289923  0.793291   \n",
       "buenos aires costa atlántica          0.365381      0.308015  0.235858   \n",
       "buenos aires interior                 0.558708      0.371017  0.589699   \n",
       "capital federal                       0.274848      0.154475  0.525777   \n",
       "córdoba                               0.695584      0.465076  0.677769   \n",
       "santa fe                              0.610696      0.540208  0.677055   \n",
       "\n",
       "                              properati_url  description  title  \n",
       "state_name                                                       \n",
       "bs.as. g.b.a. zona norte                0.0     0.000039    0.0  \n",
       "bs.as. g.b.a. zona oeste                0.0     0.000000    0.0  \n",
       "bs.as. g.b.a. zona sur                  0.0     0.000000    0.0  \n",
       "buenos aires costa atlántica            0.0     0.000000    0.0  \n",
       "buenos aires interior                   0.0     0.000000    0.0  \n",
       "capital federal                         0.0     0.000000    0.0  \n",
       "córdoba                                 0.0     0.000083    0.0  \n",
       "santa fe                                0.0     0.000000    0.0  "
      ]
     },
     "execution_count": 164,
     "metadata": {},
     "output_type": "execute_result"
    }
   ],
   "source": [
    "df_group_state_null"
   ]
  },
  {
   "cell_type": "code",
   "execution_count": 165,
   "id": "9229f8e1",
   "metadata": {
    "id": "0bc01fa6",
    "outputId": "6f582247-37e2-48d5-c14d-ff20d9efe0c1"
   },
   "outputs": [
    {
     "data": {
      "text/plain": [
       "(115688, 18)"
      ]
     },
     "execution_count": 165,
     "metadata": {},
     "output_type": "execute_result"
    }
   ],
   "source": [
    "df.shape"
   ]
  },
  {
   "cell_type": "code",
   "execution_count": 166,
   "id": "1e32066d",
   "metadata": {
    "id": "88b3799d",
    "outputId": "2a25f93d-75e2-42b3-e2a9-7e3e9cfb226f"
   },
   "outputs": [
    {
     "data": {
      "text/plain": [
       "property_type                 0.000000\n",
       "place_name                    0.000199\n",
       "place_with_parent_names       0.000000\n",
       "state_name                    0.000000\n",
       "geonames_id                   0.160146\n",
       "lat-lon                       0.420433\n",
       "price                         0.154467\n",
       "currency                      0.154476\n",
       "price_aprox_local_currency    0.154467\n",
       "price_aprox_usd               0.154467\n",
       "surface_total_in_m2           0.320327\n",
       "surface_covered_in_m2         0.153378\n",
       "price_usd_per_m2              0.424054\n",
       "price_per_m2                  0.260831\n",
       "rooms                         0.604981\n",
       "properati_url                 0.000000\n",
       "description                   0.000017\n",
       "title                         0.000000\n",
       "dtype: float64"
      ]
     },
     "execution_count": 166,
     "metadata": {},
     "output_type": "execute_result"
    }
   ],
   "source": [
    "df.isnull().sum()/df.shape[0]"
   ]
  },
  {
   "cell_type": "markdown",
   "id": "01ca8c72",
   "metadata": {
    "id": "ff2534d9"
   },
   "source": [
    "#### 4. Trabajo con place name"
   ]
  },
  {
   "cell_type": "code",
   "execution_count": 167,
   "id": "d45d31fd",
   "metadata": {
    "id": "7f38b9f4",
    "outputId": "6f31ac61-0ad8-4b2d-a82c-e5044a2e5578"
   },
   "outputs": [
    {
     "data": {
      "text/plain": [
       "(115688, 18)"
      ]
     },
     "execution_count": 167,
     "metadata": {},
     "output_type": "execute_result"
    }
   ],
   "source": [
    "df.shape"
   ]
  },
  {
   "cell_type": "code",
   "execution_count": 168,
   "id": "cdced321",
   "metadata": {
    "id": "88d3b0ed"
   },
   "outputs": [],
   "source": [
    "df_place_null = df.loc[df['place_name'].isnull(), ['place_with_parent_names', 'place_name']]"
   ]
  },
  {
   "cell_type": "code",
   "execution_count": 169,
   "id": "37be1259",
   "metadata": {
    "id": "b1e110e4",
    "outputId": "dc1d753c-f913-4c83-f203-5302ed437471"
   },
   "outputs": [
    {
     "data": {
      "text/html": [
       "<div>\n",
       "<style scoped>\n",
       "    .dataframe tbody tr th:only-of-type {\n",
       "        vertical-align: middle;\n",
       "    }\n",
       "\n",
       "    .dataframe tbody tr th {\n",
       "        vertical-align: top;\n",
       "    }\n",
       "\n",
       "    .dataframe thead th {\n",
       "        text-align: right;\n",
       "    }\n",
       "</style>\n",
       "<table border=\"1\" class=\"dataframe\">\n",
       "  <thead>\n",
       "    <tr style=\"text-align: right;\">\n",
       "      <th></th>\n",
       "      <th>place_with_parent_names</th>\n",
       "      <th>place_name</th>\n",
       "    </tr>\n",
       "  </thead>\n",
       "  <tbody>\n",
       "    <tr>\n",
       "      <th>6489</th>\n",
       "      <td>|Argentina|Bs.As. G.B.A. Zona Norte|Tigre||</td>\n",
       "      <td>NaN</td>\n",
       "    </tr>\n",
       "    <tr>\n",
       "      <th>10201</th>\n",
       "      <td>|Argentina|Bs.As. G.B.A. Zona Norte|Tigre||</td>\n",
       "      <td>NaN</td>\n",
       "    </tr>\n",
       "    <tr>\n",
       "      <th>11451</th>\n",
       "      <td>|Argentina|Bs.As. G.B.A. Zona Norte|Tigre||</td>\n",
       "      <td>NaN</td>\n",
       "    </tr>\n",
       "    <tr>\n",
       "      <th>14839</th>\n",
       "      <td>|Argentina|Bs.As. G.B.A. Zona Norte|Tigre||</td>\n",
       "      <td>NaN</td>\n",
       "    </tr>\n",
       "    <tr>\n",
       "      <th>18622</th>\n",
       "      <td>|Argentina|Bs.As. G.B.A. Zona Norte|Tigre||</td>\n",
       "      <td>NaN</td>\n",
       "    </tr>\n",
       "    <tr>\n",
       "      <th>21922</th>\n",
       "      <td>|Argentina|Bs.As. G.B.A. Zona Norte|Tigre||</td>\n",
       "      <td>NaN</td>\n",
       "    </tr>\n",
       "    <tr>\n",
       "      <th>23664</th>\n",
       "      <td>|Argentina|Bs.As. G.B.A. Zona Norte|Tigre||</td>\n",
       "      <td>NaN</td>\n",
       "    </tr>\n",
       "    <tr>\n",
       "      <th>24722</th>\n",
       "      <td>|Argentina|Bs.As. G.B.A. Zona Norte|Tigre||</td>\n",
       "      <td>NaN</td>\n",
       "    </tr>\n",
       "    <tr>\n",
       "      <th>38856</th>\n",
       "      <td>|Argentina|Bs.As. G.B.A. Zona Norte|Tigre||</td>\n",
       "      <td>NaN</td>\n",
       "    </tr>\n",
       "    <tr>\n",
       "      <th>45970</th>\n",
       "      <td>|Argentina|Bs.As. G.B.A. Zona Norte|Tigre||</td>\n",
       "      <td>NaN</td>\n",
       "    </tr>\n",
       "    <tr>\n",
       "      <th>46642</th>\n",
       "      <td>|Argentina|Bs.As. G.B.A. Zona Norte|Tigre||</td>\n",
       "      <td>NaN</td>\n",
       "    </tr>\n",
       "    <tr>\n",
       "      <th>53130</th>\n",
       "      <td>|Argentina|Bs.As. G.B.A. Zona Norte|Tigre||</td>\n",
       "      <td>NaN</td>\n",
       "    </tr>\n",
       "    <tr>\n",
       "      <th>55306</th>\n",
       "      <td>|Argentina|Bs.As. G.B.A. Zona Norte|Tigre||</td>\n",
       "      <td>NaN</td>\n",
       "    </tr>\n",
       "    <tr>\n",
       "      <th>57703</th>\n",
       "      <td>|Argentina|Bs.As. G.B.A. Zona Norte|Tigre||</td>\n",
       "      <td>NaN</td>\n",
       "    </tr>\n",
       "    <tr>\n",
       "      <th>57759</th>\n",
       "      <td>|Argentina|Bs.As. G.B.A. Zona Norte|Tigre||</td>\n",
       "      <td>NaN</td>\n",
       "    </tr>\n",
       "    <tr>\n",
       "      <th>57764</th>\n",
       "      <td>|Argentina|Bs.As. G.B.A. Zona Norte|Tigre||</td>\n",
       "      <td>NaN</td>\n",
       "    </tr>\n",
       "    <tr>\n",
       "      <th>57793</th>\n",
       "      <td>|Argentina|Bs.As. G.B.A. Zona Norte|Tigre||</td>\n",
       "      <td>NaN</td>\n",
       "    </tr>\n",
       "    <tr>\n",
       "      <th>58004</th>\n",
       "      <td>|Argentina|Bs.As. G.B.A. Zona Norte|Tigre||</td>\n",
       "      <td>NaN</td>\n",
       "    </tr>\n",
       "    <tr>\n",
       "      <th>58037</th>\n",
       "      <td>|Argentina|Bs.As. G.B.A. Zona Norte|Tigre||</td>\n",
       "      <td>NaN</td>\n",
       "    </tr>\n",
       "    <tr>\n",
       "      <th>59069</th>\n",
       "      <td>|Argentina|Bs.As. G.B.A. Zona Norte|Tigre||</td>\n",
       "      <td>NaN</td>\n",
       "    </tr>\n",
       "    <tr>\n",
       "      <th>62411</th>\n",
       "      <td>|Argentina|Bs.As. G.B.A. Zona Norte|Tigre||</td>\n",
       "      <td>NaN</td>\n",
       "    </tr>\n",
       "    <tr>\n",
       "      <th>62413</th>\n",
       "      <td>|Argentina|Bs.As. G.B.A. Zona Norte|Tigre||</td>\n",
       "      <td>NaN</td>\n",
       "    </tr>\n",
       "    <tr>\n",
       "      <th>63849</th>\n",
       "      <td>|Argentina|Bs.As. G.B.A. Zona Norte|Tigre||</td>\n",
       "      <td>NaN</td>\n",
       "    </tr>\n",
       "  </tbody>\n",
       "</table>\n",
       "</div>"
      ],
      "text/plain": [
       "                           place_with_parent_names place_name\n",
       "6489   |Argentina|Bs.As. G.B.A. Zona Norte|Tigre||        NaN\n",
       "10201  |Argentina|Bs.As. G.B.A. Zona Norte|Tigre||        NaN\n",
       "11451  |Argentina|Bs.As. G.B.A. Zona Norte|Tigre||        NaN\n",
       "14839  |Argentina|Bs.As. G.B.A. Zona Norte|Tigre||        NaN\n",
       "18622  |Argentina|Bs.As. G.B.A. Zona Norte|Tigre||        NaN\n",
       "21922  |Argentina|Bs.As. G.B.A. Zona Norte|Tigre||        NaN\n",
       "23664  |Argentina|Bs.As. G.B.A. Zona Norte|Tigre||        NaN\n",
       "24722  |Argentina|Bs.As. G.B.A. Zona Norte|Tigre||        NaN\n",
       "38856  |Argentina|Bs.As. G.B.A. Zona Norte|Tigre||        NaN\n",
       "45970  |Argentina|Bs.As. G.B.A. Zona Norte|Tigre||        NaN\n",
       "46642  |Argentina|Bs.As. G.B.A. Zona Norte|Tigre||        NaN\n",
       "53130  |Argentina|Bs.As. G.B.A. Zona Norte|Tigre||        NaN\n",
       "55306  |Argentina|Bs.As. G.B.A. Zona Norte|Tigre||        NaN\n",
       "57703  |Argentina|Bs.As. G.B.A. Zona Norte|Tigre||        NaN\n",
       "57759  |Argentina|Bs.As. G.B.A. Zona Norte|Tigre||        NaN\n",
       "57764  |Argentina|Bs.As. G.B.A. Zona Norte|Tigre||        NaN\n",
       "57793  |Argentina|Bs.As. G.B.A. Zona Norte|Tigre||        NaN\n",
       "58004  |Argentina|Bs.As. G.B.A. Zona Norte|Tigre||        NaN\n",
       "58037  |Argentina|Bs.As. G.B.A. Zona Norte|Tigre||        NaN\n",
       "59069  |Argentina|Bs.As. G.B.A. Zona Norte|Tigre||        NaN\n",
       "62411  |Argentina|Bs.As. G.B.A. Zona Norte|Tigre||        NaN\n",
       "62413  |Argentina|Bs.As. G.B.A. Zona Norte|Tigre||        NaN\n",
       "63849  |Argentina|Bs.As. G.B.A. Zona Norte|Tigre||        NaN"
      ]
     },
     "execution_count": 169,
     "metadata": {},
     "output_type": "execute_result"
    }
   ],
   "source": [
    "df_place_null"
   ]
  },
  {
   "cell_type": "markdown",
   "id": "5b127581",
   "metadata": {},
   "source": [
    "Usamos la columna place_with_parent_names para imputar los valores faltantes de la columna place name"
   ]
  },
  {
   "cell_type": "code",
   "execution_count": 170,
   "id": "f7752fc3",
   "metadata": {
    "id": "b0bba8ca",
    "outputId": "41f6b464-4052-406e-db79-41abc2481dd9"
   },
   "outputs": [
    {
     "data": {
      "text/html": [
       "<div>\n",
       "<style scoped>\n",
       "    .dataframe tbody tr th:only-of-type {\n",
       "        vertical-align: middle;\n",
       "    }\n",
       "\n",
       "    .dataframe tbody tr th {\n",
       "        vertical-align: top;\n",
       "    }\n",
       "\n",
       "    .dataframe thead th {\n",
       "        text-align: right;\n",
       "    }\n",
       "</style>\n",
       "<table border=\"1\" class=\"dataframe\">\n",
       "  <thead>\n",
       "    <tr style=\"text-align: right;\">\n",
       "      <th></th>\n",
       "      <th>place_with_parent_names</th>\n",
       "      <th>place_name</th>\n",
       "    </tr>\n",
       "  </thead>\n",
       "  <tbody>\n",
       "    <tr>\n",
       "      <th>6489</th>\n",
       "      <td>|Argentina|Bs.As. G.B.A. Zona Norte|Tigre||</td>\n",
       "      <td>Tigre</td>\n",
       "    </tr>\n",
       "    <tr>\n",
       "      <th>10201</th>\n",
       "      <td>|Argentina|Bs.As. G.B.A. Zona Norte|Tigre||</td>\n",
       "      <td>Tigre</td>\n",
       "    </tr>\n",
       "    <tr>\n",
       "      <th>11451</th>\n",
       "      <td>|Argentina|Bs.As. G.B.A. Zona Norte|Tigre||</td>\n",
       "      <td>Tigre</td>\n",
       "    </tr>\n",
       "    <tr>\n",
       "      <th>14839</th>\n",
       "      <td>|Argentina|Bs.As. G.B.A. Zona Norte|Tigre||</td>\n",
       "      <td>Tigre</td>\n",
       "    </tr>\n",
       "    <tr>\n",
       "      <th>18622</th>\n",
       "      <td>|Argentina|Bs.As. G.B.A. Zona Norte|Tigre||</td>\n",
       "      <td>Tigre</td>\n",
       "    </tr>\n",
       "    <tr>\n",
       "      <th>21922</th>\n",
       "      <td>|Argentina|Bs.As. G.B.A. Zona Norte|Tigre||</td>\n",
       "      <td>Tigre</td>\n",
       "    </tr>\n",
       "    <tr>\n",
       "      <th>23664</th>\n",
       "      <td>|Argentina|Bs.As. G.B.A. Zona Norte|Tigre||</td>\n",
       "      <td>Tigre</td>\n",
       "    </tr>\n",
       "    <tr>\n",
       "      <th>24722</th>\n",
       "      <td>|Argentina|Bs.As. G.B.A. Zona Norte|Tigre||</td>\n",
       "      <td>Tigre</td>\n",
       "    </tr>\n",
       "    <tr>\n",
       "      <th>38856</th>\n",
       "      <td>|Argentina|Bs.As. G.B.A. Zona Norte|Tigre||</td>\n",
       "      <td>Tigre</td>\n",
       "    </tr>\n",
       "    <tr>\n",
       "      <th>45970</th>\n",
       "      <td>|Argentina|Bs.As. G.B.A. Zona Norte|Tigre||</td>\n",
       "      <td>Tigre</td>\n",
       "    </tr>\n",
       "    <tr>\n",
       "      <th>46642</th>\n",
       "      <td>|Argentina|Bs.As. G.B.A. Zona Norte|Tigre||</td>\n",
       "      <td>Tigre</td>\n",
       "    </tr>\n",
       "    <tr>\n",
       "      <th>53130</th>\n",
       "      <td>|Argentina|Bs.As. G.B.A. Zona Norte|Tigre||</td>\n",
       "      <td>Tigre</td>\n",
       "    </tr>\n",
       "    <tr>\n",
       "      <th>55306</th>\n",
       "      <td>|Argentina|Bs.As. G.B.A. Zona Norte|Tigre||</td>\n",
       "      <td>Tigre</td>\n",
       "    </tr>\n",
       "    <tr>\n",
       "      <th>57703</th>\n",
       "      <td>|Argentina|Bs.As. G.B.A. Zona Norte|Tigre||</td>\n",
       "      <td>Tigre</td>\n",
       "    </tr>\n",
       "    <tr>\n",
       "      <th>57759</th>\n",
       "      <td>|Argentina|Bs.As. G.B.A. Zona Norte|Tigre||</td>\n",
       "      <td>Tigre</td>\n",
       "    </tr>\n",
       "    <tr>\n",
       "      <th>57764</th>\n",
       "      <td>|Argentina|Bs.As. G.B.A. Zona Norte|Tigre||</td>\n",
       "      <td>Tigre</td>\n",
       "    </tr>\n",
       "    <tr>\n",
       "      <th>57793</th>\n",
       "      <td>|Argentina|Bs.As. G.B.A. Zona Norte|Tigre||</td>\n",
       "      <td>Tigre</td>\n",
       "    </tr>\n",
       "    <tr>\n",
       "      <th>58004</th>\n",
       "      <td>|Argentina|Bs.As. G.B.A. Zona Norte|Tigre||</td>\n",
       "      <td>Tigre</td>\n",
       "    </tr>\n",
       "    <tr>\n",
       "      <th>58037</th>\n",
       "      <td>|Argentina|Bs.As. G.B.A. Zona Norte|Tigre||</td>\n",
       "      <td>Tigre</td>\n",
       "    </tr>\n",
       "    <tr>\n",
       "      <th>59069</th>\n",
       "      <td>|Argentina|Bs.As. G.B.A. Zona Norte|Tigre||</td>\n",
       "      <td>Tigre</td>\n",
       "    </tr>\n",
       "    <tr>\n",
       "      <th>62411</th>\n",
       "      <td>|Argentina|Bs.As. G.B.A. Zona Norte|Tigre||</td>\n",
       "      <td>Tigre</td>\n",
       "    </tr>\n",
       "    <tr>\n",
       "      <th>62413</th>\n",
       "      <td>|Argentina|Bs.As. G.B.A. Zona Norte|Tigre||</td>\n",
       "      <td>Tigre</td>\n",
       "    </tr>\n",
       "    <tr>\n",
       "      <th>63849</th>\n",
       "      <td>|Argentina|Bs.As. G.B.A. Zona Norte|Tigre||</td>\n",
       "      <td>Tigre</td>\n",
       "    </tr>\n",
       "  </tbody>\n",
       "</table>\n",
       "</div>"
      ],
      "text/plain": [
       "                           place_with_parent_names place_name\n",
       "6489   |Argentina|Bs.As. G.B.A. Zona Norte|Tigre||      Tigre\n",
       "10201  |Argentina|Bs.As. G.B.A. Zona Norte|Tigre||      Tigre\n",
       "11451  |Argentina|Bs.As. G.B.A. Zona Norte|Tigre||      Tigre\n",
       "14839  |Argentina|Bs.As. G.B.A. Zona Norte|Tigre||      Tigre\n",
       "18622  |Argentina|Bs.As. G.B.A. Zona Norte|Tigre||      Tigre\n",
       "21922  |Argentina|Bs.As. G.B.A. Zona Norte|Tigre||      Tigre\n",
       "23664  |Argentina|Bs.As. G.B.A. Zona Norte|Tigre||      Tigre\n",
       "24722  |Argentina|Bs.As. G.B.A. Zona Norte|Tigre||      Tigre\n",
       "38856  |Argentina|Bs.As. G.B.A. Zona Norte|Tigre||      Tigre\n",
       "45970  |Argentina|Bs.As. G.B.A. Zona Norte|Tigre||      Tigre\n",
       "46642  |Argentina|Bs.As. G.B.A. Zona Norte|Tigre||      Tigre\n",
       "53130  |Argentina|Bs.As. G.B.A. Zona Norte|Tigre||      Tigre\n",
       "55306  |Argentina|Bs.As. G.B.A. Zona Norte|Tigre||      Tigre\n",
       "57703  |Argentina|Bs.As. G.B.A. Zona Norte|Tigre||      Tigre\n",
       "57759  |Argentina|Bs.As. G.B.A. Zona Norte|Tigre||      Tigre\n",
       "57764  |Argentina|Bs.As. G.B.A. Zona Norte|Tigre||      Tigre\n",
       "57793  |Argentina|Bs.As. G.B.A. Zona Norte|Tigre||      Tigre\n",
       "58004  |Argentina|Bs.As. G.B.A. Zona Norte|Tigre||      Tigre\n",
       "58037  |Argentina|Bs.As. G.B.A. Zona Norte|Tigre||      Tigre\n",
       "59069  |Argentina|Bs.As. G.B.A. Zona Norte|Tigre||      Tigre\n",
       "62411  |Argentina|Bs.As. G.B.A. Zona Norte|Tigre||      Tigre\n",
       "62413  |Argentina|Bs.As. G.B.A. Zona Norte|Tigre||      Tigre\n",
       "63849  |Argentina|Bs.As. G.B.A. Zona Norte|Tigre||      Tigre"
      ]
     },
     "execution_count": 170,
     "metadata": {},
     "output_type": "execute_result"
    }
   ],
   "source": [
    "df_place_null['place_name'] = df.apply(lambda x : x['place_with_parent_names'].split('|')[3] if pd.isna(x['place_name']) == True else x['place_name'] , axis = 1)\n",
    "df_place_null\n"
   ]
  },
  {
   "cell_type": "code",
   "execution_count": 171,
   "id": "0c3ab1fa",
   "metadata": {
    "id": "59833fd5"
   },
   "outputs": [],
   "source": [
    "df['place_name'] = df.apply(lambda x : x['place_with_parent_names'].split('|')[3] if pd.isna(x['place_name']) == True else x['place_name'] , axis = 1)\n"
   ]
  },
  {
   "cell_type": "code",
   "execution_count": 172,
   "id": "bba4c842",
   "metadata": {
    "id": "dcaae846"
   },
   "outputs": [],
   "source": [
    "df = df.drop('place_with_parent_names', axis=1)\n"
   ]
  },
  {
   "cell_type": "code",
   "execution_count": 173,
   "id": "21bf1941",
   "metadata": {
    "id": "001ab9b5",
    "outputId": "aa7486c4-a31c-4b74-8a86-48b9a462ee84"
   },
   "outputs": [
    {
     "data": {
      "text/plain": [
       "property_type                 0.000000\n",
       "place_name                    0.000000\n",
       "state_name                    0.000000\n",
       "geonames_id                   0.160146\n",
       "lat-lon                       0.420433\n",
       "price                         0.154467\n",
       "currency                      0.154476\n",
       "price_aprox_local_currency    0.154467\n",
       "price_aprox_usd               0.154467\n",
       "surface_total_in_m2           0.320327\n",
       "surface_covered_in_m2         0.153378\n",
       "price_usd_per_m2              0.424054\n",
       "price_per_m2                  0.260831\n",
       "rooms                         0.604981\n",
       "properati_url                 0.000000\n",
       "description                   0.000017\n",
       "title                         0.000000\n",
       "dtype: float64"
      ]
     },
     "execution_count": 173,
     "metadata": {},
     "output_type": "execute_result"
    }
   ],
   "source": [
    "df.isnull().sum()/df.shape[0]"
   ]
  },
  {
   "cell_type": "markdown",
   "id": "524d1f3f",
   "metadata": {
    "id": "9be12a0c"
   },
   "source": [
    "#### 5. expresiones regulares"
   ]
  },
  {
   "cell_type": "code",
   "execution_count": 174,
   "id": "160319ae",
   "metadata": {
    "id": "dd9c3f32"
   },
   "outputs": [],
   "source": [
    "pattern = r'(?P<n_ambientes>\\d+)\\s*(?:ambientes?|amb|cuartos?|habitaci[oó]n|habitaciones|dormitorios?|dorm|hab)'"
   ]
  },
  {
   "cell_type": "code",
   "execution_count": 175,
   "id": "e4cbe644",
   "metadata": {
    "id": "41500eeb"
   },
   "outputs": [],
   "source": [
    "resultado = df.description.str.extract(pattern, flags=re.IGNORECASE)"
   ]
  },
  {
   "cell_type": "markdown",
   "id": "6d0697e6",
   "metadata": {
    "id": "49b523fb"
   },
   "source": [
    "Cambiamos la serie a tipo float para poder incoporarla a rooms y no la castee a Object"
   ]
  },
  {
   "cell_type": "code",
   "execution_count": 176,
   "id": "ec97d400",
   "metadata": {
    "id": "f4c9bb67",
    "outputId": "19c03d48-8c58-4442-c04f-cf1b1d3015a1"
   },
   "outputs": [
    {
     "data": {
      "text/plain": [
       "0         2.0\n",
       "1         NaN\n",
       "2         2.0\n",
       "3         3.0\n",
       "4         1.0\n",
       "         ... \n",
       "121215    2.0\n",
       "121216    3.0\n",
       "121217    NaN\n",
       "121218    2.0\n",
       "121219    NaN\n",
       "Name: n_ambientes, Length: 115688, dtype: float64"
      ]
     },
     "execution_count": 176,
     "metadata": {},
     "output_type": "execute_result"
    }
   ],
   "source": [
    "s_ambientes = resultado.n_ambientes.astype(float)\n",
    "s_ambientes"
   ]
  },
  {
   "cell_type": "markdown",
   "id": "a9c875d2",
   "metadata": {
    "id": "cf575d34"
   },
   "source": [
    "#### Vemos como está distribuida la extracción"
   ]
  },
  {
   "cell_type": "code",
   "execution_count": 177,
   "id": "d96d71d3",
   "metadata": {
    "id": "5de26b67",
    "outputId": "090a917d-374d-4e98-bc4a-d3770b902d38"
   },
   "outputs": [
    {
     "data": {
      "image/png": "[encoded data removed]",
      "text/plain": [
       "<Figure size 1080x576 with 1 Axes>"
      ]
     },
     "metadata": {
      "needs_background": "light"
     },
     "output_type": "display_data"
    }
   ],
   "source": [
    "plt.figure(figsize=(15, 8))\n",
    "sns.boxplot(data=s_ambientes) \n",
    "plt.show()"
   ]
  },
  {
   "cell_type": "markdown",
   "id": "98013476",
   "metadata": {
    "id": "76088ad5"
   },
   "source": [
    "Vemos que hay valores recolectados erroneos por lo extremo. Así que vamos a recortar esos valores seleccionando el ultimo quartil (.99) para rellenar con ese valor"
   ]
  },
  {
   "cell_type": "code",
   "execution_count": 178,
   "id": "48368b82",
   "metadata": {
    "id": "43b5e45a",
    "outputId": "e153080d-8b8d-4284-968c-2bd5d11e2d0c"
   },
   "outputs": [
    {
     "data": {
      "text/plain": [
       "7.0"
      ]
     },
     "execution_count": 178,
     "metadata": {},
     "output_type": "execute_result"
    }
   ],
   "source": [
    "s_ambientes.quantile(.99)"
   ]
  },
  {
   "cell_type": "markdown",
   "id": "c0a37569",
   "metadata": {
    "id": "09cebadc"
   },
   "source": [
    "Asigno el valor a esa parte:"
   ]
  },
  {
   "cell_type": "code",
   "execution_count": 179,
   "id": "24fb23a3",
   "metadata": {
    "id": "33c69394"
   },
   "outputs": [],
   "source": [
    "s_ambientes.loc[s_ambientes > s_ambientes.quantile(.99)] = s_ambientes.quantile(.99)"
   ]
  },
  {
   "cell_type": "markdown",
   "id": "78afcb88",
   "metadata": {
    "id": "119f8b00"
   },
   "source": [
    "Vemos como queda ahora la distribucion"
   ]
  },
  {
   "cell_type": "code",
   "execution_count": 180,
   "id": "b2277586",
   "metadata": {
    "id": "5be98882",
    "outputId": "57bf2de0-90d8-40c1-d0cf-82411bd96426"
   },
   "outputs": [
    {
     "data": {
      "image/png": "[encoded data removed]",
      "text/plain": [
       "<Figure size 1080x576 with 1 Axes>"
      ]
     },
     "metadata": {
      "needs_background": "light"
     },
     "output_type": "display_data"
    }
   ],
   "source": [
    "plt.figure(figsize=(15, 8))\n",
    "sns.boxplot(data=s_ambientes) \n",
    "plt.show()"
   ]
  },
  {
   "cell_type": "markdown",
   "id": "da9c1712",
   "metadata": {
    "id": "0d8a0870"
   },
   "source": [
    "Seleccionamos los indices donde los valores de rooms son na"
   ]
  },
  {
   "cell_type": "code",
   "execution_count": 181,
   "id": "823be1db",
   "metadata": {
    "id": "109ef4b0"
   },
   "outputs": [],
   "source": [
    "index_rooms_null = df.loc[df['rooms'].isna()].index"
   ]
  },
  {
   "cell_type": "markdown",
   "id": "396c2f5d",
   "metadata": {
    "id": "c95e89ee"
   },
   "source": [
    "Imputamos los ambientes extraidos a la columna rooms con valores nulos"
   ]
  },
  {
   "cell_type": "code",
   "execution_count": 182,
   "id": "27a366f9",
   "metadata": {
    "id": "376eaf76"
   },
   "outputs": [],
   "source": [
    "df.loc[index_rooms_null, 'rooms'] = s_ambientes.loc[index_rooms_null]\n"
   ]
  },
  {
   "cell_type": "code",
   "execution_count": 183,
   "id": "e7eb9124",
   "metadata": {
    "id": "1df2143f",
    "outputId": "998e6882-8d38-44ad-911e-a4ab108e2458"
   },
   "outputs": [
    {
     "data": {
      "text/plain": [
       "0         2.0\n",
       "1         NaN\n",
       "2         2.0\n",
       "3         3.0\n",
       "4         1.0\n",
       "         ... \n",
       "121215    2.0\n",
       "121216    3.0\n",
       "121217    NaN\n",
       "121218    2.0\n",
       "121219    NaN\n",
       "Name: rooms, Length: 115688, dtype: float64"
      ]
     },
     "execution_count": 183,
     "metadata": {},
     "output_type": "execute_result"
    }
   ],
   "source": [
    "df.rooms"
   ]
  },
  {
   "cell_type": "code",
   "execution_count": 184,
   "id": "1f6a270f",
   "metadata": {
    "id": "c045af0b",
    "outputId": "daa657c0-96a5-4e5c-e056-5950602f5dbc"
   },
   "outputs": [
    {
     "name": "stdout",
     "output_type": "stream",
     "text": [
      "<class 'pandas.core.frame.DataFrame'>\n",
      "Int64Index: 115688 entries, 0 to 121219\n",
      "Data columns (total 17 columns):\n",
      " #   Column                      Non-Null Count   Dtype  \n",
      "---  ------                      --------------   -----  \n",
      " 0   property_type               115688 non-null  object \n",
      " 1   place_name                  115688 non-null  object \n",
      " 2   state_name                  115688 non-null  object \n",
      " 3   geonames_id                 97161 non-null   float64\n",
      " 4   lat-lon                     67049 non-null   object \n",
      " 5   price                       97818 non-null   float64\n",
      " 6   currency                    97817 non-null   object \n",
      " 7   price_aprox_local_currency  97818 non-null   float64\n",
      " 8   price_aprox_usd             97818 non-null   float64\n",
      " 9   surface_total_in_m2         78630 non-null   float64\n",
      " 10  surface_covered_in_m2       97944 non-null   float64\n",
      " 11  price_usd_per_m2            66630 non-null   float64\n",
      " 12  price_per_m2                85513 non-null   float64\n",
      " 13  rooms                       83771 non-null   float64\n",
      " 14  properati_url               115688 non-null  object \n",
      " 15  description                 115686 non-null  object \n",
      " 16  title                       115688 non-null  object \n",
      "dtypes: float64(9), object(8)\n",
      "memory usage: 19.9+ MB\n"
     ]
    }
   ],
   "source": [
    "# vemos que rooms sigue siendo float\n",
    "df.info()\n"
   ]
  },
  {
   "cell_type": "markdown",
   "id": "f14c5e0d",
   "metadata": {
    "id": "810f0dcc"
   },
   "source": [
    "Logramos reducir los valores nulos de rooms a el 27,58%"
   ]
  },
  {
   "cell_type": "code",
   "execution_count": 185,
   "id": "9b4e2c75",
   "metadata": {
    "id": "bcbd2488",
    "outputId": "0c62d077-945c-47d6-cdd8-51839a623ff2"
   },
   "outputs": [
    {
     "data": {
      "text/plain": [
       "property_type                 0.000000\n",
       "place_name                    0.000000\n",
       "state_name                    0.000000\n",
       "geonames_id                   0.160146\n",
       "lat-lon                       0.420433\n",
       "price                         0.154467\n",
       "currency                      0.154476\n",
       "price_aprox_local_currency    0.154467\n",
       "price_aprox_usd               0.154467\n",
       "surface_total_in_m2           0.320327\n",
       "surface_covered_in_m2         0.153378\n",
       "price_usd_per_m2              0.424054\n",
       "price_per_m2                  0.260831\n",
       "rooms                         0.275889\n",
       "properati_url                 0.000000\n",
       "description                   0.000017\n",
       "title                         0.000000\n",
       "dtype: float64"
      ]
     },
     "execution_count": 185,
     "metadata": {},
     "output_type": "execute_result"
    }
   ],
   "source": [
    "df.isnull().sum()/df.shape[0]"
   ]
  },
  {
   "cell_type": "code",
   "execution_count": 186,
   "id": "9c4f66ee",
   "metadata": {
    "id": "19f1d941",
    "outputId": "0e6788c4-a57c-41e4-cb00-76738f10202c"
   },
   "outputs": [
    {
     "data": {
      "image/png": "[encoded data removed]",
      "text/plain": [
       "<Figure size 1080x576 with 1 Axes>"
      ]
     },
     "metadata": {
      "needs_background": "light"
     },
     "output_type": "display_data"
    }
   ],
   "source": [
    "plt.figure(figsize=(15, 8))\n",
    "sns.boxplot(data=df, x='rooms') \n",
    "plt.show()\n",
    "## tenemos posibles valores errados"
   ]
  },
  {
   "cell_type": "markdown",
   "id": "19b1f84b",
   "metadata": {
    "id": "3c8d5598"
   },
   "source": [
    "Hasta acá filtramos los maximos de los valores extraídos con expresiones regulares. El resto de los valores ya vienen directo desde el dataframe. Los dejamos como están aplicamos una corrección por quantil al .99? Hay varios datos que vimos con Diego que parecen ser reales cuando los rooms dicen treinta y algo."
   ]
  },
  {
   "cell_type": "markdown",
   "id": "fb5cef2e",
   "metadata": {
    "id": "ddd00506"
   },
   "source": [
    "Dejamos eso hecho por las dudas si definimos hacerlo, sino lo comentamos o sacamos:"
   ]
  },
  {
   "cell_type": "code",
   "execution_count": 187,
   "id": "29364535",
   "metadata": {
    "id": "9ffd38c2",
    "outputId": "1af92285-d1cf-4c4a-dc5e-9c31cbe6ad3c"
   },
   "outputs": [
    {
     "data": {
      "text/plain": [
       "apartment    68740\n",
       "house        37554\n",
       "PH            5523\n",
       "store         3871\n",
       "Name: property_type, dtype: int64"
      ]
     },
     "execution_count": 187,
     "metadata": {},
     "output_type": "execute_result"
    }
   ],
   "source": [
    "### sacamos valores del quantil 'X' para cada tipo de propiedad\n",
    "# usamos ese valor para que no se sesgue por los outilers\n",
    "df.property_type.value_counts()"
   ]
  },
  {
   "cell_type": "code",
   "execution_count": 188,
   "id": "517bee9c",
   "metadata": {
    "id": "aee4d7bf"
   },
   "outputs": [],
   "source": [
    "quantile = .99\n",
    "rooms_apartment_quantile = df.loc[df.property_type =='apartment', 'rooms'].quantile(quantile)\n",
    "rooms_house_quantile = df.loc[df.property_type =='house', 'rooms'].quantile(quantile)   \n",
    "rooms_PH_quantile = df.loc[df.property_type =='PH', 'rooms'].quantile(quantile)\n",
    "rooms_store_quantile = df.loc[df.property_type =='store', 'rooms'].quantile(quantile)"
   ]
  },
  {
   "cell_type": "code",
   "execution_count": 189,
   "id": "1b91d5d3",
   "metadata": {
    "id": "c252ad60",
    "outputId": "19796e2e-5723-4be6-f9e3-618e320bdc02"
   },
   "outputs": [
    {
     "name": "stdout",
     "output_type": "stream",
     "text": [
      "Consideramos outlier todo lo que exceda estos valores para cada tipo de propiedad\n",
      " apartment: 6.0\n",
      " house: 10.0 \n",
      " PH: 7.0\n",
      " store:7.0\n"
     ]
    }
   ],
   "source": [
    "print('Consideramos outlier todo lo que exceda estos valores para cada tipo de propiedad')\n",
    "print(f' apartment: {rooms_apartment_quantile}\\n house: {rooms_house_quantile} \\n PH: {rooms_PH_quantile}\\n store:{rooms_store_quantile}')"
   ]
  },
  {
   "cell_type": "markdown",
   "id": "04e39404",
   "metadata": {
    "id": "816c0022"
   },
   "source": [
    "Vamos a imputar ahora los valores de los quantiles a todo lo que esté por encima de ellos en cada tipo de propiedad"
   ]
  },
  {
   "cell_type": "code",
   "execution_count": 190,
   "id": "f17b955b",
   "metadata": {
    "id": "a845d667",
    "outputId": "fc24a800-140d-4d79-f506-17f5a746a458"
   },
   "outputs": [
    {
     "data": {
      "text/plain": [
       "array(['PH', 'apartment', 'house', 'store'], dtype=object)"
      ]
     },
     "execution_count": 190,
     "metadata": {},
     "output_type": "execute_result"
    }
   ],
   "source": [
    "# Creo un array con los tipos de propiedad para looper \n",
    "property_types = df.property_type.unique()\n",
    "property_types"
   ]
  },
  {
   "cell_type": "code",
   "execution_count": 191,
   "id": "1208a674",
   "metadata": {
    "id": "3070fc9b"
   },
   "outputs": [],
   "source": [
    "# Creo un diccionario para acceder a los valores de los quantiles a partir del property_type\n",
    "quantiles_prop = {'PH': rooms_PH_quantile, 'apartment': rooms_apartment_quantile, 'house': rooms_house_quantile, 'store': rooms_store_quantile}\n"
   ]
  },
  {
   "cell_type": "code",
   "execution_count": 192,
   "id": "86acc475",
   "metadata": {
    "id": "354c5bb6"
   },
   "outputs": [],
   "source": [
    "for type in property_types:\n",
    "    index_to_replace = df.loc[(df['rooms']> quantiles_prop[type]) & (df['property_type'] ==type),:].index\n",
    "    df.loc[index_to_replace, 'rooms'] = quantiles_prop[type]\n",
    "    "
   ]
  },
  {
   "cell_type": "markdown",
   "id": "f0fd2bf7",
   "metadata": {
    "id": "9b0658e9"
   },
   "source": [
    "Vemos como se recortan las puntas. El máximo queda en el quantile .99 de cada tipo de vivienda."
   ]
  },
  {
   "cell_type": "code",
   "execution_count": 193,
   "id": "8b3dfba4",
   "metadata": {
    "id": "881844ba",
    "outputId": "90c86512-6538-45b4-ca8c-66d87542f4fe"
   },
   "outputs": [
    {
     "data": {
      "image/png": "[encoded data removed]",
      "text/plain": [
       "<Figure size 1080x432 with 1 Axes>"
      ]
     },
     "metadata": {
      "needs_background": "light"
     },
     "output_type": "display_data"
    }
   ],
   "source": [
    "plt.figure(figsize=(15, 6))\n",
    "sns.boxplot(data=df, x='rooms') \n",
    "plt.show()"
   ]
  },
  {
   "cell_type": "code",
   "execution_count": 194,
   "id": "c3ba75f3",
   "metadata": {
    "id": "4f4f380a",
    "outputId": "075ebbf6-83ae-4eaa-de89-e8be55fd35fb"
   },
   "outputs": [
    {
     "data": {
      "text/plain": [
       "property_type                 0.000000\n",
       "place_name                    0.000000\n",
       "state_name                    0.000000\n",
       "geonames_id                   0.160146\n",
       "lat-lon                       0.420433\n",
       "price                         0.154467\n",
       "currency                      0.154476\n",
       "price_aprox_local_currency    0.154467\n",
       "price_aprox_usd               0.154467\n",
       "surface_total_in_m2           0.320327\n",
       "surface_covered_in_m2         0.153378\n",
       "price_usd_per_m2              0.424054\n",
       "price_per_m2                  0.260831\n",
       "rooms                         0.275889\n",
       "properati_url                 0.000000\n",
       "description                   0.000017\n",
       "title                         0.000000\n",
       "dtype: float64"
      ]
     },
     "execution_count": 194,
     "metadata": {},
     "output_type": "execute_result"
    }
   ],
   "source": [
    "df.isna().sum()/df.shape[0]"
   ]
  },
  {
   "cell_type": "markdown",
   "id": "4debf09e",
   "metadata": {
    "id": "5952dbde"
   },
   "source": [
    "##### Imputar NA con valores de cuartos promedio agrupado por state_name, place_name y property_type"
   ]
  },
  {
   "cell_type": "code",
   "execution_count": 195,
   "id": "dd1da4cb",
   "metadata": {
    "id": "ca375822",
    "outputId": "cabf759d-4ee7-46f8-c9d4-1d38dd4b5c98"
   },
   "outputs": [
    {
     "data": {
      "text/plain": [
       "state_name                place_name               property_type\n",
       "bs.as. g.b.a. zona norte   Country Maschwitz Club  house            3.500000\n",
       "                           los alamos              apartment        1.000000\n",
       "                          Acacias Blancas          house            3.565217\n",
       "                          Acassuso                 PH               3.400000\n",
       "                                                   apartment        2.818182\n",
       "                                                                      ...   \n",
       "santa fe                  Susana                   house            2.000000\n",
       "                          Timbúes                  house            1.000000\n",
       "                          Venado Tuerto            house            9.000000\n",
       "                          Villa Constitución       apartment        3.000000\n",
       "                                                   house            2.555556\n",
       "Name: rooms, Length: 1578, dtype: float64"
      ]
     },
     "execution_count": 195,
     "metadata": {},
     "output_type": "execute_result"
    }
   ],
   "source": [
    "df_rooms_means = df.groupby(['state_name', 'place_name', 'property_type'])['rooms'].mean()\n",
    "df_rooms_means = df_rooms_means[df_rooms_means.notna()]\n",
    "df_rooms_means\n"
   ]
  },
  {
   "cell_type": "code",
   "execution_count": 196,
   "id": "a3c53e7f",
   "metadata": {
    "id": "e05af4e4",
    "outputId": "6d5ab110-e71d-4458-e987-0a2e1f7859bb"
   },
   "outputs": [
    {
     "data": {
      "text/plain": [
       "count    83771.000000\n",
       "mean         2.861480\n",
       "std          1.418935\n",
       "min          0.000000\n",
       "25%          2.000000\n",
       "50%          3.000000\n",
       "75%          4.000000\n",
       "max         10.000000\n",
       "Name: rooms, dtype: float64"
      ]
     },
     "execution_count": 196,
     "metadata": {},
     "output_type": "execute_result"
    }
   ],
   "source": [
    "df['rooms'].describe()"
   ]
  },
  {
   "cell_type": "code",
   "execution_count": 197,
   "id": "1dee6416",
   "metadata": {
    "id": "776bd8f7"
   },
   "outputs": [],
   "source": [
    "# Desacoplamos el index para sacar el state_name, place_name y property_type que necesitamos para componer la asignacion\n",
    "# Ademas nos permite ahorrar iteraciones donde el valor sea NA o en combinaciones que no existan\n",
    "for state, place, prop_type in df_rooms_means.index:\n",
    "        df.loc[(df['state_name'] == state) & (df['place_name'] == place) & (df['property_type'] == prop_type) & df['rooms'].isna(),'rooms'] = df_rooms_means[state,place,prop_type]"
   ]
  },
  {
   "cell_type": "code",
   "execution_count": 198,
   "id": "2858fd41",
   "metadata": {
    "id": "1ba2768a",
    "outputId": "05cfd480-068d-41fb-ab67-42dd6efe5fb6"
   },
   "outputs": [
    {
     "data": {
      "text/plain": [
       "808"
      ]
     },
     "execution_count": 198,
     "metadata": {},
     "output_type": "execute_result"
    }
   ],
   "source": [
    "df.rooms.isna().sum()"
   ]
  },
  {
   "cell_type": "code",
   "execution_count": 199,
   "id": "12712bf9",
   "metadata": {
    "id": "900bc1d7"
   },
   "outputs": [],
   "source": [
    "### Imputemos al resto de los valores faltantes el promedio de cuartos del dataframe ahora sí\n",
    "df.loc[df['rooms'].isna(), 'rooms'] = df['rooms'].mean()"
   ]
  },
  {
   "cell_type": "code",
   "execution_count": 200,
   "id": "1682ef6d",
   "metadata": {
    "id": "5ed2017b",
    "outputId": "1daf58e9-9799-46d7-9766-1e0089ac92c4"
   },
   "outputs": [
    {
     "data": {
      "text/plain": [
       "count    115688.000000\n",
       "mean          2.840015\n",
       "std           1.268229\n",
       "min           0.000000\n",
       "25%           2.000000\n",
       "50%           2.967213\n",
       "75%           3.285714\n",
       "max          10.000000\n",
       "Name: rooms, dtype: float64"
      ]
     },
     "execution_count": 200,
     "metadata": {},
     "output_type": "execute_result"
    }
   ],
   "source": [
    "df.rooms.describe()"
   ]
  },
  {
   "cell_type": "markdown",
   "id": "34bb90cc",
   "metadata": {
    "id": "2fa1a48e"
   },
   "source": [
    "#### 4. Trabajo con las columnas de price"
   ]
  },
  {
   "cell_type": "code",
   "execution_count": 201,
   "id": "0cb83242",
   "metadata": {
    "id": "76d1957a"
   },
   "outputs": [],
   "source": [
    "prices_nulos_index = df[df.price.isna() & df.price_aprox_local_currency.isna() \n",
    "                        & df.price_aprox_usd.isna() & df.price_usd_per_m2.isna() \n",
    "                        & df.price_per_m2.isna()].index"
   ]
  },
  {
   "cell_type": "code",
   "execution_count": 202,
   "id": "5d5ea625",
   "metadata": {
    "id": "b4411c62",
    "outputId": "59a994a8-6df4-4eab-874f-2e39bfe4696a"
   },
   "outputs": [
    {
     "name": "stdout",
     "output_type": "stream",
     "text": [
      "(97818, 17)\n"
     ]
    }
   ],
   "source": [
    "df.drop(index=prices_nulos_index, inplace=True)\n",
    "print(df.shape)"
   ]
  },
  {
   "cell_type": "code",
   "execution_count": 203,
   "id": "196d476f",
   "metadata": {
    "id": "838146b2",
    "outputId": "e78435ed-74e4-4df3-b4fb-898189cb1221"
   },
   "outputs": [
    {
     "data": {
      "text/plain": [
       "property_type                 0.000000\n",
       "place_name                    0.000000\n",
       "state_name                    0.000000\n",
       "geonames_id                   0.172208\n",
       "lat-lon                       0.414474\n",
       "price                         0.000000\n",
       "currency                      0.000010\n",
       "price_aprox_local_currency    0.000000\n",
       "price_aprox_usd               0.000000\n",
       "surface_total_in_m2           0.316291\n",
       "surface_covered_in_m2         0.125774\n",
       "price_usd_per_m2              0.318837\n",
       "price_per_m2                  0.125795\n",
       "rooms                         0.000000\n",
       "properati_url                 0.000000\n",
       "description                   0.000020\n",
       "title                         0.000000\n",
       "dtype: float64"
      ]
     },
     "execution_count": 203,
     "metadata": {},
     "output_type": "execute_result"
    }
   ],
   "source": [
    "df.isna().sum() / df.shape[0]"
   ]
  },
  {
   "cell_type": "code",
   "execution_count": 204,
   "id": "249711b8",
   "metadata": {
    "id": "c6b9f2bd",
    "outputId": "e312ae37-e378-4276-a195-c8b072796d4d"
   },
   "outputs": [
    {
     "data": {
      "text/plain": [
       "<matplotlib.axes._subplots.AxesSubplot at 0x7fca3855d2d0>"
      ]
     },
     "execution_count": 204,
     "metadata": {},
     "output_type": "execute_result"
    },
    {
     "data": {
      "image/png": "[encoded data removed]",
      "text/plain": [
       "<Figure size 432x288 with 1 Axes>"
      ]
     },
     "metadata": {
      "needs_background": "light"
     },
     "output_type": "display_data"
    }
   ],
   "source": [
    "df.price_aprox_usd.plot(kind='hist', bins=100)"
   ]
  },
  {
   "cell_type": "code",
   "execution_count": 205,
   "id": "9bc6778e",
   "metadata": {
    "id": "bbd3e26f",
    "outputId": "c7732ba8-c9dd-4769-9dea-a12e82888272"
   },
   "outputs": [
    {
     "name": "stdout",
     "output_type": "stream",
     "text": [
      "96733\n"
     ]
    },
    {
     "data": {
      "text/plain": [
       "<matplotlib.axes._subplots.AxesSubplot at 0x7fca498ae990>"
      ]
     },
     "execution_count": 205,
     "metadata": {},
     "output_type": "execute_result"
    },
    {
     "data": {
      "image/png": "[encoded data removed]",
      "text/plain": [
       "<Figure size 432x288 with 1 Axes>"
      ]
     },
     "metadata": {
      "needs_background": "light"
     },
     "output_type": "display_data"
    }
   ],
   "source": [
    "print(df[df.price_aprox_usd < df.price_aprox_usd.quantile(0.99)].shape[0])\n",
    "df[df.price_aprox_usd < df.price_aprox_usd.quantile(0.99)].price_aprox_usd.plot(kind='hist')"
   ]
  },
  {
   "cell_type": "markdown",
   "id": "4ca26a0a",
   "metadata": {
    "id": "13cfd430"
   },
   "source": [
    "Nos quedamos con los valores por debajo del quartile .99"
   ]
  },
  {
   "cell_type": "code",
   "execution_count": 206,
   "id": "582ad9e6",
   "metadata": {
    "id": "07a29a75"
   },
   "outputs": [],
   "source": [
    "df = df[df.price_aprox_usd < df.price_aprox_usd.quantile(0.99)]"
   ]
  },
  {
   "cell_type": "code",
   "execution_count": 207,
   "id": "a301dd30",
   "metadata": {
    "id": "8d7aee3e",
    "outputId": "8ae84fb8-2868-4d68-be15-67f30eb07dcd"
   },
   "outputs": [
    {
     "data": {
      "text/plain": [
       "<matplotlib.axes._subplots.AxesSubplot at 0x7fca8c37d150>"
      ]
     },
     "execution_count": 207,
     "metadata": {},
     "output_type": "execute_result"
    },
    {
     "data": {
      "image/png": "[encoded data removed]",
      "text/plain": [
       "<Figure size 432x288 with 1 Axes>"
      ]
     },
     "metadata": {
      "needs_background": "light"
     },
     "output_type": "display_data"
    }
   ],
   "source": [
    "df.price_aprox_usd.plot(kind='hist')"
   ]
  },
  {
   "cell_type": "markdown",
   "id": "79988d80",
   "metadata": {
    "id": "e16eb379"
   },
   "source": [
    "Vamos a ver los valores minimos:"
   ]
  },
  {
   "cell_type": "code",
   "execution_count": 208,
   "id": "07453413",
   "metadata": {
    "id": "204590a4",
    "outputId": "2f8e09f6-a7aa-4ef0-907f-178eb7ecdd5d"
   },
   "outputs": [
    {
     "data": {
      "text/plain": [
       "count    9.673300e+04\n",
       "mean     2.155377e+05\n",
       "std      2.053982e+05\n",
       "min      0.000000e+00\n",
       "25%      8.965000e+04\n",
       "50%      1.449000e+05\n",
       "75%      2.600000e+05\n",
       "max      1.494502e+06\n",
       "Name: price_aprox_usd, dtype: float64"
      ]
     },
     "execution_count": 208,
     "metadata": {},
     "output_type": "execute_result"
    }
   ],
   "source": [
    "df.price_aprox_usd.describe()"
   ]
  },
  {
   "cell_type": "markdown",
   "id": "660991dc",
   "metadata": {
    "id": "22bfbfcf"
   },
   "source": [
    "Vemos que hay valores con Price en 0. Así que vamos a retirarlos"
   ]
  },
  {
   "cell_type": "code",
   "execution_count": 209,
   "id": "2813165a",
   "metadata": {
    "id": "6273daae"
   },
   "outputs": [],
   "source": [
    "df = df[df.price_aprox_usd > 0]"
   ]
  },
  {
   "cell_type": "markdown",
   "id": "8fc62dfa",
   "metadata": {
    "id": "7a120e65"
   },
   "source": [
    "Nos vamos a quedar con price_aprox_usd por lo que dropeamos el resto"
   ]
  },
  {
   "cell_type": "code",
   "execution_count": 210,
   "id": "47c9ad1f",
   "metadata": {
    "id": "81c94b21",
    "outputId": "87c8e047-12d0-4f80-c723-15c1ae68bf01"
   },
   "outputs": [
    {
     "name": "stdout",
     "output_type": "stream",
     "text": [
      "['price' 'price_aprox_local_currency' 'price_aprox_usd' 'price_usd_per_m2'\n",
      " 'price_per_m2']\n",
      "<class 'pandas.core.frame.DataFrame'>\n",
      "Int64Index: 96732 entries, 0 to 121219\n",
      "Data columns (total 13 columns):\n",
      " #   Column                 Non-Null Count  Dtype  \n",
      "---  ------                 --------------  -----  \n",
      " 0   property_type          96732 non-null  object \n",
      " 1   place_name             96732 non-null  object \n",
      " 2   state_name             96732 non-null  object \n",
      " 3   geonames_id            80102 non-null  float64\n",
      " 4   lat-lon                56644 non-null  object \n",
      " 5   currency               96732 non-null  object \n",
      " 6   price_aprox_usd        96732 non-null  float64\n",
      " 7   surface_total_in_m2    66106 non-null  float64\n",
      " 8   surface_covered_in_m2  84545 non-null  float64\n",
      " 9   rooms                  96732 non-null  float64\n",
      " 10  properati_url          96732 non-null  object \n",
      " 11  description            96730 non-null  object \n",
      " 12  title                  96732 non-null  object \n",
      "dtypes: float64(5), object(8)\n",
      "memory usage: 10.3+ MB\n"
     ]
    }
   ],
   "source": [
    "# Guardamos los nombres de columnas que empiezan con price\n",
    "price_columns = df.columns[df.columns.str.startswith(r'price')].values\n",
    "print(price_columns)\n",
    "\n",
    "# Pasamos la lista filtrando la columna price que nos interesa para dropear\n",
    "df = df.drop([column for column in price_columns if column != 'price_aprox_usd'], axis=1)\n",
    "df.info()\n",
    "# Si todas las columnas tienen el patron de comenzar con price podemos \n",
    "# mantener el codigo sin tener que dropear una a una las columans price."
   ]
  },
  {
   "cell_type": "markdown",
   "id": "25da1011",
   "metadata": {
    "id": "e1250822"
   },
   "source": [
    "### 5. Vamos a trabajar con las superficies"
   ]
  },
  {
   "cell_type": "markdown",
   "id": "c26fcb88",
   "metadata": {
    "id": "c1432faf"
   },
   "source": [
    "Creamos primero una columna donde guardamos el ratio de superficie cubierta / superficie total"
   ]
  },
  {
   "cell_type": "code",
   "execution_count": 211,
   "id": "8d9e7130",
   "metadata": {
    "id": "6de95ac9",
    "outputId": "106796b9-3c03-4ad5-a60f-268c6841385a"
   },
   "outputs": [
    {
     "data": {
      "text/plain": [
       "count    61131.000000\n",
       "mean         0.874328\n",
       "std          3.927486\n",
       "min          0.000000\n",
       "25%          0.781818\n",
       "50%          0.904762\n",
       "75%          1.000000\n",
       "max        942.307692\n",
       "Name: surface_ratio, dtype: float64"
      ]
     },
     "execution_count": 211,
     "metadata": {},
     "output_type": "execute_result"
    }
   ],
   "source": [
    "df['surface_ratio'] = df['surface_covered_in_m2'] / df['surface_total_in_m2']\n",
    "df['surface_ratio'].describe()"
   ]
  },
  {
   "cell_type": "markdown",
   "id": "fa86075f",
   "metadata": {
    "id": "abb44b12"
   },
   "source": [
    "Se puede ver que hay ratios positivos. Por lo que podría haber un error. Vamos a ver las filas con surface_ratio > 1"
   ]
  },
  {
   "cell_type": "code",
   "execution_count": 212,
   "id": "eccdca26",
   "metadata": {
    "id": "17fc8dc2",
    "outputId": "1b03eaef-2572-4be2-a225-7424cd742d60"
   },
   "outputs": [
    {
     "name": "stdout",
     "output_type": "stream",
     "text": [
      "surface_total_in_m2                                                  130.0\n",
      "surface_covered_in_m2                                                384.0\n",
      "description              CODIGO: 2388-LLG1122 ubicado en: Podestá 764 -...\n",
      "Name: 55725, dtype: object\n",
      "CODIGO: 2388-LLG1122 ubicado en: Podestá 764 -  Publicado por: LUIS LORAY NEGOCIOS INMOBILIARIOS. El precio es de USD 130000 null. Lote de 12 por 32m. Superficie cubierta 130m2. Propiedad compuesta por living y comedor diario integrado con pisos de porcelanato, aire acondicionado y ventanal al frente. Cocina totalmente amueblada con desayunador y aberturas con vista al parque. Tres dormitorios con pisos de cerámicos y placards. Escritorio, toillete y baño principal. Galería semicubierta con parrilla, lavadero y cuarto de enseres. Además la propiedad cuenta con parque libre, y todo el techo de loza.  LUIS LORAY NEGOCIOS INMOBILIARIOS / .  . Publicado a través de Mapaprop\n"
     ]
    }
   ],
   "source": [
    "# Hay varios ejemplos como este donde se ve que el dato esta cargado al revez\n",
    "sample = df.loc[df.surface_ratio > 1, [ 'surface_total_in_m2', 'surface_covered_in_m2', 'description']].loc[55725]\n",
    "print(sample)\n",
    "print(sample.description)"
   ]
  },
  {
   "cell_type": "markdown",
   "id": "cc283520",
   "metadata": {
    "id": "7307b496"
   },
   "source": [
    "Vamos a suponer que estos casos son errores de carga e invertir los valores"
   ]
  },
  {
   "cell_type": "code",
   "execution_count": 213,
   "id": "292f8ad4",
   "metadata": {
    "id": "a1293dea",
    "outputId": "fab77c18-c1ee-4ecd-af2f-2c615ec02f3d"
   },
   "outputs": [
    {
     "name": "stdout",
     "output_type": "stream",
     "text": [
      "(945,) (945,)\n"
     ]
    }
   ],
   "source": [
    "to_replace_covered = df.loc[df.surface_ratio > 1, 'surface_total_in_m2'].copy()\n",
    "to_replace_total = df.loc[df.surface_ratio > 1, 'surface_covered_in_m2'].copy()\n",
    "print(to_replace_covered.shape, to_replace_total.shape)"
   ]
  },
  {
   "cell_type": "markdown",
   "id": "b62088a8",
   "metadata": {
    "id": "8d8bf1a3"
   },
   "source": [
    "Realizamos el reemplazo"
   ]
  },
  {
   "cell_type": "code",
   "execution_count": 214,
   "id": "1ba918ab",
   "metadata": {
    "id": "daec7b5f"
   },
   "outputs": [],
   "source": [
    "df.loc[df.surface_ratio > 1, 'surface_total_in_m2'] = to_replace_total\n",
    "df.loc[df.surface_ratio > 1, 'surface_covered_in_m2'] = to_replace_covered"
   ]
  },
  {
   "cell_type": "markdown",
   "id": "941fe850",
   "metadata": {
    "id": "c1f1882a"
   },
   "source": [
    "Vemos que si calculamos nuevamente ya no tenemos superficies totales mayores a las cubiertas"
   ]
  },
  {
   "cell_type": "code",
   "execution_count": 215,
   "id": "28b17c49",
   "metadata": {
    "id": "30f3581b",
    "outputId": "13075406-0347-40dc-da2a-27a472c563c9"
   },
   "outputs": [
    {
     "data": {
      "text/plain": [
       "count    61131.000000\n",
       "mean         0.827668\n",
       "std          0.218765\n",
       "min          0.000000\n",
       "25%          0.773333\n",
       "50%          0.901235\n",
       "75%          1.000000\n",
       "max          1.000000\n",
       "Name: surface_ratio, dtype: float64"
      ]
     },
     "execution_count": 215,
     "metadata": {},
     "output_type": "execute_result"
    }
   ],
   "source": [
    "df['surface_ratio'] = df['surface_covered_in_m2'] / df['surface_total_in_m2']\n",
    "df['surface_ratio'].describe()"
   ]
  },
  {
   "cell_type": "markdown",
   "id": "9c778bb4",
   "metadata": {
    "id": "d70385bc"
   },
   "source": [
    "#### Vamos a hacer lo mismo que hicimos antes. Imputamos la superficie total según el promedio de un groupby "
   ]
  },
  {
   "cell_type": "markdown",
   "id": "e2d92cf0",
   "metadata": {
    "id": "942eecec"
   },
   "source": [
    "Vamos a ver la cantidad de valores a completar"
   ]
  },
  {
   "cell_type": "code",
   "execution_count": 216,
   "id": "222414b1",
   "metadata": {
    "id": "e89f31f7",
    "outputId": "a96bedd5-cf68-4b30-cf03-79fb749ebbd9"
   },
   "outputs": [
    {
     "data": {
      "text/plain": [
       "(23414, 14)"
      ]
     },
     "execution_count": 216,
     "metadata": {},
     "output_type": "execute_result"
    }
   ],
   "source": [
    "surfaces_to_complete = df[df['surface_covered_in_m2'].notna() & df['surface_total_in_m2'].isna()]\n",
    "surfaces_to_complete.shape"
   ]
  },
  {
   "cell_type": "code",
   "execution_count": 217,
   "id": "99046892",
   "metadata": {
    "id": "7899fac7",
    "outputId": "fb093331-aa08-4b2c-9f2b-c48f25592a29"
   },
   "outputs": [
    {
     "data": {
      "text/html": [
       "<div>\n",
       "<style scoped>\n",
       "    .dataframe tbody tr th:only-of-type {\n",
       "        vertical-align: middle;\n",
       "    }\n",
       "\n",
       "    .dataframe tbody tr th {\n",
       "        vertical-align: top;\n",
       "    }\n",
       "\n",
       "    .dataframe thead th {\n",
       "        text-align: right;\n",
       "    }\n",
       "</style>\n",
       "<table border=\"1\" class=\"dataframe\">\n",
       "  <thead>\n",
       "    <tr style=\"text-align: right;\">\n",
       "      <th></th>\n",
       "      <th></th>\n",
       "      <th>surface_ratio</th>\n",
       "    </tr>\n",
       "    <tr>\n",
       "      <th>state_name</th>\n",
       "      <th>property_type</th>\n",
       "      <th></th>\n",
       "    </tr>\n",
       "  </thead>\n",
       "  <tbody>\n",
       "    <tr>\n",
       "      <th rowspan=\"4\" valign=\"top\">bs.as. g.b.a. zona norte</th>\n",
       "      <th>PH</th>\n",
       "      <td>0.828151</td>\n",
       "    </tr>\n",
       "    <tr>\n",
       "      <th>apartment</th>\n",
       "      <td>0.847809</td>\n",
       "    </tr>\n",
       "    <tr>\n",
       "      <th>house</th>\n",
       "      <td>0.728975</td>\n",
       "    </tr>\n",
       "    <tr>\n",
       "      <th>store</th>\n",
       "      <td>0.931096</td>\n",
       "    </tr>\n",
       "    <tr>\n",
       "      <th rowspan=\"4\" valign=\"top\">bs.as. g.b.a. zona oeste</th>\n",
       "      <th>PH</th>\n",
       "      <td>0.768526</td>\n",
       "    </tr>\n",
       "    <tr>\n",
       "      <th>apartment</th>\n",
       "      <td>0.905049</td>\n",
       "    </tr>\n",
       "    <tr>\n",
       "      <th>house</th>\n",
       "      <td>0.663726</td>\n",
       "    </tr>\n",
       "    <tr>\n",
       "      <th>store</th>\n",
       "      <td>0.855974</td>\n",
       "    </tr>\n",
       "    <tr>\n",
       "      <th rowspan=\"4\" valign=\"top\">bs.as. g.b.a. zona sur</th>\n",
       "      <th>PH</th>\n",
       "      <td>0.810525</td>\n",
       "    </tr>\n",
       "    <tr>\n",
       "      <th>apartment</th>\n",
       "      <td>0.912269</td>\n",
       "    </tr>\n",
       "    <tr>\n",
       "      <th>house</th>\n",
       "      <td>0.761035</td>\n",
       "    </tr>\n",
       "    <tr>\n",
       "      <th>store</th>\n",
       "      <td>0.878106</td>\n",
       "    </tr>\n",
       "    <tr>\n",
       "      <th rowspan=\"4\" valign=\"top\">buenos aires costa atlántica</th>\n",
       "      <th>PH</th>\n",
       "      <td>0.830390</td>\n",
       "    </tr>\n",
       "    <tr>\n",
       "      <th>apartment</th>\n",
       "      <td>0.924983</td>\n",
       "    </tr>\n",
       "    <tr>\n",
       "      <th>house</th>\n",
       "      <td>0.568530</td>\n",
       "    </tr>\n",
       "    <tr>\n",
       "      <th>store</th>\n",
       "      <td>0.909506</td>\n",
       "    </tr>\n",
       "    <tr>\n",
       "      <th rowspan=\"4\" valign=\"top\">buenos aires interior</th>\n",
       "      <th>PH</th>\n",
       "      <td>0.861284</td>\n",
       "    </tr>\n",
       "    <tr>\n",
       "      <th>apartment</th>\n",
       "      <td>0.923836</td>\n",
       "    </tr>\n",
       "    <tr>\n",
       "      <th>house</th>\n",
       "      <td>0.546810</td>\n",
       "    </tr>\n",
       "    <tr>\n",
       "      <th>store</th>\n",
       "      <td>0.864820</td>\n",
       "    </tr>\n",
       "    <tr>\n",
       "      <th rowspan=\"4\" valign=\"top\">capital federal</th>\n",
       "      <th>PH</th>\n",
       "      <td>0.789767</td>\n",
       "    </tr>\n",
       "    <tr>\n",
       "      <th>apartment</th>\n",
       "      <td>0.892436</td>\n",
       "    </tr>\n",
       "    <tr>\n",
       "      <th>house</th>\n",
       "      <td>0.692504</td>\n",
       "    </tr>\n",
       "    <tr>\n",
       "      <th>store</th>\n",
       "      <td>0.962087</td>\n",
       "    </tr>\n",
       "    <tr>\n",
       "      <th rowspan=\"4\" valign=\"top\">córdoba</th>\n",
       "      <th>PH</th>\n",
       "      <td>0.758428</td>\n",
       "    </tr>\n",
       "    <tr>\n",
       "      <th>apartment</th>\n",
       "      <td>0.857582</td>\n",
       "    </tr>\n",
       "    <tr>\n",
       "      <th>house</th>\n",
       "      <td>0.620279</td>\n",
       "    </tr>\n",
       "    <tr>\n",
       "      <th>store</th>\n",
       "      <td>0.902728</td>\n",
       "    </tr>\n",
       "    <tr>\n",
       "      <th rowspan=\"4\" valign=\"top\">santa fe</th>\n",
       "      <th>PH</th>\n",
       "      <td>0.828310</td>\n",
       "    </tr>\n",
       "    <tr>\n",
       "      <th>apartment</th>\n",
       "      <td>0.888461</td>\n",
       "    </tr>\n",
       "    <tr>\n",
       "      <th>house</th>\n",
       "      <td>0.664073</td>\n",
       "    </tr>\n",
       "    <tr>\n",
       "      <th>store</th>\n",
       "      <td>0.970423</td>\n",
       "    </tr>\n",
       "  </tbody>\n",
       "</table>\n",
       "</div>"
      ],
      "text/plain": [
       "                                            surface_ratio\n",
       "state_name                   property_type               \n",
       "bs.as. g.b.a. zona norte     PH                  0.828151\n",
       "                             apartment           0.847809\n",
       "                             house               0.728975\n",
       "                             store               0.931096\n",
       "bs.as. g.b.a. zona oeste     PH                  0.768526\n",
       "                             apartment           0.905049\n",
       "                             house               0.663726\n",
       "                             store               0.855974\n",
       "bs.as. g.b.a. zona sur       PH                  0.810525\n",
       "                             apartment           0.912269\n",
       "                             house               0.761035\n",
       "                             store               0.878106\n",
       "buenos aires costa atlántica PH                  0.830390\n",
       "                             apartment           0.924983\n",
       "                             house               0.568530\n",
       "                             store               0.909506\n",
       "buenos aires interior        PH                  0.861284\n",
       "                             apartment           0.923836\n",
       "                             house               0.546810\n",
       "                             store               0.864820\n",
       "capital federal              PH                  0.789767\n",
       "                             apartment           0.892436\n",
       "                             house               0.692504\n",
       "                             store               0.962087\n",
       "córdoba                      PH                  0.758428\n",
       "                             apartment           0.857582\n",
       "                             house               0.620279\n",
       "                             store               0.902728\n",
       "santa fe                     PH                  0.828310\n",
       "                             apartment           0.888461\n",
       "                             house               0.664073\n",
       "                             store               0.970423"
      ]
     },
     "execution_count": 217,
     "metadata": {},
     "output_type": "execute_result"
    }
   ],
   "source": [
    "df_mean_surface_ratio = df.pivot_table(values='surface_ratio', index=['state_name','property_type'], aggfunc='mean')\n",
    "df_mean_surface_ratio"
   ]
  },
  {
   "cell_type": "code",
   "execution_count": 218,
   "id": "29e2997d",
   "metadata": {
    "id": "34d57e1e",
    "outputId": "54d80f1c-fcb9-4241-9d6f-390a772db1aa"
   },
   "outputs": [
    {
     "data": {
      "text/plain": [
       "0.828151058066972"
      ]
     },
     "execution_count": 218,
     "metadata": {},
     "output_type": "execute_result"
    }
   ],
   "source": [
    "df_mean_surface_ratio.loc[('bs.as. g.b.a. zona norte','PH'),'surface_ratio']"
   ]
  },
  {
   "cell_type": "markdown",
   "id": "8856111a",
   "metadata": {
    "id": "18b2f8d7"
   },
   "source": [
    "Ahora vamos a:\n",
    " - Extraer los valores de los indices para acceder a cada elemento del df_mean_surface_ratio y usarlos para filtrar el dataframe.\n",
    " - Seleccionamos state y prop_type donde surface_total sea nula pero surface_covered no lo sea.\n",
    " - Con esa mascara seleccionamos la superficie total (que en cada iteracion me va a dar la de un state/propType diferente), \n",
    " - Hacemos un apply sobre la superficie cubierta en esa misma mascara para dividirla por el ratio y así imputar el valor a surface_total\n",
    "\n",
    " Pero también incluimos a las superficies totales con valor 0 como si fueran NA"
   ]
  },
  {
   "cell_type": "code",
   "execution_count": 219,
   "id": "f9535393",
   "metadata": {
    "id": "568d6c67"
   },
   "outputs": [],
   "source": [
    "for state, prop_type in df_mean_surface_ratio.index:\n",
    "        mask = (df['state_name'] == state) & \\\n",
    "                (df['property_type'] == prop_type) & \\\n",
    "                (df['surface_total_in_m2'].isna() | \\\n",
    "                (df['surface_total_in_m2'] == 0)) & \\\n",
    "                df['surface_covered_in_m2'].notna()\n",
    "\n",
    "        df.loc[mask,'surface_total_in_m2'] = df.loc[mask,'surface_covered_in_m2']\\\n",
    "        .apply(lambda x: x / df_mean_surface_ratio.loc[(state,prop_type),'surface_ratio'])"
   ]
  },
  {
   "cell_type": "markdown",
   "id": "303ee027",
   "metadata": {
    "id": "10f117b9"
   },
   "source": [
    "Vemos que logramos llenar todos los lugares donde la superficie total no estaba pero teníamos datos de superficie cubierta."
   ]
  },
  {
   "cell_type": "code",
   "execution_count": 220,
   "id": "f3d9b0c2",
   "metadata": {
    "id": "735ff12b",
    "outputId": "e0c5d118-5671-4790-e5ce-d159f20d4610"
   },
   "outputs": [
    {
     "data": {
      "text/plain": [
       "(0, 14)"
      ]
     },
     "execution_count": 220,
     "metadata": {},
     "output_type": "execute_result"
    }
   ],
   "source": [
    "df[df['surface_covered_in_m2'].notna() & df['surface_total_in_m2'].isna()].shape"
   ]
  },
  {
   "cell_type": "markdown",
   "id": "e04d3902",
   "metadata": {
    "id": "4d059a38"
   },
   "source": [
    "Vemos algunos ejemplos para ver si se rellenó bien"
   ]
  },
  {
   "cell_type": "code",
   "execution_count": 221,
   "id": "de4f6d9c",
   "metadata": {
    "id": "929c0c69",
    "outputId": "2c9138a2-7570-43de-b930-714cf0274fb5"
   },
   "outputs": [
    {
     "data": {
      "text/html": [
       "<div>\n",
       "<style scoped>\n",
       "    .dataframe tbody tr th:only-of-type {\n",
       "        vertical-align: middle;\n",
       "    }\n",
       "\n",
       "    .dataframe tbody tr th {\n",
       "        vertical-align: top;\n",
       "    }\n",
       "\n",
       "    .dataframe thead th {\n",
       "        text-align: right;\n",
       "    }\n",
       "</style>\n",
       "<table border=\"1\" class=\"dataframe\">\n",
       "  <thead>\n",
       "    <tr style=\"text-align: right;\">\n",
       "      <th></th>\n",
       "      <th>property_type</th>\n",
       "      <th>place_name</th>\n",
       "      <th>state_name</th>\n",
       "      <th>geonames_id</th>\n",
       "      <th>lat-lon</th>\n",
       "      <th>currency</th>\n",
       "      <th>price_aprox_usd</th>\n",
       "      <th>surface_total_in_m2</th>\n",
       "      <th>surface_covered_in_m2</th>\n",
       "      <th>rooms</th>\n",
       "      <th>properati_url</th>\n",
       "      <th>description</th>\n",
       "      <th>title</th>\n",
       "      <th>surface_ratio</th>\n",
       "    </tr>\n",
       "  </thead>\n",
       "  <tbody>\n",
       "    <tr>\n",
       "      <th>108440</th>\n",
       "      <td>apartment</td>\n",
       "      <td>La Plata</td>\n",
       "      <td>bs.as. g.b.a. zona sur</td>\n",
       "      <td>3432039.0</td>\n",
       "      <td>NaN</td>\n",
       "      <td>USD</td>\n",
       "      <td>96000.00</td>\n",
       "      <td>87.693395</td>\n",
       "      <td>80.0</td>\n",
       "      <td>2.276693</td>\n",
       "      <td>http://www.properati.com.ar/1c06d_venta_depart...</td>\n",
       "      <td>EXCELENTE VISTA. POSIBILIDAD DE TOMAR DPTO EN ...</td>\n",
       "      <td>Departamento - La Plata</td>\n",
       "      <td>NaN</td>\n",
       "    </tr>\n",
       "    <tr>\n",
       "      <th>116197</th>\n",
       "      <td>house</td>\n",
       "      <td>Villa Adelina</td>\n",
       "      <td>bs.as. g.b.a. zona norte</td>\n",
       "      <td>3427478.0</td>\n",
       "      <td>-34.511295,-58.545005</td>\n",
       "      <td>USD</td>\n",
       "      <td>420000.00</td>\n",
       "      <td>27.435793</td>\n",
       "      <td>20.0</td>\n",
       "      <td>5.000000</td>\n",
       "      <td>http://www.properati.com.ar/1cc13_venta_casa_v...</td>\n",
       "      <td>Corredor Responsable: Mauro Marvisi - CMCPSI 5...</td>\n",
       "      <td>V.ADELINA EXC CASA ,PILETA Y QUINCHO 5 AMB DEPEND</td>\n",
       "      <td>NaN</td>\n",
       "    </tr>\n",
       "    <tr>\n",
       "      <th>108242</th>\n",
       "      <td>apartment</td>\n",
       "      <td>La Plata</td>\n",
       "      <td>bs.as. g.b.a. zona sur</td>\n",
       "      <td>3432039.0</td>\n",
       "      <td>NaN</td>\n",
       "      <td>USD</td>\n",
       "      <td>180000.00</td>\n",
       "      <td>92.078065</td>\n",
       "      <td>84.0</td>\n",
       "      <td>2.276693</td>\n",
       "      <td>http://www.properati.com.ar/1bzox_venta_depart...</td>\n",
       "      <td>AL FRENTE. TERMINACIONES DE CATEGORIA. EXCELEN...</td>\n",
       "      <td>Departamento - La Plata</td>\n",
       "      <td>NaN</td>\n",
       "    </tr>\n",
       "    <tr>\n",
       "      <th>28583</th>\n",
       "      <td>apartment</td>\n",
       "      <td>La Plata</td>\n",
       "      <td>bs.as. g.b.a. zona sur</td>\n",
       "      <td>3432039.0</td>\n",
       "      <td>-34.930293,-57.955327</td>\n",
       "      <td>ARS</td>\n",
       "      <td>81321.33</td>\n",
       "      <td>59.193041</td>\n",
       "      <td>54.0</td>\n",
       "      <td>3.000000</td>\n",
       "      <td>http://www.properati.com.ar/17wr4_venta_depart...</td>\n",
       "      <td>Corredor Responsable: Marcelo Di Girolamo - C....</td>\n",
       "      <td>Departamento, Permuta 54 m2. La Plata.</td>\n",
       "      <td>NaN</td>\n",
       "    </tr>\n",
       "    <tr>\n",
       "      <th>88739</th>\n",
       "      <td>house</td>\n",
       "      <td>Olivos</td>\n",
       "      <td>bs.as. g.b.a. zona norte</td>\n",
       "      <td>3430310.0</td>\n",
       "      <td>-34.5156403,-58.4893472</td>\n",
       "      <td>USD</td>\n",
       "      <td>380000.00</td>\n",
       "      <td>227.717078</td>\n",
       "      <td>166.0</td>\n",
       "      <td>4.000000</td>\n",
       "      <td>http://www.properati.com.ar/1b7p0_venta_casa_o...</td>\n",
       "      <td>Linda casa en 2 plantas, 4 ambientes, en plant...</td>\n",
       "      <td>Casa  Olivos Venta Garage parrilla 4 ambientes...</td>\n",
       "      <td>NaN</td>\n",
       "    </tr>\n",
       "  </tbody>\n",
       "</table>\n",
       "</div>"
      ],
      "text/plain": [
       "       property_type     place_name                state_name  geonames_id  \\\n",
       "108440     apartment       La Plata    bs.as. g.b.a. zona sur    3432039.0   \n",
       "116197         house  Villa Adelina  bs.as. g.b.a. zona norte    3427478.0   \n",
       "108242     apartment       La Plata    bs.as. g.b.a. zona sur    3432039.0   \n",
       "28583      apartment       La Plata    bs.as. g.b.a. zona sur    3432039.0   \n",
       "88739          house         Olivos  bs.as. g.b.a. zona norte    3430310.0   \n",
       "\n",
       "                        lat-lon currency  price_aprox_usd  \\\n",
       "108440                      NaN      USD         96000.00   \n",
       "116197    -34.511295,-58.545005      USD        420000.00   \n",
       "108242                      NaN      USD        180000.00   \n",
       "28583     -34.930293,-57.955327      ARS         81321.33   \n",
       "88739   -34.5156403,-58.4893472      USD        380000.00   \n",
       "\n",
       "        surface_total_in_m2  surface_covered_in_m2     rooms  \\\n",
       "108440            87.693395                   80.0  2.276693   \n",
       "116197            27.435793                   20.0  5.000000   \n",
       "108242            92.078065                   84.0  2.276693   \n",
       "28583             59.193041                   54.0  3.000000   \n",
       "88739            227.717078                  166.0  4.000000   \n",
       "\n",
       "                                            properati_url  \\\n",
       "108440  http://www.properati.com.ar/1c06d_venta_depart...   \n",
       "116197  http://www.properati.com.ar/1cc13_venta_casa_v...   \n",
       "108242  http://www.properati.com.ar/1bzox_venta_depart...   \n",
       "28583   http://www.properati.com.ar/17wr4_venta_depart...   \n",
       "88739   http://www.properati.com.ar/1b7p0_venta_casa_o...   \n",
       "\n",
       "                                              description  \\\n",
       "108440  EXCELENTE VISTA. POSIBILIDAD DE TOMAR DPTO EN ...   \n",
       "116197  Corredor Responsable: Mauro Marvisi - CMCPSI 5...   \n",
       "108242  AL FRENTE. TERMINACIONES DE CATEGORIA. EXCELEN...   \n",
       "28583   Corredor Responsable: Marcelo Di Girolamo - C....   \n",
       "88739   Linda casa en 2 plantas, 4 ambientes, en plant...   \n",
       "\n",
       "                                                    title  surface_ratio  \n",
       "108440                            Departamento - La Plata            NaN  \n",
       "116197  V.ADELINA EXC CASA ,PILETA Y QUINCHO 5 AMB DEPEND            NaN  \n",
       "108242                            Departamento - La Plata            NaN  \n",
       "28583              Departamento, Permuta 54 m2. La Plata.            NaN  \n",
       "88739   Casa  Olivos Venta Garage parrilla 4 ambientes...            NaN  "
      ]
     },
     "execution_count": 221,
     "metadata": {},
     "output_type": "execute_result"
    }
   ],
   "source": [
    "# Tomamos los indices del dataframe que se hizo mas arriba con las filas a completar y vemos 5 filas al azar\n",
    "df.loc[surfaces_to_complete.sample(5).index]"
   ]
  },
  {
   "cell_type": "code",
   "execution_count": 222,
   "id": "b7733ac9",
   "metadata": {
    "id": "97cd9115",
    "outputId": "ab022c9e-7e9d-4830-a185-201ea642631a"
   },
   "outputs": [
    {
     "name": "stdout",
     "output_type": "stream",
     "text": [
      "<class 'pandas.core.frame.DataFrame'>\n",
      "Int64Index: 96732 entries, 0 to 121219\n",
      "Data columns (total 14 columns):\n",
      " #   Column                 Non-Null Count  Dtype  \n",
      "---  ------                 --------------  -----  \n",
      " 0   property_type          96732 non-null  object \n",
      " 1   place_name             96732 non-null  object \n",
      " 2   state_name             96732 non-null  object \n",
      " 3   geonames_id            80102 non-null  float64\n",
      " 4   lat-lon                56644 non-null  object \n",
      " 5   currency               96732 non-null  object \n",
      " 6   price_aprox_usd        96732 non-null  float64\n",
      " 7   surface_total_in_m2    89520 non-null  float64\n",
      " 8   surface_covered_in_m2  84545 non-null  float64\n",
      " 9   rooms                  96732 non-null  float64\n",
      " 10  properati_url          96732 non-null  object \n",
      " 11  description            96730 non-null  object \n",
      " 12  title                  96732 non-null  object \n",
      " 13  surface_ratio          61131 non-null  float64\n",
      "dtypes: float64(6), object(8)\n",
      "memory usage: 13.1+ MB\n"
     ]
    }
   ],
   "source": [
    "df.info()"
   ]
  },
  {
   "cell_type": "markdown",
   "id": "dd06734a",
   "metadata": {
    "id": "587f1ed2"
   },
   "source": [
    "### Vamos a ver ahora cuantos casos hay al reves. Tenemos superficie total pero no superficie cubierta"
   ]
  },
  {
   "cell_type": "code",
   "execution_count": 223,
   "id": "b36c65fa",
   "metadata": {
    "id": "0bb2a228",
    "outputId": "dba5a780-07f2-40b3-d0e7-3da2c5540d52"
   },
   "outputs": [
    {
     "data": {
      "text/plain": [
       "(4975, 14)"
      ]
     },
     "execution_count": 223,
     "metadata": {},
     "output_type": "execute_result"
    }
   ],
   "source": [
    "df[df.surface_total_in_m2.notna() & df.surface_covered_in_m2.isna()].shape"
   ]
  },
  {
   "cell_type": "markdown",
   "id": "b1fd9fd8",
   "metadata": {
    "id": "4b5d5d03"
   },
   "source": [
    "Aplicamos la misma lógica que antes:"
   ]
  },
  {
   "cell_type": "code",
   "execution_count": 224,
   "id": "27e29636",
   "metadata": {
    "id": "f3bf17a7"
   },
   "outputs": [],
   "source": [
    "for state, prop_type in df_mean_surface_ratio.index:\n",
    "        mask = (df['state_name'] == state) & \\\n",
    "                (df['property_type'] == prop_type) & \\\n",
    "                df['surface_total_in_m2'].notna() & \\\n",
    "                df['surface_covered_in_m2'].isna() # notar que notna y isna estan invertidos con respecto al anterior, obviamente\n",
    "\n",
    "        df.loc[mask,'surface_covered_in_m2'] = df.loc[mask,'surface_total_in_m2'].apply(lambda x: x *  df_mean_surface_ratio.loc[(state,prop_type),'surface_ratio'])"
   ]
  },
  {
   "cell_type": "markdown",
   "id": "c9419a74",
   "metadata": {
    "id": "413f4317"
   },
   "source": [
    "Logramos reducir los valores nulos"
   ]
  },
  {
   "cell_type": "code",
   "execution_count": 225,
   "id": "ff3c1a5f",
   "metadata": {
    "id": "b1d42a8d",
    "outputId": "c7ea5561-2629-45d2-da24-6ea8eb08c7ce"
   },
   "outputs": [
    {
     "data": {
      "text/plain": [
       "(0, 14)"
      ]
     },
     "execution_count": 225,
     "metadata": {},
     "output_type": "execute_result"
    }
   ],
   "source": [
    "df[df.surface_total_in_m2.notna() & df.surface_covered_in_m2.isna()].shape"
   ]
  },
  {
   "cell_type": "code",
   "execution_count": 226,
   "id": "6c473ed4",
   "metadata": {
    "id": "560885a9",
    "outputId": "ba1ed82b-1103-4b1c-cc59-55b8a3b6ade2"
   },
   "outputs": [
    {
     "name": "stdout",
     "output_type": "stream",
     "text": [
      "<class 'pandas.core.frame.DataFrame'>\n",
      "Int64Index: 96732 entries, 0 to 121219\n",
      "Data columns (total 14 columns):\n",
      " #   Column                 Non-Null Count  Dtype  \n",
      "---  ------                 --------------  -----  \n",
      " 0   property_type          96732 non-null  object \n",
      " 1   place_name             96732 non-null  object \n",
      " 2   state_name             96732 non-null  object \n",
      " 3   geonames_id            80102 non-null  float64\n",
      " 4   lat-lon                56644 non-null  object \n",
      " 5   currency               96732 non-null  object \n",
      " 6   price_aprox_usd        96732 non-null  float64\n",
      " 7   surface_total_in_m2    89520 non-null  float64\n",
      " 8   surface_covered_in_m2  89520 non-null  float64\n",
      " 9   rooms                  96732 non-null  float64\n",
      " 10  properati_url          96732 non-null  object \n",
      " 11  description            96730 non-null  object \n",
      " 12  title                  96732 non-null  object \n",
      " 13  surface_ratio          61131 non-null  float64\n",
      "dtypes: float64(6), object(8)\n",
      "memory usage: 13.1+ MB\n"
     ]
    }
   ],
   "source": [
    "df.info()"
   ]
  },
  {
   "cell_type": "markdown",
   "id": "d30fe94b",
   "metadata": {
    "id": "ff48b4e4"
   },
   "source": [
    "Para asegurar que se completen los valores pendientes vamos a aplicar la media de sup_total y sup_cub de cada provincia a esos valores faltantes en superficies"
   ]
  },
  {
   "cell_type": "code",
   "execution_count": 227,
   "id": "62dd1d41",
   "metadata": {
    "id": "ce58be2f",
    "outputId": "059ff808-bfb1-483b-e86a-b2eca88c0a94"
   },
   "outputs": [
    {
     "data": {
      "text/html": [
       "<div>\n",
       "<style scoped>\n",
       "    .dataframe tbody tr th:only-of-type {\n",
       "        vertical-align: middle;\n",
       "    }\n",
       "\n",
       "    .dataframe tbody tr th {\n",
       "        vertical-align: top;\n",
       "    }\n",
       "\n",
       "    .dataframe thead th {\n",
       "        text-align: right;\n",
       "    }\n",
       "</style>\n",
       "<table border=\"1\" class=\"dataframe\">\n",
       "  <thead>\n",
       "    <tr style=\"text-align: right;\">\n",
       "      <th></th>\n",
       "      <th></th>\n",
       "      <th>surface_total_in_m2</th>\n",
       "      <th>surface_covered_in_m2</th>\n",
       "    </tr>\n",
       "    <tr>\n",
       "      <th>state_name</th>\n",
       "      <th>property_type</th>\n",
       "      <th></th>\n",
       "      <th></th>\n",
       "    </tr>\n",
       "  </thead>\n",
       "  <tbody>\n",
       "    <tr>\n",
       "      <th rowspan=\"4\" valign=\"top\">bs.as. g.b.a. zona norte</th>\n",
       "      <th>PH</th>\n",
       "      <td>108.289000</td>\n",
       "      <td>86.375982</td>\n",
       "    </tr>\n",
       "    <tr>\n",
       "      <th>apartment</th>\n",
       "      <td>91.430525</td>\n",
       "      <td>73.001359</td>\n",
       "    </tr>\n",
       "    <tr>\n",
       "      <th>house</th>\n",
       "      <td>428.957998</td>\n",
       "      <td>229.654163</td>\n",
       "    </tr>\n",
       "    <tr>\n",
       "      <th>store</th>\n",
       "      <td>319.924849</td>\n",
       "      <td>287.262281</td>\n",
       "    </tr>\n",
       "    <tr>\n",
       "      <th>bs.as. g.b.a. zona oeste</th>\n",
       "      <th>PH</th>\n",
       "      <td>117.853505</td>\n",
       "      <td>78.063968</td>\n",
       "    </tr>\n",
       "  </tbody>\n",
       "</table>\n",
       "</div>"
      ],
      "text/plain": [
       "                                        surface_total_in_m2  \\\n",
       "state_name               property_type                        \n",
       "bs.as. g.b.a. zona norte PH                      108.289000   \n",
       "                         apartment                91.430525   \n",
       "                         house                   428.957998   \n",
       "                         store                   319.924849   \n",
       "bs.as. g.b.a. zona oeste PH                      117.853505   \n",
       "\n",
       "                                        surface_covered_in_m2  \n",
       "state_name               property_type                         \n",
       "bs.as. g.b.a. zona norte PH                         86.375982  \n",
       "                         apartment                  73.001359  \n",
       "                         house                     229.654163  \n",
       "                         store                     287.262281  \n",
       "bs.as. g.b.a. zona oeste PH                         78.063968  "
      ]
     },
     "execution_count": 227,
     "metadata": {},
     "output_type": "execute_result"
    }
   ],
   "source": [
    "df_surfaces_states_means = df.groupby(['state_name', 'property_type'])[['surface_total_in_m2', 'surface_covered_in_m2']].mean()\n",
    "df_surfaces_states_means.head()"
   ]
  },
  {
   "cell_type": "markdown",
   "id": "9b8b466a",
   "metadata": {
    "id": "1318df72"
   },
   "source": [
    "Vamos a rellenar ahora con estos valores:"
   ]
  },
  {
   "cell_type": "markdown",
   "id": "e0192804",
   "metadata": {
    "id": "45fd380b"
   },
   "source": [
    "Pero antes hay que notar una cosa:"
   ]
  },
  {
   "cell_type": "code",
   "execution_count": 228,
   "id": "ab6fff0f",
   "metadata": {
    "id": "d12b3623",
    "outputId": "ebe13fab-e132-4fb1-d0b1-f67f0a9ee6fe"
   },
   "outputs": [
    {
     "data": {
      "text/html": [
       "<div>\n",
       "<style scoped>\n",
       "    .dataframe tbody tr th:only-of-type {\n",
       "        vertical-align: middle;\n",
       "    }\n",
       "\n",
       "    .dataframe tbody tr th {\n",
       "        vertical-align: top;\n",
       "    }\n",
       "\n",
       "    .dataframe thead th {\n",
       "        text-align: right;\n",
       "    }\n",
       "</style>\n",
       "<table border=\"1\" class=\"dataframe\">\n",
       "  <thead>\n",
       "    <tr style=\"text-align: right;\">\n",
       "      <th></th>\n",
       "      <th>surface_total_in_m2</th>\n",
       "      <th>surface_covered_in_m2</th>\n",
       "    </tr>\n",
       "  </thead>\n",
       "  <tbody>\n",
       "    <tr>\n",
       "      <th>205</th>\n",
       "      <td>0.000000</td>\n",
       "      <td>0.0</td>\n",
       "    </tr>\n",
       "    <tr>\n",
       "      <th>206</th>\n",
       "      <td>0.000000</td>\n",
       "      <td>0.0</td>\n",
       "    </tr>\n",
       "    <tr>\n",
       "      <th>349</th>\n",
       "      <td>1.166070</td>\n",
       "      <td>1.0</td>\n",
       "    </tr>\n",
       "    <tr>\n",
       "      <th>561</th>\n",
       "      <td>0.000000</td>\n",
       "      <td>0.0</td>\n",
       "    </tr>\n",
       "    <tr>\n",
       "      <th>562</th>\n",
       "      <td>0.000000</td>\n",
       "      <td>0.0</td>\n",
       "    </tr>\n",
       "    <tr>\n",
       "      <th>...</th>\n",
       "      <td>...</td>\n",
       "      <td>...</td>\n",
       "    </tr>\n",
       "    <tr>\n",
       "      <th>116328</th>\n",
       "      <td>0.000000</td>\n",
       "      <td>0.0</td>\n",
       "    </tr>\n",
       "    <tr>\n",
       "      <th>116947</th>\n",
       "      <td>1.179511</td>\n",
       "      <td>1.0</td>\n",
       "    </tr>\n",
       "    <tr>\n",
       "      <th>116956</th>\n",
       "      <td>1.371790</td>\n",
       "      <td>1.0</td>\n",
       "    </tr>\n",
       "    <tr>\n",
       "      <th>118839</th>\n",
       "      <td>0.000000</td>\n",
       "      <td>0.0</td>\n",
       "    </tr>\n",
       "    <tr>\n",
       "      <th>120157</th>\n",
       "      <td>0.000000</td>\n",
       "      <td>0.0</td>\n",
       "    </tr>\n",
       "  </tbody>\n",
       "</table>\n",
       "<p>464 rows × 2 columns</p>\n",
       "</div>"
      ],
      "text/plain": [
       "        surface_total_in_m2  surface_covered_in_m2\n",
       "205                0.000000                    0.0\n",
       "206                0.000000                    0.0\n",
       "349                1.166070                    1.0\n",
       "561                0.000000                    0.0\n",
       "562                0.000000                    0.0\n",
       "...                     ...                    ...\n",
       "116328             0.000000                    0.0\n",
       "116947             1.179511                    1.0\n",
       "116956             1.371790                    1.0\n",
       "118839             0.000000                    0.0\n",
       "120157             0.000000                    0.0\n",
       "\n",
       "[464 rows x 2 columns]"
      ]
     },
     "execution_count": 228,
     "metadata": {},
     "output_type": "execute_result"
    }
   ],
   "source": [
    "df.loc[df.surface_total_in_m2 <5,['surface_total_in_m2','surface_covered_in_m2']]"
   ]
  },
  {
   "cell_type": "markdown",
   "id": "1cb37fa7",
   "metadata": {
    "id": "b094329f"
   },
   "source": [
    "Tenemos valores donde superficie total, y superficie cubierta es 0 o se imputó la superficie total siendo la cubierta 1, lo que claramente se ve como un error"
   ]
  },
  {
   "cell_type": "markdown",
   "id": "fbe8f5bc",
   "metadata": {
    "id": "540e1859"
   },
   "source": [
    "Por eso vamos a imputar junto con los NA las superficies totales menores a 5:"
   ]
  },
  {
   "cell_type": "code",
   "execution_count": 229,
   "id": "4b7aedf6",
   "metadata": {
    "id": "a2e2b9eb"
   },
   "outputs": [],
   "source": [
    "for state, prop_type in df_surfaces_states_means.index:\n",
    "    df.loc[(df['state_name'] == state) & (df['property_type'] == prop_type) & (df.surface_covered_in_m2.isna()),'surface_covered_in_m2'] = \\\n",
    "        df_surfaces_states_means.loc[(state,prop_type), 'surface_covered_in_m2']\n",
    "\n",
    "    df.loc[(df['state_name'] == state) & (df['property_type'] == prop_type) & (df.surface_total_in_m2.isna() | (df.surface_total_in_m2 < 5)),'surface_total_in_m2'] = \\\n",
    "        df_surfaces_states_means.loc[(state,prop_type), 'surface_total_in_m2']"
   ]
  },
  {
   "cell_type": "markdown",
   "id": "ed56d2f7",
   "metadata": {
    "id": "dc572d84"
   },
   "source": [
    "Vemos que ya no quedan valores vacios"
   ]
  },
  {
   "cell_type": "code",
   "execution_count": 230,
   "id": "70df1b5a",
   "metadata": {
    "id": "5a301d0c",
    "outputId": "a938093d-85eb-4779-a6e7-7b0bce7ec086"
   },
   "outputs": [
    {
     "data": {
      "text/plain": [
       "(0, 14)"
      ]
     },
     "execution_count": 230,
     "metadata": {},
     "output_type": "execute_result"
    }
   ],
   "source": [
    "df[df.surface_covered_in_m2.isna() | df.surface_total_in_m2.isna()].shape"
   ]
  },
  {
   "cell_type": "code",
   "execution_count": 231,
   "id": "8b0da4a9",
   "metadata": {
    "id": "e584f166",
    "outputId": "b077bd4e-5ddd-479d-cf57-6bc7b86e723a"
   },
   "outputs": [
    {
     "name": "stdout",
     "output_type": "stream",
     "text": [
      "Total Filas: 96732\n"
     ]
    },
    {
     "data": {
      "text/plain": [
       "property_type            0.000000\n",
       "place_name               0.000000\n",
       "state_name               0.000000\n",
       "geonames_id              0.171918\n",
       "lat-lon                  0.414423\n",
       "currency                 0.000000\n",
       "price_aprox_usd          0.000000\n",
       "surface_total_in_m2      0.000000\n",
       "surface_covered_in_m2    0.000000\n",
       "rooms                    0.000000\n",
       "properati_url            0.000000\n",
       "description              0.000021\n",
       "title                    0.000000\n",
       "surface_ratio            0.368037\n",
       "dtype: float64"
      ]
     },
     "execution_count": 231,
     "metadata": {},
     "output_type": "execute_result"
    }
   ],
   "source": [
    "print(f'Total Filas: {df.shape[0]}')\n",
    "df.isna().sum() / df.shape[0]"
   ]
  },
  {
   "cell_type": "markdown",
   "id": "0fa4b0fe",
   "metadata": {
    "id": "b7ab147c"
   },
   "source": [
    "### Vamos a quitar los outliers de la superficie"
   ]
  },
  {
   "cell_type": "markdown",
   "id": "8abaf2b3",
   "metadata": {
    "id": "74b0ddda"
   },
   "source": [
    "Esta es la distribucion de la superficie cubierta vista desde los states:"
   ]
  },
  {
   "cell_type": "code",
   "execution_count": 232,
   "id": "10ce2352",
   "metadata": {
    "id": "285a04bf",
    "outputId": "2d19864d-9d06-4a20-b137-c933c28ce2bb"
   },
   "outputs": [
    {
     "data": {
      "text/plain": [
       "<matplotlib.axes._subplots.AxesSubplot at 0x7fca480d3390>"
      ]
     },
     "execution_count": 232,
     "metadata": {},
     "output_type": "execute_result"
    },
    {
     "data": {
      "image/png": "[encoded data removed]",
      "text/plain": [
       "<Figure size 720x432 with 2 Axes>"
      ]
     },
     "metadata": {
      "needs_background": "light"
     },
     "output_type": "display_data"
    }
   ],
   "source": [
    "figure, ax = plt.subplots(2,1, figsize=(10,6))\n",
    "sns.boxplot(data=df, x=\"surface_covered_in_m2\", y=\"state_name\", ax=ax[0])\n",
    "sns.boxplot(data=df, x=\"surface_total_in_m2\", y=\"state_name\", ax=ax[1])"
   ]
  },
  {
   "cell_type": "markdown",
   "id": "30eafae6",
   "metadata": {
    "id": "9e858d23"
   },
   "source": [
    "Se ve que hay un par de outliers que achican mucho el boxplot. Vemos si quitando el .01 de los valores superiores ajusta un poco la distribucion"
   ]
  },
  {
   "cell_type": "code",
   "execution_count": 233,
   "id": "4926d64b",
   "metadata": {
    "id": "1fe18886",
    "outputId": "9f6aaa42-69a9-4db3-a98e-558d08a52739"
   },
   "outputs": [
    {
     "name": "stdout",
     "output_type": "stream",
     "text": [
      "Quantile value Covered=  509.22329182704556\n",
      "Quantile value Total=  1184.6900000000023\n",
      "Cantidad de filas restantes: 95070\n"
     ]
    },
    {
     "data": {
      "text/plain": [
       "<matplotlib.axes._subplots.AxesSubplot at 0x7fca7178ca50>"
      ]
     },
     "execution_count": 233,
     "metadata": {},
     "output_type": "execute_result"
    },
    {
     "data": {
      "image/png": "[encoded data removed]",
      "text/plain": [
       "<Figure size 720x432 with 2 Axes>"
      ]
     },
     "metadata": {
      "needs_background": "light"
     },
     "output_type": "display_data"
    }
   ],
   "source": [
    "quantile = .99\n",
    "quantile_covered = df.surface_covered_in_m2.quantile(quantile)\n",
    "quantile_total = df.surface_total_in_m2.quantile(quantile)\n",
    "print('Quantile value Covered= ', quantile_covered)\n",
    "print('Quantile value Total= ', quantile_total)\n",
    "print(f'Cantidad de filas restantes: {df[(df.surface_covered_in_m2 < quantile_covered) & (df.surface_total_in_m2 < quantile_total)].shape[0]}')\n",
    "\n",
    "\n",
    "figure, ax = plt.subplots(2,1, figsize=(10,6))\n",
    "sns.boxplot(data=df[df.surface_covered_in_m2 < quantile_covered], x=\"surface_covered_in_m2\", y=\"state_name\", ax=ax[0])\n",
    "sns.boxplot(data=df[df.surface_total_in_m2 < quantile_total], x=\"surface_total_in_m2\", y=\"state_name\", ax=ax[1])"
   ]
  },
  {
   "cell_type": "markdown",
   "id": "a78b2e13",
   "metadata": {
    "id": "a5da5333"
   },
   "source": [
    "Esa distribución se ve menos afectada por posibles valores errones. Así que recortamos el dataframe:"
   ]
  },
  {
   "cell_type": "code",
   "execution_count": 234,
   "id": "b18b7399",
   "metadata": {
    "id": "f645409c"
   },
   "outputs": [],
   "source": [
    "df = df[(df['surface_covered_in_m2'] < quantile_covered) & (df['surface_total_in_m2'] < quantile_total)]\n"
   ]
  },
  {
   "cell_type": "markdown",
   "id": "df2d358c",
   "metadata": {
    "id": "8f1c7387"
   },
   "source": [
    "## PROBAMOS EXTRAER CARACTERISTICAS DE LA URL Y DESCRIPCION"
   ]
  },
  {
   "cell_type": "markdown",
   "id": "d899f49b",
   "metadata": {
    "id": "2b143295"
   },
   "source": [
    "Hacemos un split en la url sobre '_' y nos quedamos desde el primer elemento en adelante (ya que en todas las urls el primer elemento es un codigo de la pagina que no nos sirve)"
   ]
  },
  {
   "cell_type": "code",
   "execution_count": 235,
   "id": "a27740ee",
   "metadata": {
    "id": "355cd880",
    "outputId": "9c61a56a-e983-4ede-e805-1735086eea21"
   },
   "outputs": [
    {
     "data": {
      "text/plain": [
       "0         [venta, ph, mataderos, lavadero, patio, inmobi...\n",
       "1         [venta, departamentos, la-plata, balcon, lavad...\n",
       "2         [venta, departamentos, mataderos, lavadero, pl...\n",
       "3                   [venta, ph, liniers, patio, g-goffredo]\n",
       "4         [venta, departamentos, centro, cristina-pavone...\n",
       "                                ...                        \n",
       "121215    [venta, departamento, belgrano, balcon, suite,...\n",
       "121216    [venta, casa, beccar, suite, hidromasaje, jard...\n",
       "121217    [venta, departamento, villa-urquiza, holmberg,...\n",
       "121218    [venta, departamento, plaza-colon, lavadero, l...\n",
       "121219    [venta, departamento, capital-federal, baulera...\n",
       "Name: url_first_split, Length: 95070, dtype: object"
      ]
     },
     "execution_count": 235,
     "metadata": {},
     "output_type": "execute_result"
    }
   ],
   "source": [
    "df['url_first_split'] = df['properati_url'].apply(lambda x: x.split('_')[1::])\n",
    "#Esta columna ahora contiene un array con las caracteristicas extraidas\n",
    "df['url_first_split']"
   ]
  },
  {
   "cell_type": "code",
   "execution_count": 236,
   "id": "7ca7ece1",
   "metadata": {
    "id": "894d4a6c",
    "outputId": "f4f36438-11ad-425c-fffb-42a19e96a0fb"
   },
   "outputs": [
    {
     "data": {
      "text/plain": [
       "venta                 94961\n",
       "departamento          57898\n",
       "garage                44696\n",
       "lavadero              35770\n",
       "balcon                34406\n",
       "casa                  29378\n",
       "parrilla              27897\n",
       "luminoso              27249\n",
       "piscina               24865\n",
       "placard               22335\n",
       "suite                 20982\n",
       "terraza               20667\n",
       "toilette              18985\n",
       "patio                 16727\n",
       "vestidor              13956\n",
       "jardin                13904\n",
       "aire-acondicionado    10660\n",
       "sum                    9953\n",
       "dependencias           9190\n",
       "baulera                8997\n",
       "Name: url_first_split, dtype: int64"
      ]
     },
     "execution_count": 236,
     "metadata": {},
     "output_type": "execute_result"
    }
   ],
   "source": [
    "df['url_first_split'].explode().value_counts().head(20)"
   ]
  },
  {
   "cell_type": "markdown",
   "id": "a8f924de",
   "metadata": {
    "id": "0d8836a2"
   },
   "source": [
    "Se ven varias caracteristicas interesantes con varias apariciones que se pueden utilizar. "
   ]
  },
  {
   "cell_type": "code",
   "execution_count": 237,
   "id": "258f7741",
   "metadata": {
    "id": "05d8fa7e"
   },
   "outputs": [],
   "source": [
    "caracteristicas = ['garage', 'lavadero','balcon','parrilla','piscina','terraza','patio','jardin','sum','quincho','estrenar' ]"
   ]
  },
  {
   "cell_type": "markdown",
   "id": "f85d6fcd",
   "metadata": {
    "id": "0f89f5e0"
   },
   "source": [
    "Creamos una nueva columna para guardar valores 1/0 que indican presencia o no de esa caracteristica"
   ]
  },
  {
   "cell_type": "code",
   "execution_count": 238,
   "id": "07137b8a",
   "metadata": {
    "id": "47939654"
   },
   "outputs": [],
   "source": [
    "for feature in caracteristicas:\n",
    "    df[feature] = df.url_first_split.apply(lambda x: 1 if feature in x else 0)"
   ]
  },
  {
   "cell_type": "markdown",
   "id": "97d90fd1",
   "metadata": {
    "id": "502f5174"
   },
   "source": [
    "Controlamos:"
   ]
  },
  {
   "cell_type": "code",
   "execution_count": 239,
   "id": "d2ad6698",
   "metadata": {
    "id": "e3f59bba",
    "outputId": "c2de9d3c-44b8-404d-d0f7-c2bd06528657"
   },
   "outputs": [
    {
     "data": {
      "text/html": [
       "<div>\n",
       "<style scoped>\n",
       "    .dataframe tbody tr th:only-of-type {\n",
       "        vertical-align: middle;\n",
       "    }\n",
       "\n",
       "    .dataframe tbody tr th {\n",
       "        vertical-align: top;\n",
       "    }\n",
       "\n",
       "    .dataframe thead th {\n",
       "        text-align: right;\n",
       "    }\n",
       "</style>\n",
       "<table border=\"1\" class=\"dataframe\">\n",
       "  <thead>\n",
       "    <tr style=\"text-align: right;\">\n",
       "      <th></th>\n",
       "      <th>garage</th>\n",
       "      <th>lavadero</th>\n",
       "      <th>balcon</th>\n",
       "      <th>parrilla</th>\n",
       "      <th>piscina</th>\n",
       "      <th>terraza</th>\n",
       "      <th>patio</th>\n",
       "      <th>jardin</th>\n",
       "      <th>sum</th>\n",
       "      <th>quincho</th>\n",
       "      <th>estrenar</th>\n",
       "    </tr>\n",
       "  </thead>\n",
       "  <tbody>\n",
       "    <tr>\n",
       "      <th>0</th>\n",
       "      <td>0</td>\n",
       "      <td>1</td>\n",
       "      <td>0</td>\n",
       "      <td>0</td>\n",
       "      <td>0</td>\n",
       "      <td>0</td>\n",
       "      <td>1</td>\n",
       "      <td>0</td>\n",
       "      <td>0</td>\n",
       "      <td>0</td>\n",
       "      <td>0</td>\n",
       "    </tr>\n",
       "    <tr>\n",
       "      <th>1</th>\n",
       "      <td>1</td>\n",
       "      <td>1</td>\n",
       "      <td>1</td>\n",
       "      <td>0</td>\n",
       "      <td>0</td>\n",
       "      <td>0</td>\n",
       "      <td>0</td>\n",
       "      <td>0</td>\n",
       "      <td>0</td>\n",
       "      <td>0</td>\n",
       "      <td>1</td>\n",
       "    </tr>\n",
       "    <tr>\n",
       "      <th>2</th>\n",
       "      <td>0</td>\n",
       "      <td>1</td>\n",
       "      <td>0</td>\n",
       "      <td>0</td>\n",
       "      <td>0</td>\n",
       "      <td>0</td>\n",
       "      <td>0</td>\n",
       "      <td>0</td>\n",
       "      <td>0</td>\n",
       "      <td>0</td>\n",
       "      <td>0</td>\n",
       "    </tr>\n",
       "    <tr>\n",
       "      <th>3</th>\n",
       "      <td>0</td>\n",
       "      <td>0</td>\n",
       "      <td>0</td>\n",
       "      <td>0</td>\n",
       "      <td>0</td>\n",
       "      <td>0</td>\n",
       "      <td>1</td>\n",
       "      <td>0</td>\n",
       "      <td>0</td>\n",
       "      <td>0</td>\n",
       "      <td>0</td>\n",
       "    </tr>\n",
       "    <tr>\n",
       "      <th>4</th>\n",
       "      <td>0</td>\n",
       "      <td>0</td>\n",
       "      <td>0</td>\n",
       "      <td>0</td>\n",
       "      <td>0</td>\n",
       "      <td>0</td>\n",
       "      <td>0</td>\n",
       "      <td>0</td>\n",
       "      <td>0</td>\n",
       "      <td>0</td>\n",
       "      <td>0</td>\n",
       "    </tr>\n",
       "    <tr>\n",
       "      <th>...</th>\n",
       "      <td>...</td>\n",
       "      <td>...</td>\n",
       "      <td>...</td>\n",
       "      <td>...</td>\n",
       "      <td>...</td>\n",
       "      <td>...</td>\n",
       "      <td>...</td>\n",
       "      <td>...</td>\n",
       "      <td>...</td>\n",
       "      <td>...</td>\n",
       "      <td>...</td>\n",
       "    </tr>\n",
       "    <tr>\n",
       "      <th>121215</th>\n",
       "      <td>1</td>\n",
       "      <td>0</td>\n",
       "      <td>1</td>\n",
       "      <td>1</td>\n",
       "      <td>1</td>\n",
       "      <td>0</td>\n",
       "      <td>0</td>\n",
       "      <td>0</td>\n",
       "      <td>0</td>\n",
       "      <td>1</td>\n",
       "      <td>0</td>\n",
       "    </tr>\n",
       "    <tr>\n",
       "      <th>121216</th>\n",
       "      <td>1</td>\n",
       "      <td>0</td>\n",
       "      <td>0</td>\n",
       "      <td>1</td>\n",
       "      <td>1</td>\n",
       "      <td>0</td>\n",
       "      <td>0</td>\n",
       "      <td>1</td>\n",
       "      <td>0</td>\n",
       "      <td>1</td>\n",
       "      <td>0</td>\n",
       "    </tr>\n",
       "    <tr>\n",
       "      <th>121217</th>\n",
       "      <td>1</td>\n",
       "      <td>1</td>\n",
       "      <td>1</td>\n",
       "      <td>1</td>\n",
       "      <td>0</td>\n",
       "      <td>1</td>\n",
       "      <td>0</td>\n",
       "      <td>0</td>\n",
       "      <td>0</td>\n",
       "      <td>0</td>\n",
       "      <td>1</td>\n",
       "    </tr>\n",
       "    <tr>\n",
       "      <th>121218</th>\n",
       "      <td>0</td>\n",
       "      <td>1</td>\n",
       "      <td>0</td>\n",
       "      <td>0</td>\n",
       "      <td>0</td>\n",
       "      <td>0</td>\n",
       "      <td>0</td>\n",
       "      <td>0</td>\n",
       "      <td>0</td>\n",
       "      <td>0</td>\n",
       "      <td>0</td>\n",
       "    </tr>\n",
       "    <tr>\n",
       "      <th>121219</th>\n",
       "      <td>0</td>\n",
       "      <td>1</td>\n",
       "      <td>0</td>\n",
       "      <td>0</td>\n",
       "      <td>0</td>\n",
       "      <td>0</td>\n",
       "      <td>0</td>\n",
       "      <td>0</td>\n",
       "      <td>0</td>\n",
       "      <td>0</td>\n",
       "      <td>0</td>\n",
       "    </tr>\n",
       "  </tbody>\n",
       "</table>\n",
       "<p>95070 rows × 11 columns</p>\n",
       "</div>"
      ],
      "text/plain": [
       "        garage  lavadero  balcon  parrilla  piscina  terraza  patio  jardin  \\\n",
       "0            0         1       0         0        0        0      1       0   \n",
       "1            1         1       1         0        0        0      0       0   \n",
       "2            0         1       0         0        0        0      0       0   \n",
       "3            0         0       0         0        0        0      1       0   \n",
       "4            0         0       0         0        0        0      0       0   \n",
       "...        ...       ...     ...       ...      ...      ...    ...     ...   \n",
       "121215       1         0       1         1        1        0      0       0   \n",
       "121216       1         0       0         1        1        0      0       1   \n",
       "121217       1         1       1         1        0        1      0       0   \n",
       "121218       0         1       0         0        0        0      0       0   \n",
       "121219       0         1       0         0        0        0      0       0   \n",
       "\n",
       "        sum  quincho  estrenar  \n",
       "0         0        0         0  \n",
       "1         0        0         1  \n",
       "2         0        0         0  \n",
       "3         0        0         0  \n",
       "4         0        0         0  \n",
       "...     ...      ...       ...  \n",
       "121215    0        1         0  \n",
       "121216    0        1         0  \n",
       "121217    0        0         1  \n",
       "121218    0        0         0  \n",
       "121219    0        0         0  \n",
       "\n",
       "[95070 rows x 11 columns]"
      ]
     },
     "execution_count": 239,
     "metadata": {},
     "output_type": "execute_result"
    }
   ],
   "source": [
    "df[caracteristicas]"
   ]
  },
  {
   "cell_type": "code",
   "execution_count": 240,
   "id": "63a119fe",
   "metadata": {
    "id": "dff26794",
    "outputId": "17937fa5-99c1-48e4-e71f-9022675d6a38"
   },
   "outputs": [
    {
     "data": {
      "text/plain": [
       "garage      44696\n",
       "lavadero    35770\n",
       "balcon      34406\n",
       "parrilla    27897\n",
       "piscina     24865\n",
       "terraza     20667\n",
       "patio       16727\n",
       "jardin      13904\n",
       "sum          9953\n",
       "quincho      8793\n",
       "estrenar     8794\n",
       "dtype: int64"
      ]
     },
     "execution_count": 240,
     "metadata": {},
     "output_type": "execute_result"
    }
   ],
   "source": [
    "df[caracteristicas].sum()"
   ]
  },
  {
   "cell_type": "code",
   "execution_count": 241,
   "id": "cc3d8af2",
   "metadata": {
    "id": "dee42981",
    "outputId": "5e7a9367-ea59-459e-e105-af6dd4c1fa3e"
   },
   "outputs": [
    {
     "data": {
      "text/plain": [
       "Index(['property_type', 'place_name', 'state_name', 'geonames_id', 'lat-lon',\n",
       "       'currency', 'price_aprox_usd', 'surface_total_in_m2',\n",
       "       'surface_covered_in_m2', 'rooms', 'properati_url', 'description',\n",
       "       'title', 'surface_ratio', 'url_first_split', 'garage', 'lavadero',\n",
       "       'balcon', 'parrilla', 'piscina', 'terraza', 'patio', 'jardin', 'sum',\n",
       "       'quincho', 'estrenar'],\n",
       "      dtype='object')"
      ]
     },
     "execution_count": 241,
     "metadata": {},
     "output_type": "execute_result"
    }
   ],
   "source": [
    "df.columns"
   ]
  },
  {
   "cell_type": "markdown",
   "id": "e2005d8e",
   "metadata": {
    "id": "5370a01b"
   },
   "source": [
    "## Vamos a dropear las columnas que ya no utilizamos"
   ]
  },
  {
   "cell_type": "code",
   "execution_count": 242,
   "id": "5a314268",
   "metadata": {
    "id": "e85c535b",
    "outputId": "855ff7cc-583e-459e-d8e1-5eb0d0d7ea6e"
   },
   "outputs": [
    {
     "name": "stdout",
     "output_type": "stream",
     "text": [
      "<class 'pandas.core.frame.DataFrame'>\n",
      "Int64Index: 95070 entries, 0 to 121219\n",
      "Data columns (total 20 columns):\n",
      " #   Column                 Non-Null Count  Dtype  \n",
      "---  ------                 --------------  -----  \n",
      " 0   property_type          95070 non-null  object \n",
      " 1   place_name             95070 non-null  object \n",
      " 2   state_name             95070 non-null  object \n",
      " 3   geonames_id            78813 non-null  float64\n",
      " 4   lat-lon                55782 non-null  object \n",
      " 5   price_aprox_usd        95070 non-null  float64\n",
      " 6   surface_total_in_m2    95070 non-null  float64\n",
      " 7   surface_covered_in_m2  95070 non-null  float64\n",
      " 8   rooms                  95070 non-null  float64\n",
      " 9   garage                 95070 non-null  int64  \n",
      " 10  lavadero               95070 non-null  int64  \n",
      " 11  balcon                 95070 non-null  int64  \n",
      " 12  parrilla               95070 non-null  int64  \n",
      " 13  piscina                95070 non-null  int64  \n",
      " 14  terraza                95070 non-null  int64  \n",
      " 15  patio                  95070 non-null  int64  \n",
      " 16  jardin                 95070 non-null  int64  \n",
      " 17  sum                    95070 non-null  int64  \n",
      " 18  quincho                95070 non-null  int64  \n",
      " 19  estrenar               95070 non-null  int64  \n",
      "dtypes: float64(5), int64(11), object(4)\n",
      "memory usage: 15.2+ MB\n"
     ]
    }
   ],
   "source": [
    "df = df.drop(['surface_ratio','currency','properati_url','description','title','surface_ratio','url_first_split'],axis=1)\n",
    "df.info()"
   ]
  },
  {
   "cell_type": "code",
   "execution_count": 243,
   "id": "da6691d7",
   "metadata": {},
   "outputs": [],
   "source": [
    "########################## vamos a tomar solo capital federal####################################\n",
    "df = df.loc[df.state_name == 'capital federal']"
   ]
  },
  {
   "cell_type": "markdown",
   "id": "af58761c",
   "metadata": {
    "id": "d29c9b69"
   },
   "source": [
    "# Geopandas"
   ]
  },
  {
   "cell_type": "markdown",
   "id": "2446a542",
   "metadata": {
    "id": "59197f76"
   },
   "source": [
    "#### Cuidado con correr esta sección, puede demorar 30 min o más. En el analisis descriptivo se usa un csv ya exportado"
   ]
  },
  {
   "cell_type": "code",
   "execution_count": 244,
   "id": "7950c99c",
   "metadata": {
    "id": "dcebc4b9",
    "outputId": "b340af19-7b88-437f-957f-851fcefc7376"
   },
   "outputs": [
    {
     "data": {
      "text/plain": [
       "(28399, 20)"
      ]
     },
     "execution_count": 244,
     "metadata": {},
     "output_type": "execute_result"
    }
   ],
   "source": [
    "df.shape"
   ]
  },
  {
   "cell_type": "code",
   "execution_count": 245,
   "id": "2de95980",
   "metadata": {},
   "outputs": [],
   "source": [
    "df_original = df.copy()"
   ]
  },
  {
   "cell_type": "code",
   "execution_count": 246,
   "id": "9e66139d",
   "metadata": {
    "id": "f0793217",
    "outputId": "c6f1f5a0-e9b6-4b8e-8ea8-84891b285972"
   },
   "outputs": [
    {
     "data": {
      "text/html": [
       "<div>\n",
       "<style scoped>\n",
       "    .dataframe tbody tr th:only-of-type {\n",
       "        vertical-align: middle;\n",
       "    }\n",
       "\n",
       "    .dataframe tbody tr th {\n",
       "        vertical-align: top;\n",
       "    }\n",
       "\n",
       "    .dataframe thead th {\n",
       "        text-align: right;\n",
       "    }\n",
       "</style>\n",
       "<table border=\"1\" class=\"dataframe\">\n",
       "  <thead>\n",
       "    <tr style=\"text-align: right;\">\n",
       "      <th></th>\n",
       "      <th>property_type</th>\n",
       "      <th>place_name</th>\n",
       "      <th>state_name</th>\n",
       "      <th>geonames_id</th>\n",
       "      <th>lat-lon</th>\n",
       "      <th>price_aprox_usd</th>\n",
       "      <th>surface_total_in_m2</th>\n",
       "      <th>surface_covered_in_m2</th>\n",
       "      <th>rooms</th>\n",
       "      <th>garage</th>\n",
       "      <th>lavadero</th>\n",
       "      <th>balcon</th>\n",
       "      <th>parrilla</th>\n",
       "      <th>piscina</th>\n",
       "      <th>terraza</th>\n",
       "      <th>patio</th>\n",
       "      <th>jardin</th>\n",
       "      <th>sum</th>\n",
       "      <th>quincho</th>\n",
       "      <th>estrenar</th>\n",
       "    </tr>\n",
       "  </thead>\n",
       "  <tbody>\n",
       "    <tr>\n",
       "      <th>0</th>\n",
       "      <td>PH</td>\n",
       "      <td>Mataderos</td>\n",
       "      <td>capital federal</td>\n",
       "      <td>3430787.0</td>\n",
       "      <td>-34.6618237,-58.5088387</td>\n",
       "      <td>62000.0</td>\n",
       "      <td>55.000000</td>\n",
       "      <td>40.000000</td>\n",
       "      <td>2.000000</td>\n",
       "      <td>0</td>\n",
       "      <td>1</td>\n",
       "      <td>0</td>\n",
       "      <td>0</td>\n",
       "      <td>0</td>\n",
       "      <td>0</td>\n",
       "      <td>1</td>\n",
       "      <td>0</td>\n",
       "      <td>0</td>\n",
       "      <td>0</td>\n",
       "      <td>0</td>\n",
       "    </tr>\n",
       "    <tr>\n",
       "      <th>2</th>\n",
       "      <td>apartment</td>\n",
       "      <td>Mataderos</td>\n",
       "      <td>capital federal</td>\n",
       "      <td>3430787.0</td>\n",
       "      <td>-34.6522615,-58.5229825</td>\n",
       "      <td>72000.0</td>\n",
       "      <td>55.000000</td>\n",
       "      <td>55.000000</td>\n",
       "      <td>2.000000</td>\n",
       "      <td>0</td>\n",
       "      <td>1</td>\n",
       "      <td>0</td>\n",
       "      <td>0</td>\n",
       "      <td>0</td>\n",
       "      <td>0</td>\n",
       "      <td>0</td>\n",
       "      <td>0</td>\n",
       "      <td>0</td>\n",
       "      <td>0</td>\n",
       "      <td>0</td>\n",
       "    </tr>\n",
       "    <tr>\n",
       "      <th>3</th>\n",
       "      <td>PH</td>\n",
       "      <td>Liniers</td>\n",
       "      <td>capital federal</td>\n",
       "      <td>3431333.0</td>\n",
       "      <td>-34.6477969,-58.5164244</td>\n",
       "      <td>95000.0</td>\n",
       "      <td>120.857451</td>\n",
       "      <td>91.601224</td>\n",
       "      <td>3.000000</td>\n",
       "      <td>0</td>\n",
       "      <td>0</td>\n",
       "      <td>0</td>\n",
       "      <td>0</td>\n",
       "      <td>0</td>\n",
       "      <td>0</td>\n",
       "      <td>1</td>\n",
       "      <td>0</td>\n",
       "      <td>0</td>\n",
       "      <td>0</td>\n",
       "      <td>0</td>\n",
       "    </tr>\n",
       "    <tr>\n",
       "      <th>7</th>\n",
       "      <td>apartment</td>\n",
       "      <td>Belgrano</td>\n",
       "      <td>capital federal</td>\n",
       "      <td>3436077.0</td>\n",
       "      <td>-34.5598729,-58.443362</td>\n",
       "      <td>138000.0</td>\n",
       "      <td>45.000000</td>\n",
       "      <td>40.000000</td>\n",
       "      <td>2.852152</td>\n",
       "      <td>0</td>\n",
       "      <td>1</td>\n",
       "      <td>0</td>\n",
       "      <td>0</td>\n",
       "      <td>1</td>\n",
       "      <td>0</td>\n",
       "      <td>0</td>\n",
       "      <td>0</td>\n",
       "      <td>0</td>\n",
       "      <td>0</td>\n",
       "      <td>1</td>\n",
       "    </tr>\n",
       "    <tr>\n",
       "      <th>8</th>\n",
       "      <td>apartment</td>\n",
       "      <td>Belgrano</td>\n",
       "      <td>capital federal</td>\n",
       "      <td>3436077.0</td>\n",
       "      <td>-34.5598729,-58.443362</td>\n",
       "      <td>195000.0</td>\n",
       "      <td>65.000000</td>\n",
       "      <td>60.000000</td>\n",
       "      <td>2.852152</td>\n",
       "      <td>0</td>\n",
       "      <td>1</td>\n",
       "      <td>0</td>\n",
       "      <td>0</td>\n",
       "      <td>1</td>\n",
       "      <td>0</td>\n",
       "      <td>0</td>\n",
       "      <td>0</td>\n",
       "      <td>0</td>\n",
       "      <td>0</td>\n",
       "      <td>1</td>\n",
       "    </tr>\n",
       "  </tbody>\n",
       "</table>\n",
       "</div>"
      ],
      "text/plain": [
       "  property_type place_name       state_name  geonames_id  \\\n",
       "0            PH  Mataderos  capital federal    3430787.0   \n",
       "2     apartment  Mataderos  capital federal    3430787.0   \n",
       "3            PH    Liniers  capital federal    3431333.0   \n",
       "7     apartment   Belgrano  capital federal    3436077.0   \n",
       "8     apartment   Belgrano  capital federal    3436077.0   \n",
       "\n",
       "                   lat-lon  price_aprox_usd  surface_total_in_m2  \\\n",
       "0  -34.6618237,-58.5088387          62000.0            55.000000   \n",
       "2  -34.6522615,-58.5229825          72000.0            55.000000   \n",
       "3  -34.6477969,-58.5164244          95000.0           120.857451   \n",
       "7   -34.5598729,-58.443362         138000.0            45.000000   \n",
       "8   -34.5598729,-58.443362         195000.0            65.000000   \n",
       "\n",
       "   surface_covered_in_m2     rooms  garage  lavadero  balcon  parrilla  \\\n",
       "0              40.000000  2.000000       0         1       0         0   \n",
       "2              55.000000  2.000000       0         1       0         0   \n",
       "3              91.601224  3.000000       0         0       0         0   \n",
       "7              40.000000  2.852152       0         1       0         0   \n",
       "8              60.000000  2.852152       0         1       0         0   \n",
       "\n",
       "   piscina  terraza  patio  jardin  sum  quincho  estrenar  \n",
       "0        0        0      1       0    0        0         0  \n",
       "2        0        0      0       0    0        0         0  \n",
       "3        0        0      1       0    0        0         0  \n",
       "7        1        0      0       0    0        0         1  \n",
       "8        1        0      0       0    0        0         1  "
      ]
     },
     "execution_count": 246,
     "metadata": {},
     "output_type": "execute_result"
    }
   ],
   "source": [
    "df.head()"
   ]
  },
  {
   "cell_type": "code",
   "execution_count": 247,
   "id": "fdfd6292",
   "metadata": {
    "id": "04745ba0",
    "outputId": "51e399f6-5054-4be5-f321-2430368693bc"
   },
   "outputs": [
    {
     "data": {
      "text/plain": [
       "property_type            0.000000\n",
       "place_name               0.000000\n",
       "state_name               0.000000\n",
       "geonames_id              0.039121\n",
       "lat-lon                  0.233917\n",
       "price_aprox_usd          0.000000\n",
       "surface_total_in_m2      0.000000\n",
       "surface_covered_in_m2    0.000000\n",
       "rooms                    0.000000\n",
       "garage                   0.000000\n",
       "lavadero                 0.000000\n",
       "balcon                   0.000000\n",
       "parrilla                 0.000000\n",
       "piscina                  0.000000\n",
       "terraza                  0.000000\n",
       "patio                    0.000000\n",
       "jardin                   0.000000\n",
       "sum                      0.000000\n",
       "quincho                  0.000000\n",
       "estrenar                 0.000000\n",
       "dtype: float64"
      ]
     },
     "execution_count": 247,
     "metadata": {},
     "output_type": "execute_result"
    }
   ],
   "source": [
    "df.isna().sum() / df.shape[0]"
   ]
  },
  {
   "cell_type": "markdown",
   "id": "e9e9f6d7",
   "metadata": {
    "id": "2ea60315"
   },
   "source": [
    "Extraemos en otro dataset las columnas con las que vamos a trabajar:"
   ]
  },
  {
   "cell_type": "code",
   "execution_count": 248,
   "id": "a9d9ab1c",
   "metadata": {
    "id": "4559bc87",
    "outputId": "49f504ea-8239-4693-ac4e-35358ac5c2fe"
   },
   "outputs": [
    {
     "data": {
      "text/html": [
       "<div>\n",
       "<style scoped>\n",
       "    .dataframe tbody tr th:only-of-type {\n",
       "        vertical-align: middle;\n",
       "    }\n",
       "\n",
       "    .dataframe tbody tr th {\n",
       "        vertical-align: top;\n",
       "    }\n",
       "\n",
       "    .dataframe thead th {\n",
       "        text-align: right;\n",
       "    }\n",
       "</style>\n",
       "<table border=\"1\" class=\"dataframe\">\n",
       "  <thead>\n",
       "    <tr style=\"text-align: right;\">\n",
       "      <th></th>\n",
       "      <th>state_name</th>\n",
       "      <th>place_name</th>\n",
       "      <th>lat-lon</th>\n",
       "    </tr>\n",
       "  </thead>\n",
       "  <tbody>\n",
       "    <tr>\n",
       "      <th>0</th>\n",
       "      <td>capital federal</td>\n",
       "      <td>Mataderos</td>\n",
       "      <td>-34.6618237,-58.5088387</td>\n",
       "    </tr>\n",
       "    <tr>\n",
       "      <th>2</th>\n",
       "      <td>capital federal</td>\n",
       "      <td>Mataderos</td>\n",
       "      <td>-34.6522615,-58.5229825</td>\n",
       "    </tr>\n",
       "    <tr>\n",
       "      <th>3</th>\n",
       "      <td>capital federal</td>\n",
       "      <td>Liniers</td>\n",
       "      <td>-34.6477969,-58.5164244</td>\n",
       "    </tr>\n",
       "    <tr>\n",
       "      <th>7</th>\n",
       "      <td>capital federal</td>\n",
       "      <td>Belgrano</td>\n",
       "      <td>-34.5598729,-58.443362</td>\n",
       "    </tr>\n",
       "    <tr>\n",
       "      <th>8</th>\n",
       "      <td>capital federal</td>\n",
       "      <td>Belgrano</td>\n",
       "      <td>-34.5598729,-58.443362</td>\n",
       "    </tr>\n",
       "  </tbody>\n",
       "</table>\n",
       "</div>"
      ],
      "text/plain": [
       "        state_name place_name                  lat-lon\n",
       "0  capital federal  Mataderos  -34.6618237,-58.5088387\n",
       "2  capital federal  Mataderos  -34.6522615,-58.5229825\n",
       "3  capital federal    Liniers  -34.6477969,-58.5164244\n",
       "7  capital federal   Belgrano   -34.5598729,-58.443362\n",
       "8  capital federal   Belgrano   -34.5598729,-58.443362"
      ]
     },
     "execution_count": 248,
     "metadata": {},
     "output_type": "execute_result"
    }
   ],
   "source": [
    "df_geo = df.loc[df['lat-lon'].notna(),['state_name', 'place_name', 'lat-lon']]\n",
    "df_geo.head()"
   ]
  },
  {
   "cell_type": "markdown",
   "id": "7712b4dd",
   "metadata": {
    "id": "8bd4942f"
   },
   "source": [
    "Transformamos lat y lon en columnas separadas:\n"
   ]
  },
  {
   "cell_type": "code",
   "execution_count": 249,
   "id": "83794899",
   "metadata": {
    "id": "22bf6435",
    "outputId": "c89d3a37-1af7-4898-ffe6-84ecd581fd75"
   },
   "outputs": [
    {
     "data": {
      "text/html": [
       "<div>\n",
       "<style scoped>\n",
       "    .dataframe tbody tr th:only-of-type {\n",
       "        vertical-align: middle;\n",
       "    }\n",
       "\n",
       "    .dataframe tbody tr th {\n",
       "        vertical-align: top;\n",
       "    }\n",
       "\n",
       "    .dataframe thead th {\n",
       "        text-align: right;\n",
       "    }\n",
       "</style>\n",
       "<table border=\"1\" class=\"dataframe\">\n",
       "  <thead>\n",
       "    <tr style=\"text-align: right;\">\n",
       "      <th></th>\n",
       "      <th>state_name</th>\n",
       "      <th>place_name</th>\n",
       "      <th>lat-lon</th>\n",
       "      <th>lat</th>\n",
       "      <th>lon</th>\n",
       "    </tr>\n",
       "  </thead>\n",
       "  <tbody>\n",
       "    <tr>\n",
       "      <th>0</th>\n",
       "      <td>capital federal</td>\n",
       "      <td>Mataderos</td>\n",
       "      <td>-34.6618237,-58.5088387</td>\n",
       "      <td>-34.6618237</td>\n",
       "      <td>-58.5088387</td>\n",
       "    </tr>\n",
       "    <tr>\n",
       "      <th>2</th>\n",
       "      <td>capital federal</td>\n",
       "      <td>Mataderos</td>\n",
       "      <td>-34.6522615,-58.5229825</td>\n",
       "      <td>-34.6522615</td>\n",
       "      <td>-58.5229825</td>\n",
       "    </tr>\n",
       "    <tr>\n",
       "      <th>3</th>\n",
       "      <td>capital federal</td>\n",
       "      <td>Liniers</td>\n",
       "      <td>-34.6477969,-58.5164244</td>\n",
       "      <td>-34.6477969</td>\n",
       "      <td>-58.5164244</td>\n",
       "    </tr>\n",
       "    <tr>\n",
       "      <th>7</th>\n",
       "      <td>capital federal</td>\n",
       "      <td>Belgrano</td>\n",
       "      <td>-34.5598729,-58.443362</td>\n",
       "      <td>-34.5598729</td>\n",
       "      <td>-58.443362</td>\n",
       "    </tr>\n",
       "    <tr>\n",
       "      <th>8</th>\n",
       "      <td>capital federal</td>\n",
       "      <td>Belgrano</td>\n",
       "      <td>-34.5598729,-58.443362</td>\n",
       "      <td>-34.5598729</td>\n",
       "      <td>-58.443362</td>\n",
       "    </tr>\n",
       "  </tbody>\n",
       "</table>\n",
       "</div>"
      ],
      "text/plain": [
       "        state_name place_name                  lat-lon          lat  \\\n",
       "0  capital federal  Mataderos  -34.6618237,-58.5088387  -34.6618237   \n",
       "2  capital federal  Mataderos  -34.6522615,-58.5229825  -34.6522615   \n",
       "3  capital federal    Liniers  -34.6477969,-58.5164244  -34.6477969   \n",
       "7  capital federal   Belgrano   -34.5598729,-58.443362  -34.5598729   \n",
       "8  capital federal   Belgrano   -34.5598729,-58.443362  -34.5598729   \n",
       "\n",
       "           lon  \n",
       "0  -58.5088387  \n",
       "2  -58.5229825  \n",
       "3  -58.5164244  \n",
       "7   -58.443362  \n",
       "8   -58.443362  "
      ]
     },
     "execution_count": 249,
     "metadata": {},
     "output_type": "execute_result"
    }
   ],
   "source": [
    "df_geo['lat'] = df_geo['lat-lon'].apply(lambda x : x.split(',')[0]  )\n",
    "df_geo['lon'] = df_geo['lat-lon'].apply(lambda x : x.split(',')[1]  )\n",
    "df_geo.head()"
   ]
  },
  {
   "cell_type": "markdown",
   "id": "14b3c3c3",
   "metadata": {
    "id": "585cf419"
   },
   "source": [
    "Asignamos la geometría:"
   ]
  },
  {
   "cell_type": "code",
   "execution_count": 250,
   "id": "5ad0ddda",
   "metadata": {
    "id": "09276337"
   },
   "outputs": [],
   "source": [
    "geometria = gpd.points_from_xy(df_geo['lon'], df_geo['lat'])"
   ]
  },
  {
   "cell_type": "markdown",
   "id": "77ce544f",
   "metadata": {
    "id": "83689364"
   },
   "source": [
    "Convertimos a geodataframe:\n"
   ]
  },
  {
   "cell_type": "code",
   "execution_count": 251,
   "id": "51f66cff",
   "metadata": {
    "id": "909741c5",
    "outputId": "190f50f1-dcff-4ea5-d36c-0503dcae391c"
   },
   "outputs": [
    {
     "data": {
      "text/html": [
       "<div>\n",
       "<style scoped>\n",
       "    .dataframe tbody tr th:only-of-type {\n",
       "        vertical-align: middle;\n",
       "    }\n",
       "\n",
       "    .dataframe tbody tr th {\n",
       "        vertical-align: top;\n",
       "    }\n",
       "\n",
       "    .dataframe thead th {\n",
       "        text-align: right;\n",
       "    }\n",
       "</style>\n",
       "<table border=\"1\" class=\"dataframe\">\n",
       "  <thead>\n",
       "    <tr style=\"text-align: right;\">\n",
       "      <th></th>\n",
       "      <th>state_name</th>\n",
       "      <th>place_name</th>\n",
       "      <th>lat-lon</th>\n",
       "      <th>lat</th>\n",
       "      <th>lon</th>\n",
       "      <th>geometry</th>\n",
       "    </tr>\n",
       "  </thead>\n",
       "  <tbody>\n",
       "    <tr>\n",
       "      <th>0</th>\n",
       "      <td>capital federal</td>\n",
       "      <td>Mataderos</td>\n",
       "      <td>-34.6618237,-58.5088387</td>\n",
       "      <td>-34.6618237</td>\n",
       "      <td>-58.5088387</td>\n",
       "      <td>POINT (-58.50884 -34.66182)</td>\n",
       "    </tr>\n",
       "    <tr>\n",
       "      <th>2</th>\n",
       "      <td>capital federal</td>\n",
       "      <td>Mataderos</td>\n",
       "      <td>-34.6522615,-58.5229825</td>\n",
       "      <td>-34.6522615</td>\n",
       "      <td>-58.5229825</td>\n",
       "      <td>POINT (-58.52298 -34.65226)</td>\n",
       "    </tr>\n",
       "    <tr>\n",
       "      <th>3</th>\n",
       "      <td>capital federal</td>\n",
       "      <td>Liniers</td>\n",
       "      <td>-34.6477969,-58.5164244</td>\n",
       "      <td>-34.6477969</td>\n",
       "      <td>-58.5164244</td>\n",
       "      <td>POINT (-58.51642 -34.64780)</td>\n",
       "    </tr>\n",
       "    <tr>\n",
       "      <th>7</th>\n",
       "      <td>capital federal</td>\n",
       "      <td>Belgrano</td>\n",
       "      <td>-34.5598729,-58.443362</td>\n",
       "      <td>-34.5598729</td>\n",
       "      <td>-58.443362</td>\n",
       "      <td>POINT (-58.44336 -34.55987)</td>\n",
       "    </tr>\n",
       "    <tr>\n",
       "      <th>8</th>\n",
       "      <td>capital federal</td>\n",
       "      <td>Belgrano</td>\n",
       "      <td>-34.5598729,-58.443362</td>\n",
       "      <td>-34.5598729</td>\n",
       "      <td>-58.443362</td>\n",
       "      <td>POINT (-58.44336 -34.55987)</td>\n",
       "    </tr>\n",
       "  </tbody>\n",
       "</table>\n",
       "</div>"
      ],
      "text/plain": [
       "        state_name place_name                  lat-lon          lat  \\\n",
       "0  capital federal  Mataderos  -34.6618237,-58.5088387  -34.6618237   \n",
       "2  capital federal  Mataderos  -34.6522615,-58.5229825  -34.6522615   \n",
       "3  capital federal    Liniers  -34.6477969,-58.5164244  -34.6477969   \n",
       "7  capital federal   Belgrano   -34.5598729,-58.443362  -34.5598729   \n",
       "8  capital federal   Belgrano   -34.5598729,-58.443362  -34.5598729   \n",
       "\n",
       "           lon                     geometry  \n",
       "0  -58.5088387  POINT (-58.50884 -34.66182)  \n",
       "2  -58.5229825  POINT (-58.52298 -34.65226)  \n",
       "3  -58.5164244  POINT (-58.51642 -34.64780)  \n",
       "7   -58.443362  POINT (-58.44336 -34.55987)  \n",
       "8   -58.443362  POINT (-58.44336 -34.55987)  "
      ]
     },
     "execution_count": 251,
     "metadata": {},
     "output_type": "execute_result"
    }
   ],
   "source": [
    "geo_df = gpd.GeoDataFrame(df_geo, geometry=geometria)\n",
    "geo_df.head()"
   ]
  },
  {
   "cell_type": "markdown",
   "id": "c34dc345",
   "metadata": {
    "id": "4640b7b4"
   },
   "source": [
    "Importamos data de subtes:"
   ]
  },
  {
   "cell_type": "code",
   "execution_count": 252,
   "id": "fad393fb",
   "metadata": {
    "id": "ac8bb87d",
    "outputId": "a7b449dc-2796-4188-e0dc-94a954456301"
   },
   "outputs": [
    {
     "data": {
      "text/html": [
       "<div>\n",
       "<style scoped>\n",
       "    .dataframe tbody tr th:only-of-type {\n",
       "        vertical-align: middle;\n",
       "    }\n",
       "\n",
       "    .dataframe tbody tr th {\n",
       "        vertical-align: top;\n",
       "    }\n",
       "\n",
       "    .dataframe thead th {\n",
       "        text-align: right;\n",
       "    }\n",
       "</style>\n",
       "<table border=\"1\" class=\"dataframe\">\n",
       "  <thead>\n",
       "    <tr style=\"text-align: right;\">\n",
       "      <th></th>\n",
       "      <th>lon</th>\n",
       "      <th>lat</th>\n",
       "      <th>id</th>\n",
       "      <th>estacion</th>\n",
       "      <th>linea</th>\n",
       "      <th>geometry</th>\n",
       "    </tr>\n",
       "  </thead>\n",
       "  <tbody>\n",
       "    <tr>\n",
       "      <th>0</th>\n",
       "      <td>-58.398928</td>\n",
       "      <td>-34.635750</td>\n",
       "      <td>1.0</td>\n",
       "      <td>CASEROS</td>\n",
       "      <td>H</td>\n",
       "      <td>POINT (2752843.207 -4474495.110)</td>\n",
       "    </tr>\n",
       "    <tr>\n",
       "      <th>1</th>\n",
       "      <td>-58.400970</td>\n",
       "      <td>-34.629376</td>\n",
       "      <td>2.0</td>\n",
       "      <td>INCLAN - MEZQUITA AL AHMAD</td>\n",
       "      <td>H</td>\n",
       "      <td>POINT (2752894.312 -4474935.513)</td>\n",
       "    </tr>\n",
       "    <tr>\n",
       "      <th>2</th>\n",
       "      <td>-58.402323</td>\n",
       "      <td>-34.623092</td>\n",
       "      <td>3.0</td>\n",
       "      <td>HUMBERTO 1°</td>\n",
       "      <td>H</td>\n",
       "      <td>POINT (2752996.147 -4475337.879)</td>\n",
       "    </tr>\n",
       "    <tr>\n",
       "      <th>3</th>\n",
       "      <td>-58.404732</td>\n",
       "      <td>-34.615242</td>\n",
       "      <td>4.0</td>\n",
       "      <td>VENEZUELA</td>\n",
       "      <td>H</td>\n",
       "      <td>POINT (2753067.184 -4475875.033)</td>\n",
       "    </tr>\n",
       "    <tr>\n",
       "      <th>4</th>\n",
       "      <td>-58.406036</td>\n",
       "      <td>-34.608935</td>\n",
       "      <td>5.0</td>\n",
       "      <td>ONCE - 30 DE DICIEMBRE</td>\n",
       "      <td>H</td>\n",
       "      <td>POINT (2753173.468 -4476276.230)</td>\n",
       "    </tr>\n",
       "    <tr>\n",
       "      <th>5</th>\n",
       "      <td>-58.380574</td>\n",
       "      <td>-34.604245</td>\n",
       "      <td>6.0</td>\n",
       "      <td>9 DE JULIO</td>\n",
       "      <td>D</td>\n",
       "      <td>POINT (2755317.354 -4475303.910)</td>\n",
       "    </tr>\n",
       "    <tr>\n",
       "      <th>6</th>\n",
       "      <td>-58.397924</td>\n",
       "      <td>-34.599757</td>\n",
       "      <td>7.0</td>\n",
       "      <td>FACULTAD DE MEDICINA</td>\n",
       "      <td>D</td>\n",
       "      <td>POINT (2754110.243 -4476378.834)</td>\n",
       "    </tr>\n",
       "    <tr>\n",
       "      <th>7</th>\n",
       "      <td>-58.385142</td>\n",
       "      <td>-34.601587</td>\n",
       "      <td>8.0</td>\n",
       "      <td>TRIBUNALES - TEATRO COLÓN</td>\n",
       "      <td>D</td>\n",
       "      <td>POINT (2755048.321 -4475666.167)</td>\n",
       "    </tr>\n",
       "    <tr>\n",
       "      <th>8</th>\n",
       "      <td>-58.407161</td>\n",
       "      <td>-34.591628</td>\n",
       "      <td>9.0</td>\n",
       "      <td>AGÜERO</td>\n",
       "      <td>D</td>\n",
       "      <td>POINT (2753656.739 -4477258.950)</td>\n",
       "    </tr>\n",
       "    <tr>\n",
       "      <th>9</th>\n",
       "      <td>-58.415955</td>\n",
       "      <td>-34.585156</td>\n",
       "      <td>10.0</td>\n",
       "      <td>R.SCALABRINI ORTIZ</td>\n",
       "      <td>D</td>\n",
       "      <td>POINT (2753182.970 -4478028.736)</td>\n",
       "    </tr>\n",
       "  </tbody>\n",
       "</table>\n",
       "</div>"
      ],
      "text/plain": [
       "         lon        lat    id                    estacion linea  \\\n",
       "0 -58.398928 -34.635750   1.0                     CASEROS     H   \n",
       "1 -58.400970 -34.629376   2.0  INCLAN - MEZQUITA AL AHMAD     H   \n",
       "2 -58.402323 -34.623092   3.0                 HUMBERTO 1°     H   \n",
       "3 -58.404732 -34.615242   4.0                   VENEZUELA     H   \n",
       "4 -58.406036 -34.608935   5.0      ONCE - 30 DE DICIEMBRE     H   \n",
       "5 -58.380574 -34.604245   6.0                  9 DE JULIO     D   \n",
       "6 -58.397924 -34.599757   7.0        FACULTAD DE MEDICINA     D   \n",
       "7 -58.385142 -34.601587   8.0   TRIBUNALES - TEATRO COLÓN     D   \n",
       "8 -58.407161 -34.591628   9.0                      AGÜERO     D   \n",
       "9 -58.415955 -34.585156  10.0          R.SCALABRINI ORTIZ     D   \n",
       "\n",
       "                           geometry  \n",
       "0  POINT (2752843.207 -4474495.110)  \n",
       "1  POINT (2752894.312 -4474935.513)  \n",
       "2  POINT (2752996.147 -4475337.879)  \n",
       "3  POINT (2753067.184 -4475875.033)  \n",
       "4  POINT (2753173.468 -4476276.230)  \n",
       "5  POINT (2755317.354 -4475303.910)  \n",
       "6  POINT (2754110.243 -4476378.834)  \n",
       "7  POINT (2755048.321 -4475666.167)  \n",
       "8  POINT (2753656.739 -4477258.950)  \n",
       "9  POINT (2753182.970 -4478028.736)  "
      ]
     },
     "execution_count": 252,
     "metadata": {},
     "output_type": "execute_result"
    }
   ],
   "source": [
    "\n",
    "def read_geo(path, lon_col=\"lon\", lat_col=\"lat\", from_crs=\"EPSG:4326\", to_crs=\"EPSG:5341\", **kwargs):\n",
    "    df = pd.read_csv(path, **kwargs).rename(columns={lon_col: \"lon\", lat_col: \"lat\"})\n",
    "    geo = gpd.GeoDataFrame(df, geometry=gpd.points_from_xy(df.lon, df.lat), crs=from_crs)\n",
    "    return geo[~geo.geometry.isna()].to_crs(to_crs) \n",
    "geo_subte = read_geo(f\"estaciones-de-subte.csv\", \"long\")\n",
    "geo_subte.head(10)"
   ]
  },
  {
   "cell_type": "markdown",
   "id": "1fda8688",
   "metadata": {
    "id": "5e21424d"
   },
   "source": [
    "Creamos una columna en ceros para asginar el valor\n"
   ]
  },
  {
   "cell_type": "code",
   "execution_count": 253,
   "id": "8c1196d8",
   "metadata": {
    "id": "286c11e8",
    "outputId": "19e069aa-eeef-481a-af11-a7018399cbef"
   },
   "outputs": [
    {
     "data": {
      "text/html": [
       "<div>\n",
       "<style scoped>\n",
       "    .dataframe tbody tr th:only-of-type {\n",
       "        vertical-align: middle;\n",
       "    }\n",
       "\n",
       "    .dataframe tbody tr th {\n",
       "        vertical-align: top;\n",
       "    }\n",
       "\n",
       "    .dataframe thead th {\n",
       "        text-align: right;\n",
       "    }\n",
       "</style>\n",
       "<table border=\"1\" class=\"dataframe\">\n",
       "  <thead>\n",
       "    <tr style=\"text-align: right;\">\n",
       "      <th></th>\n",
       "      <th>state_name</th>\n",
       "      <th>place_name</th>\n",
       "      <th>lat-lon</th>\n",
       "      <th>lat</th>\n",
       "      <th>lon</th>\n",
       "      <th>geometry</th>\n",
       "      <th>min_subte</th>\n",
       "    </tr>\n",
       "  </thead>\n",
       "  <tbody>\n",
       "    <tr>\n",
       "      <th>0</th>\n",
       "      <td>capital federal</td>\n",
       "      <td>Mataderos</td>\n",
       "      <td>-34.6618237,-58.5088387</td>\n",
       "      <td>-34.6618237</td>\n",
       "      <td>-58.5088387</td>\n",
       "      <td>POINT (-58.50884 -34.66182)</td>\n",
       "      <td>0</td>\n",
       "    </tr>\n",
       "    <tr>\n",
       "      <th>2</th>\n",
       "      <td>capital federal</td>\n",
       "      <td>Mataderos</td>\n",
       "      <td>-34.6522615,-58.5229825</td>\n",
       "      <td>-34.6522615</td>\n",
       "      <td>-58.5229825</td>\n",
       "      <td>POINT (-58.52298 -34.65226)</td>\n",
       "      <td>0</td>\n",
       "    </tr>\n",
       "    <tr>\n",
       "      <th>3</th>\n",
       "      <td>capital federal</td>\n",
       "      <td>Liniers</td>\n",
       "      <td>-34.6477969,-58.5164244</td>\n",
       "      <td>-34.6477969</td>\n",
       "      <td>-58.5164244</td>\n",
       "      <td>POINT (-58.51642 -34.64780)</td>\n",
       "      <td>0</td>\n",
       "    </tr>\n",
       "    <tr>\n",
       "      <th>7</th>\n",
       "      <td>capital federal</td>\n",
       "      <td>Belgrano</td>\n",
       "      <td>-34.5598729,-58.443362</td>\n",
       "      <td>-34.5598729</td>\n",
       "      <td>-58.443362</td>\n",
       "      <td>POINT (-58.44336 -34.55987)</td>\n",
       "      <td>0</td>\n",
       "    </tr>\n",
       "    <tr>\n",
       "      <th>8</th>\n",
       "      <td>capital federal</td>\n",
       "      <td>Belgrano</td>\n",
       "      <td>-34.5598729,-58.443362</td>\n",
       "      <td>-34.5598729</td>\n",
       "      <td>-58.443362</td>\n",
       "      <td>POINT (-58.44336 -34.55987)</td>\n",
       "      <td>0</td>\n",
       "    </tr>\n",
       "  </tbody>\n",
       "</table>\n",
       "</div>"
      ],
      "text/plain": [
       "        state_name place_name                  lat-lon          lat  \\\n",
       "0  capital federal  Mataderos  -34.6618237,-58.5088387  -34.6618237   \n",
       "2  capital federal  Mataderos  -34.6522615,-58.5229825  -34.6522615   \n",
       "3  capital federal    Liniers  -34.6477969,-58.5164244  -34.6477969   \n",
       "7  capital federal   Belgrano   -34.5598729,-58.443362  -34.5598729   \n",
       "8  capital federal   Belgrano   -34.5598729,-58.443362  -34.5598729   \n",
       "\n",
       "           lon                     geometry  min_subte  \n",
       "0  -58.5088387  POINT (-58.50884 -34.66182)          0  \n",
       "2  -58.5229825  POINT (-58.52298 -34.65226)          0  \n",
       "3  -58.5164244  POINT (-58.51642 -34.64780)          0  \n",
       "7   -58.443362  POINT (-58.44336 -34.55987)          0  \n",
       "8   -58.443362  POINT (-58.44336 -34.55987)          0  "
      ]
     },
     "execution_count": 253,
     "metadata": {},
     "output_type": "execute_result"
    }
   ],
   "source": [
    "geo_df['min_subte'] = 0\n",
    "geo_df.head()"
   ]
  },
  {
   "cell_type": "markdown",
   "id": "700e5794",
   "metadata": {
    "id": "49692cca"
   },
   "source": [
    "Con un for generamos una lista de distancias de cada punto a cada subte y despues sacamos el valor mínimo:\n"
   ]
  },
  {
   "cell_type": "code",
   "execution_count": 254,
   "id": "d5ca4199",
   "metadata": {
    "id": "62b8f113",
    "outputId": "449aedfe-a1f9-4ff0-bfe2-eedd2b80d8d6"
   },
   "outputs": [
    {
     "data": {
      "text/html": [
       "<div>\n",
       "<style scoped>\n",
       "    .dataframe tbody tr th:only-of-type {\n",
       "        vertical-align: middle;\n",
       "    }\n",
       "\n",
       "    .dataframe tbody tr th {\n",
       "        vertical-align: top;\n",
       "    }\n",
       "\n",
       "    .dataframe thead th {\n",
       "        text-align: right;\n",
       "    }\n",
       "</style>\n",
       "<table border=\"1\" class=\"dataframe\">\n",
       "  <thead>\n",
       "    <tr style=\"text-align: right;\">\n",
       "      <th></th>\n",
       "      <th>state_name</th>\n",
       "      <th>place_name</th>\n",
       "      <th>lat-lon</th>\n",
       "      <th>lat</th>\n",
       "      <th>lon</th>\n",
       "      <th>geometry</th>\n",
       "      <th>min_subte</th>\n",
       "    </tr>\n",
       "  </thead>\n",
       "  <tbody>\n",
       "    <tr>\n",
       "      <th>0</th>\n",
       "      <td>capital federal</td>\n",
       "      <td>Mataderos</td>\n",
       "      <td>-34.6618237,-58.5088387</td>\n",
       "      <td>-34.6618237</td>\n",
       "      <td>-58.5088387</td>\n",
       "      <td>POINT (-58.50884 -34.66182)</td>\n",
       "      <td>4728.393676</td>\n",
       "    </tr>\n",
       "    <tr>\n",
       "      <th>2</th>\n",
       "      <td>capital federal</td>\n",
       "      <td>Mataderos</td>\n",
       "      <td>-34.6522615,-58.5229825</td>\n",
       "      <td>-34.6522615</td>\n",
       "      <td>-58.5229825</td>\n",
       "      <td>POINT (-58.52298 -34.65226)</td>\n",
       "      <td>6073.153602</td>\n",
       "    </tr>\n",
       "    <tr>\n",
       "      <th>3</th>\n",
       "      <td>capital federal</td>\n",
       "      <td>Liniers</td>\n",
       "      <td>-34.6477969,-58.5164244</td>\n",
       "      <td>-34.6477969</td>\n",
       "      <td>-58.5164244</td>\n",
       "      <td>POINT (-58.51642 -34.64780)</td>\n",
       "      <td>5305.630900</td>\n",
       "    </tr>\n",
       "    <tr>\n",
       "      <th>7</th>\n",
       "      <td>capital federal</td>\n",
       "      <td>Belgrano</td>\n",
       "      <td>-34.5598729,-58.443362</td>\n",
       "      <td>-34.5598729</td>\n",
       "      <td>-58.443362</td>\n",
       "      <td>POINT (-58.44336 -34.55987)</td>\n",
       "      <td>609.743234</td>\n",
       "    </tr>\n",
       "    <tr>\n",
       "      <th>8</th>\n",
       "      <td>capital federal</td>\n",
       "      <td>Belgrano</td>\n",
       "      <td>-34.5598729,-58.443362</td>\n",
       "      <td>-34.5598729</td>\n",
       "      <td>-58.443362</td>\n",
       "      <td>POINT (-58.44336 -34.55987)</td>\n",
       "      <td>609.743234</td>\n",
       "    </tr>\n",
       "  </tbody>\n",
       "</table>\n",
       "</div>"
      ],
      "text/plain": [
       "        state_name place_name                  lat-lon          lat  \\\n",
       "0  capital federal  Mataderos  -34.6618237,-58.5088387  -34.6618237   \n",
       "2  capital federal  Mataderos  -34.6522615,-58.5229825  -34.6522615   \n",
       "3  capital federal    Liniers  -34.6477969,-58.5164244  -34.6477969   \n",
       "7  capital federal   Belgrano   -34.5598729,-58.443362  -34.5598729   \n",
       "8  capital federal   Belgrano   -34.5598729,-58.443362  -34.5598729   \n",
       "\n",
       "           lon                     geometry    min_subte  \n",
       "0  -58.5088387  POINT (-58.50884 -34.66182)  4728.393676  \n",
       "2  -58.5229825  POINT (-58.52298 -34.65226)  6073.153602  \n",
       "3  -58.5164244  POINT (-58.51642 -34.64780)  5305.630900  \n",
       "7   -58.443362  POINT (-58.44336 -34.55987)   609.743234  \n",
       "8   -58.443362  POINT (-58.44336 -34.55987)   609.743234  "
      ]
     },
     "execution_count": 254,
     "metadata": {},
     "output_type": "execute_result"
    }
   ],
   "source": [
    "import geopy\n",
    "for i in geo_df.index:\n",
    "    distancias = []\n",
    "    for j in geo_subte.index:\n",
    "        punto_1 = (geo_subte.lon[j], geo_subte.lat[j])\n",
    "        punto_2 = (geo_df.lon[i], geo_df.lat[i])\n",
    "        dist = geopy.distance.geodesic(punto_1,punto_2)\n",
    "        distancias.append(dist.meters)\n",
    "    geo_df.loc[i,'min_subte'] = np.min(distancias)\n",
    "      \n",
    "geo_df.head()"
   ]
  },
  {
   "cell_type": "markdown",
   "id": "46cceded",
   "metadata": {
    "id": "97660e06"
   },
   "source": [
    "Con un for generamos una lista de las diferentes lineas con una distancia menor a 500mts:"
   ]
  },
  {
   "cell_type": "code",
   "execution_count": 255,
   "id": "7f5cdf95",
   "metadata": {
    "id": "59fecdc7"
   },
   "outputs": [],
   "source": [
    "geo_df['subtes_menor_500m'] = 0\n",
    "for i in geo_df.index:\n",
    "    lineas = []\n",
    "    for j in geo_subte.index:\n",
    "        punto_1 = (geo_subte.lon[j], geo_subte.lat[j])\n",
    "        punto_2 = (geo_df.lon[i], geo_df.lat[i])\n",
    "        dist = geopy.distance.geodesic(punto_1,punto_2)\n",
    "        \n",
    "        if dist.meters < 500:\n",
    "            lineas.append(geo_subte.linea[j])\n",
    "            # index.append(j)\n",
    "        else:\n",
    "            pass\n",
    "    \n",
    "    geo_df.loc[i,'subtes_menor_500m'] = len(set(lineas))"
   ]
  },
  {
   "cell_type": "code",
   "execution_count": 256,
   "id": "e06c3af0",
   "metadata": {
    "id": "0d9a7890",
    "outputId": "331ea741-338e-4c66-a28a-aa6c7beb87ff"
   },
   "outputs": [
    {
     "data": {
      "text/html": [
       "<div>\n",
       "<style scoped>\n",
       "    .dataframe tbody tr th:only-of-type {\n",
       "        vertical-align: middle;\n",
       "    }\n",
       "\n",
       "    .dataframe tbody tr th {\n",
       "        vertical-align: top;\n",
       "    }\n",
       "\n",
       "    .dataframe thead th {\n",
       "        text-align: right;\n",
       "    }\n",
       "</style>\n",
       "<table border=\"1\" class=\"dataframe\">\n",
       "  <thead>\n",
       "    <tr style=\"text-align: right;\">\n",
       "      <th></th>\n",
       "      <th>state_name</th>\n",
       "      <th>place_name</th>\n",
       "      <th>lat-lon</th>\n",
       "      <th>lat</th>\n",
       "      <th>lon</th>\n",
       "      <th>geometry</th>\n",
       "      <th>min_subte</th>\n",
       "      <th>subtes_menor_500m</th>\n",
       "    </tr>\n",
       "  </thead>\n",
       "  <tbody>\n",
       "    <tr>\n",
       "      <th>0</th>\n",
       "      <td>capital federal</td>\n",
       "      <td>Mataderos</td>\n",
       "      <td>-34.6618237,-58.5088387</td>\n",
       "      <td>-34.6618237</td>\n",
       "      <td>-58.5088387</td>\n",
       "      <td>POINT (-58.50884 -34.66182)</td>\n",
       "      <td>4728.393676</td>\n",
       "      <td>0</td>\n",
       "    </tr>\n",
       "    <tr>\n",
       "      <th>2</th>\n",
       "      <td>capital federal</td>\n",
       "      <td>Mataderos</td>\n",
       "      <td>-34.6522615,-58.5229825</td>\n",
       "      <td>-34.6522615</td>\n",
       "      <td>-58.5229825</td>\n",
       "      <td>POINT (-58.52298 -34.65226)</td>\n",
       "      <td>6073.153602</td>\n",
       "      <td>0</td>\n",
       "    </tr>\n",
       "    <tr>\n",
       "      <th>3</th>\n",
       "      <td>capital federal</td>\n",
       "      <td>Liniers</td>\n",
       "      <td>-34.6477969,-58.5164244</td>\n",
       "      <td>-34.6477969</td>\n",
       "      <td>-58.5164244</td>\n",
       "      <td>POINT (-58.51642 -34.64780)</td>\n",
       "      <td>5305.630900</td>\n",
       "      <td>0</td>\n",
       "    </tr>\n",
       "    <tr>\n",
       "      <th>7</th>\n",
       "      <td>capital federal</td>\n",
       "      <td>Belgrano</td>\n",
       "      <td>-34.5598729,-58.443362</td>\n",
       "      <td>-34.5598729</td>\n",
       "      <td>-58.443362</td>\n",
       "      <td>POINT (-58.44336 -34.55987)</td>\n",
       "      <td>609.743234</td>\n",
       "      <td>0</td>\n",
       "    </tr>\n",
       "    <tr>\n",
       "      <th>8</th>\n",
       "      <td>capital federal</td>\n",
       "      <td>Belgrano</td>\n",
       "      <td>-34.5598729,-58.443362</td>\n",
       "      <td>-34.5598729</td>\n",
       "      <td>-58.443362</td>\n",
       "      <td>POINT (-58.44336 -34.55987)</td>\n",
       "      <td>609.743234</td>\n",
       "      <td>0</td>\n",
       "    </tr>\n",
       "  </tbody>\n",
       "</table>\n",
       "</div>"
      ],
      "text/plain": [
       "        state_name place_name                  lat-lon          lat  \\\n",
       "0  capital federal  Mataderos  -34.6618237,-58.5088387  -34.6618237   \n",
       "2  capital federal  Mataderos  -34.6522615,-58.5229825  -34.6522615   \n",
       "3  capital federal    Liniers  -34.6477969,-58.5164244  -34.6477969   \n",
       "7  capital federal   Belgrano   -34.5598729,-58.443362  -34.5598729   \n",
       "8  capital federal   Belgrano   -34.5598729,-58.443362  -34.5598729   \n",
       "\n",
       "           lon                     geometry    min_subte  subtes_menor_500m  \n",
       "0  -58.5088387  POINT (-58.50884 -34.66182)  4728.393676                  0  \n",
       "2  -58.5229825  POINT (-58.52298 -34.65226)  6073.153602                  0  \n",
       "3  -58.5164244  POINT (-58.51642 -34.64780)  5305.630900                  0  \n",
       "7   -58.443362  POINT (-58.44336 -34.55987)   609.743234                  0  \n",
       "8   -58.443362  POINT (-58.44336 -34.55987)   609.743234                  0  "
      ]
     },
     "execution_count": 256,
     "metadata": {},
     "output_type": "execute_result"
    }
   ],
   "source": [
    "geo_df.head()"
   ]
  },
  {
   "cell_type": "code",
   "execution_count": 257,
   "id": "9406ae54",
   "metadata": {
    "id": "36e7f5fe",
    "outputId": "bd4fc7f4-2503-43bd-9466-f87f418518de"
   },
   "outputs": [
    {
     "data": {
      "text/plain": [
       "count    21756.000000\n",
       "mean         0.850248\n",
       "std          0.946127\n",
       "min          0.000000\n",
       "25%          0.000000\n",
       "50%          1.000000\n",
       "75%          1.000000\n",
       "max          5.000000\n",
       "Name: subtes_menor_500m, dtype: float64"
      ]
     },
     "execution_count": 257,
     "metadata": {},
     "output_type": "execute_result"
    }
   ],
   "source": [
    "geo_df.subtes_menor_500m.describe()"
   ]
  },
  {
   "cell_type": "code",
   "execution_count": 258,
   "id": "f27a2fc9",
   "metadata": {
    "id": "8f51b7c6",
    "outputId": "3f284ba6-2b49-4950-9e41-9ac6da9777a7"
   },
   "outputs": [
    {
     "data": {
      "text/plain": [
       "(21756, 8)"
      ]
     },
     "execution_count": 258,
     "metadata": {},
     "output_type": "execute_result"
    }
   ],
   "source": [
    "geo_df.shape"
   ]
  },
  {
   "cell_type": "markdown",
   "id": "03fddfda",
   "metadata": {},
   "source": [
    "#### Locales bailables"
   ]
  },
  {
   "cell_type": "code",
   "execution_count": 259,
   "id": "1a0aeb98",
   "metadata": {},
   "outputs": [
    {
     "data": {
      "text/html": [
       "<div>\n",
       "<style scoped>\n",
       "    .dataframe tbody tr th:only-of-type {\n",
       "        vertical-align: middle;\n",
       "    }\n",
       "\n",
       "    .dataframe tbody tr th {\n",
       "        vertical-align: top;\n",
       "    }\n",
       "\n",
       "    .dataframe thead th {\n",
       "        text-align: right;\n",
       "    }\n",
       "</style>\n",
       "<table border=\"1\" class=\"dataframe\">\n",
       "  <thead>\n",
       "    <tr style=\"text-align: right;\">\n",
       "      <th></th>\n",
       "      <th>X</th>\n",
       "      <th>Y</th>\n",
       "      <th>NUMERO_REGISTRO</th>\n",
       "      <th>NOMBRE</th>\n",
       "      <th>CALLE</th>\n",
       "      <th>NUMERO</th>\n",
       "      <th>DIRECCION_NORMALIZADA</th>\n",
       "      <th>NUMERO_EXPEDIENTE</th>\n",
       "      <th>CAPACIDAD</th>\n",
       "      <th>CLASE</th>\n",
       "      <th>ESTADO</th>\n",
       "      <th>DISPOSICION</th>\n",
       "      <th>FECHA_DISP_INSCRIPCION</th>\n",
       "      <th>NUMERO_DIPS</th>\n",
       "      <th>FECHA_DISP_RE_INSCRIPCION</th>\n",
       "      <th>NUMERO_DISP_DE_RECHAZO</th>\n",
       "      <th>FECHA_DISPOSICION_DE_RECHAZO</th>\n",
       "      <th>NUMERO_DISPOSICION_DE_RECALCULO_CAPACIDAD</th>\n",
       "      <th>FECHA_DISPOSICION_DE_CAPACIDAD</th>\n",
       "      <th>FECHA_DE_ENTREGA_NUEVA_REVALIDA</th>\n",
       "      <th>VENCIMIENTO</th>\n",
       "      <th>BARRIO</th>\n",
       "      <th>COMUNA</th>\n",
       "      <th>CP</th>\n",
       "      <th>CPA</th>\n",
       "      <th>geometry</th>\n",
       "    </tr>\n",
       "  </thead>\n",
       "  <tbody>\n",
       "    <tr>\n",
       "      <th>0</th>\n",
       "      <td>-58.393750</td>\n",
       "      <td>-34.605027</td>\n",
       "      <td>1</td>\n",
       "      <td>CASTELBAMBA</td>\n",
       "      <td>RIOBAMBA</td>\n",
       "      <td>345</td>\n",
       "      <td>RIOBAMBA  345</td>\n",
       "      <td>4627093/18</td>\n",
       "      <td>428 personas</td>\n",
       "      <td>\"C\"</td>\n",
       "      <td>RENOVADO 2018</td>\n",
       "      <td>1</td>\n",
       "      <td>2005-02-24 00:00:00</td>\n",
       "      <td>19.0</td>\n",
       "      <td>2018-02-23 00:00:00</td>\n",
       "      <td>NaN</td>\n",
       "      <td>NaN</td>\n",
       "      <td>158</td>\n",
       "      <td>2005-12-12 00:00:00</td>\n",
       "      <td>2018-01-25</td>\n",
       "      <td>2018-04-13</td>\n",
       "      <td>Balvanera</td>\n",
       "      <td>Comuna 3</td>\n",
       "      <td>1025.0</td>\n",
       "      <td>C1025ABG</td>\n",
       "      <td>POINT (-58.39375 -34.60503)</td>\n",
       "    </tr>\n",
       "    <tr>\n",
       "      <th>1</th>\n",
       "      <td>-58.378510</td>\n",
       "      <td>-34.596003</td>\n",
       "      <td>2</td>\n",
       "      <td>GOLDEN</td>\n",
       "      <td>ESMERALDA</td>\n",
       "      <td>1040</td>\n",
       "      <td>ESMERALDA  1040</td>\n",
       "      <td>10561/05</td>\n",
       "      <td>408 personas</td>\n",
       "      <td>\"C.C\"</td>\n",
       "      <td>SUSPENDIDO DISFC-2016-77-DGFYC</td>\n",
       "      <td>3</td>\n",
       "      <td>2005-02-24 00:00:00</td>\n",
       "      <td>45.0</td>\n",
       "      <td>2016-03-23 00:00:00</td>\n",
       "      <td>NaN</td>\n",
       "      <td>NaN</td>\n",
       "      <td>98</td>\n",
       "      <td>2005-08-08 00:00:00</td>\n",
       "      <td>NaN</td>\n",
       "      <td>NaN</td>\n",
       "      <td>Retiro</td>\n",
       "      <td>Comuna 1</td>\n",
       "      <td>1007.0</td>\n",
       "      <td>C1007ABN</td>\n",
       "      <td>POINT (-58.37851 -34.59600)</td>\n",
       "    </tr>\n",
       "    <tr>\n",
       "      <th>2</th>\n",
       "      <td>-58.374727</td>\n",
       "      <td>-34.612002</td>\n",
       "      <td>3</td>\n",
       "      <td>REY CASTRO</td>\n",
       "      <td>PERU</td>\n",
       "      <td>342</td>\n",
       "      <td>PERU  342</td>\n",
       "      <td>4407796/18</td>\n",
       "      <td>901 personas</td>\n",
       "      <td>\"C\"</td>\n",
       "      <td>RENOVADO 2018</td>\n",
       "      <td>4</td>\n",
       "      <td>2005-03-01 00:00:00</td>\n",
       "      <td>16.0</td>\n",
       "      <td>2018-02-21 00:00:00</td>\n",
       "      <td>NaN</td>\n",
       "      <td>NaN</td>\n",
       "      <td>67</td>\n",
       "      <td>2006-04-24 00:00:00</td>\n",
       "      <td>2018-05-31</td>\n",
       "      <td>2018-09-03</td>\n",
       "      <td>Monserrat</td>\n",
       "      <td>Comuna 1</td>\n",
       "      <td>1067.0</td>\n",
       "      <td>C1067AAH</td>\n",
       "      <td>POINT (-58.37473 -34.61200)</td>\n",
       "    </tr>\n",
       "    <tr>\n",
       "      <th>3</th>\n",
       "      <td>-58.390154</td>\n",
       "      <td>-34.605531</td>\n",
       "      <td>4</td>\n",
       "      <td>LA FRANCE</td>\n",
       "      <td>SARMIENTO</td>\n",
       "      <td>1656</td>\n",
       "      <td>SARMIENTO  1656</td>\n",
       "      <td>3005915/18</td>\n",
       "      <td>1372 personas</td>\n",
       "      <td>\"C.C\"</td>\n",
       "      <td>RENOVADO 2018</td>\n",
       "      <td>5</td>\n",
       "      <td>2005-03-01 00:00:00</td>\n",
       "      <td>9.0</td>\n",
       "      <td>2018-02-08 00:00:00</td>\n",
       "      <td>NaN</td>\n",
       "      <td>NaN</td>\n",
       "      <td>136</td>\n",
       "      <td>2005-09-29 00:00:00</td>\n",
       "      <td>2018-07-13</td>\n",
       "      <td>2018-10-13</td>\n",
       "      <td>San Nicolas</td>\n",
       "      <td>Comuna 1</td>\n",
       "      <td>1042.0</td>\n",
       "      <td>C1042ABF</td>\n",
       "      <td>POINT (-58.39015 -34.60553)</td>\n",
       "    </tr>\n",
       "    <tr>\n",
       "      <th>4</th>\n",
       "      <td>-58.371747</td>\n",
       "      <td>-34.601950</td>\n",
       "      <td>5</td>\n",
       "      <td>BAHREIN</td>\n",
       "      <td>LAVALLE</td>\n",
       "      <td>343</td>\n",
       "      <td>LAVALLE  343</td>\n",
       "      <td>2219876/18</td>\n",
       "      <td>880 personas</td>\n",
       "      <td>\"C\"</td>\n",
       "      <td>RENOVADO 2018</td>\n",
       "      <td>6</td>\n",
       "      <td>2005-03-01 00:00:00</td>\n",
       "      <td>8.0</td>\n",
       "      <td>2018-02-07 00:00:00</td>\n",
       "      <td>NaN</td>\n",
       "      <td>NaN</td>\n",
       "      <td>95</td>\n",
       "      <td>2007-11-06 00:00:00</td>\n",
       "      <td>2018-06-28</td>\n",
       "      <td>2018-09-30</td>\n",
       "      <td>San Nicolas</td>\n",
       "      <td>Comuna 1</td>\n",
       "      <td>1047.0</td>\n",
       "      <td>C1047AAG</td>\n",
       "      <td>POINT (-58.37175 -34.60195)</td>\n",
       "    </tr>\n",
       "  </tbody>\n",
       "</table>\n",
       "</div>"
      ],
      "text/plain": [
       "           X          Y  NUMERO_REGISTRO       NOMBRE       CALLE NUMERO  \\\n",
       "0 -58.393750 -34.605027                1  CASTELBAMBA   RIOBAMBA     345   \n",
       "1 -58.378510 -34.596003                2       GOLDEN  ESMERALDA    1040   \n",
       "2 -58.374727 -34.612002                3   REY CASTRO       PERU     342   \n",
       "3 -58.390154 -34.605531                4    LA FRANCE  SARMIENTO    1656   \n",
       "4 -58.371747 -34.601950                5     BAHREIN     LAVALLE     343   \n",
       "\n",
       "  DIRECCION_NORMALIZADA NUMERO_EXPEDIENTE      CAPACIDAD  CLASE  \\\n",
       "0         RIOBAMBA  345        4627093/18   428 personas    \"C\"   \n",
       "1       ESMERALDA  1040          10561/05   408 personas  \"C.C\"   \n",
       "2             PERU  342        4407796/18   901 personas    \"C\"   \n",
       "3       SARMIENTO  1656        3005915/18  1372 personas  \"C.C\"   \n",
       "4          LAVALLE  343        2219876/18   880 personas    \"C\"   \n",
       "\n",
       "                           ESTADO  DISPOSICION FECHA_DISP_INSCRIPCION  \\\n",
       "0                   RENOVADO 2018            1    2005-02-24 00:00:00   \n",
       "1  SUSPENDIDO DISFC-2016-77-DGFYC            3    2005-02-24 00:00:00   \n",
       "2                   RENOVADO 2018            4    2005-03-01 00:00:00   \n",
       "3                   RENOVADO 2018            5    2005-03-01 00:00:00   \n",
       "4                   RENOVADO 2018            6    2005-03-01 00:00:00   \n",
       "\n",
       "   NUMERO_DIPS FECHA_DISP_RE_INSCRIPCION NUMERO_DISP_DE_RECHAZO  \\\n",
       "0         19.0       2018-02-23 00:00:00                    NaN   \n",
       "1         45.0       2016-03-23 00:00:00                    NaN   \n",
       "2         16.0       2018-02-21 00:00:00                    NaN   \n",
       "3          9.0       2018-02-08 00:00:00                    NaN   \n",
       "4          8.0       2018-02-07 00:00:00                    NaN   \n",
       "\n",
       "  FECHA_DISPOSICION_DE_RECHAZO NUMERO_DISPOSICION_DE_RECALCULO_CAPACIDAD  \\\n",
       "0                          NaN                                       158   \n",
       "1                          NaN                                        98   \n",
       "2                          NaN                                        67   \n",
       "3                          NaN                                       136   \n",
       "4                          NaN                                        95   \n",
       "\n",
       "  FECHA_DISPOSICION_DE_CAPACIDAD FECHA_DE_ENTREGA_NUEVA_REVALIDA VENCIMIENTO  \\\n",
       "0            2005-12-12 00:00:00                      2018-01-25  2018-04-13   \n",
       "1            2005-08-08 00:00:00                             NaN         NaN   \n",
       "2            2006-04-24 00:00:00                      2018-05-31  2018-09-03   \n",
       "3            2005-09-29 00:00:00                      2018-07-13  2018-10-13   \n",
       "4            2007-11-06 00:00:00                      2018-06-28  2018-09-30   \n",
       "\n",
       "        BARRIO    COMUNA      CP       CPA                     geometry  \n",
       "0    Balvanera  Comuna 3  1025.0  C1025ABG  POINT (-58.39375 -34.60503)  \n",
       "1       Retiro  Comuna 1  1007.0  C1007ABN  POINT (-58.37851 -34.59600)  \n",
       "2    Monserrat  Comuna 1  1067.0  C1067AAH  POINT (-58.37473 -34.61200)  \n",
       "3  San Nicolas  Comuna 1  1042.0  C1042ABF  POINT (-58.39015 -34.60553)  \n",
       "4  San Nicolas  Comuna 1  1047.0  C1047AAG  POINT (-58.37175 -34.60195)  "
      ]
     },
     "execution_count": 259,
     "metadata": {},
     "output_type": "execute_result"
    }
   ],
   "source": [
    "df_locales = pd.read_csv(\"locales-bailables.csv\", encoding='latin1')\n",
    "geo_locales = gpd.GeoDataFrame(df_locales, geometry = gpd.points_from_xy(df_locales.X, df_locales.Y))\n",
    "geo_locales.head()"
   ]
  },
  {
   "cell_type": "code",
   "execution_count": 260,
   "id": "78466be5",
   "metadata": {},
   "outputs": [
    {
     "data": {
      "text/html": [
       "<div>\n",
       "<style scoped>\n",
       "    .dataframe tbody tr th:only-of-type {\n",
       "        vertical-align: middle;\n",
       "    }\n",
       "\n",
       "    .dataframe tbody tr th {\n",
       "        vertical-align: top;\n",
       "    }\n",
       "\n",
       "    .dataframe thead th {\n",
       "        text-align: right;\n",
       "    }\n",
       "</style>\n",
       "<table border=\"1\" class=\"dataframe\">\n",
       "  <thead>\n",
       "    <tr style=\"text-align: right;\">\n",
       "      <th></th>\n",
       "      <th>state_name</th>\n",
       "      <th>place_name</th>\n",
       "      <th>lat-lon</th>\n",
       "      <th>lat</th>\n",
       "      <th>lon</th>\n",
       "      <th>geometry</th>\n",
       "      <th>min_subte</th>\n",
       "      <th>subtes_menor_500m</th>\n",
       "      <th>min_locales_bailables</th>\n",
       "    </tr>\n",
       "  </thead>\n",
       "  <tbody>\n",
       "    <tr>\n",
       "      <th>0</th>\n",
       "      <td>capital federal</td>\n",
       "      <td>Mataderos</td>\n",
       "      <td>-34.6618237,-58.5088387</td>\n",
       "      <td>-34.6618237</td>\n",
       "      <td>-58.5088387</td>\n",
       "      <td>POINT (-58.50884 -34.66182)</td>\n",
       "      <td>4728.393676</td>\n",
       "      <td>0</td>\n",
       "      <td>1666.691008</td>\n",
       "    </tr>\n",
       "    <tr>\n",
       "      <th>2</th>\n",
       "      <td>capital federal</td>\n",
       "      <td>Mataderos</td>\n",
       "      <td>-34.6522615,-58.5229825</td>\n",
       "      <td>-34.6522615</td>\n",
       "      <td>-58.5229825</td>\n",
       "      <td>POINT (-58.52298 -34.65226)</td>\n",
       "      <td>6073.153602</td>\n",
       "      <td>0</td>\n",
       "      <td>951.482447</td>\n",
       "    </tr>\n",
       "    <tr>\n",
       "      <th>3</th>\n",
       "      <td>capital federal</td>\n",
       "      <td>Liniers</td>\n",
       "      <td>-34.6477969,-58.5164244</td>\n",
       "      <td>-34.6477969</td>\n",
       "      <td>-58.5164244</td>\n",
       "      <td>POINT (-58.51642 -34.64780)</td>\n",
       "      <td>5305.630900</td>\n",
       "      <td>0</td>\n",
       "      <td>536.546481</td>\n",
       "    </tr>\n",
       "    <tr>\n",
       "      <th>7</th>\n",
       "      <td>capital federal</td>\n",
       "      <td>Belgrano</td>\n",
       "      <td>-34.5598729,-58.443362</td>\n",
       "      <td>-34.5598729</td>\n",
       "      <td>-58.443362</td>\n",
       "      <td>POINT (-58.44336 -34.55987)</td>\n",
       "      <td>609.743234</td>\n",
       "      <td>0</td>\n",
       "      <td>552.466358</td>\n",
       "    </tr>\n",
       "    <tr>\n",
       "      <th>8</th>\n",
       "      <td>capital federal</td>\n",
       "      <td>Belgrano</td>\n",
       "      <td>-34.5598729,-58.443362</td>\n",
       "      <td>-34.5598729</td>\n",
       "      <td>-58.443362</td>\n",
       "      <td>POINT (-58.44336 -34.55987)</td>\n",
       "      <td>609.743234</td>\n",
       "      <td>0</td>\n",
       "      <td>552.466358</td>\n",
       "    </tr>\n",
       "  </tbody>\n",
       "</table>\n",
       "</div>"
      ],
      "text/plain": [
       "        state_name place_name                  lat-lon          lat  \\\n",
       "0  capital federal  Mataderos  -34.6618237,-58.5088387  -34.6618237   \n",
       "2  capital federal  Mataderos  -34.6522615,-58.5229825  -34.6522615   \n",
       "3  capital federal    Liniers  -34.6477969,-58.5164244  -34.6477969   \n",
       "7  capital federal   Belgrano   -34.5598729,-58.443362  -34.5598729   \n",
       "8  capital federal   Belgrano   -34.5598729,-58.443362  -34.5598729   \n",
       "\n",
       "           lon                     geometry    min_subte  subtes_menor_500m  \\\n",
       "0  -58.5088387  POINT (-58.50884 -34.66182)  4728.393676                  0   \n",
       "2  -58.5229825  POINT (-58.52298 -34.65226)  6073.153602                  0   \n",
       "3  -58.5164244  POINT (-58.51642 -34.64780)  5305.630900                  0   \n",
       "7   -58.443362  POINT (-58.44336 -34.55987)   609.743234                  0   \n",
       "8   -58.443362  POINT (-58.44336 -34.55987)   609.743234                  0   \n",
       "\n",
       "   min_locales_bailables  \n",
       "0            1666.691008  \n",
       "2             951.482447  \n",
       "3             536.546481  \n",
       "7             552.466358  \n",
       "8             552.466358  "
      ]
     },
     "execution_count": 260,
     "metadata": {},
     "output_type": "execute_result"
    }
   ],
   "source": [
    "geo_df['min_locales_bailables'] = 0\n",
    "for i in geo_df.index:\n",
    "    distancias = []\n",
    "    for j in geo_locales.index:\n",
    "        punto_1 = (geo_locales.X[j], geo_locales.Y[j])\n",
    "        punto_2 = (geo_df.lon[i], geo_df.lat[i])\n",
    "        dist = geopy.distance.geodesic(punto_1,punto_2)\n",
    "        distancias.append(dist.meters)\n",
    "    geo_df.loc[i,'min_locales_bailables'] = np.min(distancias)\n",
    "      \n",
    "geo_df.head()"
   ]
  },
  {
   "cell_type": "code",
   "execution_count": 261,
   "id": "afea77f8",
   "metadata": {},
   "outputs": [
    {
     "data": {
      "text/plain": [
       "count    21756.000000\n",
       "mean         1.938454\n",
       "std          3.188036\n",
       "min          0.000000\n",
       "25%          0.000000\n",
       "50%          1.000000\n",
       "75%          2.000000\n",
       "max         17.000000\n",
       "Name: locales_bailables_menor_500m, dtype: float64"
      ]
     },
     "execution_count": 261,
     "metadata": {},
     "output_type": "execute_result"
    }
   ],
   "source": [
    "geo_df['locales_bailables_menor_500m'] = 0\n",
    "for i in geo_df.index:\n",
    "    locales = []\n",
    "    for j in geo_locales.index:\n",
    "        punto_1 = (geo_locales.X[j], geo_locales.Y[j])\n",
    "        punto_2 = (geo_df.lon[i], geo_df.lat[i])\n",
    "        dist = geopy.distance.geodesic(punto_1,punto_2)\n",
    "        \n",
    "        if dist.meters < 500:\n",
    "            locales.append(geo_locales.NOMBRE[j])\n",
    "            # index.append(j)\n",
    "        else:\n",
    "            pass\n",
    "    \n",
    "    geo_df.loc[i,'locales_bailables_menor_500m'] = len(set(locales))\n",
    "geo_df.locales_bailables_menor_500m.describe()"
   ]
  },
  {
   "cell_type": "markdown",
   "id": "06f04a76",
   "metadata": {},
   "source": []
  },
  {
   "cell_type": "markdown",
   "id": "798a1efa",
   "metadata": {},
   "source": [
    "#### COMISARIAS"
   ]
  },
  {
   "cell_type": "code",
   "execution_count": 262,
   "id": "b2abbed3",
   "metadata": {},
   "outputs": [
    {
     "data": {
      "text/html": [
       "<div>\n",
       "<style scoped>\n",
       "    .dataframe tbody tr th:only-of-type {\n",
       "        vertical-align: middle;\n",
       "    }\n",
       "\n",
       "    .dataframe tbody tr th {\n",
       "        vertical-align: top;\n",
       "    }\n",
       "\n",
       "    .dataframe thead th {\n",
       "        text-align: right;\n",
       "    }\n",
       "</style>\n",
       "<table border=\"1\" class=\"dataframe\">\n",
       "  <thead>\n",
       "    <tr style=\"text-align: right;\">\n",
       "      <th></th>\n",
       "      <th>X</th>\n",
       "      <th>Y</th>\n",
       "      <th>NOMBRE</th>\n",
       "      <th>geometry</th>\n",
       "    </tr>\n",
       "  </thead>\n",
       "  <tbody>\n",
       "    <tr>\n",
       "      <th>0</th>\n",
       "      <td>-58.468944</td>\n",
       "      <td>-34.683121</td>\n",
       "      <td>COMISARIA 52</td>\n",
       "      <td>POINT (-58.46894 -34.68312)</td>\n",
       "    </tr>\n",
       "    <tr>\n",
       "      <th>1</th>\n",
       "      <td>-58.474649</td>\n",
       "      <td>-34.679169</td>\n",
       "      <td>COMISARIA 48</td>\n",
       "      <td>POINT (-58.47465 -34.67917)</td>\n",
       "    </tr>\n",
       "    <tr>\n",
       "      <th>2</th>\n",
       "      <td>-58.501166</td>\n",
       "      <td>-34.661994</td>\n",
       "      <td>COMISARIA 42</td>\n",
       "      <td>POINT (-58.50117 -34.66199)</td>\n",
       "    </tr>\n",
       "    <tr>\n",
       "      <th>3</th>\n",
       "      <td>-58.431981</td>\n",
       "      <td>-34.660395</td>\n",
       "      <td>COMISARIA 36</td>\n",
       "      <td>POINT (-58.43198 -34.66039)</td>\n",
       "    </tr>\n",
       "    <tr>\n",
       "      <th>4</th>\n",
       "      <td>-58.402830</td>\n",
       "      <td>-34.641950</td>\n",
       "      <td>COMISARIA COMUNA 4</td>\n",
       "      <td>POINT (-58.40283 -34.64195)</td>\n",
       "    </tr>\n",
       "  </tbody>\n",
       "</table>\n",
       "</div>"
      ],
      "text/plain": [
       "           X          Y              NOMBRE                     geometry\n",
       "0 -58.468944 -34.683121        COMISARIA 52  POINT (-58.46894 -34.68312)\n",
       "1 -58.474649 -34.679169        COMISARIA 48  POINT (-58.47465 -34.67917)\n",
       "2 -58.501166 -34.661994        COMISARIA 42  POINT (-58.50117 -34.66199)\n",
       "3 -58.431981 -34.660395        COMISARIA 36  POINT (-58.43198 -34.66039)\n",
       "4 -58.402830 -34.641950  COMISARIA COMUNA 4  POINT (-58.40283 -34.64195)"
      ]
     },
     "execution_count": 262,
     "metadata": {},
     "output_type": "execute_result"
    }
   ],
   "source": [
    "df_comisarias = pd.read_csv(\"comisarias.csv\", encoding='latin1')\n",
    "df_comisarias.head()\n",
    "geo_comisarias = gpd.GeoDataFrame(df_comisarias, geometry = gpd.points_from_xy(df_comisarias.X, df_comisarias.Y))\n",
    "geo_comisarias.head()"
   ]
  },
  {
   "cell_type": "code",
   "execution_count": 263,
   "id": "389d3efa",
   "metadata": {},
   "outputs": [
    {
     "data": {
      "text/html": [
       "<div>\n",
       "<style scoped>\n",
       "    .dataframe tbody tr th:only-of-type {\n",
       "        vertical-align: middle;\n",
       "    }\n",
       "\n",
       "    .dataframe tbody tr th {\n",
       "        vertical-align: top;\n",
       "    }\n",
       "\n",
       "    .dataframe thead th {\n",
       "        text-align: right;\n",
       "    }\n",
       "</style>\n",
       "<table border=\"1\" class=\"dataframe\">\n",
       "  <thead>\n",
       "    <tr style=\"text-align: right;\">\n",
       "      <th></th>\n",
       "      <th>state_name</th>\n",
       "      <th>place_name</th>\n",
       "      <th>lat-lon</th>\n",
       "      <th>lat</th>\n",
       "      <th>lon</th>\n",
       "      <th>geometry</th>\n",
       "      <th>min_subte</th>\n",
       "      <th>subtes_menor_500m</th>\n",
       "      <th>min_locales_bailables</th>\n",
       "      <th>locales_bailables_menor_500m</th>\n",
       "      <th>min_comisarias</th>\n",
       "    </tr>\n",
       "  </thead>\n",
       "  <tbody>\n",
       "    <tr>\n",
       "      <th>0</th>\n",
       "      <td>capital federal</td>\n",
       "      <td>Mataderos</td>\n",
       "      <td>-34.6618237,-58.5088387</td>\n",
       "      <td>-34.6618237</td>\n",
       "      <td>-58.5088387</td>\n",
       "      <td>POINT (-58.50884 -34.66182)</td>\n",
       "      <td>4728.393676</td>\n",
       "      <td>0</td>\n",
       "      <td>1666.691008</td>\n",
       "      <td>0</td>\n",
       "      <td>854.731083</td>\n",
       "    </tr>\n",
       "    <tr>\n",
       "      <th>2</th>\n",
       "      <td>capital federal</td>\n",
       "      <td>Mataderos</td>\n",
       "      <td>-34.6522615,-58.5229825</td>\n",
       "      <td>-34.6522615</td>\n",
       "      <td>-58.5229825</td>\n",
       "      <td>POINT (-58.52298 -34.65226)</td>\n",
       "      <td>6073.153602</td>\n",
       "      <td>0</td>\n",
       "      <td>951.482447</td>\n",
       "      <td>0</td>\n",
       "      <td>1329.365030</td>\n",
       "    </tr>\n",
       "    <tr>\n",
       "      <th>3</th>\n",
       "      <td>capital federal</td>\n",
       "      <td>Liniers</td>\n",
       "      <td>-34.6477969,-58.5164244</td>\n",
       "      <td>-34.6477969</td>\n",
       "      <td>-58.5164244</td>\n",
       "      <td>POINT (-58.51642 -34.64780)</td>\n",
       "      <td>5305.630900</td>\n",
       "      <td>0</td>\n",
       "      <td>536.546481</td>\n",
       "      <td>0</td>\n",
       "      <td>1342.826496</td>\n",
       "    </tr>\n",
       "    <tr>\n",
       "      <th>7</th>\n",
       "      <td>capital federal</td>\n",
       "      <td>Belgrano</td>\n",
       "      <td>-34.5598729,-58.443362</td>\n",
       "      <td>-34.5598729</td>\n",
       "      <td>-58.443362</td>\n",
       "      <td>POINT (-58.44336 -34.55987)</td>\n",
       "      <td>609.743234</td>\n",
       "      <td>0</td>\n",
       "      <td>552.466358</td>\n",
       "      <td>0</td>\n",
       "      <td>305.293658</td>\n",
       "    </tr>\n",
       "    <tr>\n",
       "      <th>8</th>\n",
       "      <td>capital federal</td>\n",
       "      <td>Belgrano</td>\n",
       "      <td>-34.5598729,-58.443362</td>\n",
       "      <td>-34.5598729</td>\n",
       "      <td>-58.443362</td>\n",
       "      <td>POINT (-58.44336 -34.55987)</td>\n",
       "      <td>609.743234</td>\n",
       "      <td>0</td>\n",
       "      <td>552.466358</td>\n",
       "      <td>0</td>\n",
       "      <td>305.293658</td>\n",
       "    </tr>\n",
       "  </tbody>\n",
       "</table>\n",
       "</div>"
      ],
      "text/plain": [
       "        state_name place_name                  lat-lon          lat  \\\n",
       "0  capital federal  Mataderos  -34.6618237,-58.5088387  -34.6618237   \n",
       "2  capital federal  Mataderos  -34.6522615,-58.5229825  -34.6522615   \n",
       "3  capital federal    Liniers  -34.6477969,-58.5164244  -34.6477969   \n",
       "7  capital federal   Belgrano   -34.5598729,-58.443362  -34.5598729   \n",
       "8  capital federal   Belgrano   -34.5598729,-58.443362  -34.5598729   \n",
       "\n",
       "           lon                     geometry    min_subte  subtes_menor_500m  \\\n",
       "0  -58.5088387  POINT (-58.50884 -34.66182)  4728.393676                  0   \n",
       "2  -58.5229825  POINT (-58.52298 -34.65226)  6073.153602                  0   \n",
       "3  -58.5164244  POINT (-58.51642 -34.64780)  5305.630900                  0   \n",
       "7   -58.443362  POINT (-58.44336 -34.55987)   609.743234                  0   \n",
       "8   -58.443362  POINT (-58.44336 -34.55987)   609.743234                  0   \n",
       "\n",
       "   min_locales_bailables  locales_bailables_menor_500m  min_comisarias  \n",
       "0            1666.691008                             0      854.731083  \n",
       "2             951.482447                             0     1329.365030  \n",
       "3             536.546481                             0     1342.826496  \n",
       "7             552.466358                             0      305.293658  \n",
       "8             552.466358                             0      305.293658  "
      ]
     },
     "execution_count": 263,
     "metadata": {},
     "output_type": "execute_result"
    }
   ],
   "source": [
    "geo_df['min_comisarias'] = 0\n",
    "for i in geo_df.index:\n",
    "    distancias = []\n",
    "    for j in geo_comisarias.index:\n",
    "        punto_1 = (geo_comisarias.X[j], geo_comisarias.Y[j])\n",
    "        punto_2 = (geo_df.lon[i], geo_df.lat[i])\n",
    "        dist = geopy.distance.geodesic(punto_1,punto_2)\n",
    "        distancias.append(dist.meters)\n",
    "    geo_df.loc[i,'min_comisarias'] = np.min(distancias)\n",
    "      \n",
    "geo_df.head()"
   ]
  },
  {
   "cell_type": "code",
   "execution_count": 264,
   "id": "f69e226d",
   "metadata": {},
   "outputs": [
    {
     "data": {
      "text/html": [
       "<div>\n",
       "<style scoped>\n",
       "    .dataframe tbody tr th:only-of-type {\n",
       "        vertical-align: middle;\n",
       "    }\n",
       "\n",
       "    .dataframe tbody tr th {\n",
       "        vertical-align: top;\n",
       "    }\n",
       "\n",
       "    .dataframe thead th {\n",
       "        text-align: right;\n",
       "    }\n",
       "</style>\n",
       "<table border=\"1\" class=\"dataframe\">\n",
       "  <thead>\n",
       "    <tr style=\"text-align: right;\">\n",
       "      <th></th>\n",
       "      <th>state_name</th>\n",
       "      <th>place_name</th>\n",
       "      <th>lat-lon</th>\n",
       "      <th>lat</th>\n",
       "      <th>lon</th>\n",
       "      <th>geometry</th>\n",
       "      <th>min_subte</th>\n",
       "      <th>subtes_menor_500m</th>\n",
       "      <th>min_locales_bailables</th>\n",
       "      <th>locales_bailables_menor_500m</th>\n",
       "      <th>min_comisarias</th>\n",
       "      <th>comisarias_menor_500m</th>\n",
       "    </tr>\n",
       "  </thead>\n",
       "  <tbody>\n",
       "    <tr>\n",
       "      <th>0</th>\n",
       "      <td>capital federal</td>\n",
       "      <td>Mataderos</td>\n",
       "      <td>-34.6618237,-58.5088387</td>\n",
       "      <td>-34.6618237</td>\n",
       "      <td>-58.5088387</td>\n",
       "      <td>POINT (-58.50884 -34.66182)</td>\n",
       "      <td>4728.393676</td>\n",
       "      <td>0</td>\n",
       "      <td>1666.691008</td>\n",
       "      <td>0</td>\n",
       "      <td>854.731083</td>\n",
       "      <td>0</td>\n",
       "    </tr>\n",
       "    <tr>\n",
       "      <th>2</th>\n",
       "      <td>capital federal</td>\n",
       "      <td>Mataderos</td>\n",
       "      <td>-34.6522615,-58.5229825</td>\n",
       "      <td>-34.6522615</td>\n",
       "      <td>-58.5229825</td>\n",
       "      <td>POINT (-58.52298 -34.65226)</td>\n",
       "      <td>6073.153602</td>\n",
       "      <td>0</td>\n",
       "      <td>951.482447</td>\n",
       "      <td>0</td>\n",
       "      <td>1329.365030</td>\n",
       "      <td>0</td>\n",
       "    </tr>\n",
       "    <tr>\n",
       "      <th>3</th>\n",
       "      <td>capital federal</td>\n",
       "      <td>Liniers</td>\n",
       "      <td>-34.6477969,-58.5164244</td>\n",
       "      <td>-34.6477969</td>\n",
       "      <td>-58.5164244</td>\n",
       "      <td>POINT (-58.51642 -34.64780)</td>\n",
       "      <td>5305.630900</td>\n",
       "      <td>0</td>\n",
       "      <td>536.546481</td>\n",
       "      <td>0</td>\n",
       "      <td>1342.826496</td>\n",
       "      <td>0</td>\n",
       "    </tr>\n",
       "    <tr>\n",
       "      <th>7</th>\n",
       "      <td>capital federal</td>\n",
       "      <td>Belgrano</td>\n",
       "      <td>-34.5598729,-58.443362</td>\n",
       "      <td>-34.5598729</td>\n",
       "      <td>-58.443362</td>\n",
       "      <td>POINT (-58.44336 -34.55987)</td>\n",
       "      <td>609.743234</td>\n",
       "      <td>0</td>\n",
       "      <td>552.466358</td>\n",
       "      <td>0</td>\n",
       "      <td>305.293658</td>\n",
       "      <td>1</td>\n",
       "    </tr>\n",
       "    <tr>\n",
       "      <th>8</th>\n",
       "      <td>capital federal</td>\n",
       "      <td>Belgrano</td>\n",
       "      <td>-34.5598729,-58.443362</td>\n",
       "      <td>-34.5598729</td>\n",
       "      <td>-58.443362</td>\n",
       "      <td>POINT (-58.44336 -34.55987)</td>\n",
       "      <td>609.743234</td>\n",
       "      <td>0</td>\n",
       "      <td>552.466358</td>\n",
       "      <td>0</td>\n",
       "      <td>305.293658</td>\n",
       "      <td>1</td>\n",
       "    </tr>\n",
       "  </tbody>\n",
       "</table>\n",
       "</div>"
      ],
      "text/plain": [
       "        state_name place_name                  lat-lon          lat  \\\n",
       "0  capital federal  Mataderos  -34.6618237,-58.5088387  -34.6618237   \n",
       "2  capital federal  Mataderos  -34.6522615,-58.5229825  -34.6522615   \n",
       "3  capital federal    Liniers  -34.6477969,-58.5164244  -34.6477969   \n",
       "7  capital federal   Belgrano   -34.5598729,-58.443362  -34.5598729   \n",
       "8  capital federal   Belgrano   -34.5598729,-58.443362  -34.5598729   \n",
       "\n",
       "           lon                     geometry    min_subte  subtes_menor_500m  \\\n",
       "0  -58.5088387  POINT (-58.50884 -34.66182)  4728.393676                  0   \n",
       "2  -58.5229825  POINT (-58.52298 -34.65226)  6073.153602                  0   \n",
       "3  -58.5164244  POINT (-58.51642 -34.64780)  5305.630900                  0   \n",
       "7   -58.443362  POINT (-58.44336 -34.55987)   609.743234                  0   \n",
       "8   -58.443362  POINT (-58.44336 -34.55987)   609.743234                  0   \n",
       "\n",
       "   min_locales_bailables  locales_bailables_menor_500m  min_comisarias  \\\n",
       "0            1666.691008                             0      854.731083   \n",
       "2             951.482447                             0     1329.365030   \n",
       "3             536.546481                             0     1342.826496   \n",
       "7             552.466358                             0      305.293658   \n",
       "8             552.466358                             0      305.293658   \n",
       "\n",
       "   comisarias_menor_500m  \n",
       "0                      0  \n",
       "2                      0  \n",
       "3                      0  \n",
       "7                      1  \n",
       "8                      1  "
      ]
     },
     "execution_count": 264,
     "metadata": {},
     "output_type": "execute_result"
    }
   ],
   "source": [
    "geo_df['comisarias_menor_500m'] = 0\n",
    "for i in geo_df.index:\n",
    "    comisarias = []\n",
    "    for j in geo_comisarias.index:\n",
    "        punto_1 = (geo_comisarias.X[j], geo_comisarias.Y[j])\n",
    "        punto_2 = (geo_df.lon[i], geo_df.lat[i])\n",
    "        dist = geopy.distance.geodesic(punto_1,punto_2)\n",
    "        \n",
    "        if dist.meters < 500:\n",
    "            comisarias.append(geo_comisarias.NOMBRE[j])\n",
    "            # index.append(j)\n",
    "        else:\n",
    "            pass\n",
    "    \n",
    "    geo_df.loc[i,'comisarias_menor_500m'] = len(set(comisarias))\n",
    "geo_df.head()"
   ]
  },
  {
   "cell_type": "markdown",
   "id": "5c8d37bc",
   "metadata": {},
   "source": []
  },
  {
   "cell_type": "markdown",
   "id": "7718ff67",
   "metadata": {},
   "source": [
    "#### Cuarteles"
   ]
  },
  {
   "cell_type": "code",
   "execution_count": 265,
   "id": "0bd5e64f",
   "metadata": {},
   "outputs": [
    {
     "data": {
      "text/html": [
       "<div>\n",
       "<style scoped>\n",
       "    .dataframe tbody tr th:only-of-type {\n",
       "        vertical-align: middle;\n",
       "    }\n",
       "\n",
       "    .dataframe tbody tr th {\n",
       "        vertical-align: top;\n",
       "    }\n",
       "\n",
       "    .dataframe thead th {\n",
       "        text-align: right;\n",
       "    }\n",
       "</style>\n",
       "<table border=\"1\" class=\"dataframe\">\n",
       "  <thead>\n",
       "    <tr style=\"text-align: right;\">\n",
       "      <th></th>\n",
       "      <th>ID</th>\n",
       "      <th>LAT</th>\n",
       "      <th>LNG</th>\n",
       "      <th>DCIA</th>\n",
       "      <th>TIPO</th>\n",
       "      <th>CUARTEL</th>\n",
       "      <th>GESTION</th>\n",
       "      <th>CALLE_OFIC</th>\n",
       "      <th>INTERS</th>\n",
       "      <th>ALTURA</th>\n",
       "      <th>DIRECC</th>\n",
       "      <th>CPA</th>\n",
       "      <th>TEL</th>\n",
       "      <th>BARRIO</th>\n",
       "      <th>COMUNA</th>\n",
       "      <th>OBSERVACION</th>\n",
       "      <th>geometry</th>\n",
       "    </tr>\n",
       "  </thead>\n",
       "  <tbody>\n",
       "    <tr>\n",
       "      <th>0</th>\n",
       "      <td>1</td>\n",
       "      <td>-34.577526</td>\n",
       "      <td>-58.435809</td>\n",
       "      <td>SECCION PALERMO</td>\n",
       "      <td>DESTACAMENTO</td>\n",
       "      <td>NaN</td>\n",
       "      <td>POLICIA FEDERAL ARGENTINA</td>\n",
       "      <td>GUATEMALA</td>\n",
       "      <td>NaN</td>\n",
       "      <td>5966.0</td>\n",
       "      <td>5966 GUATEMALA</td>\n",
       "      <td>C1425BVP</td>\n",
       "      <td>4772-2222</td>\n",
       "      <td>PALERMO</td>\n",
       "      <td>COMUNA 14</td>\n",
       "      <td>NaN</td>\n",
       "      <td>POINT (-58.43581 -34.57753)</td>\n",
       "    </tr>\n",
       "    <tr>\n",
       "      <th>1</th>\n",
       "      <td>2</td>\n",
       "      <td>-34.644895</td>\n",
       "      <td>-58.487654</td>\n",
       "      <td>SECCION RIESGO FORESTAL VELEZ SARSFIELD</td>\n",
       "      <td>DESTACAMENTO</td>\n",
       "      <td>NaN</td>\n",
       "      <td>POLICIA FEDERAL ARGENTINA</td>\n",
       "      <td>RODO JOSE E.</td>\n",
       "      <td>NaN</td>\n",
       "      <td>4474.0</td>\n",
       "      <td>4474 RODO JOSE E.</td>\n",
       "      <td>C1407HDR</td>\n",
       "      <td>4671-2222</td>\n",
       "      <td>PARQUE AVELLANEDA</td>\n",
       "      <td>COMUNA 9</td>\n",
       "      <td>BRIGADA ESPECIAL FEDERAL DE RESCATE (BEFER)</td>\n",
       "      <td>POINT (-58.48765 -34.64490)</td>\n",
       "    </tr>\n",
       "    <tr>\n",
       "      <th>2</th>\n",
       "      <td>3</td>\n",
       "      <td>-34.630275</td>\n",
       "      <td>-58.435415</td>\n",
       "      <td>SECCION GER CABALLITO</td>\n",
       "      <td>DESTACAMENTO</td>\n",
       "      <td>NaN</td>\n",
       "      <td>POLICIA FEDERAL ARGENTINA</td>\n",
       "      <td>RIGLOS</td>\n",
       "      <td>NaN</td>\n",
       "      <td>959.0</td>\n",
       "      <td>959 RIGLOS</td>\n",
       "      <td>C1424AFS</td>\n",
       "      <td>4921-2737</td>\n",
       "      <td>PARQUE CHACABUCO</td>\n",
       "      <td>COMUNA 7</td>\n",
       "      <td>BRIGADA ESPECIAL FEDERAL DE RESCATE (BEFER)</td>\n",
       "      <td>POINT (-58.43541 -34.63028)</td>\n",
       "    </tr>\n",
       "    <tr>\n",
       "      <th>3</th>\n",
       "      <td>4</td>\n",
       "      <td>-34.553318</td>\n",
       "      <td>-58.479216</td>\n",
       "      <td>SECCION GER SAAVEDRA</td>\n",
       "      <td>DESTACAMENTO</td>\n",
       "      <td>NaN</td>\n",
       "      <td>POLICIA FEDERAL ARGENTINA</td>\n",
       "      <td>JARAMILLO</td>\n",
       "      <td>NaN</td>\n",
       "      <td>3551.0</td>\n",
       "      <td>3551 JARAMILLO</td>\n",
       "      <td>C1430AGC</td>\n",
       "      <td>4542-2222</td>\n",
       "      <td>SAAVEDRA</td>\n",
       "      <td>COMUNA 12</td>\n",
       "      <td>BRIGADA ESPECIAL FEDERAL DE RESCATE (BEFER)</td>\n",
       "      <td>POINT (-58.47922 -34.55332)</td>\n",
       "    </tr>\n",
       "    <tr>\n",
       "      <th>4</th>\n",
       "      <td>5</td>\n",
       "      <td>-34.613321</td>\n",
       "      <td>-58.388148</td>\n",
       "      <td>DIVISION CUARTEL I CORONEL J. M. CALAZA</td>\n",
       "      <td>CUARTEL</td>\n",
       "      <td>I</td>\n",
       "      <td>POLICIA FEDERAL ARGENTINA</td>\n",
       "      <td>BELGRANO AV</td>\n",
       "      <td>NaN</td>\n",
       "      <td>1547.0</td>\n",
       "      <td>1547 BELGRANO AV</td>\n",
       "      <td>C1093AAD</td>\n",
       "      <td>4370-5858</td>\n",
       "      <td>MONSERRAT</td>\n",
       "      <td>COMUNA 1</td>\n",
       "      <td>NaN</td>\n",
       "      <td>POINT (-58.38815 -34.61332)</td>\n",
       "    </tr>\n",
       "  </tbody>\n",
       "</table>\n",
       "</div>"
      ],
      "text/plain": [
       "   ID        LAT        LNG                                     DCIA  \\\n",
       "0   1 -34.577526 -58.435809                          SECCION PALERMO   \n",
       "1   2 -34.644895 -58.487654  SECCION RIESGO FORESTAL VELEZ SARSFIELD   \n",
       "2   3 -34.630275 -58.435415                    SECCION GER CABALLITO   \n",
       "3   4 -34.553318 -58.479216                     SECCION GER SAAVEDRA   \n",
       "4   5 -34.613321 -58.388148  DIVISION CUARTEL I CORONEL J. M. CALAZA   \n",
       "\n",
       "           TIPO CUARTEL                    GESTION    CALLE_OFIC INTERS  \\\n",
       "0  DESTACAMENTO     NaN  POLICIA FEDERAL ARGENTINA     GUATEMALA    NaN   \n",
       "1  DESTACAMENTO     NaN  POLICIA FEDERAL ARGENTINA  RODO JOSE E.    NaN   \n",
       "2  DESTACAMENTO     NaN  POLICIA FEDERAL ARGENTINA        RIGLOS    NaN   \n",
       "3  DESTACAMENTO     NaN  POLICIA FEDERAL ARGENTINA     JARAMILLO    NaN   \n",
       "4       CUARTEL       I  POLICIA FEDERAL ARGENTINA   BELGRANO AV    NaN   \n",
       "\n",
       "   ALTURA             DIRECC       CPA        TEL             BARRIO  \\\n",
       "0  5966.0     5966 GUATEMALA  C1425BVP  4772-2222            PALERMO   \n",
       "1  4474.0  4474 RODO JOSE E.  C1407HDR  4671-2222  PARQUE AVELLANEDA   \n",
       "2   959.0         959 RIGLOS  C1424AFS  4921-2737   PARQUE CHACABUCO   \n",
       "3  3551.0     3551 JARAMILLO  C1430AGC  4542-2222           SAAVEDRA   \n",
       "4  1547.0   1547 BELGRANO AV  C1093AAD  4370-5858          MONSERRAT   \n",
       "\n",
       "      COMUNA                                  OBSERVACION  \\\n",
       "0  COMUNA 14                                          NaN   \n",
       "1   COMUNA 9  BRIGADA ESPECIAL FEDERAL DE RESCATE (BEFER)   \n",
       "2   COMUNA 7  BRIGADA ESPECIAL FEDERAL DE RESCATE (BEFER)   \n",
       "3  COMUNA 12  BRIGADA ESPECIAL FEDERAL DE RESCATE (BEFER)   \n",
       "4   COMUNA 1                                          NaN   \n",
       "\n",
       "                      geometry  \n",
       "0  POINT (-58.43581 -34.57753)  \n",
       "1  POINT (-58.48765 -34.64490)  \n",
       "2  POINT (-58.43541 -34.63028)  \n",
       "3  POINT (-58.47922 -34.55332)  \n",
       "4  POINT (-58.38815 -34.61332)  "
      ]
     },
     "execution_count": 265,
     "metadata": {},
     "output_type": "execute_result"
    }
   ],
   "source": [
    "df_cuarteles = pd.read_csv(\"cuarteles-y-destacamentos-de-bomberos-de-policia-federal-argentina.csv\", sep = ';')\n",
    "geo_cuarteles = gpd.GeoDataFrame(df_cuarteles, geometry = gpd.points_from_xy(df_cuarteles.LNG, df_cuarteles.LAT))\n",
    "geo_cuarteles.head()"
   ]
  },
  {
   "cell_type": "code",
   "execution_count": 266,
   "id": "6a571e17",
   "metadata": {},
   "outputs": [
    {
     "data": {
      "text/html": [
       "<div>\n",
       "<style scoped>\n",
       "    .dataframe tbody tr th:only-of-type {\n",
       "        vertical-align: middle;\n",
       "    }\n",
       "\n",
       "    .dataframe tbody tr th {\n",
       "        vertical-align: top;\n",
       "    }\n",
       "\n",
       "    .dataframe thead th {\n",
       "        text-align: right;\n",
       "    }\n",
       "</style>\n",
       "<table border=\"1\" class=\"dataframe\">\n",
       "  <thead>\n",
       "    <tr style=\"text-align: right;\">\n",
       "      <th></th>\n",
       "      <th>state_name</th>\n",
       "      <th>place_name</th>\n",
       "      <th>lat-lon</th>\n",
       "      <th>lat</th>\n",
       "      <th>lon</th>\n",
       "      <th>geometry</th>\n",
       "      <th>min_subte</th>\n",
       "      <th>subtes_menor_500m</th>\n",
       "      <th>min_locales_bailables</th>\n",
       "      <th>locales_bailables_menor_500m</th>\n",
       "      <th>min_comisarias</th>\n",
       "      <th>comisarias_menor_500m</th>\n",
       "      <th>min_cuarteles</th>\n",
       "    </tr>\n",
       "  </thead>\n",
       "  <tbody>\n",
       "    <tr>\n",
       "      <th>0</th>\n",
       "      <td>capital federal</td>\n",
       "      <td>Mataderos</td>\n",
       "      <td>-34.6618237,-58.5088387</td>\n",
       "      <td>-34.6618237</td>\n",
       "      <td>-58.5088387</td>\n",
       "      <td>POINT (-58.50884 -34.66182)</td>\n",
       "      <td>4728.393676</td>\n",
       "      <td>0</td>\n",
       "      <td>1666.691008</td>\n",
       "      <td>0</td>\n",
       "      <td>854.731083</td>\n",
       "      <td>0</td>\n",
       "      <td>1338.362957</td>\n",
       "    </tr>\n",
       "    <tr>\n",
       "      <th>2</th>\n",
       "      <td>capital federal</td>\n",
       "      <td>Mataderos</td>\n",
       "      <td>-34.6522615,-58.5229825</td>\n",
       "      <td>-34.6522615</td>\n",
       "      <td>-58.5229825</td>\n",
       "      <td>POINT (-58.52298 -34.65226)</td>\n",
       "      <td>6073.153602</td>\n",
       "      <td>0</td>\n",
       "      <td>951.482447</td>\n",
       "      <td>0</td>\n",
       "      <td>1329.365030</td>\n",
       "      <td>0</td>\n",
       "      <td>1349.185580</td>\n",
       "    </tr>\n",
       "    <tr>\n",
       "      <th>3</th>\n",
       "      <td>capital federal</td>\n",
       "      <td>Liniers</td>\n",
       "      <td>-34.6477969,-58.5164244</td>\n",
       "      <td>-34.6477969</td>\n",
       "      <td>-58.5164244</td>\n",
       "      <td>POINT (-58.51642 -34.64780)</td>\n",
       "      <td>5305.630900</td>\n",
       "      <td>0</td>\n",
       "      <td>536.546481</td>\n",
       "      <td>0</td>\n",
       "      <td>1342.826496</td>\n",
       "      <td>0</td>\n",
       "      <td>1342.048882</td>\n",
       "    </tr>\n",
       "    <tr>\n",
       "      <th>7</th>\n",
       "      <td>capital federal</td>\n",
       "      <td>Belgrano</td>\n",
       "      <td>-34.5598729,-58.443362</td>\n",
       "      <td>-34.5598729</td>\n",
       "      <td>-58.443362</td>\n",
       "      <td>POINT (-58.44336 -34.55987)</td>\n",
       "      <td>609.743234</td>\n",
       "      <td>0</td>\n",
       "      <td>552.466358</td>\n",
       "      <td>0</td>\n",
       "      <td>305.293658</td>\n",
       "      <td>1</td>\n",
       "      <td>1330.713856</td>\n",
       "    </tr>\n",
       "    <tr>\n",
       "      <th>8</th>\n",
       "      <td>capital federal</td>\n",
       "      <td>Belgrano</td>\n",
       "      <td>-34.5598729,-58.443362</td>\n",
       "      <td>-34.5598729</td>\n",
       "      <td>-58.443362</td>\n",
       "      <td>POINT (-58.44336 -34.55987)</td>\n",
       "      <td>609.743234</td>\n",
       "      <td>0</td>\n",
       "      <td>552.466358</td>\n",
       "      <td>0</td>\n",
       "      <td>305.293658</td>\n",
       "      <td>1</td>\n",
       "      <td>1330.713856</td>\n",
       "    </tr>\n",
       "  </tbody>\n",
       "</table>\n",
       "</div>"
      ],
      "text/plain": [
       "        state_name place_name                  lat-lon          lat  \\\n",
       "0  capital federal  Mataderos  -34.6618237,-58.5088387  -34.6618237   \n",
       "2  capital federal  Mataderos  -34.6522615,-58.5229825  -34.6522615   \n",
       "3  capital federal    Liniers  -34.6477969,-58.5164244  -34.6477969   \n",
       "7  capital federal   Belgrano   -34.5598729,-58.443362  -34.5598729   \n",
       "8  capital federal   Belgrano   -34.5598729,-58.443362  -34.5598729   \n",
       "\n",
       "           lon                     geometry    min_subte  subtes_menor_500m  \\\n",
       "0  -58.5088387  POINT (-58.50884 -34.66182)  4728.393676                  0   \n",
       "2  -58.5229825  POINT (-58.52298 -34.65226)  6073.153602                  0   \n",
       "3  -58.5164244  POINT (-58.51642 -34.64780)  5305.630900                  0   \n",
       "7   -58.443362  POINT (-58.44336 -34.55987)   609.743234                  0   \n",
       "8   -58.443362  POINT (-58.44336 -34.55987)   609.743234                  0   \n",
       "\n",
       "   min_locales_bailables  locales_bailables_menor_500m  min_comisarias  \\\n",
       "0            1666.691008                             0      854.731083   \n",
       "2             951.482447                             0     1329.365030   \n",
       "3             536.546481                             0     1342.826496   \n",
       "7             552.466358                             0      305.293658   \n",
       "8             552.466358                             0      305.293658   \n",
       "\n",
       "   comisarias_menor_500m  min_cuarteles  \n",
       "0                      0    1338.362957  \n",
       "2                      0    1349.185580  \n",
       "3                      0    1342.048882  \n",
       "7                      1    1330.713856  \n",
       "8                      1    1330.713856  "
      ]
     },
     "execution_count": 266,
     "metadata": {},
     "output_type": "execute_result"
    }
   ],
   "source": [
    "geo_df['min_cuarteles'] = 0\n",
    "for i in geo_df.index:\n",
    "    distancias = []\n",
    "    for j in geo_cuarteles.index:\n",
    "        punto_1 = (geo_cuarteles.LNG[j], geo_cuarteles.LAT[j])\n",
    "        punto_2 = (geo_df.lon[i], geo_df.lat[i])\n",
    "        dist = geopy.distance.geodesic(punto_1,punto_2)\n",
    "        distancias.append(dist.meters)\n",
    "    geo_df.loc[i,'min_cuarteles'] = np.min(distancias)\n",
    "      \n",
    "geo_df.head()"
   ]
  },
  {
   "cell_type": "code",
   "execution_count": 267,
   "id": "4b4326aa",
   "metadata": {},
   "outputs": [],
   "source": [
    "geo_df_back_up = geo_df.copy()"
   ]
  },
  {
   "cell_type": "code",
   "execution_count": 268,
   "id": "cbfce208",
   "metadata": {},
   "outputs": [
    {
     "data": {
      "text/html": [
       "<div>\n",
       "<style scoped>\n",
       "    .dataframe tbody tr th:only-of-type {\n",
       "        vertical-align: middle;\n",
       "    }\n",
       "\n",
       "    .dataframe tbody tr th {\n",
       "        vertical-align: top;\n",
       "    }\n",
       "\n",
       "    .dataframe thead th {\n",
       "        text-align: right;\n",
       "    }\n",
       "</style>\n",
       "<table border=\"1\" class=\"dataframe\">\n",
       "  <thead>\n",
       "    <tr style=\"text-align: right;\">\n",
       "      <th></th>\n",
       "      <th>state_name</th>\n",
       "      <th>place_name</th>\n",
       "      <th>lat-lon</th>\n",
       "      <th>lat</th>\n",
       "      <th>lon</th>\n",
       "      <th>geometry</th>\n",
       "      <th>min_subte</th>\n",
       "      <th>subtes_menor_500m</th>\n",
       "      <th>min_locales_bailables</th>\n",
       "      <th>locales_bailables_menor_500m</th>\n",
       "      <th>min_comisarias</th>\n",
       "      <th>comisarias_menor_500m</th>\n",
       "      <th>min_cuarteles</th>\n",
       "    </tr>\n",
       "  </thead>\n",
       "  <tbody>\n",
       "    <tr>\n",
       "      <th>0</th>\n",
       "      <td>capital federal</td>\n",
       "      <td>Mataderos</td>\n",
       "      <td>-34.6618237,-58.5088387</td>\n",
       "      <td>-34.6618237</td>\n",
       "      <td>-58.5088387</td>\n",
       "      <td>POINT (-58.50884 -34.66182)</td>\n",
       "      <td>4728.393676</td>\n",
       "      <td>0</td>\n",
       "      <td>1666.691008</td>\n",
       "      <td>0</td>\n",
       "      <td>854.731083</td>\n",
       "      <td>0</td>\n",
       "      <td>1338.362957</td>\n",
       "    </tr>\n",
       "    <tr>\n",
       "      <th>2</th>\n",
       "      <td>capital federal</td>\n",
       "      <td>Mataderos</td>\n",
       "      <td>-34.6522615,-58.5229825</td>\n",
       "      <td>-34.6522615</td>\n",
       "      <td>-58.5229825</td>\n",
       "      <td>POINT (-58.52298 -34.65226)</td>\n",
       "      <td>6073.153602</td>\n",
       "      <td>0</td>\n",
       "      <td>951.482447</td>\n",
       "      <td>0</td>\n",
       "      <td>1329.365030</td>\n",
       "      <td>0</td>\n",
       "      <td>1349.185580</td>\n",
       "    </tr>\n",
       "    <tr>\n",
       "      <th>3</th>\n",
       "      <td>capital federal</td>\n",
       "      <td>Liniers</td>\n",
       "      <td>-34.6477969,-58.5164244</td>\n",
       "      <td>-34.6477969</td>\n",
       "      <td>-58.5164244</td>\n",
       "      <td>POINT (-58.51642 -34.64780)</td>\n",
       "      <td>5305.630900</td>\n",
       "      <td>0</td>\n",
       "      <td>536.546481</td>\n",
       "      <td>0</td>\n",
       "      <td>1342.826496</td>\n",
       "      <td>0</td>\n",
       "      <td>1342.048882</td>\n",
       "    </tr>\n",
       "    <tr>\n",
       "      <th>7</th>\n",
       "      <td>capital federal</td>\n",
       "      <td>Belgrano</td>\n",
       "      <td>-34.5598729,-58.443362</td>\n",
       "      <td>-34.5598729</td>\n",
       "      <td>-58.443362</td>\n",
       "      <td>POINT (-58.44336 -34.55987)</td>\n",
       "      <td>609.743234</td>\n",
       "      <td>0</td>\n",
       "      <td>552.466358</td>\n",
       "      <td>0</td>\n",
       "      <td>305.293658</td>\n",
       "      <td>1</td>\n",
       "      <td>1330.713856</td>\n",
       "    </tr>\n",
       "    <tr>\n",
       "      <th>8</th>\n",
       "      <td>capital federal</td>\n",
       "      <td>Belgrano</td>\n",
       "      <td>-34.5598729,-58.443362</td>\n",
       "      <td>-34.5598729</td>\n",
       "      <td>-58.443362</td>\n",
       "      <td>POINT (-58.44336 -34.55987)</td>\n",
       "      <td>609.743234</td>\n",
       "      <td>0</td>\n",
       "      <td>552.466358</td>\n",
       "      <td>0</td>\n",
       "      <td>305.293658</td>\n",
       "      <td>1</td>\n",
       "      <td>1330.713856</td>\n",
       "    </tr>\n",
       "  </tbody>\n",
       "</table>\n",
       "</div>"
      ],
      "text/plain": [
       "        state_name place_name                  lat-lon          lat  \\\n",
       "0  capital federal  Mataderos  -34.6618237,-58.5088387  -34.6618237   \n",
       "2  capital federal  Mataderos  -34.6522615,-58.5229825  -34.6522615   \n",
       "3  capital federal    Liniers  -34.6477969,-58.5164244  -34.6477969   \n",
       "7  capital federal   Belgrano   -34.5598729,-58.443362  -34.5598729   \n",
       "8  capital federal   Belgrano   -34.5598729,-58.443362  -34.5598729   \n",
       "\n",
       "           lon                     geometry    min_subte  subtes_menor_500m  \\\n",
       "0  -58.5088387  POINT (-58.50884 -34.66182)  4728.393676                  0   \n",
       "2  -58.5229825  POINT (-58.52298 -34.65226)  6073.153602                  0   \n",
       "3  -58.5164244  POINT (-58.51642 -34.64780)  5305.630900                  0   \n",
       "7   -58.443362  POINT (-58.44336 -34.55987)   609.743234                  0   \n",
       "8   -58.443362  POINT (-58.44336 -34.55987)   609.743234                  0   \n",
       "\n",
       "   min_locales_bailables  locales_bailables_menor_500m  min_comisarias  \\\n",
       "0            1666.691008                             0      854.731083   \n",
       "2             951.482447                             0     1329.365030   \n",
       "3             536.546481                             0     1342.826496   \n",
       "7             552.466358                             0      305.293658   \n",
       "8             552.466358                             0      305.293658   \n",
       "\n",
       "   comisarias_menor_500m  min_cuarteles  \n",
       "0                      0    1338.362957  \n",
       "2                      0    1349.185580  \n",
       "3                      0    1342.048882  \n",
       "7                      1    1330.713856  \n",
       "8                      1    1330.713856  "
      ]
     },
     "execution_count": 268,
     "metadata": {},
     "output_type": "execute_result"
    }
   ],
   "source": [
    "geo_df.head()"
   ]
  },
  {
   "cell_type": "code",
   "execution_count": null,
   "id": "2a520074",
   "metadata": {},
   "outputs": [],
   "source": []
  },
  {
   "cell_type": "markdown",
   "id": "5b681998",
   "metadata": {
    "id": "b658e1b2"
   },
   "source": [
    "Creamos las nuevas columnas en el dataset original:\n"
   ]
  },
  {
   "cell_type": "code",
   "execution_count": 269,
   "id": "f4697cb3",
   "metadata": {
    "id": "f6515b57"
   },
   "outputs": [],
   "source": [
    "df['min_subte']= np.nan\n",
    "df['subtes_menor_500m']= np.nan\n",
    "#----------------------------------------\n",
    "df['min_locales_bailables'] = np.nan\n",
    "df['locales_bailables_menor_500m'] = np.nan\n",
    "#----------------------------------------\n",
    "df['min_comisarias'] = np.nan\n",
    "df['comisarias_menor_500m'] = np.nan\n",
    "#----------------------------------------\n",
    "df['min_cuarteles'] = np.nan"
   ]
  },
  {
   "cell_type": "code",
   "execution_count": 270,
   "id": "690e7f0b",
   "metadata": {
    "id": "52fe80d9",
    "outputId": "b1df994d-8b1f-49c3-b114-6340f9b0afc0"
   },
   "outputs": [
    {
     "data": {
      "text/plain": [
       "(21756,)"
      ]
     },
     "execution_count": 270,
     "metadata": {},
     "output_type": "execute_result"
    }
   ],
   "source": [
    "df.loc[df['lat-lon'].notna(),'min_subte'].shape"
   ]
  },
  {
   "cell_type": "markdown",
   "id": "9a44354a",
   "metadata": {
    "id": "b2dc43ef"
   },
   "source": [
    "Asignamos los valores:"
   ]
  },
  {
   "cell_type": "code",
   "execution_count": 271,
   "id": "12f24390",
   "metadata": {
    "id": "bd8a888c",
    "outputId": "83977b32-5ed4-4617-dafe-0f107ae90a5f"
   },
   "outputs": [
    {
     "data": {
      "text/html": [
       "<div>\n",
       "<style scoped>\n",
       "    .dataframe tbody tr th:only-of-type {\n",
       "        vertical-align: middle;\n",
       "    }\n",
       "\n",
       "    .dataframe tbody tr th {\n",
       "        vertical-align: top;\n",
       "    }\n",
       "\n",
       "    .dataframe thead th {\n",
       "        text-align: right;\n",
       "    }\n",
       "</style>\n",
       "<table border=\"1\" class=\"dataframe\">\n",
       "  <thead>\n",
       "    <tr style=\"text-align: right;\">\n",
       "      <th></th>\n",
       "      <th>property_type</th>\n",
       "      <th>place_name</th>\n",
       "      <th>state_name</th>\n",
       "      <th>geonames_id</th>\n",
       "      <th>lat-lon</th>\n",
       "      <th>price_aprox_usd</th>\n",
       "      <th>surface_total_in_m2</th>\n",
       "      <th>surface_covered_in_m2</th>\n",
       "      <th>rooms</th>\n",
       "      <th>garage</th>\n",
       "      <th>lavadero</th>\n",
       "      <th>balcon</th>\n",
       "      <th>parrilla</th>\n",
       "      <th>piscina</th>\n",
       "      <th>terraza</th>\n",
       "      <th>patio</th>\n",
       "      <th>jardin</th>\n",
       "      <th>sum</th>\n",
       "      <th>quincho</th>\n",
       "      <th>estrenar</th>\n",
       "      <th>min_subte</th>\n",
       "      <th>subtes_menor_500m</th>\n",
       "      <th>min_locales_bailables</th>\n",
       "      <th>locales_bailables_menor_500m</th>\n",
       "      <th>min_comisarias</th>\n",
       "      <th>comisarias_menor_500m</th>\n",
       "      <th>min_cuarteles</th>\n",
       "    </tr>\n",
       "  </thead>\n",
       "  <tbody>\n",
       "    <tr>\n",
       "      <th>0</th>\n",
       "      <td>PH</td>\n",
       "      <td>Mataderos</td>\n",
       "      <td>capital federal</td>\n",
       "      <td>3430787.0</td>\n",
       "      <td>-34.6618237,-58.5088387</td>\n",
       "      <td>62000.0</td>\n",
       "      <td>55.000000</td>\n",
       "      <td>40.000000</td>\n",
       "      <td>2.000000</td>\n",
       "      <td>0</td>\n",
       "      <td>1</td>\n",
       "      <td>0</td>\n",
       "      <td>0</td>\n",
       "      <td>0</td>\n",
       "      <td>0</td>\n",
       "      <td>1</td>\n",
       "      <td>0</td>\n",
       "      <td>0</td>\n",
       "      <td>0</td>\n",
       "      <td>0</td>\n",
       "      <td>4728.393676</td>\n",
       "      <td>0.0</td>\n",
       "      <td>1666.691008</td>\n",
       "      <td>0.0</td>\n",
       "      <td>854.731083</td>\n",
       "      <td>0.0</td>\n",
       "      <td>1338.362957</td>\n",
       "    </tr>\n",
       "    <tr>\n",
       "      <th>2</th>\n",
       "      <td>apartment</td>\n",
       "      <td>Mataderos</td>\n",
       "      <td>capital federal</td>\n",
       "      <td>3430787.0</td>\n",
       "      <td>-34.6522615,-58.5229825</td>\n",
       "      <td>72000.0</td>\n",
       "      <td>55.000000</td>\n",
       "      <td>55.000000</td>\n",
       "      <td>2.000000</td>\n",
       "      <td>0</td>\n",
       "      <td>1</td>\n",
       "      <td>0</td>\n",
       "      <td>0</td>\n",
       "      <td>0</td>\n",
       "      <td>0</td>\n",
       "      <td>0</td>\n",
       "      <td>0</td>\n",
       "      <td>0</td>\n",
       "      <td>0</td>\n",
       "      <td>0</td>\n",
       "      <td>6073.153602</td>\n",
       "      <td>0.0</td>\n",
       "      <td>951.482447</td>\n",
       "      <td>0.0</td>\n",
       "      <td>1329.365030</td>\n",
       "      <td>0.0</td>\n",
       "      <td>1349.185580</td>\n",
       "    </tr>\n",
       "    <tr>\n",
       "      <th>3</th>\n",
       "      <td>PH</td>\n",
       "      <td>Liniers</td>\n",
       "      <td>capital federal</td>\n",
       "      <td>3431333.0</td>\n",
       "      <td>-34.6477969,-58.5164244</td>\n",
       "      <td>95000.0</td>\n",
       "      <td>120.857451</td>\n",
       "      <td>91.601224</td>\n",
       "      <td>3.000000</td>\n",
       "      <td>0</td>\n",
       "      <td>0</td>\n",
       "      <td>0</td>\n",
       "      <td>0</td>\n",
       "      <td>0</td>\n",
       "      <td>0</td>\n",
       "      <td>1</td>\n",
       "      <td>0</td>\n",
       "      <td>0</td>\n",
       "      <td>0</td>\n",
       "      <td>0</td>\n",
       "      <td>5305.630900</td>\n",
       "      <td>0.0</td>\n",
       "      <td>536.546481</td>\n",
       "      <td>0.0</td>\n",
       "      <td>1342.826496</td>\n",
       "      <td>0.0</td>\n",
       "      <td>1342.048882</td>\n",
       "    </tr>\n",
       "    <tr>\n",
       "      <th>7</th>\n",
       "      <td>apartment</td>\n",
       "      <td>Belgrano</td>\n",
       "      <td>capital federal</td>\n",
       "      <td>3436077.0</td>\n",
       "      <td>-34.5598729,-58.443362</td>\n",
       "      <td>138000.0</td>\n",
       "      <td>45.000000</td>\n",
       "      <td>40.000000</td>\n",
       "      <td>2.852152</td>\n",
       "      <td>0</td>\n",
       "      <td>1</td>\n",
       "      <td>0</td>\n",
       "      <td>0</td>\n",
       "      <td>1</td>\n",
       "      <td>0</td>\n",
       "      <td>0</td>\n",
       "      <td>0</td>\n",
       "      <td>0</td>\n",
       "      <td>0</td>\n",
       "      <td>1</td>\n",
       "      <td>609.743234</td>\n",
       "      <td>0.0</td>\n",
       "      <td>552.466358</td>\n",
       "      <td>0.0</td>\n",
       "      <td>305.293658</td>\n",
       "      <td>1.0</td>\n",
       "      <td>1330.713856</td>\n",
       "    </tr>\n",
       "    <tr>\n",
       "      <th>8</th>\n",
       "      <td>apartment</td>\n",
       "      <td>Belgrano</td>\n",
       "      <td>capital federal</td>\n",
       "      <td>3436077.0</td>\n",
       "      <td>-34.5598729,-58.443362</td>\n",
       "      <td>195000.0</td>\n",
       "      <td>65.000000</td>\n",
       "      <td>60.000000</td>\n",
       "      <td>2.852152</td>\n",
       "      <td>0</td>\n",
       "      <td>1</td>\n",
       "      <td>0</td>\n",
       "      <td>0</td>\n",
       "      <td>1</td>\n",
       "      <td>0</td>\n",
       "      <td>0</td>\n",
       "      <td>0</td>\n",
       "      <td>0</td>\n",
       "      <td>0</td>\n",
       "      <td>1</td>\n",
       "      <td>609.743234</td>\n",
       "      <td>0.0</td>\n",
       "      <td>552.466358</td>\n",
       "      <td>0.0</td>\n",
       "      <td>305.293658</td>\n",
       "      <td>1.0</td>\n",
       "      <td>1330.713856</td>\n",
       "    </tr>\n",
       "  </tbody>\n",
       "</table>\n",
       "</div>"
      ],
      "text/plain": [
       "  property_type place_name       state_name  geonames_id  \\\n",
       "0            PH  Mataderos  capital federal    3430787.0   \n",
       "2     apartment  Mataderos  capital federal    3430787.0   \n",
       "3            PH    Liniers  capital federal    3431333.0   \n",
       "7     apartment   Belgrano  capital federal    3436077.0   \n",
       "8     apartment   Belgrano  capital federal    3436077.0   \n",
       "\n",
       "                   lat-lon  price_aprox_usd  surface_total_in_m2  \\\n",
       "0  -34.6618237,-58.5088387          62000.0            55.000000   \n",
       "2  -34.6522615,-58.5229825          72000.0            55.000000   \n",
       "3  -34.6477969,-58.5164244          95000.0           120.857451   \n",
       "7   -34.5598729,-58.443362         138000.0            45.000000   \n",
       "8   -34.5598729,-58.443362         195000.0            65.000000   \n",
       "\n",
       "   surface_covered_in_m2     rooms  garage  lavadero  balcon  parrilla  \\\n",
       "0              40.000000  2.000000       0         1       0         0   \n",
       "2              55.000000  2.000000       0         1       0         0   \n",
       "3              91.601224  3.000000       0         0       0         0   \n",
       "7              40.000000  2.852152       0         1       0         0   \n",
       "8              60.000000  2.852152       0         1       0         0   \n",
       "\n",
       "   piscina  terraza  patio  jardin  sum  quincho  estrenar    min_subte  \\\n",
       "0        0        0      1       0    0        0         0  4728.393676   \n",
       "2        0        0      0       0    0        0         0  6073.153602   \n",
       "3        0        0      1       0    0        0         0  5305.630900   \n",
       "7        1        0      0       0    0        0         1   609.743234   \n",
       "8        1        0      0       0    0        0         1   609.743234   \n",
       "\n",
       "   subtes_menor_500m  min_locales_bailables  locales_bailables_menor_500m  \\\n",
       "0                0.0            1666.691008                           0.0   \n",
       "2                0.0             951.482447                           0.0   \n",
       "3                0.0             536.546481                           0.0   \n",
       "7                0.0             552.466358                           0.0   \n",
       "8                0.0             552.466358                           0.0   \n",
       "\n",
       "   min_comisarias  comisarias_menor_500m  min_cuarteles  \n",
       "0      854.731083                    0.0    1338.362957  \n",
       "2     1329.365030                    0.0    1349.185580  \n",
       "3     1342.826496                    0.0    1342.048882  \n",
       "7      305.293658                    1.0    1330.713856  \n",
       "8      305.293658                    1.0    1330.713856  "
      ]
     },
     "execution_count": 271,
     "metadata": {},
     "output_type": "execute_result"
    }
   ],
   "source": [
    "df.loc[df['lat-lon'].notna(),'min_subte'] = geo_df.loc[:,'min_subte']\n",
    "df.loc[df['lat-lon'].notna(),'subtes_menor_500m'] = geo_df.loc[:,'subtes_menor_500m']\n",
    "#-------------------------------------------------------------------------------------\n",
    "df.loc[df['lat-lon'].notna(),'min_locales_bailables'] = geo_df.loc[:,'min_locales_bailables']\n",
    "df.loc[df['lat-lon'].notna(),'locales_bailables_menor_500m'] = geo_df.loc[:,'locales_bailables_menor_500m']\n",
    "#-------------------------------------------------------------------------------------\n",
    "df.loc[df['lat-lon'].notna(),'min_comisarias'] = geo_df.loc[:,'min_comisarias']\n",
    "df.loc[df['lat-lon'].notna(),'comisarias_menor_500m'] = geo_df.loc[:,'comisarias_menor_500m']\n",
    "#-------------------------------------------------------------------------------------\n",
    "df.loc[df['lat-lon'].notna(),'min_cuarteles'] = geo_df.loc[:,'min_cuarteles']\n",
    "df.head()"
   ]
  },
  {
   "cell_type": "code",
   "execution_count": 272,
   "id": "8c1fd502",
   "metadata": {},
   "outputs": [
    {
     "data": {
      "text/html": [
       "<div>\n",
       "<style scoped>\n",
       "    .dataframe tbody tr th:only-of-type {\n",
       "        vertical-align: middle;\n",
       "    }\n",
       "\n",
       "    .dataframe tbody tr th {\n",
       "        vertical-align: top;\n",
       "    }\n",
       "\n",
       "    .dataframe thead th {\n",
       "        text-align: right;\n",
       "    }\n",
       "</style>\n",
       "<table border=\"1\" class=\"dataframe\">\n",
       "  <thead>\n",
       "    <tr style=\"text-align: right;\">\n",
       "      <th></th>\n",
       "      <th>geonames_id</th>\n",
       "      <th>price_aprox_usd</th>\n",
       "      <th>surface_total_in_m2</th>\n",
       "      <th>surface_covered_in_m2</th>\n",
       "      <th>rooms</th>\n",
       "      <th>garage</th>\n",
       "      <th>lavadero</th>\n",
       "      <th>balcon</th>\n",
       "      <th>parrilla</th>\n",
       "      <th>piscina</th>\n",
       "      <th>terraza</th>\n",
       "      <th>patio</th>\n",
       "      <th>jardin</th>\n",
       "      <th>sum</th>\n",
       "      <th>quincho</th>\n",
       "      <th>estrenar</th>\n",
       "      <th>min_subte</th>\n",
       "      <th>subtes_menor_500m</th>\n",
       "      <th>min_locales_bailables</th>\n",
       "      <th>locales_bailables_menor_500m</th>\n",
       "      <th>min_comisarias</th>\n",
       "      <th>comisarias_menor_500m</th>\n",
       "      <th>min_cuarteles</th>\n",
       "    </tr>\n",
       "  </thead>\n",
       "  <tbody>\n",
       "    <tr>\n",
       "      <th>count</th>\n",
       "      <td>2.728800e+04</td>\n",
       "      <td>2.839900e+04</td>\n",
       "      <td>28399.000000</td>\n",
       "      <td>28399.000000</td>\n",
       "      <td>28399.000000</td>\n",
       "      <td>28399.000000</td>\n",
       "      <td>28399.000000</td>\n",
       "      <td>28399.000000</td>\n",
       "      <td>28399.000000</td>\n",
       "      <td>28399.000000</td>\n",
       "      <td>28399.000000</td>\n",
       "      <td>28399.000000</td>\n",
       "      <td>28399.000000</td>\n",
       "      <td>28399.000000</td>\n",
       "      <td>28399.000000</td>\n",
       "      <td>28399.000000</td>\n",
       "      <td>21756.000000</td>\n",
       "      <td>21756.000000</td>\n",
       "      <td>21756.000000</td>\n",
       "      <td>21756.000000</td>\n",
       "      <td>21756.000000</td>\n",
       "      <td>21756.000000</td>\n",
       "      <td>21756.000000</td>\n",
       "    </tr>\n",
       "    <tr>\n",
       "      <th>mean</th>\n",
       "      <td>3.533946e+06</td>\n",
       "      <td>2.328637e+05</td>\n",
       "      <td>96.642643</td>\n",
       "      <td>78.932297</td>\n",
       "      <td>2.727093</td>\n",
       "      <td>0.421177</td>\n",
       "      <td>0.410683</td>\n",
       "      <td>0.479594</td>\n",
       "      <td>0.276348</td>\n",
       "      <td>0.228494</td>\n",
       "      <td>0.228071</td>\n",
       "      <td>0.137364</td>\n",
       "      <td>0.071446</td>\n",
       "      <td>0.181098</td>\n",
       "      <td>0.041868</td>\n",
       "      <td>0.096623</td>\n",
       "      <td>832.998268</td>\n",
       "      <td>0.850248</td>\n",
       "      <td>640.733200</td>\n",
       "      <td>1.938454</td>\n",
       "      <td>575.532662</td>\n",
       "      <td>0.579243</td>\n",
       "      <td>913.290514</td>\n",
       "    </tr>\n",
       "    <tr>\n",
       "      <th>std</th>\n",
       "      <td>5.664980e+05</td>\n",
       "      <td>2.142445e+05</td>\n",
       "      <td>102.380446</td>\n",
       "      <td>67.127320</td>\n",
       "      <td>1.220769</td>\n",
       "      <td>0.493757</td>\n",
       "      <td>0.491967</td>\n",
       "      <td>0.499592</td>\n",
       "      <td>0.447199</td>\n",
       "      <td>0.419870</td>\n",
       "      <td>0.419596</td>\n",
       "      <td>0.344237</td>\n",
       "      <td>0.257573</td>\n",
       "      <td>0.385106</td>\n",
       "      <td>0.200290</td>\n",
       "      <td>0.295449</td>\n",
       "      <td>4256.350100</td>\n",
       "      <td>0.946127</td>\n",
       "      <td>4116.616975</td>\n",
       "      <td>3.188036</td>\n",
       "      <td>4095.046273</td>\n",
       "      <td>0.660623</td>\n",
       "      <td>4104.142532</td>\n",
       "    </tr>\n",
       "    <tr>\n",
       "      <th>min</th>\n",
       "      <td>3.427366e+06</td>\n",
       "      <td>5.103610e+03</td>\n",
       "      <td>8.315254</td>\n",
       "      <td>0.000000</td>\n",
       "      <td>0.000000</td>\n",
       "      <td>0.000000</td>\n",
       "      <td>0.000000</td>\n",
       "      <td>0.000000</td>\n",
       "      <td>0.000000</td>\n",
       "      <td>0.000000</td>\n",
       "      <td>0.000000</td>\n",
       "      <td>0.000000</td>\n",
       "      <td>0.000000</td>\n",
       "      <td>0.000000</td>\n",
       "      <td>0.000000</td>\n",
       "      <td>0.000000</td>\n",
       "      <td>0.540357</td>\n",
       "      <td>0.000000</td>\n",
       "      <td>0.029199</td>\n",
       "      <td>0.000000</td>\n",
       "      <td>4.332869</td>\n",
       "      <td>0.000000</td>\n",
       "      <td>7.769696</td>\n",
       "    </tr>\n",
       "    <tr>\n",
       "      <th>25%</th>\n",
       "      <td>3.429703e+06</td>\n",
       "      <td>1.040000e+05</td>\n",
       "      <td>42.000000</td>\n",
       "      <td>38.000000</td>\n",
       "      <td>2.000000</td>\n",
       "      <td>0.000000</td>\n",
       "      <td>0.000000</td>\n",
       "      <td>0.000000</td>\n",
       "      <td>0.000000</td>\n",
       "      <td>0.000000</td>\n",
       "      <td>0.000000</td>\n",
       "      <td>0.000000</td>\n",
       "      <td>0.000000</td>\n",
       "      <td>0.000000</td>\n",
       "      <td>0.000000</td>\n",
       "      <td>0.000000</td>\n",
       "      <td>244.493192</td>\n",
       "      <td>0.000000</td>\n",
       "      <td>265.864523</td>\n",
       "      <td>0.000000</td>\n",
       "      <td>337.546100</td>\n",
       "      <td>0.000000</td>\n",
       "      <td>565.690693</td>\n",
       "    </tr>\n",
       "    <tr>\n",
       "      <th>50%</th>\n",
       "      <td>3.433775e+06</td>\n",
       "      <td>1.550000e+05</td>\n",
       "      <td>63.000000</td>\n",
       "      <td>55.000000</td>\n",
       "      <td>2.787818</td>\n",
       "      <td>0.000000</td>\n",
       "      <td>0.000000</td>\n",
       "      <td>0.000000</td>\n",
       "      <td>0.000000</td>\n",
       "      <td>0.000000</td>\n",
       "      <td>0.000000</td>\n",
       "      <td>0.000000</td>\n",
       "      <td>0.000000</td>\n",
       "      <td>0.000000</td>\n",
       "      <td>0.000000</td>\n",
       "      <td>0.000000</td>\n",
       "      <td>418.312390</td>\n",
       "      <td>1.000000</td>\n",
       "      <td>480.999216</td>\n",
       "      <td>1.000000</td>\n",
       "      <td>508.269896</td>\n",
       "      <td>0.000000</td>\n",
       "      <td>849.342030</td>\n",
       "    </tr>\n",
       "    <tr>\n",
       "      <th>75%</th>\n",
       "      <td>3.435874e+06</td>\n",
       "      <td>2.700000e+05</td>\n",
       "      <td>108.000000</td>\n",
       "      <td>91.000000</td>\n",
       "      <td>3.067816</td>\n",
       "      <td>1.000000</td>\n",
       "      <td>1.000000</td>\n",
       "      <td>1.000000</td>\n",
       "      <td>1.000000</td>\n",
       "      <td>0.000000</td>\n",
       "      <td>0.000000</td>\n",
       "      <td>0.000000</td>\n",
       "      <td>0.000000</td>\n",
       "      <td>0.000000</td>\n",
       "      <td>0.000000</td>\n",
       "      <td>0.000000</td>\n",
       "      <td>792.158798</td>\n",
       "      <td>1.000000</td>\n",
       "      <td>826.137004</td>\n",
       "      <td>2.000000</td>\n",
       "      <td>720.942753</td>\n",
       "      <td>1.000000</td>\n",
       "      <td>1180.050009</td>\n",
       "    </tr>\n",
       "    <tr>\n",
       "      <th>max</th>\n",
       "      <td>6.693230e+06</td>\n",
       "      <td>1.490000e+06</td>\n",
       "      <td>1180.000000</td>\n",
       "      <td>509.000000</td>\n",
       "      <td>10.000000</td>\n",
       "      <td>1.000000</td>\n",
       "      <td>1.000000</td>\n",
       "      <td>1.000000</td>\n",
       "      <td>1.000000</td>\n",
       "      <td>1.000000</td>\n",
       "      <td>1.000000</td>\n",
       "      <td>1.000000</td>\n",
       "      <td>1.000000</td>\n",
       "      <td>1.000000</td>\n",
       "      <td>1.000000</td>\n",
       "      <td>1.000000</td>\n",
       "      <td>607904.090303</td>\n",
       "      <td>5.000000</td>\n",
       "      <td>603381.379068</td>\n",
       "      <td>17.000000</td>\n",
       "      <td>602913.677116</td>\n",
       "      <td>3.000000</td>\n",
       "      <td>602909.122152</td>\n",
       "    </tr>\n",
       "  </tbody>\n",
       "</table>\n",
       "</div>"
      ],
      "text/plain": [
       "        geonames_id  price_aprox_usd  surface_total_in_m2  \\\n",
       "count  2.728800e+04     2.839900e+04         28399.000000   \n",
       "mean   3.533946e+06     2.328637e+05            96.642643   \n",
       "std    5.664980e+05     2.142445e+05           102.380446   \n",
       "min    3.427366e+06     5.103610e+03             8.315254   \n",
       "25%    3.429703e+06     1.040000e+05            42.000000   \n",
       "50%    3.433775e+06     1.550000e+05            63.000000   \n",
       "75%    3.435874e+06     2.700000e+05           108.000000   \n",
       "max    6.693230e+06     1.490000e+06          1180.000000   \n",
       "\n",
       "       surface_covered_in_m2         rooms        garage      lavadero  \\\n",
       "count           28399.000000  28399.000000  28399.000000  28399.000000   \n",
       "mean               78.932297      2.727093      0.421177      0.410683   \n",
       "std                67.127320      1.220769      0.493757      0.491967   \n",
       "min                 0.000000      0.000000      0.000000      0.000000   \n",
       "25%                38.000000      2.000000      0.000000      0.000000   \n",
       "50%                55.000000      2.787818      0.000000      0.000000   \n",
       "75%                91.000000      3.067816      1.000000      1.000000   \n",
       "max               509.000000     10.000000      1.000000      1.000000   \n",
       "\n",
       "             balcon      parrilla       piscina       terraza         patio  \\\n",
       "count  28399.000000  28399.000000  28399.000000  28399.000000  28399.000000   \n",
       "mean       0.479594      0.276348      0.228494      0.228071      0.137364   \n",
       "std        0.499592      0.447199      0.419870      0.419596      0.344237   \n",
       "min        0.000000      0.000000      0.000000      0.000000      0.000000   \n",
       "25%        0.000000      0.000000      0.000000      0.000000      0.000000   \n",
       "50%        0.000000      0.000000      0.000000      0.000000      0.000000   \n",
       "75%        1.000000      1.000000      0.000000      0.000000      0.000000   \n",
       "max        1.000000      1.000000      1.000000      1.000000      1.000000   \n",
       "\n",
       "             jardin           sum       quincho      estrenar      min_subte  \\\n",
       "count  28399.000000  28399.000000  28399.000000  28399.000000   21756.000000   \n",
       "mean       0.071446      0.181098      0.041868      0.096623     832.998268   \n",
       "std        0.257573      0.385106      0.200290      0.295449    4256.350100   \n",
       "min        0.000000      0.000000      0.000000      0.000000       0.540357   \n",
       "25%        0.000000      0.000000      0.000000      0.000000     244.493192   \n",
       "50%        0.000000      0.000000      0.000000      0.000000     418.312390   \n",
       "75%        0.000000      0.000000      0.000000      0.000000     792.158798   \n",
       "max        1.000000      1.000000      1.000000      1.000000  607904.090303   \n",
       "\n",
       "       subtes_menor_500m  min_locales_bailables  locales_bailables_menor_500m  \\\n",
       "count       21756.000000           21756.000000                  21756.000000   \n",
       "mean            0.850248             640.733200                      1.938454   \n",
       "std             0.946127            4116.616975                      3.188036   \n",
       "min             0.000000               0.029199                      0.000000   \n",
       "25%             0.000000             265.864523                      0.000000   \n",
       "50%             1.000000             480.999216                      1.000000   \n",
       "75%             1.000000             826.137004                      2.000000   \n",
       "max             5.000000          603381.379068                     17.000000   \n",
       "\n",
       "       min_comisarias  comisarias_menor_500m  min_cuarteles  \n",
       "count    21756.000000           21756.000000   21756.000000  \n",
       "mean       575.532662               0.579243     913.290514  \n",
       "std       4095.046273               0.660623    4104.142532  \n",
       "min          4.332869               0.000000       7.769696  \n",
       "25%        337.546100               0.000000     565.690693  \n",
       "50%        508.269896               0.000000     849.342030  \n",
       "75%        720.942753               1.000000    1180.050009  \n",
       "max     602913.677116               3.000000  602909.122152  "
      ]
     },
     "execution_count": 272,
     "metadata": {},
     "output_type": "execute_result"
    }
   ],
   "source": [
    "df.describe()"
   ]
  },
  {
   "cell_type": "code",
   "execution_count": 273,
   "id": "e47582d0",
   "metadata": {
    "id": "fb45dc37",
    "outputId": "f7869e6d-50ff-4d2c-fe09-d3ba3a6854f8"
   },
   "outputs": [
    {
     "data": {
      "text/plain": [
       "property_type                   0.000000\n",
       "place_name                      0.000000\n",
       "state_name                      0.000000\n",
       "geonames_id                     0.039121\n",
       "lat-lon                         0.233917\n",
       "price_aprox_usd                 0.000000\n",
       "surface_total_in_m2             0.000000\n",
       "surface_covered_in_m2           0.000000\n",
       "rooms                           0.000000\n",
       "garage                          0.000000\n",
       "lavadero                        0.000000\n",
       "balcon                          0.000000\n",
       "parrilla                        0.000000\n",
       "piscina                         0.000000\n",
       "terraza                         0.000000\n",
       "patio                           0.000000\n",
       "jardin                          0.000000\n",
       "sum                             0.000000\n",
       "quincho                         0.000000\n",
       "estrenar                        0.000000\n",
       "min_subte                       0.233917\n",
       "subtes_menor_500m               0.233917\n",
       "min_locales_bailables           0.233917\n",
       "locales_bailables_menor_500m    0.233917\n",
       "min_comisarias                  0.233917\n",
       "comisarias_menor_500m           0.233917\n",
       "min_cuarteles                   0.233917\n",
       "dtype: float64"
      ]
     },
     "execution_count": 273,
     "metadata": {},
     "output_type": "execute_result"
    }
   ],
   "source": [
    "df.isna().sum() / df.shape[0]"
   ]
  },
  {
   "cell_type": "markdown",
   "id": "1fefc2c3",
   "metadata": {
    "id": "cc48c6b7"
   },
   "source": [
    "En el dataframe tenemos un total de 807 place_name diferentes:"
   ]
  },
  {
   "cell_type": "code",
   "execution_count": 275,
   "id": "08568104",
   "metadata": {
    "id": "c5ade1bf",
    "outputId": "e2a6681b-1735-4973-af1c-3b484f4fbe55"
   },
   "outputs": [
    {
     "data": {
      "text/plain": [
       "62"
      ]
     },
     "execution_count": 275,
     "metadata": {},
     "output_type": "execute_result"
    }
   ],
   "source": [
    "len(df.place_name.value_counts())"
   ]
  },
  {
   "cell_type": "markdown",
   "id": "7a6aa3c8",
   "metadata": {},
   "source": [
    "#### Asignación para subtes"
   ]
  },
  {
   "cell_type": "markdown",
   "id": "2d51edc1",
   "metadata": {
    "id": "b6053dd2"
   },
   "source": [
    "Generamos un dataframe con los valores de place name y la media de min_subte y la media de subtes menor a 500m:\n"
   ]
  },
  {
   "cell_type": "code",
   "execution_count": 127,
   "id": "f3ffcbe7",
   "metadata": {
    "id": "971b6fc7",
    "outputId": "318c966c-c080-48ad-a8ca-3c856e6abae5"
   },
   "outputs": [
    {
     "data": {
      "text/html": [
       "<div>\n",
       "<style scoped>\n",
       "    .dataframe tbody tr th:only-of-type {\n",
       "        vertical-align: middle;\n",
       "    }\n",
       "\n",
       "    .dataframe tbody tr th {\n",
       "        vertical-align: top;\n",
       "    }\n",
       "\n",
       "    .dataframe thead th {\n",
       "        text-align: right;\n",
       "    }\n",
       "</style>\n",
       "<table border=\"1\" class=\"dataframe\">\n",
       "  <thead>\n",
       "    <tr style=\"text-align: right;\">\n",
       "      <th></th>\n",
       "      <th>place_name</th>\n",
       "      <th>min_subte</th>\n",
       "      <th>subtes_menor_500m</th>\n",
       "    </tr>\n",
       "  </thead>\n",
       "  <tbody>\n",
       "    <tr>\n",
       "      <th>0</th>\n",
       "      <td>Abasto</td>\n",
       "      <td>197.404155</td>\n",
       "      <td>1.887324</td>\n",
       "    </tr>\n",
       "    <tr>\n",
       "      <th>1</th>\n",
       "      <td>Agronomía</td>\n",
       "      <td>1080.185297</td>\n",
       "      <td>0.135135</td>\n",
       "    </tr>\n",
       "    <tr>\n",
       "      <th>2</th>\n",
       "      <td>Almagro</td>\n",
       "      <td>325.743882</td>\n",
       "      <td>1.194196</td>\n",
       "    </tr>\n",
       "    <tr>\n",
       "      <th>3</th>\n",
       "      <td>Balvanera</td>\n",
       "      <td>212.981997</td>\n",
       "      <td>2.408451</td>\n",
       "    </tr>\n",
       "    <tr>\n",
       "      <th>4</th>\n",
       "      <td>Barracas</td>\n",
       "      <td>1132.234700</td>\n",
       "      <td>0.033898</td>\n",
       "    </tr>\n",
       "    <tr>\n",
       "      <th>...</th>\n",
       "      <td>...</td>\n",
       "      <td>...</td>\n",
       "      <td>...</td>\n",
       "    </tr>\n",
       "    <tr>\n",
       "      <th>57</th>\n",
       "      <td>Villa Riachuelo</td>\n",
       "      <td>3092.717357</td>\n",
       "      <td>0.000000</td>\n",
       "    </tr>\n",
       "    <tr>\n",
       "      <th>58</th>\n",
       "      <td>Villa Santa Rita</td>\n",
       "      <td>1646.758899</td>\n",
       "      <td>0.090909</td>\n",
       "    </tr>\n",
       "    <tr>\n",
       "      <th>59</th>\n",
       "      <td>Villa Soldati</td>\n",
       "      <td>1750.426136</td>\n",
       "      <td>0.000000</td>\n",
       "    </tr>\n",
       "    <tr>\n",
       "      <th>60</th>\n",
       "      <td>Villa Urquiza</td>\n",
       "      <td>540.947078</td>\n",
       "      <td>0.673550</td>\n",
       "    </tr>\n",
       "    <tr>\n",
       "      <th>61</th>\n",
       "      <td>Villa del Parque</td>\n",
       "      <td>1813.127271</td>\n",
       "      <td>0.009585</td>\n",
       "    </tr>\n",
       "  </tbody>\n",
       "</table>\n",
       "<p>62 rows × 3 columns</p>\n",
       "</div>"
      ],
      "text/plain": [
       "          place_name    min_subte  subtes_menor_500m\n",
       "0             Abasto   197.404155           1.887324\n",
       "1          Agronomía  1080.185297           0.135135\n",
       "2            Almagro   325.743882           1.194196\n",
       "3          Balvanera   212.981997           2.408451\n",
       "4           Barracas  1132.234700           0.033898\n",
       "..               ...          ...                ...\n",
       "57   Villa Riachuelo  3092.717357           0.000000\n",
       "58  Villa Santa Rita  1646.758899           0.090909\n",
       "59     Villa Soldati  1750.426136           0.000000\n",
       "60     Villa Urquiza   540.947078           0.673550\n",
       "61  Villa del Parque  1813.127271           0.009585\n",
       "\n",
       "[62 rows x 3 columns]"
      ]
     },
     "execution_count": 127,
     "metadata": {},
     "output_type": "execute_result"
    }
   ],
   "source": [
    "dist_mean_min_subte = pd.DataFrame(geo_df.groupby(by = ['place_name'])['min_subte'].mean().reset_index()).merge(pd.DataFrame(geo_df.groupby(by = ['place_name'])['subtes_menor_500m'].mean().reset_index()),how = 'left', on = 'place_name')\n",
    "dist_mean_min_subte"
   ]
  },
  {
   "cell_type": "markdown",
   "id": "9a9ff18a",
   "metadata": {
    "id": "c2fc63da"
   },
   "source": [
    "Generamos el dataset con los valores que son nulos en 'min_subte':"
   ]
  },
  {
   "cell_type": "code",
   "execution_count": 277,
   "id": "40b65302",
   "metadata": {
    "id": "0c453da1",
    "outputId": "d6beabe3-14ce-4bac-d884-3a79a66bc00f"
   },
   "outputs": [
    {
     "data": {
      "text/html": [
       "<div>\n",
       "<style scoped>\n",
       "    .dataframe tbody tr th:only-of-type {\n",
       "        vertical-align: middle;\n",
       "    }\n",
       "\n",
       "    .dataframe tbody tr th {\n",
       "        vertical-align: top;\n",
       "    }\n",
       "\n",
       "    .dataframe thead th {\n",
       "        text-align: right;\n",
       "    }\n",
       "</style>\n",
       "<table border=\"1\" class=\"dataframe\">\n",
       "  <thead>\n",
       "    <tr style=\"text-align: right;\">\n",
       "      <th></th>\n",
       "      <th>property_type</th>\n",
       "      <th>place_name</th>\n",
       "      <th>state_name</th>\n",
       "      <th>geonames_id</th>\n",
       "      <th>lat-lon</th>\n",
       "      <th>price_aprox_usd</th>\n",
       "      <th>surface_total_in_m2</th>\n",
       "      <th>surface_covered_in_m2</th>\n",
       "      <th>rooms</th>\n",
       "      <th>garage</th>\n",
       "      <th>lavadero</th>\n",
       "      <th>balcon</th>\n",
       "      <th>parrilla</th>\n",
       "      <th>piscina</th>\n",
       "      <th>terraza</th>\n",
       "      <th>patio</th>\n",
       "      <th>jardin</th>\n",
       "      <th>sum</th>\n",
       "      <th>quincho</th>\n",
       "      <th>estrenar</th>\n",
       "      <th>min_subte</th>\n",
       "      <th>subtes_menor_500m</th>\n",
       "      <th>min_locales_bailables</th>\n",
       "      <th>locales_bailables_menor_500m</th>\n",
       "      <th>min_comisarias</th>\n",
       "      <th>comisarias_menor_500m</th>\n",
       "      <th>min_cuarteles</th>\n",
       "    </tr>\n",
       "  </thead>\n",
       "  <tbody>\n",
       "    <tr>\n",
       "      <th>13</th>\n",
       "      <td>apartment</td>\n",
       "      <td>Palermo Soho</td>\n",
       "      <td>capital federal</td>\n",
       "      <td>3430234.0</td>\n",
       "      <td>NaN</td>\n",
       "      <td>111700.0</td>\n",
       "      <td>50.0</td>\n",
       "      <td>30.0</td>\n",
       "      <td>1.0</td>\n",
       "      <td>0</td>\n",
       "      <td>0</td>\n",
       "      <td>0</td>\n",
       "      <td>0</td>\n",
       "      <td>1</td>\n",
       "      <td>1</td>\n",
       "      <td>0</td>\n",
       "      <td>0</td>\n",
       "      <td>0</td>\n",
       "      <td>0</td>\n",
       "      <td>0</td>\n",
       "      <td>NaN</td>\n",
       "      <td>NaN</td>\n",
       "      <td>NaN</td>\n",
       "      <td>NaN</td>\n",
       "      <td>NaN</td>\n",
       "      <td>NaN</td>\n",
       "      <td>NaN</td>\n",
       "    </tr>\n",
       "    <tr>\n",
       "      <th>14</th>\n",
       "      <td>apartment</td>\n",
       "      <td>Palermo Soho</td>\n",
       "      <td>capital federal</td>\n",
       "      <td>3430234.0</td>\n",
       "      <td>NaN</td>\n",
       "      <td>147900.0</td>\n",
       "      <td>42.0</td>\n",
       "      <td>31.0</td>\n",
       "      <td>1.0</td>\n",
       "      <td>0</td>\n",
       "      <td>0</td>\n",
       "      <td>0</td>\n",
       "      <td>0</td>\n",
       "      <td>1</td>\n",
       "      <td>0</td>\n",
       "      <td>0</td>\n",
       "      <td>0</td>\n",
       "      <td>0</td>\n",
       "      <td>0</td>\n",
       "      <td>0</td>\n",
       "      <td>NaN</td>\n",
       "      <td>NaN</td>\n",
       "      <td>NaN</td>\n",
       "      <td>NaN</td>\n",
       "      <td>NaN</td>\n",
       "      <td>NaN</td>\n",
       "      <td>NaN</td>\n",
       "    </tr>\n",
       "    <tr>\n",
       "      <th>98</th>\n",
       "      <td>apartment</td>\n",
       "      <td>Almagro</td>\n",
       "      <td>capital federal</td>\n",
       "      <td>3436397.0</td>\n",
       "      <td>NaN</td>\n",
       "      <td>109900.0</td>\n",
       "      <td>50.0</td>\n",
       "      <td>40.0</td>\n",
       "      <td>2.0</td>\n",
       "      <td>1</td>\n",
       "      <td>0</td>\n",
       "      <td>0</td>\n",
       "      <td>1</td>\n",
       "      <td>1</td>\n",
       "      <td>0</td>\n",
       "      <td>0</td>\n",
       "      <td>0</td>\n",
       "      <td>0</td>\n",
       "      <td>0</td>\n",
       "      <td>1</td>\n",
       "      <td>NaN</td>\n",
       "      <td>NaN</td>\n",
       "      <td>NaN</td>\n",
       "      <td>NaN</td>\n",
       "      <td>NaN</td>\n",
       "      <td>NaN</td>\n",
       "      <td>NaN</td>\n",
       "    </tr>\n",
       "    <tr>\n",
       "      <th>108</th>\n",
       "      <td>house</td>\n",
       "      <td>Capital Federal</td>\n",
       "      <td>capital federal</td>\n",
       "      <td>3433955.0</td>\n",
       "      <td>NaN</td>\n",
       "      <td>170000.0</td>\n",
       "      <td>180.0</td>\n",
       "      <td>165.0</td>\n",
       "      <td>2.0</td>\n",
       "      <td>1</td>\n",
       "      <td>1</td>\n",
       "      <td>0</td>\n",
       "      <td>1</td>\n",
       "      <td>0</td>\n",
       "      <td>0</td>\n",
       "      <td>1</td>\n",
       "      <td>0</td>\n",
       "      <td>0</td>\n",
       "      <td>0</td>\n",
       "      <td>0</td>\n",
       "      <td>NaN</td>\n",
       "      <td>NaN</td>\n",
       "      <td>NaN</td>\n",
       "      <td>NaN</td>\n",
       "      <td>NaN</td>\n",
       "      <td>NaN</td>\n",
       "      <td>NaN</td>\n",
       "    </tr>\n",
       "    <tr>\n",
       "      <th>110</th>\n",
       "      <td>house</td>\n",
       "      <td>Capital Federal</td>\n",
       "      <td>capital federal</td>\n",
       "      <td>3433955.0</td>\n",
       "      <td>NaN</td>\n",
       "      <td>490000.0</td>\n",
       "      <td>744.0</td>\n",
       "      <td>350.0</td>\n",
       "      <td>3.0</td>\n",
       "      <td>1</td>\n",
       "      <td>0</td>\n",
       "      <td>0</td>\n",
       "      <td>1</td>\n",
       "      <td>1</td>\n",
       "      <td>0</td>\n",
       "      <td>0</td>\n",
       "      <td>1</td>\n",
       "      <td>0</td>\n",
       "      <td>1</td>\n",
       "      <td>0</td>\n",
       "      <td>NaN</td>\n",
       "      <td>NaN</td>\n",
       "      <td>NaN</td>\n",
       "      <td>NaN</td>\n",
       "      <td>NaN</td>\n",
       "      <td>NaN</td>\n",
       "      <td>NaN</td>\n",
       "    </tr>\n",
       "  </tbody>\n",
       "</table>\n",
       "</div>"
      ],
      "text/plain": [
       "    property_type       place_name       state_name  geonames_id lat-lon  \\\n",
       "13      apartment     Palermo Soho  capital federal    3430234.0     NaN   \n",
       "14      apartment     Palermo Soho  capital federal    3430234.0     NaN   \n",
       "98      apartment          Almagro  capital federal    3436397.0     NaN   \n",
       "108         house  Capital Federal  capital federal    3433955.0     NaN   \n",
       "110         house  Capital Federal  capital federal    3433955.0     NaN   \n",
       "\n",
       "     price_aprox_usd  surface_total_in_m2  surface_covered_in_m2  rooms  \\\n",
       "13          111700.0                 50.0                   30.0    1.0   \n",
       "14          147900.0                 42.0                   31.0    1.0   \n",
       "98          109900.0                 50.0                   40.0    2.0   \n",
       "108         170000.0                180.0                  165.0    2.0   \n",
       "110         490000.0                744.0                  350.0    3.0   \n",
       "\n",
       "     garage  lavadero  balcon  parrilla  piscina  terraza  patio  jardin  sum  \\\n",
       "13        0         0       0         0        1        1      0       0    0   \n",
       "14        0         0       0         0        1        0      0       0    0   \n",
       "98        1         0       0         1        1        0      0       0    0   \n",
       "108       1         1       0         1        0        0      1       0    0   \n",
       "110       1         0       0         1        1        0      0       1    0   \n",
       "\n",
       "     quincho  estrenar  min_subte  subtes_menor_500m  min_locales_bailables  \\\n",
       "13         0         0        NaN                NaN                    NaN   \n",
       "14         0         0        NaN                NaN                    NaN   \n",
       "98         0         1        NaN                NaN                    NaN   \n",
       "108        0         0        NaN                NaN                    NaN   \n",
       "110        1         0        NaN                NaN                    NaN   \n",
       "\n",
       "     locales_bailables_menor_500m  min_comisarias  comisarias_menor_500m  \\\n",
       "13                            NaN             NaN                    NaN   \n",
       "14                            NaN             NaN                    NaN   \n",
       "98                            NaN             NaN                    NaN   \n",
       "108                           NaN             NaN                    NaN   \n",
       "110                           NaN             NaN                    NaN   \n",
       "\n",
       "     min_cuarteles  \n",
       "13             NaN  \n",
       "14             NaN  \n",
       "98             NaN  \n",
       "108            NaN  \n",
       "110            NaN  "
      ]
     },
     "execution_count": 277,
     "metadata": {},
     "output_type": "execute_result"
    }
   ],
   "source": [
    "df_min_subtes_na = df.loc[df['min_subte'].isna(),:]\n",
    "df_min_subtes_na.head()\n"
   ]
  },
  {
   "cell_type": "code",
   "execution_count": 278,
   "id": "1f6394c5",
   "metadata": {
    "id": "9b7c19cd",
    "outputId": "49c6b988-56bc-4fae-a61c-8c0238266c44"
   },
   "outputs": [
    {
     "data": {
      "text/html": [
       "<div>\n",
       "<style scoped>\n",
       "    .dataframe tbody tr th:only-of-type {\n",
       "        vertical-align: middle;\n",
       "    }\n",
       "\n",
       "    .dataframe tbody tr th {\n",
       "        vertical-align: top;\n",
       "    }\n",
       "\n",
       "    .dataframe thead th {\n",
       "        text-align: right;\n",
       "    }\n",
       "</style>\n",
       "<table border=\"1\" class=\"dataframe\">\n",
       "  <thead>\n",
       "    <tr style=\"text-align: right;\">\n",
       "      <th></th>\n",
       "      <th>place_name</th>\n",
       "      <th>min_subte</th>\n",
       "      <th>subtes_menor_500m</th>\n",
       "    </tr>\n",
       "  </thead>\n",
       "  <tbody>\n",
       "    <tr>\n",
       "      <th>0</th>\n",
       "      <td>Abasto</td>\n",
       "      <td>197.404155</td>\n",
       "      <td>1.887324</td>\n",
       "    </tr>\n",
       "    <tr>\n",
       "      <th>1</th>\n",
       "      <td>Agronomía</td>\n",
       "      <td>1080.185297</td>\n",
       "      <td>0.135135</td>\n",
       "    </tr>\n",
       "    <tr>\n",
       "      <th>2</th>\n",
       "      <td>Almagro</td>\n",
       "      <td>325.743882</td>\n",
       "      <td>1.194196</td>\n",
       "    </tr>\n",
       "    <tr>\n",
       "      <th>3</th>\n",
       "      <td>Balvanera</td>\n",
       "      <td>212.981997</td>\n",
       "      <td>2.408451</td>\n",
       "    </tr>\n",
       "    <tr>\n",
       "      <th>4</th>\n",
       "      <td>Barracas</td>\n",
       "      <td>1132.234700</td>\n",
       "      <td>0.033898</td>\n",
       "    </tr>\n",
       "  </tbody>\n",
       "</table>\n",
       "</div>"
      ],
      "text/plain": [
       "  place_name    min_subte  subtes_menor_500m\n",
       "0     Abasto   197.404155           1.887324\n",
       "1  Agronomía  1080.185297           0.135135\n",
       "2    Almagro   325.743882           1.194196\n",
       "3  Balvanera   212.981997           2.408451\n",
       "4   Barracas  1132.234700           0.033898"
      ]
     },
     "execution_count": 278,
     "metadata": {},
     "output_type": "execute_result"
    }
   ],
   "source": [
    "dist_mean_min_subte.head()"
   ]
  },
  {
   "cell_type": "markdown",
   "id": "bedfd810",
   "metadata": {
    "id": "eeaa342a"
   },
   "source": [
    "Imputamos con medias por place name para subtes:"
   ]
  },
  {
   "cell_type": "code",
   "execution_count": 279,
   "id": "1060e183",
   "metadata": {
    "id": "e32d8e8c",
    "outputId": "09c93f91-74c8-4666-8ad1-7867e274d71b"
   },
   "outputs": [
    {
     "name": "stderr",
     "output_type": "stream",
     "text": [
      "/opt/anaconda3/envs/dhdsblend2021_geopandas/lib/python3.7/site-packages/pandas/core/indexing.py:1817: SettingWithCopyWarning: \n",
      "A value is trying to be set on a copy of a slice from a DataFrame.\n",
      "Try using .loc[row_indexer,col_indexer] = value instead\n",
      "\n",
      "See the caveats in the documentation: https://pandas.pydata.org/pandas-docs/stable/user_guide/indexing.html#returning-a-view-versus-a-copy\n",
      "  self._setitem_single_column(loc, value, pi)\n"
     ]
    },
    {
     "data": {
      "text/html": [
       "<div>\n",
       "<style scoped>\n",
       "    .dataframe tbody tr th:only-of-type {\n",
       "        vertical-align: middle;\n",
       "    }\n",
       "\n",
       "    .dataframe tbody tr th {\n",
       "        vertical-align: top;\n",
       "    }\n",
       "\n",
       "    .dataframe thead th {\n",
       "        text-align: right;\n",
       "    }\n",
       "</style>\n",
       "<table border=\"1\" class=\"dataframe\">\n",
       "  <thead>\n",
       "    <tr style=\"text-align: right;\">\n",
       "      <th></th>\n",
       "      <th>property_type</th>\n",
       "      <th>place_name</th>\n",
       "      <th>state_name</th>\n",
       "      <th>geonames_id</th>\n",
       "      <th>lat-lon</th>\n",
       "      <th>price_aprox_usd</th>\n",
       "      <th>surface_total_in_m2</th>\n",
       "      <th>surface_covered_in_m2</th>\n",
       "      <th>rooms</th>\n",
       "      <th>garage</th>\n",
       "      <th>lavadero</th>\n",
       "      <th>balcon</th>\n",
       "      <th>parrilla</th>\n",
       "      <th>piscina</th>\n",
       "      <th>terraza</th>\n",
       "      <th>patio</th>\n",
       "      <th>jardin</th>\n",
       "      <th>sum</th>\n",
       "      <th>quincho</th>\n",
       "      <th>estrenar</th>\n",
       "      <th>min_subte</th>\n",
       "      <th>subtes_menor_500m</th>\n",
       "      <th>min_locales_bailables</th>\n",
       "      <th>locales_bailables_menor_500m</th>\n",
       "      <th>min_comisarias</th>\n",
       "      <th>comisarias_menor_500m</th>\n",
       "      <th>min_cuarteles</th>\n",
       "    </tr>\n",
       "  </thead>\n",
       "  <tbody>\n",
       "    <tr>\n",
       "      <th>13</th>\n",
       "      <td>apartment</td>\n",
       "      <td>Palermo Soho</td>\n",
       "      <td>capital federal</td>\n",
       "      <td>3430234.0</td>\n",
       "      <td>NaN</td>\n",
       "      <td>111700.0</td>\n",
       "      <td>50.0</td>\n",
       "      <td>30.0</td>\n",
       "      <td>1.0</td>\n",
       "      <td>0</td>\n",
       "      <td>0</td>\n",
       "      <td>0</td>\n",
       "      <td>0</td>\n",
       "      <td>1</td>\n",
       "      <td>1</td>\n",
       "      <td>0</td>\n",
       "      <td>0</td>\n",
       "      <td>0</td>\n",
       "      <td>0</td>\n",
       "      <td>0</td>\n",
       "      <td>503.922722</td>\n",
       "      <td>0.556291</td>\n",
       "      <td>NaN</td>\n",
       "      <td>NaN</td>\n",
       "      <td>NaN</td>\n",
       "      <td>NaN</td>\n",
       "      <td>NaN</td>\n",
       "    </tr>\n",
       "    <tr>\n",
       "      <th>14</th>\n",
       "      <td>apartment</td>\n",
       "      <td>Palermo Soho</td>\n",
       "      <td>capital federal</td>\n",
       "      <td>3430234.0</td>\n",
       "      <td>NaN</td>\n",
       "      <td>147900.0</td>\n",
       "      <td>42.0</td>\n",
       "      <td>31.0</td>\n",
       "      <td>1.0</td>\n",
       "      <td>0</td>\n",
       "      <td>0</td>\n",
       "      <td>0</td>\n",
       "      <td>0</td>\n",
       "      <td>1</td>\n",
       "      <td>0</td>\n",
       "      <td>0</td>\n",
       "      <td>0</td>\n",
       "      <td>0</td>\n",
       "      <td>0</td>\n",
       "      <td>0</td>\n",
       "      <td>503.922722</td>\n",
       "      <td>0.556291</td>\n",
       "      <td>NaN</td>\n",
       "      <td>NaN</td>\n",
       "      <td>NaN</td>\n",
       "      <td>NaN</td>\n",
       "      <td>NaN</td>\n",
       "    </tr>\n",
       "    <tr>\n",
       "      <th>98</th>\n",
       "      <td>apartment</td>\n",
       "      <td>Almagro</td>\n",
       "      <td>capital federal</td>\n",
       "      <td>3436397.0</td>\n",
       "      <td>NaN</td>\n",
       "      <td>109900.0</td>\n",
       "      <td>50.0</td>\n",
       "      <td>40.0</td>\n",
       "      <td>2.0</td>\n",
       "      <td>1</td>\n",
       "      <td>0</td>\n",
       "      <td>0</td>\n",
       "      <td>1</td>\n",
       "      <td>1</td>\n",
       "      <td>0</td>\n",
       "      <td>0</td>\n",
       "      <td>0</td>\n",
       "      <td>0</td>\n",
       "      <td>0</td>\n",
       "      <td>1</td>\n",
       "      <td>325.743882</td>\n",
       "      <td>1.194196</td>\n",
       "      <td>NaN</td>\n",
       "      <td>NaN</td>\n",
       "      <td>NaN</td>\n",
       "      <td>NaN</td>\n",
       "      <td>NaN</td>\n",
       "    </tr>\n",
       "    <tr>\n",
       "      <th>108</th>\n",
       "      <td>house</td>\n",
       "      <td>Capital Federal</td>\n",
       "      <td>capital federal</td>\n",
       "      <td>3433955.0</td>\n",
       "      <td>NaN</td>\n",
       "      <td>170000.0</td>\n",
       "      <td>180.0</td>\n",
       "      <td>165.0</td>\n",
       "      <td>2.0</td>\n",
       "      <td>1</td>\n",
       "      <td>1</td>\n",
       "      <td>0</td>\n",
       "      <td>1</td>\n",
       "      <td>0</td>\n",
       "      <td>0</td>\n",
       "      <td>1</td>\n",
       "      <td>0</td>\n",
       "      <td>0</td>\n",
       "      <td>0</td>\n",
       "      <td>0</td>\n",
       "      <td>1089.870588</td>\n",
       "      <td>1.172881</td>\n",
       "      <td>NaN</td>\n",
       "      <td>NaN</td>\n",
       "      <td>NaN</td>\n",
       "      <td>NaN</td>\n",
       "      <td>NaN</td>\n",
       "    </tr>\n",
       "    <tr>\n",
       "      <th>110</th>\n",
       "      <td>house</td>\n",
       "      <td>Capital Federal</td>\n",
       "      <td>capital federal</td>\n",
       "      <td>3433955.0</td>\n",
       "      <td>NaN</td>\n",
       "      <td>490000.0</td>\n",
       "      <td>744.0</td>\n",
       "      <td>350.0</td>\n",
       "      <td>3.0</td>\n",
       "      <td>1</td>\n",
       "      <td>0</td>\n",
       "      <td>0</td>\n",
       "      <td>1</td>\n",
       "      <td>1</td>\n",
       "      <td>0</td>\n",
       "      <td>0</td>\n",
       "      <td>1</td>\n",
       "      <td>0</td>\n",
       "      <td>1</td>\n",
       "      <td>0</td>\n",
       "      <td>1089.870588</td>\n",
       "      <td>1.172881</td>\n",
       "      <td>NaN</td>\n",
       "      <td>NaN</td>\n",
       "      <td>NaN</td>\n",
       "      <td>NaN</td>\n",
       "      <td>NaN</td>\n",
       "    </tr>\n",
       "  </tbody>\n",
       "</table>\n",
       "</div>"
      ],
      "text/plain": [
       "    property_type       place_name       state_name  geonames_id lat-lon  \\\n",
       "13      apartment     Palermo Soho  capital federal    3430234.0     NaN   \n",
       "14      apartment     Palermo Soho  capital federal    3430234.0     NaN   \n",
       "98      apartment          Almagro  capital federal    3436397.0     NaN   \n",
       "108         house  Capital Federal  capital federal    3433955.0     NaN   \n",
       "110         house  Capital Federal  capital federal    3433955.0     NaN   \n",
       "\n",
       "     price_aprox_usd  surface_total_in_m2  surface_covered_in_m2  rooms  \\\n",
       "13          111700.0                 50.0                   30.0    1.0   \n",
       "14          147900.0                 42.0                   31.0    1.0   \n",
       "98          109900.0                 50.0                   40.0    2.0   \n",
       "108         170000.0                180.0                  165.0    2.0   \n",
       "110         490000.0                744.0                  350.0    3.0   \n",
       "\n",
       "     garage  lavadero  balcon  parrilla  piscina  terraza  patio  jardin  sum  \\\n",
       "13        0         0       0         0        1        1      0       0    0   \n",
       "14        0         0       0         0        1        0      0       0    0   \n",
       "98        1         0       0         1        1        0      0       0    0   \n",
       "108       1         1       0         1        0        0      1       0    0   \n",
       "110       1         0       0         1        1        0      0       1    0   \n",
       "\n",
       "     quincho  estrenar    min_subte  subtes_menor_500m  min_locales_bailables  \\\n",
       "13         0         0   503.922722           0.556291                    NaN   \n",
       "14         0         0   503.922722           0.556291                    NaN   \n",
       "98         0         1   325.743882           1.194196                    NaN   \n",
       "108        0         0  1089.870588           1.172881                    NaN   \n",
       "110        1         0  1089.870588           1.172881                    NaN   \n",
       "\n",
       "     locales_bailables_menor_500m  min_comisarias  comisarias_menor_500m  \\\n",
       "13                            NaN             NaN                    NaN   \n",
       "14                            NaN             NaN                    NaN   \n",
       "98                            NaN             NaN                    NaN   \n",
       "108                           NaN             NaN                    NaN   \n",
       "110                           NaN             NaN                    NaN   \n",
       "\n",
       "     min_cuarteles  \n",
       "13             NaN  \n",
       "14             NaN  \n",
       "98             NaN  \n",
       "108            NaN  \n",
       "110            NaN  "
      ]
     },
     "execution_count": 279,
     "metadata": {},
     "output_type": "execute_result"
    }
   ],
   "source": [
    "#TODO\n",
    "for i in df_min_subtes_na['place_name'].unique():\n",
    "    # df_min_subtes_na.loc[df_min_subtes_na['place_name']==i,'min_subte'] = dist_mean_min_subte.loc[dist_mean_min_subte['place_name']==i,'min_subte'].min()\n",
    "    # df_min_subtes_na.loc[df_min_subtes_na['place_name']==i,'subtes_menor_500m'] = dist_mean_min_subte.loc[dist_mean_min_subte['place_name']==i,'subtes_menor_500m'].min()\n",
    "    df_min_subtes_na.loc[df_min_subtes_na['place_name']==i,'min_subte'] = dist_mean_min_subte.loc[dist_mean_min_subte['place_name']==i,'min_subte'].mean()\n",
    "    df_min_subtes_na.loc[df_min_subtes_na['place_name']==i,'subtes_menor_500m'] = dist_mean_min_subte.loc[dist_mean_min_subte['place_name']==i,'subtes_menor_500m'].mean()\n",
    "df_min_subtes_na.head()\n"
   ]
  },
  {
   "cell_type": "code",
   "execution_count": 280,
   "id": "3b89a154",
   "metadata": {
    "id": "2d44f084",
    "outputId": "15fc45c6-6789-46bb-ddb5-680a0062aae5"
   },
   "outputs": [
    {
     "data": {
      "text/plain": [
       "property_type                   0.000000\n",
       "place_name                      0.000000\n",
       "state_name                      0.000000\n",
       "geonames_id                     0.051031\n",
       "lat-lon                         1.000000\n",
       "price_aprox_usd                 0.000000\n",
       "surface_total_in_m2             0.000000\n",
       "surface_covered_in_m2           0.000000\n",
       "rooms                           0.000000\n",
       "garage                          0.000000\n",
       "lavadero                        0.000000\n",
       "balcon                          0.000000\n",
       "parrilla                        0.000000\n",
       "piscina                         0.000000\n",
       "terraza                         0.000000\n",
       "patio                           0.000000\n",
       "jardin                          0.000000\n",
       "sum                             0.000000\n",
       "quincho                         0.000000\n",
       "estrenar                        0.000000\n",
       "min_subte                       0.000000\n",
       "subtes_menor_500m               0.000000\n",
       "min_locales_bailables           1.000000\n",
       "locales_bailables_menor_500m    1.000000\n",
       "min_comisarias                  1.000000\n",
       "comisarias_menor_500m           1.000000\n",
       "min_cuarteles                   1.000000\n",
       "dtype: float64"
      ]
     },
     "execution_count": 280,
     "metadata": {},
     "output_type": "execute_result"
    }
   ],
   "source": [
    "df_min_subtes_na.isna().sum() / df_min_subtes_na.shape[0]"
   ]
  },
  {
   "cell_type": "markdown",
   "id": "328954b1",
   "metadata": {
    "id": "637873df"
   },
   "source": [
    "Asignamos los valores:"
   ]
  },
  {
   "cell_type": "code",
   "execution_count": 281,
   "id": "7a2c94b0",
   "metadata": {
    "id": "d0cc22b7"
   },
   "outputs": [],
   "source": [
    "df.loc[df['min_subte'].isna(),'min_subte'] = df_min_subtes_na.loc[:, 'min_subte']\n",
    "df.loc[df['subtes_menor_500m'].isna(),'subtes_menor_500m'] = df_min_subtes_na.loc[:, 'subtes_menor_500m']\n"
   ]
  },
  {
   "cell_type": "markdown",
   "id": "b11052bf",
   "metadata": {
    "id": "adc564a1"
   },
   "source": [
    "Aún tenemos nulos en min_subte y subtes_menor a 500m, esto es por que hay place names que no tienen mínimo al ser todos nulos.\n",
    "\n",
    "Para esos casos vamos a droperar las filas al igual que droperamos las columnas lat-lon y geonames id ya que cumplieron su proposito:"
   ]
  },
  {
   "cell_type": "code",
   "execution_count": 282,
   "id": "b5d2c3bd",
   "metadata": {
    "id": "11c35193",
    "outputId": "60723577-2559-4af7-df99-c6c09a6de521"
   },
   "outputs": [
    {
     "name": "stdout",
     "output_type": "stream",
     "text": [
      "(28399, 27)\n"
     ]
    },
    {
     "data": {
      "text/plain": [
       "property_type                   0.000000\n",
       "place_name                      0.000000\n",
       "state_name                      0.000000\n",
       "geonames_id                     0.039121\n",
       "lat-lon                         0.233917\n",
       "price_aprox_usd                 0.000000\n",
       "surface_total_in_m2             0.000000\n",
       "surface_covered_in_m2           0.000000\n",
       "rooms                           0.000000\n",
       "garage                          0.000000\n",
       "lavadero                        0.000000\n",
       "balcon                          0.000000\n",
       "parrilla                        0.000000\n",
       "piscina                         0.000000\n",
       "terraza                         0.000000\n",
       "patio                           0.000000\n",
       "jardin                          0.000000\n",
       "sum                             0.000000\n",
       "quincho                         0.000000\n",
       "estrenar                        0.000000\n",
       "min_subte                       0.000000\n",
       "subtes_menor_500m               0.000000\n",
       "min_locales_bailables           0.233917\n",
       "locales_bailables_menor_500m    0.233917\n",
       "min_comisarias                  0.233917\n",
       "comisarias_menor_500m           0.233917\n",
       "min_cuarteles                   0.233917\n",
       "dtype: float64"
      ]
     },
     "execution_count": 282,
     "metadata": {},
     "output_type": "execute_result"
    }
   ],
   "source": [
    "print(df.shape)\n",
    "df.isna().sum() / df.shape[0]\n"
   ]
  },
  {
   "cell_type": "markdown",
   "id": "ccc0d8ef",
   "metadata": {},
   "source": [
    "#### Asignación para locales bailables"
   ]
  },
  {
   "cell_type": "code",
   "execution_count": 284,
   "id": "f87b8f62",
   "metadata": {},
   "outputs": [
    {
     "data": {
      "text/html": [
       "<div>\n",
       "<style scoped>\n",
       "    .dataframe tbody tr th:only-of-type {\n",
       "        vertical-align: middle;\n",
       "    }\n",
       "\n",
       "    .dataframe tbody tr th {\n",
       "        vertical-align: top;\n",
       "    }\n",
       "\n",
       "    .dataframe thead th {\n",
       "        text-align: right;\n",
       "    }\n",
       "</style>\n",
       "<table border=\"1\" class=\"dataframe\">\n",
       "  <thead>\n",
       "    <tr style=\"text-align: right;\">\n",
       "      <th></th>\n",
       "      <th>place_name</th>\n",
       "      <th>min_locales_bailables</th>\n",
       "      <th>locales_bailables_menor_500m</th>\n",
       "    </tr>\n",
       "  </thead>\n",
       "  <tbody>\n",
       "    <tr>\n",
       "      <th>0</th>\n",
       "      <td>Abasto</td>\n",
       "      <td>183.908242</td>\n",
       "      <td>6.056338</td>\n",
       "    </tr>\n",
       "    <tr>\n",
       "      <th>1</th>\n",
       "      <td>Agronomía</td>\n",
       "      <td>1071.988288</td>\n",
       "      <td>0.324324</td>\n",
       "    </tr>\n",
       "    <tr>\n",
       "      <th>2</th>\n",
       "      <td>Almagro</td>\n",
       "      <td>428.333847</td>\n",
       "      <td>1.638393</td>\n",
       "    </tr>\n",
       "    <tr>\n",
       "      <th>3</th>\n",
       "      <td>Balvanera</td>\n",
       "      <td>315.450799</td>\n",
       "      <td>2.413732</td>\n",
       "    </tr>\n",
       "    <tr>\n",
       "      <th>4</th>\n",
       "      <td>Barracas</td>\n",
       "      <td>1005.074935</td>\n",
       "      <td>0.087571</td>\n",
       "    </tr>\n",
       "    <tr>\n",
       "      <th>...</th>\n",
       "      <td>...</td>\n",
       "      <td>...</td>\n",
       "      <td>...</td>\n",
       "    </tr>\n",
       "    <tr>\n",
       "      <th>57</th>\n",
       "      <td>Villa Riachuelo</td>\n",
       "      <td>3577.300875</td>\n",
       "      <td>0.000000</td>\n",
       "    </tr>\n",
       "    <tr>\n",
       "      <th>58</th>\n",
       "      <td>Villa Santa Rita</td>\n",
       "      <td>1148.205009</td>\n",
       "      <td>0.381818</td>\n",
       "    </tr>\n",
       "    <tr>\n",
       "      <th>59</th>\n",
       "      <td>Villa Soldati</td>\n",
       "      <td>2420.571935</td>\n",
       "      <td>0.000000</td>\n",
       "    </tr>\n",
       "    <tr>\n",
       "      <th>60</th>\n",
       "      <td>Villa Urquiza</td>\n",
       "      <td>1524.778541</td>\n",
       "      <td>0.087512</td>\n",
       "    </tr>\n",
       "    <tr>\n",
       "      <th>61</th>\n",
       "      <td>Villa del Parque</td>\n",
       "      <td>1001.549676</td>\n",
       "      <td>0.322684</td>\n",
       "    </tr>\n",
       "  </tbody>\n",
       "</table>\n",
       "<p>62 rows × 3 columns</p>\n",
       "</div>"
      ],
      "text/plain": [
       "          place_name  min_locales_bailables  locales_bailables_menor_500m\n",
       "0             Abasto             183.908242                      6.056338\n",
       "1          Agronomía            1071.988288                      0.324324\n",
       "2            Almagro             428.333847                      1.638393\n",
       "3          Balvanera             315.450799                      2.413732\n",
       "4           Barracas            1005.074935                      0.087571\n",
       "..               ...                    ...                           ...\n",
       "57   Villa Riachuelo            3577.300875                      0.000000\n",
       "58  Villa Santa Rita            1148.205009                      0.381818\n",
       "59     Villa Soldati            2420.571935                      0.000000\n",
       "60     Villa Urquiza            1524.778541                      0.087512\n",
       "61  Villa del Parque            1001.549676                      0.322684\n",
       "\n",
       "[62 rows x 3 columns]"
      ]
     },
     "execution_count": 284,
     "metadata": {},
     "output_type": "execute_result"
    }
   ],
   "source": [
    "dist_mean_min_locales = pd.DataFrame(geo_df.groupby(by = ['place_name'])['min_locales_bailables'].mean().reset_index()).merge(pd.DataFrame(geo_df.groupby(by = ['place_name'])['locales_bailables_menor_500m'].mean().reset_index()),how = 'left', on = 'place_name')\n",
    "dist_mean_min_locales"
   ]
  },
  {
   "cell_type": "code",
   "execution_count": 287,
   "id": "5710762d",
   "metadata": {},
   "outputs": [
    {
     "data": {
      "text/html": [
       "<div>\n",
       "<style scoped>\n",
       "    .dataframe tbody tr th:only-of-type {\n",
       "        vertical-align: middle;\n",
       "    }\n",
       "\n",
       "    .dataframe tbody tr th {\n",
       "        vertical-align: top;\n",
       "    }\n",
       "\n",
       "    .dataframe thead th {\n",
       "        text-align: right;\n",
       "    }\n",
       "</style>\n",
       "<table border=\"1\" class=\"dataframe\">\n",
       "  <thead>\n",
       "    <tr style=\"text-align: right;\">\n",
       "      <th></th>\n",
       "      <th>property_type</th>\n",
       "      <th>place_name</th>\n",
       "      <th>state_name</th>\n",
       "      <th>geonames_id</th>\n",
       "      <th>lat-lon</th>\n",
       "      <th>price_aprox_usd</th>\n",
       "      <th>surface_total_in_m2</th>\n",
       "      <th>surface_covered_in_m2</th>\n",
       "      <th>rooms</th>\n",
       "      <th>garage</th>\n",
       "      <th>lavadero</th>\n",
       "      <th>balcon</th>\n",
       "      <th>parrilla</th>\n",
       "      <th>piscina</th>\n",
       "      <th>terraza</th>\n",
       "      <th>patio</th>\n",
       "      <th>jardin</th>\n",
       "      <th>sum</th>\n",
       "      <th>quincho</th>\n",
       "      <th>estrenar</th>\n",
       "      <th>min_subte</th>\n",
       "      <th>subtes_menor_500m</th>\n",
       "      <th>min_locales_bailables</th>\n",
       "      <th>locales_bailables_menor_500m</th>\n",
       "      <th>min_comisarias</th>\n",
       "      <th>comisarias_menor_500m</th>\n",
       "      <th>min_cuarteles</th>\n",
       "    </tr>\n",
       "  </thead>\n",
       "  <tbody>\n",
       "    <tr>\n",
       "      <th>13</th>\n",
       "      <td>apartment</td>\n",
       "      <td>Palermo Soho</td>\n",
       "      <td>capital federal</td>\n",
       "      <td>3430234.0</td>\n",
       "      <td>NaN</td>\n",
       "      <td>111700.0</td>\n",
       "      <td>50.0</td>\n",
       "      <td>30.0</td>\n",
       "      <td>1.0</td>\n",
       "      <td>0</td>\n",
       "      <td>0</td>\n",
       "      <td>0</td>\n",
       "      <td>0</td>\n",
       "      <td>1</td>\n",
       "      <td>1</td>\n",
       "      <td>0</td>\n",
       "      <td>0</td>\n",
       "      <td>0</td>\n",
       "      <td>0</td>\n",
       "      <td>0</td>\n",
       "      <td>503.922722</td>\n",
       "      <td>0.556291</td>\n",
       "      <td>NaN</td>\n",
       "      <td>NaN</td>\n",
       "      <td>NaN</td>\n",
       "      <td>NaN</td>\n",
       "      <td>NaN</td>\n",
       "    </tr>\n",
       "    <tr>\n",
       "      <th>14</th>\n",
       "      <td>apartment</td>\n",
       "      <td>Palermo Soho</td>\n",
       "      <td>capital federal</td>\n",
       "      <td>3430234.0</td>\n",
       "      <td>NaN</td>\n",
       "      <td>147900.0</td>\n",
       "      <td>42.0</td>\n",
       "      <td>31.0</td>\n",
       "      <td>1.0</td>\n",
       "      <td>0</td>\n",
       "      <td>0</td>\n",
       "      <td>0</td>\n",
       "      <td>0</td>\n",
       "      <td>1</td>\n",
       "      <td>0</td>\n",
       "      <td>0</td>\n",
       "      <td>0</td>\n",
       "      <td>0</td>\n",
       "      <td>0</td>\n",
       "      <td>0</td>\n",
       "      <td>503.922722</td>\n",
       "      <td>0.556291</td>\n",
       "      <td>NaN</td>\n",
       "      <td>NaN</td>\n",
       "      <td>NaN</td>\n",
       "      <td>NaN</td>\n",
       "      <td>NaN</td>\n",
       "    </tr>\n",
       "    <tr>\n",
       "      <th>98</th>\n",
       "      <td>apartment</td>\n",
       "      <td>Almagro</td>\n",
       "      <td>capital federal</td>\n",
       "      <td>3436397.0</td>\n",
       "      <td>NaN</td>\n",
       "      <td>109900.0</td>\n",
       "      <td>50.0</td>\n",
       "      <td>40.0</td>\n",
       "      <td>2.0</td>\n",
       "      <td>1</td>\n",
       "      <td>0</td>\n",
       "      <td>0</td>\n",
       "      <td>1</td>\n",
       "      <td>1</td>\n",
       "      <td>0</td>\n",
       "      <td>0</td>\n",
       "      <td>0</td>\n",
       "      <td>0</td>\n",
       "      <td>0</td>\n",
       "      <td>1</td>\n",
       "      <td>325.743882</td>\n",
       "      <td>1.194196</td>\n",
       "      <td>NaN</td>\n",
       "      <td>NaN</td>\n",
       "      <td>NaN</td>\n",
       "      <td>NaN</td>\n",
       "      <td>NaN</td>\n",
       "    </tr>\n",
       "    <tr>\n",
       "      <th>108</th>\n",
       "      <td>house</td>\n",
       "      <td>Capital Federal</td>\n",
       "      <td>capital federal</td>\n",
       "      <td>3433955.0</td>\n",
       "      <td>NaN</td>\n",
       "      <td>170000.0</td>\n",
       "      <td>180.0</td>\n",
       "      <td>165.0</td>\n",
       "      <td>2.0</td>\n",
       "      <td>1</td>\n",
       "      <td>1</td>\n",
       "      <td>0</td>\n",
       "      <td>1</td>\n",
       "      <td>0</td>\n",
       "      <td>0</td>\n",
       "      <td>1</td>\n",
       "      <td>0</td>\n",
       "      <td>0</td>\n",
       "      <td>0</td>\n",
       "      <td>0</td>\n",
       "      <td>1089.870588</td>\n",
       "      <td>1.172881</td>\n",
       "      <td>NaN</td>\n",
       "      <td>NaN</td>\n",
       "      <td>NaN</td>\n",
       "      <td>NaN</td>\n",
       "      <td>NaN</td>\n",
       "    </tr>\n",
       "    <tr>\n",
       "      <th>110</th>\n",
       "      <td>house</td>\n",
       "      <td>Capital Federal</td>\n",
       "      <td>capital federal</td>\n",
       "      <td>3433955.0</td>\n",
       "      <td>NaN</td>\n",
       "      <td>490000.0</td>\n",
       "      <td>744.0</td>\n",
       "      <td>350.0</td>\n",
       "      <td>3.0</td>\n",
       "      <td>1</td>\n",
       "      <td>0</td>\n",
       "      <td>0</td>\n",
       "      <td>1</td>\n",
       "      <td>1</td>\n",
       "      <td>0</td>\n",
       "      <td>0</td>\n",
       "      <td>1</td>\n",
       "      <td>0</td>\n",
       "      <td>1</td>\n",
       "      <td>0</td>\n",
       "      <td>1089.870588</td>\n",
       "      <td>1.172881</td>\n",
       "      <td>NaN</td>\n",
       "      <td>NaN</td>\n",
       "      <td>NaN</td>\n",
       "      <td>NaN</td>\n",
       "      <td>NaN</td>\n",
       "    </tr>\n",
       "  </tbody>\n",
       "</table>\n",
       "</div>"
      ],
      "text/plain": [
       "    property_type       place_name       state_name  geonames_id lat-lon  \\\n",
       "13      apartment     Palermo Soho  capital federal    3430234.0     NaN   \n",
       "14      apartment     Palermo Soho  capital federal    3430234.0     NaN   \n",
       "98      apartment          Almagro  capital federal    3436397.0     NaN   \n",
       "108         house  Capital Federal  capital federal    3433955.0     NaN   \n",
       "110         house  Capital Federal  capital federal    3433955.0     NaN   \n",
       "\n",
       "     price_aprox_usd  surface_total_in_m2  surface_covered_in_m2  rooms  \\\n",
       "13          111700.0                 50.0                   30.0    1.0   \n",
       "14          147900.0                 42.0                   31.0    1.0   \n",
       "98          109900.0                 50.0                   40.0    2.0   \n",
       "108         170000.0                180.0                  165.0    2.0   \n",
       "110         490000.0                744.0                  350.0    3.0   \n",
       "\n",
       "     garage  lavadero  balcon  parrilla  piscina  terraza  patio  jardin  sum  \\\n",
       "13        0         0       0         0        1        1      0       0    0   \n",
       "14        0         0       0         0        1        0      0       0    0   \n",
       "98        1         0       0         1        1        0      0       0    0   \n",
       "108       1         1       0         1        0        0      1       0    0   \n",
       "110       1         0       0         1        1        0      0       1    0   \n",
       "\n",
       "     quincho  estrenar    min_subte  subtes_menor_500m  min_locales_bailables  \\\n",
       "13         0         0   503.922722           0.556291                    NaN   \n",
       "14         0         0   503.922722           0.556291                    NaN   \n",
       "98         0         1   325.743882           1.194196                    NaN   \n",
       "108        0         0  1089.870588           1.172881                    NaN   \n",
       "110        1         0  1089.870588           1.172881                    NaN   \n",
       "\n",
       "     locales_bailables_menor_500m  min_comisarias  comisarias_menor_500m  \\\n",
       "13                            NaN             NaN                    NaN   \n",
       "14                            NaN             NaN                    NaN   \n",
       "98                            NaN             NaN                    NaN   \n",
       "108                           NaN             NaN                    NaN   \n",
       "110                           NaN             NaN                    NaN   \n",
       "\n",
       "     min_cuarteles  \n",
       "13             NaN  \n",
       "14             NaN  \n",
       "98             NaN  \n",
       "108            NaN  \n",
       "110            NaN  "
      ]
     },
     "execution_count": 287,
     "metadata": {},
     "output_type": "execute_result"
    }
   ],
   "source": [
    "df_min_locales_na = df.loc[df['min_locales_bailables'].isna(),:]\n",
    "df_min_locales_na.head()"
   ]
  },
  {
   "cell_type": "code",
   "execution_count": 288,
   "id": "e4f420fe",
   "metadata": {},
   "outputs": [
    {
     "data": {
      "text/html": [
       "<div>\n",
       "<style scoped>\n",
       "    .dataframe tbody tr th:only-of-type {\n",
       "        vertical-align: middle;\n",
       "    }\n",
       "\n",
       "    .dataframe tbody tr th {\n",
       "        vertical-align: top;\n",
       "    }\n",
       "\n",
       "    .dataframe thead th {\n",
       "        text-align: right;\n",
       "    }\n",
       "</style>\n",
       "<table border=\"1\" class=\"dataframe\">\n",
       "  <thead>\n",
       "    <tr style=\"text-align: right;\">\n",
       "      <th></th>\n",
       "      <th>place_name</th>\n",
       "      <th>min_locales_bailables</th>\n",
       "      <th>locales_bailables_menor_500m</th>\n",
       "    </tr>\n",
       "  </thead>\n",
       "  <tbody>\n",
       "    <tr>\n",
       "      <th>0</th>\n",
       "      <td>Abasto</td>\n",
       "      <td>183.908242</td>\n",
       "      <td>6.056338</td>\n",
       "    </tr>\n",
       "    <tr>\n",
       "      <th>1</th>\n",
       "      <td>Agronomía</td>\n",
       "      <td>1071.988288</td>\n",
       "      <td>0.324324</td>\n",
       "    </tr>\n",
       "    <tr>\n",
       "      <th>2</th>\n",
       "      <td>Almagro</td>\n",
       "      <td>428.333847</td>\n",
       "      <td>1.638393</td>\n",
       "    </tr>\n",
       "    <tr>\n",
       "      <th>3</th>\n",
       "      <td>Balvanera</td>\n",
       "      <td>315.450799</td>\n",
       "      <td>2.413732</td>\n",
       "    </tr>\n",
       "    <tr>\n",
       "      <th>4</th>\n",
       "      <td>Barracas</td>\n",
       "      <td>1005.074935</td>\n",
       "      <td>0.087571</td>\n",
       "    </tr>\n",
       "  </tbody>\n",
       "</table>\n",
       "</div>"
      ],
      "text/plain": [
       "  place_name  min_locales_bailables  locales_bailables_menor_500m\n",
       "0     Abasto             183.908242                      6.056338\n",
       "1  Agronomía            1071.988288                      0.324324\n",
       "2    Almagro             428.333847                      1.638393\n",
       "3  Balvanera             315.450799                      2.413732\n",
       "4   Barracas            1005.074935                      0.087571"
      ]
     },
     "execution_count": 288,
     "metadata": {},
     "output_type": "execute_result"
    }
   ],
   "source": [
    "dist_mean_min_locales.head()"
   ]
  },
  {
   "cell_type": "code",
   "execution_count": 289,
   "id": "3fa2e287",
   "metadata": {},
   "outputs": [
    {
     "name": "stderr",
     "output_type": "stream",
     "text": [
      "/opt/anaconda3/envs/dhdsblend2021_geopandas/lib/python3.7/site-packages/pandas/core/indexing.py:1817: SettingWithCopyWarning: \n",
      "A value is trying to be set on a copy of a slice from a DataFrame.\n",
      "Try using .loc[row_indexer,col_indexer] = value instead\n",
      "\n",
      "See the caveats in the documentation: https://pandas.pydata.org/pandas-docs/stable/user_guide/indexing.html#returning-a-view-versus-a-copy\n",
      "  self._setitem_single_column(loc, value, pi)\n"
     ]
    },
    {
     "data": {
      "text/html": [
       "<div>\n",
       "<style scoped>\n",
       "    .dataframe tbody tr th:only-of-type {\n",
       "        vertical-align: middle;\n",
       "    }\n",
       "\n",
       "    .dataframe tbody tr th {\n",
       "        vertical-align: top;\n",
       "    }\n",
       "\n",
       "    .dataframe thead th {\n",
       "        text-align: right;\n",
       "    }\n",
       "</style>\n",
       "<table border=\"1\" class=\"dataframe\">\n",
       "  <thead>\n",
       "    <tr style=\"text-align: right;\">\n",
       "      <th></th>\n",
       "      <th>property_type</th>\n",
       "      <th>place_name</th>\n",
       "      <th>state_name</th>\n",
       "      <th>geonames_id</th>\n",
       "      <th>lat-lon</th>\n",
       "      <th>price_aprox_usd</th>\n",
       "      <th>surface_total_in_m2</th>\n",
       "      <th>surface_covered_in_m2</th>\n",
       "      <th>rooms</th>\n",
       "      <th>garage</th>\n",
       "      <th>lavadero</th>\n",
       "      <th>balcon</th>\n",
       "      <th>parrilla</th>\n",
       "      <th>piscina</th>\n",
       "      <th>terraza</th>\n",
       "      <th>patio</th>\n",
       "      <th>jardin</th>\n",
       "      <th>sum</th>\n",
       "      <th>quincho</th>\n",
       "      <th>estrenar</th>\n",
       "      <th>min_subte</th>\n",
       "      <th>subtes_menor_500m</th>\n",
       "      <th>min_locales_bailables</th>\n",
       "      <th>locales_bailables_menor_500m</th>\n",
       "      <th>min_comisarias</th>\n",
       "      <th>comisarias_menor_500m</th>\n",
       "      <th>min_cuarteles</th>\n",
       "    </tr>\n",
       "  </thead>\n",
       "  <tbody>\n",
       "    <tr>\n",
       "      <th>13</th>\n",
       "      <td>apartment</td>\n",
       "      <td>Palermo Soho</td>\n",
       "      <td>capital federal</td>\n",
       "      <td>3430234.0</td>\n",
       "      <td>NaN</td>\n",
       "      <td>111700.0</td>\n",
       "      <td>50.0</td>\n",
       "      <td>30.0</td>\n",
       "      <td>1.0</td>\n",
       "      <td>0</td>\n",
       "      <td>0</td>\n",
       "      <td>0</td>\n",
       "      <td>0</td>\n",
       "      <td>1</td>\n",
       "      <td>1</td>\n",
       "      <td>0</td>\n",
       "      <td>0</td>\n",
       "      <td>0</td>\n",
       "      <td>0</td>\n",
       "      <td>0</td>\n",
       "      <td>503.922722</td>\n",
       "      <td>0.556291</td>\n",
       "      <td>221.207404</td>\n",
       "      <td>4.602649</td>\n",
       "      <td>NaN</td>\n",
       "      <td>NaN</td>\n",
       "      <td>NaN</td>\n",
       "    </tr>\n",
       "    <tr>\n",
       "      <th>14</th>\n",
       "      <td>apartment</td>\n",
       "      <td>Palermo Soho</td>\n",
       "      <td>capital federal</td>\n",
       "      <td>3430234.0</td>\n",
       "      <td>NaN</td>\n",
       "      <td>147900.0</td>\n",
       "      <td>42.0</td>\n",
       "      <td>31.0</td>\n",
       "      <td>1.0</td>\n",
       "      <td>0</td>\n",
       "      <td>0</td>\n",
       "      <td>0</td>\n",
       "      <td>0</td>\n",
       "      <td>1</td>\n",
       "      <td>0</td>\n",
       "      <td>0</td>\n",
       "      <td>0</td>\n",
       "      <td>0</td>\n",
       "      <td>0</td>\n",
       "      <td>0</td>\n",
       "      <td>503.922722</td>\n",
       "      <td>0.556291</td>\n",
       "      <td>221.207404</td>\n",
       "      <td>4.602649</td>\n",
       "      <td>NaN</td>\n",
       "      <td>NaN</td>\n",
       "      <td>NaN</td>\n",
       "    </tr>\n",
       "    <tr>\n",
       "      <th>98</th>\n",
       "      <td>apartment</td>\n",
       "      <td>Almagro</td>\n",
       "      <td>capital federal</td>\n",
       "      <td>3436397.0</td>\n",
       "      <td>NaN</td>\n",
       "      <td>109900.0</td>\n",
       "      <td>50.0</td>\n",
       "      <td>40.0</td>\n",
       "      <td>2.0</td>\n",
       "      <td>1</td>\n",
       "      <td>0</td>\n",
       "      <td>0</td>\n",
       "      <td>1</td>\n",
       "      <td>1</td>\n",
       "      <td>0</td>\n",
       "      <td>0</td>\n",
       "      <td>0</td>\n",
       "      <td>0</td>\n",
       "      <td>0</td>\n",
       "      <td>1</td>\n",
       "      <td>325.743882</td>\n",
       "      <td>1.194196</td>\n",
       "      <td>428.333847</td>\n",
       "      <td>1.638393</td>\n",
       "      <td>NaN</td>\n",
       "      <td>NaN</td>\n",
       "      <td>NaN</td>\n",
       "    </tr>\n",
       "    <tr>\n",
       "      <th>108</th>\n",
       "      <td>house</td>\n",
       "      <td>Capital Federal</td>\n",
       "      <td>capital federal</td>\n",
       "      <td>3433955.0</td>\n",
       "      <td>NaN</td>\n",
       "      <td>170000.0</td>\n",
       "      <td>180.0</td>\n",
       "      <td>165.0</td>\n",
       "      <td>2.0</td>\n",
       "      <td>1</td>\n",
       "      <td>1</td>\n",
       "      <td>0</td>\n",
       "      <td>1</td>\n",
       "      <td>0</td>\n",
       "      <td>0</td>\n",
       "      <td>1</td>\n",
       "      <td>0</td>\n",
       "      <td>0</td>\n",
       "      <td>0</td>\n",
       "      <td>0</td>\n",
       "      <td>1089.870588</td>\n",
       "      <td>1.172881</td>\n",
       "      <td>671.327180</td>\n",
       "      <td>2.786441</td>\n",
       "      <td>NaN</td>\n",
       "      <td>NaN</td>\n",
       "      <td>NaN</td>\n",
       "    </tr>\n",
       "    <tr>\n",
       "      <th>110</th>\n",
       "      <td>house</td>\n",
       "      <td>Capital Federal</td>\n",
       "      <td>capital federal</td>\n",
       "      <td>3433955.0</td>\n",
       "      <td>NaN</td>\n",
       "      <td>490000.0</td>\n",
       "      <td>744.0</td>\n",
       "      <td>350.0</td>\n",
       "      <td>3.0</td>\n",
       "      <td>1</td>\n",
       "      <td>0</td>\n",
       "      <td>0</td>\n",
       "      <td>1</td>\n",
       "      <td>1</td>\n",
       "      <td>0</td>\n",
       "      <td>0</td>\n",
       "      <td>1</td>\n",
       "      <td>0</td>\n",
       "      <td>1</td>\n",
       "      <td>0</td>\n",
       "      <td>1089.870588</td>\n",
       "      <td>1.172881</td>\n",
       "      <td>671.327180</td>\n",
       "      <td>2.786441</td>\n",
       "      <td>NaN</td>\n",
       "      <td>NaN</td>\n",
       "      <td>NaN</td>\n",
       "    </tr>\n",
       "  </tbody>\n",
       "</table>\n",
       "</div>"
      ],
      "text/plain": [
       "    property_type       place_name       state_name  geonames_id lat-lon  \\\n",
       "13      apartment     Palermo Soho  capital federal    3430234.0     NaN   \n",
       "14      apartment     Palermo Soho  capital federal    3430234.0     NaN   \n",
       "98      apartment          Almagro  capital federal    3436397.0     NaN   \n",
       "108         house  Capital Federal  capital federal    3433955.0     NaN   \n",
       "110         house  Capital Federal  capital federal    3433955.0     NaN   \n",
       "\n",
       "     price_aprox_usd  surface_total_in_m2  surface_covered_in_m2  rooms  \\\n",
       "13          111700.0                 50.0                   30.0    1.0   \n",
       "14          147900.0                 42.0                   31.0    1.0   \n",
       "98          109900.0                 50.0                   40.0    2.0   \n",
       "108         170000.0                180.0                  165.0    2.0   \n",
       "110         490000.0                744.0                  350.0    3.0   \n",
       "\n",
       "     garage  lavadero  balcon  parrilla  piscina  terraza  patio  jardin  sum  \\\n",
       "13        0         0       0         0        1        1      0       0    0   \n",
       "14        0         0       0         0        1        0      0       0    0   \n",
       "98        1         0       0         1        1        0      0       0    0   \n",
       "108       1         1       0         1        0        0      1       0    0   \n",
       "110       1         0       0         1        1        0      0       1    0   \n",
       "\n",
       "     quincho  estrenar    min_subte  subtes_menor_500m  min_locales_bailables  \\\n",
       "13         0         0   503.922722           0.556291             221.207404   \n",
       "14         0         0   503.922722           0.556291             221.207404   \n",
       "98         0         1   325.743882           1.194196             428.333847   \n",
       "108        0         0  1089.870588           1.172881             671.327180   \n",
       "110        1         0  1089.870588           1.172881             671.327180   \n",
       "\n",
       "     locales_bailables_menor_500m  min_comisarias  comisarias_menor_500m  \\\n",
       "13                       4.602649             NaN                    NaN   \n",
       "14                       4.602649             NaN                    NaN   \n",
       "98                       1.638393             NaN                    NaN   \n",
       "108                      2.786441             NaN                    NaN   \n",
       "110                      2.786441             NaN                    NaN   \n",
       "\n",
       "     min_cuarteles  \n",
       "13             NaN  \n",
       "14             NaN  \n",
       "98             NaN  \n",
       "108            NaN  \n",
       "110            NaN  "
      ]
     },
     "execution_count": 289,
     "metadata": {},
     "output_type": "execute_result"
    }
   ],
   "source": [
    "#TODO\n",
    "for i in df_min_locales_na['place_name'].unique():\n",
    "    df_min_locales_na.loc[df_min_locales_na['place_name']==i,'min_locales_bailables'] = dist_mean_min_locales.loc[dist_mean_min_locales['place_name']==i,'min_locales_bailables'].mean()\n",
    "    df_min_locales_na.loc[df_min_locales_na['place_name']==i,'locales_bailables_menor_500m'] = dist_mean_min_locales.loc[dist_mean_min_locales['place_name']==i,'locales_bailables_menor_500m'].mean()\n",
    "df_min_locales_na.head()\n"
   ]
  },
  {
   "cell_type": "code",
   "execution_count": 290,
   "id": "95c9b251",
   "metadata": {},
   "outputs": [
    {
     "data": {
      "text/plain": [
       "property_type                   0.000000\n",
       "place_name                      0.000000\n",
       "state_name                      0.000000\n",
       "geonames_id                     0.051031\n",
       "lat-lon                         1.000000\n",
       "price_aprox_usd                 0.000000\n",
       "surface_total_in_m2             0.000000\n",
       "surface_covered_in_m2           0.000000\n",
       "rooms                           0.000000\n",
       "garage                          0.000000\n",
       "lavadero                        0.000000\n",
       "balcon                          0.000000\n",
       "parrilla                        0.000000\n",
       "piscina                         0.000000\n",
       "terraza                         0.000000\n",
       "patio                           0.000000\n",
       "jardin                          0.000000\n",
       "sum                             0.000000\n",
       "quincho                         0.000000\n",
       "estrenar                        0.000000\n",
       "min_subte                       0.000000\n",
       "subtes_menor_500m               0.000000\n",
       "min_locales_bailables           0.000000\n",
       "locales_bailables_menor_500m    0.000000\n",
       "min_comisarias                  1.000000\n",
       "comisarias_menor_500m           1.000000\n",
       "min_cuarteles                   1.000000\n",
       "dtype: float64"
      ]
     },
     "execution_count": 290,
     "metadata": {},
     "output_type": "execute_result"
    }
   ],
   "source": [
    "df_min_locales_na.isna().sum() / df_min_locales_na.shape[0]"
   ]
  },
  {
   "cell_type": "code",
   "execution_count": 293,
   "id": "442bc4b6",
   "metadata": {},
   "outputs": [],
   "source": [
    "df.loc[df['min_locales_bailables'].isna(),'min_locales_bailables'] = df_min_locales_na.loc[:, 'min_locales_bailables']\n",
    "df.loc[df['locales_bailables_menor_500m'].isna(),'locales_bailables_menor_500m'] = df_min_locales_na.loc[:, 'locales_bailables_menor_500m']"
   ]
  },
  {
   "cell_type": "code",
   "execution_count": 294,
   "id": "592336d7",
   "metadata": {},
   "outputs": [
    {
     "name": "stdout",
     "output_type": "stream",
     "text": [
      "(28399, 27)\n"
     ]
    },
    {
     "data": {
      "text/plain": [
       "property_type                   0.000000\n",
       "place_name                      0.000000\n",
       "state_name                      0.000000\n",
       "geonames_id                     0.039121\n",
       "lat-lon                         0.233917\n",
       "price_aprox_usd                 0.000000\n",
       "surface_total_in_m2             0.000000\n",
       "surface_covered_in_m2           0.000000\n",
       "rooms                           0.000000\n",
       "garage                          0.000000\n",
       "lavadero                        0.000000\n",
       "balcon                          0.000000\n",
       "parrilla                        0.000000\n",
       "piscina                         0.000000\n",
       "terraza                         0.000000\n",
       "patio                           0.000000\n",
       "jardin                          0.000000\n",
       "sum                             0.000000\n",
       "quincho                         0.000000\n",
       "estrenar                        0.000000\n",
       "min_subte                       0.000000\n",
       "subtes_menor_500m               0.000000\n",
       "min_locales_bailables           0.000000\n",
       "locales_bailables_menor_500m    0.000000\n",
       "min_comisarias                  0.233917\n",
       "comisarias_menor_500m           0.233917\n",
       "min_cuarteles                   0.233917\n",
       "dtype: float64"
      ]
     },
     "execution_count": 294,
     "metadata": {},
     "output_type": "execute_result"
    }
   ],
   "source": [
    "print(df.shape)\n",
    "df.isna().sum() / df.shape[0]"
   ]
  },
  {
   "cell_type": "markdown",
   "id": "ebda7ee3",
   "metadata": {},
   "source": [
    "#### Asignación para comisarias"
   ]
  },
  {
   "cell_type": "code",
   "execution_count": 295,
   "id": "56b9197d",
   "metadata": {},
   "outputs": [
    {
     "data": {
      "text/html": [
       "<div>\n",
       "<style scoped>\n",
       "    .dataframe tbody tr th:only-of-type {\n",
       "        vertical-align: middle;\n",
       "    }\n",
       "\n",
       "    .dataframe tbody tr th {\n",
       "        vertical-align: top;\n",
       "    }\n",
       "\n",
       "    .dataframe thead th {\n",
       "        text-align: right;\n",
       "    }\n",
       "</style>\n",
       "<table border=\"1\" class=\"dataframe\">\n",
       "  <thead>\n",
       "    <tr style=\"text-align: right;\">\n",
       "      <th></th>\n",
       "      <th>state_name</th>\n",
       "      <th>place_name</th>\n",
       "      <th>lat-lon</th>\n",
       "      <th>lat</th>\n",
       "      <th>lon</th>\n",
       "      <th>geometry</th>\n",
       "      <th>min_subte</th>\n",
       "      <th>subtes_menor_500m</th>\n",
       "      <th>min_locales_bailables</th>\n",
       "      <th>locales_bailables_menor_500m</th>\n",
       "      <th>min_comisarias</th>\n",
       "      <th>comisarias_menor_500m</th>\n",
       "      <th>min_cuarteles</th>\n",
       "    </tr>\n",
       "  </thead>\n",
       "  <tbody>\n",
       "    <tr>\n",
       "      <th>0</th>\n",
       "      <td>capital federal</td>\n",
       "      <td>Mataderos</td>\n",
       "      <td>-34.6618237,-58.5088387</td>\n",
       "      <td>-34.6618237</td>\n",
       "      <td>-58.5088387</td>\n",
       "      <td>POINT (-58.50884 -34.66182)</td>\n",
       "      <td>4728.393676</td>\n",
       "      <td>0</td>\n",
       "      <td>1666.691008</td>\n",
       "      <td>0</td>\n",
       "      <td>854.731083</td>\n",
       "      <td>0</td>\n",
       "      <td>1338.362957</td>\n",
       "    </tr>\n",
       "    <tr>\n",
       "      <th>2</th>\n",
       "      <td>capital federal</td>\n",
       "      <td>Mataderos</td>\n",
       "      <td>-34.6522615,-58.5229825</td>\n",
       "      <td>-34.6522615</td>\n",
       "      <td>-58.5229825</td>\n",
       "      <td>POINT (-58.52298 -34.65226)</td>\n",
       "      <td>6073.153602</td>\n",
       "      <td>0</td>\n",
       "      <td>951.482447</td>\n",
       "      <td>0</td>\n",
       "      <td>1329.365030</td>\n",
       "      <td>0</td>\n",
       "      <td>1349.185580</td>\n",
       "    </tr>\n",
       "  </tbody>\n",
       "</table>\n",
       "</div>"
      ],
      "text/plain": [
       "        state_name place_name                  lat-lon          lat  \\\n",
       "0  capital federal  Mataderos  -34.6618237,-58.5088387  -34.6618237   \n",
       "2  capital federal  Mataderos  -34.6522615,-58.5229825  -34.6522615   \n",
       "\n",
       "           lon                     geometry    min_subte  subtes_menor_500m  \\\n",
       "0  -58.5088387  POINT (-58.50884 -34.66182)  4728.393676                  0   \n",
       "2  -58.5229825  POINT (-58.52298 -34.65226)  6073.153602                  0   \n",
       "\n",
       "   min_locales_bailables  locales_bailables_menor_500m  min_comisarias  \\\n",
       "0            1666.691008                             0      854.731083   \n",
       "2             951.482447                             0     1329.365030   \n",
       "\n",
       "   comisarias_menor_500m  min_cuarteles  \n",
       "0                      0    1338.362957  \n",
       "2                      0    1349.185580  "
      ]
     },
     "execution_count": 295,
     "metadata": {},
     "output_type": "execute_result"
    }
   ],
   "source": [
    "geo_df.head(2)"
   ]
  },
  {
   "cell_type": "code",
   "execution_count": 296,
   "id": "f731348a",
   "metadata": {},
   "outputs": [
    {
     "data": {
      "text/html": [
       "<div>\n",
       "<style scoped>\n",
       "    .dataframe tbody tr th:only-of-type {\n",
       "        vertical-align: middle;\n",
       "    }\n",
       "\n",
       "    .dataframe tbody tr th {\n",
       "        vertical-align: top;\n",
       "    }\n",
       "\n",
       "    .dataframe thead th {\n",
       "        text-align: right;\n",
       "    }\n",
       "</style>\n",
       "<table border=\"1\" class=\"dataframe\">\n",
       "  <thead>\n",
       "    <tr style=\"text-align: right;\">\n",
       "      <th></th>\n",
       "      <th>place_name</th>\n",
       "      <th>min_comisarias</th>\n",
       "      <th>comisarias_menor_500m</th>\n",
       "    </tr>\n",
       "  </thead>\n",
       "  <tbody>\n",
       "    <tr>\n",
       "      <th>0</th>\n",
       "      <td>Abasto</td>\n",
       "      <td>441.018761</td>\n",
       "      <td>0.591549</td>\n",
       "    </tr>\n",
       "    <tr>\n",
       "      <th>1</th>\n",
       "      <td>Agronomía</td>\n",
       "      <td>773.616343</td>\n",
       "      <td>0.135135</td>\n",
       "    </tr>\n",
       "    <tr>\n",
       "      <th>2</th>\n",
       "      <td>Almagro</td>\n",
       "      <td>619.289102</td>\n",
       "      <td>0.304688</td>\n",
       "    </tr>\n",
       "    <tr>\n",
       "      <th>3</th>\n",
       "      <td>Balvanera</td>\n",
       "      <td>384.974696</td>\n",
       "      <td>0.920775</td>\n",
       "    </tr>\n",
       "    <tr>\n",
       "      <th>4</th>\n",
       "      <td>Barracas</td>\n",
       "      <td>425.795362</td>\n",
       "      <td>0.940678</td>\n",
       "    </tr>\n",
       "    <tr>\n",
       "      <th>...</th>\n",
       "      <td>...</td>\n",
       "      <td>...</td>\n",
       "      <td>...</td>\n",
       "    </tr>\n",
       "    <tr>\n",
       "      <th>57</th>\n",
       "      <td>Villa Riachuelo</td>\n",
       "      <td>659.534038</td>\n",
       "      <td>0.200000</td>\n",
       "    </tr>\n",
       "    <tr>\n",
       "      <th>58</th>\n",
       "      <td>Villa Santa Rita</td>\n",
       "      <td>763.091692</td>\n",
       "      <td>0.109091</td>\n",
       "    </tr>\n",
       "    <tr>\n",
       "      <th>59</th>\n",
       "      <td>Villa Soldati</td>\n",
       "      <td>1136.254171</td>\n",
       "      <td>0.076923</td>\n",
       "    </tr>\n",
       "    <tr>\n",
       "      <th>60</th>\n",
       "      <td>Villa Urquiza</td>\n",
       "      <td>514.273420</td>\n",
       "      <td>0.589971</td>\n",
       "    </tr>\n",
       "    <tr>\n",
       "      <th>61</th>\n",
       "      <td>Villa del Parque</td>\n",
       "      <td>1011.818686</td>\n",
       "      <td>0.089457</td>\n",
       "    </tr>\n",
       "  </tbody>\n",
       "</table>\n",
       "<p>62 rows × 3 columns</p>\n",
       "</div>"
      ],
      "text/plain": [
       "          place_name  min_comisarias  comisarias_menor_500m\n",
       "0             Abasto      441.018761               0.591549\n",
       "1          Agronomía      773.616343               0.135135\n",
       "2            Almagro      619.289102               0.304688\n",
       "3          Balvanera      384.974696               0.920775\n",
       "4           Barracas      425.795362               0.940678\n",
       "..               ...             ...                    ...\n",
       "57   Villa Riachuelo      659.534038               0.200000\n",
       "58  Villa Santa Rita      763.091692               0.109091\n",
       "59     Villa Soldati     1136.254171               0.076923\n",
       "60     Villa Urquiza      514.273420               0.589971\n",
       "61  Villa del Parque     1011.818686               0.089457\n",
       "\n",
       "[62 rows x 3 columns]"
      ]
     },
     "execution_count": 296,
     "metadata": {},
     "output_type": "execute_result"
    }
   ],
   "source": [
    "dist_mean_min_comisarias = pd.DataFrame(geo_df.groupby(by = ['place_name'])['min_comisarias'].mean().reset_index()).merge(pd.DataFrame(geo_df.groupby(by = ['place_name'])['comisarias_menor_500m'].mean().reset_index()),how = 'left', on = 'place_name')\n",
    "dist_mean_min_comisarias"
   ]
  },
  {
   "cell_type": "code",
   "execution_count": 297,
   "id": "bfe8baca",
   "metadata": {},
   "outputs": [
    {
     "data": {
      "text/html": [
       "<div>\n",
       "<style scoped>\n",
       "    .dataframe tbody tr th:only-of-type {\n",
       "        vertical-align: middle;\n",
       "    }\n",
       "\n",
       "    .dataframe tbody tr th {\n",
       "        vertical-align: top;\n",
       "    }\n",
       "\n",
       "    .dataframe thead th {\n",
       "        text-align: right;\n",
       "    }\n",
       "</style>\n",
       "<table border=\"1\" class=\"dataframe\">\n",
       "  <thead>\n",
       "    <tr style=\"text-align: right;\">\n",
       "      <th></th>\n",
       "      <th>property_type</th>\n",
       "      <th>place_name</th>\n",
       "      <th>state_name</th>\n",
       "      <th>geonames_id</th>\n",
       "      <th>lat-lon</th>\n",
       "      <th>price_aprox_usd</th>\n",
       "      <th>surface_total_in_m2</th>\n",
       "      <th>surface_covered_in_m2</th>\n",
       "      <th>rooms</th>\n",
       "      <th>garage</th>\n",
       "      <th>lavadero</th>\n",
       "      <th>balcon</th>\n",
       "      <th>parrilla</th>\n",
       "      <th>piscina</th>\n",
       "      <th>terraza</th>\n",
       "      <th>patio</th>\n",
       "      <th>jardin</th>\n",
       "      <th>sum</th>\n",
       "      <th>quincho</th>\n",
       "      <th>estrenar</th>\n",
       "      <th>min_subte</th>\n",
       "      <th>subtes_menor_500m</th>\n",
       "      <th>min_locales_bailables</th>\n",
       "      <th>locales_bailables_menor_500m</th>\n",
       "      <th>min_comisarias</th>\n",
       "      <th>comisarias_menor_500m</th>\n",
       "      <th>min_cuarteles</th>\n",
       "    </tr>\n",
       "  </thead>\n",
       "  <tbody>\n",
       "    <tr>\n",
       "      <th>13</th>\n",
       "      <td>apartment</td>\n",
       "      <td>Palermo Soho</td>\n",
       "      <td>capital federal</td>\n",
       "      <td>3430234.0</td>\n",
       "      <td>NaN</td>\n",
       "      <td>111700.0</td>\n",
       "      <td>50.0</td>\n",
       "      <td>30.0</td>\n",
       "      <td>1.0</td>\n",
       "      <td>0</td>\n",
       "      <td>0</td>\n",
       "      <td>0</td>\n",
       "      <td>0</td>\n",
       "      <td>1</td>\n",
       "      <td>1</td>\n",
       "      <td>0</td>\n",
       "      <td>0</td>\n",
       "      <td>0</td>\n",
       "      <td>0</td>\n",
       "      <td>0</td>\n",
       "      <td>503.922722</td>\n",
       "      <td>0.556291</td>\n",
       "      <td>221.207404</td>\n",
       "      <td>4.602649</td>\n",
       "      <td>NaN</td>\n",
       "      <td>NaN</td>\n",
       "      <td>NaN</td>\n",
       "    </tr>\n",
       "    <tr>\n",
       "      <th>14</th>\n",
       "      <td>apartment</td>\n",
       "      <td>Palermo Soho</td>\n",
       "      <td>capital federal</td>\n",
       "      <td>3430234.0</td>\n",
       "      <td>NaN</td>\n",
       "      <td>147900.0</td>\n",
       "      <td>42.0</td>\n",
       "      <td>31.0</td>\n",
       "      <td>1.0</td>\n",
       "      <td>0</td>\n",
       "      <td>0</td>\n",
       "      <td>0</td>\n",
       "      <td>0</td>\n",
       "      <td>1</td>\n",
       "      <td>0</td>\n",
       "      <td>0</td>\n",
       "      <td>0</td>\n",
       "      <td>0</td>\n",
       "      <td>0</td>\n",
       "      <td>0</td>\n",
       "      <td>503.922722</td>\n",
       "      <td>0.556291</td>\n",
       "      <td>221.207404</td>\n",
       "      <td>4.602649</td>\n",
       "      <td>NaN</td>\n",
       "      <td>NaN</td>\n",
       "      <td>NaN</td>\n",
       "    </tr>\n",
       "    <tr>\n",
       "      <th>98</th>\n",
       "      <td>apartment</td>\n",
       "      <td>Almagro</td>\n",
       "      <td>capital federal</td>\n",
       "      <td>3436397.0</td>\n",
       "      <td>NaN</td>\n",
       "      <td>109900.0</td>\n",
       "      <td>50.0</td>\n",
       "      <td>40.0</td>\n",
       "      <td>2.0</td>\n",
       "      <td>1</td>\n",
       "      <td>0</td>\n",
       "      <td>0</td>\n",
       "      <td>1</td>\n",
       "      <td>1</td>\n",
       "      <td>0</td>\n",
       "      <td>0</td>\n",
       "      <td>0</td>\n",
       "      <td>0</td>\n",
       "      <td>0</td>\n",
       "      <td>1</td>\n",
       "      <td>325.743882</td>\n",
       "      <td>1.194196</td>\n",
       "      <td>428.333847</td>\n",
       "      <td>1.638393</td>\n",
       "      <td>NaN</td>\n",
       "      <td>NaN</td>\n",
       "      <td>NaN</td>\n",
       "    </tr>\n",
       "    <tr>\n",
       "      <th>108</th>\n",
       "      <td>house</td>\n",
       "      <td>Capital Federal</td>\n",
       "      <td>capital federal</td>\n",
       "      <td>3433955.0</td>\n",
       "      <td>NaN</td>\n",
       "      <td>170000.0</td>\n",
       "      <td>180.0</td>\n",
       "      <td>165.0</td>\n",
       "      <td>2.0</td>\n",
       "      <td>1</td>\n",
       "      <td>1</td>\n",
       "      <td>0</td>\n",
       "      <td>1</td>\n",
       "      <td>0</td>\n",
       "      <td>0</td>\n",
       "      <td>1</td>\n",
       "      <td>0</td>\n",
       "      <td>0</td>\n",
       "      <td>0</td>\n",
       "      <td>0</td>\n",
       "      <td>1089.870588</td>\n",
       "      <td>1.172881</td>\n",
       "      <td>671.327180</td>\n",
       "      <td>2.786441</td>\n",
       "      <td>NaN</td>\n",
       "      <td>NaN</td>\n",
       "      <td>NaN</td>\n",
       "    </tr>\n",
       "    <tr>\n",
       "      <th>110</th>\n",
       "      <td>house</td>\n",
       "      <td>Capital Federal</td>\n",
       "      <td>capital federal</td>\n",
       "      <td>3433955.0</td>\n",
       "      <td>NaN</td>\n",
       "      <td>490000.0</td>\n",
       "      <td>744.0</td>\n",
       "      <td>350.0</td>\n",
       "      <td>3.0</td>\n",
       "      <td>1</td>\n",
       "      <td>0</td>\n",
       "      <td>0</td>\n",
       "      <td>1</td>\n",
       "      <td>1</td>\n",
       "      <td>0</td>\n",
       "      <td>0</td>\n",
       "      <td>1</td>\n",
       "      <td>0</td>\n",
       "      <td>1</td>\n",
       "      <td>0</td>\n",
       "      <td>1089.870588</td>\n",
       "      <td>1.172881</td>\n",
       "      <td>671.327180</td>\n",
       "      <td>2.786441</td>\n",
       "      <td>NaN</td>\n",
       "      <td>NaN</td>\n",
       "      <td>NaN</td>\n",
       "    </tr>\n",
       "  </tbody>\n",
       "</table>\n",
       "</div>"
      ],
      "text/plain": [
       "    property_type       place_name       state_name  geonames_id lat-lon  \\\n",
       "13      apartment     Palermo Soho  capital federal    3430234.0     NaN   \n",
       "14      apartment     Palermo Soho  capital federal    3430234.0     NaN   \n",
       "98      apartment          Almagro  capital federal    3436397.0     NaN   \n",
       "108         house  Capital Federal  capital federal    3433955.0     NaN   \n",
       "110         house  Capital Federal  capital federal    3433955.0     NaN   \n",
       "\n",
       "     price_aprox_usd  surface_total_in_m2  surface_covered_in_m2  rooms  \\\n",
       "13          111700.0                 50.0                   30.0    1.0   \n",
       "14          147900.0                 42.0                   31.0    1.0   \n",
       "98          109900.0                 50.0                   40.0    2.0   \n",
       "108         170000.0                180.0                  165.0    2.0   \n",
       "110         490000.0                744.0                  350.0    3.0   \n",
       "\n",
       "     garage  lavadero  balcon  parrilla  piscina  terraza  patio  jardin  sum  \\\n",
       "13        0         0       0         0        1        1      0       0    0   \n",
       "14        0         0       0         0        1        0      0       0    0   \n",
       "98        1         0       0         1        1        0      0       0    0   \n",
       "108       1         1       0         1        0        0      1       0    0   \n",
       "110       1         0       0         1        1        0      0       1    0   \n",
       "\n",
       "     quincho  estrenar    min_subte  subtes_menor_500m  min_locales_bailables  \\\n",
       "13         0         0   503.922722           0.556291             221.207404   \n",
       "14         0         0   503.922722           0.556291             221.207404   \n",
       "98         0         1   325.743882           1.194196             428.333847   \n",
       "108        0         0  1089.870588           1.172881             671.327180   \n",
       "110        1         0  1089.870588           1.172881             671.327180   \n",
       "\n",
       "     locales_bailables_menor_500m  min_comisarias  comisarias_menor_500m  \\\n",
       "13                       4.602649             NaN                    NaN   \n",
       "14                       4.602649             NaN                    NaN   \n",
       "98                       1.638393             NaN                    NaN   \n",
       "108                      2.786441             NaN                    NaN   \n",
       "110                      2.786441             NaN                    NaN   \n",
       "\n",
       "     min_cuarteles  \n",
       "13             NaN  \n",
       "14             NaN  \n",
       "98             NaN  \n",
       "108            NaN  \n",
       "110            NaN  "
      ]
     },
     "execution_count": 297,
     "metadata": {},
     "output_type": "execute_result"
    }
   ],
   "source": [
    "df_min_comisarias_na = df.loc[df['min_comisarias'].isna(),:]\n",
    "df_min_comisarias_na.head()"
   ]
  },
  {
   "cell_type": "code",
   "execution_count": 298,
   "id": "d03bd4eb",
   "metadata": {},
   "outputs": [
    {
     "data": {
      "text/html": [
       "<div>\n",
       "<style scoped>\n",
       "    .dataframe tbody tr th:only-of-type {\n",
       "        vertical-align: middle;\n",
       "    }\n",
       "\n",
       "    .dataframe tbody tr th {\n",
       "        vertical-align: top;\n",
       "    }\n",
       "\n",
       "    .dataframe thead th {\n",
       "        text-align: right;\n",
       "    }\n",
       "</style>\n",
       "<table border=\"1\" class=\"dataframe\">\n",
       "  <thead>\n",
       "    <tr style=\"text-align: right;\">\n",
       "      <th></th>\n",
       "      <th>place_name</th>\n",
       "      <th>min_comisarias</th>\n",
       "      <th>comisarias_menor_500m</th>\n",
       "    </tr>\n",
       "  </thead>\n",
       "  <tbody>\n",
       "    <tr>\n",
       "      <th>0</th>\n",
       "      <td>Abasto</td>\n",
       "      <td>441.018761</td>\n",
       "      <td>0.591549</td>\n",
       "    </tr>\n",
       "    <tr>\n",
       "      <th>1</th>\n",
       "      <td>Agronomía</td>\n",
       "      <td>773.616343</td>\n",
       "      <td>0.135135</td>\n",
       "    </tr>\n",
       "    <tr>\n",
       "      <th>2</th>\n",
       "      <td>Almagro</td>\n",
       "      <td>619.289102</td>\n",
       "      <td>0.304688</td>\n",
       "    </tr>\n",
       "    <tr>\n",
       "      <th>3</th>\n",
       "      <td>Balvanera</td>\n",
       "      <td>384.974696</td>\n",
       "      <td>0.920775</td>\n",
       "    </tr>\n",
       "    <tr>\n",
       "      <th>4</th>\n",
       "      <td>Barracas</td>\n",
       "      <td>425.795362</td>\n",
       "      <td>0.940678</td>\n",
       "    </tr>\n",
       "  </tbody>\n",
       "</table>\n",
       "</div>"
      ],
      "text/plain": [
       "  place_name  min_comisarias  comisarias_menor_500m\n",
       "0     Abasto      441.018761               0.591549\n",
       "1  Agronomía      773.616343               0.135135\n",
       "2    Almagro      619.289102               0.304688\n",
       "3  Balvanera      384.974696               0.920775\n",
       "4   Barracas      425.795362               0.940678"
      ]
     },
     "execution_count": 298,
     "metadata": {},
     "output_type": "execute_result"
    }
   ],
   "source": [
    "dist_mean_min_comisarias.head()"
   ]
  },
  {
   "cell_type": "code",
   "execution_count": 299,
   "id": "ed2f7c85",
   "metadata": {},
   "outputs": [
    {
     "name": "stderr",
     "output_type": "stream",
     "text": [
      "/opt/anaconda3/envs/dhdsblend2021_geopandas/lib/python3.7/site-packages/pandas/core/indexing.py:1817: SettingWithCopyWarning: \n",
      "A value is trying to be set on a copy of a slice from a DataFrame.\n",
      "Try using .loc[row_indexer,col_indexer] = value instead\n",
      "\n",
      "See the caveats in the documentation: https://pandas.pydata.org/pandas-docs/stable/user_guide/indexing.html#returning-a-view-versus-a-copy\n",
      "  self._setitem_single_column(loc, value, pi)\n"
     ]
    },
    {
     "data": {
      "text/html": [
       "<div>\n",
       "<style scoped>\n",
       "    .dataframe tbody tr th:only-of-type {\n",
       "        vertical-align: middle;\n",
       "    }\n",
       "\n",
       "    .dataframe tbody tr th {\n",
       "        vertical-align: top;\n",
       "    }\n",
       "\n",
       "    .dataframe thead th {\n",
       "        text-align: right;\n",
       "    }\n",
       "</style>\n",
       "<table border=\"1\" class=\"dataframe\">\n",
       "  <thead>\n",
       "    <tr style=\"text-align: right;\">\n",
       "      <th></th>\n",
       "      <th>property_type</th>\n",
       "      <th>place_name</th>\n",
       "      <th>state_name</th>\n",
       "      <th>geonames_id</th>\n",
       "      <th>lat-lon</th>\n",
       "      <th>price_aprox_usd</th>\n",
       "      <th>surface_total_in_m2</th>\n",
       "      <th>surface_covered_in_m2</th>\n",
       "      <th>rooms</th>\n",
       "      <th>garage</th>\n",
       "      <th>lavadero</th>\n",
       "      <th>balcon</th>\n",
       "      <th>parrilla</th>\n",
       "      <th>piscina</th>\n",
       "      <th>terraza</th>\n",
       "      <th>patio</th>\n",
       "      <th>jardin</th>\n",
       "      <th>sum</th>\n",
       "      <th>quincho</th>\n",
       "      <th>estrenar</th>\n",
       "      <th>min_subte</th>\n",
       "      <th>subtes_menor_500m</th>\n",
       "      <th>min_locales_bailables</th>\n",
       "      <th>locales_bailables_menor_500m</th>\n",
       "      <th>min_comisarias</th>\n",
       "      <th>comisarias_menor_500m</th>\n",
       "      <th>min_cuarteles</th>\n",
       "    </tr>\n",
       "  </thead>\n",
       "  <tbody>\n",
       "    <tr>\n",
       "      <th>13</th>\n",
       "      <td>apartment</td>\n",
       "      <td>Palermo Soho</td>\n",
       "      <td>capital federal</td>\n",
       "      <td>3430234.0</td>\n",
       "      <td>NaN</td>\n",
       "      <td>111700.0</td>\n",
       "      <td>50.0</td>\n",
       "      <td>30.0</td>\n",
       "      <td>1.0</td>\n",
       "      <td>0</td>\n",
       "      <td>0</td>\n",
       "      <td>0</td>\n",
       "      <td>0</td>\n",
       "      <td>1</td>\n",
       "      <td>1</td>\n",
       "      <td>0</td>\n",
       "      <td>0</td>\n",
       "      <td>0</td>\n",
       "      <td>0</td>\n",
       "      <td>0</td>\n",
       "      <td>503.922722</td>\n",
       "      <td>0.556291</td>\n",
       "      <td>221.207404</td>\n",
       "      <td>4.602649</td>\n",
       "      <td>446.541753</td>\n",
       "      <td>0.682119</td>\n",
       "      <td>NaN</td>\n",
       "    </tr>\n",
       "    <tr>\n",
       "      <th>14</th>\n",
       "      <td>apartment</td>\n",
       "      <td>Palermo Soho</td>\n",
       "      <td>capital federal</td>\n",
       "      <td>3430234.0</td>\n",
       "      <td>NaN</td>\n",
       "      <td>147900.0</td>\n",
       "      <td>42.0</td>\n",
       "      <td>31.0</td>\n",
       "      <td>1.0</td>\n",
       "      <td>0</td>\n",
       "      <td>0</td>\n",
       "      <td>0</td>\n",
       "      <td>0</td>\n",
       "      <td>1</td>\n",
       "      <td>0</td>\n",
       "      <td>0</td>\n",
       "      <td>0</td>\n",
       "      <td>0</td>\n",
       "      <td>0</td>\n",
       "      <td>0</td>\n",
       "      <td>503.922722</td>\n",
       "      <td>0.556291</td>\n",
       "      <td>221.207404</td>\n",
       "      <td>4.602649</td>\n",
       "      <td>446.541753</td>\n",
       "      <td>0.682119</td>\n",
       "      <td>NaN</td>\n",
       "    </tr>\n",
       "    <tr>\n",
       "      <th>98</th>\n",
       "      <td>apartment</td>\n",
       "      <td>Almagro</td>\n",
       "      <td>capital federal</td>\n",
       "      <td>3436397.0</td>\n",
       "      <td>NaN</td>\n",
       "      <td>109900.0</td>\n",
       "      <td>50.0</td>\n",
       "      <td>40.0</td>\n",
       "      <td>2.0</td>\n",
       "      <td>1</td>\n",
       "      <td>0</td>\n",
       "      <td>0</td>\n",
       "      <td>1</td>\n",
       "      <td>1</td>\n",
       "      <td>0</td>\n",
       "      <td>0</td>\n",
       "      <td>0</td>\n",
       "      <td>0</td>\n",
       "      <td>0</td>\n",
       "      <td>1</td>\n",
       "      <td>325.743882</td>\n",
       "      <td>1.194196</td>\n",
       "      <td>428.333847</td>\n",
       "      <td>1.638393</td>\n",
       "      <td>619.289102</td>\n",
       "      <td>0.304688</td>\n",
       "      <td>NaN</td>\n",
       "    </tr>\n",
       "    <tr>\n",
       "      <th>108</th>\n",
       "      <td>house</td>\n",
       "      <td>Capital Federal</td>\n",
       "      <td>capital federal</td>\n",
       "      <td>3433955.0</td>\n",
       "      <td>NaN</td>\n",
       "      <td>170000.0</td>\n",
       "      <td>180.0</td>\n",
       "      <td>165.0</td>\n",
       "      <td>2.0</td>\n",
       "      <td>1</td>\n",
       "      <td>1</td>\n",
       "      <td>0</td>\n",
       "      <td>1</td>\n",
       "      <td>0</td>\n",
       "      <td>0</td>\n",
       "      <td>1</td>\n",
       "      <td>0</td>\n",
       "      <td>0</td>\n",
       "      <td>0</td>\n",
       "      <td>0</td>\n",
       "      <td>1089.870588</td>\n",
       "      <td>1.172881</td>\n",
       "      <td>671.327180</td>\n",
       "      <td>2.786441</td>\n",
       "      <td>529.243102</td>\n",
       "      <td>0.579661</td>\n",
       "      <td>NaN</td>\n",
       "    </tr>\n",
       "    <tr>\n",
       "      <th>110</th>\n",
       "      <td>house</td>\n",
       "      <td>Capital Federal</td>\n",
       "      <td>capital federal</td>\n",
       "      <td>3433955.0</td>\n",
       "      <td>NaN</td>\n",
       "      <td>490000.0</td>\n",
       "      <td>744.0</td>\n",
       "      <td>350.0</td>\n",
       "      <td>3.0</td>\n",
       "      <td>1</td>\n",
       "      <td>0</td>\n",
       "      <td>0</td>\n",
       "      <td>1</td>\n",
       "      <td>1</td>\n",
       "      <td>0</td>\n",
       "      <td>0</td>\n",
       "      <td>1</td>\n",
       "      <td>0</td>\n",
       "      <td>1</td>\n",
       "      <td>0</td>\n",
       "      <td>1089.870588</td>\n",
       "      <td>1.172881</td>\n",
       "      <td>671.327180</td>\n",
       "      <td>2.786441</td>\n",
       "      <td>529.243102</td>\n",
       "      <td>0.579661</td>\n",
       "      <td>NaN</td>\n",
       "    </tr>\n",
       "  </tbody>\n",
       "</table>\n",
       "</div>"
      ],
      "text/plain": [
       "    property_type       place_name       state_name  geonames_id lat-lon  \\\n",
       "13      apartment     Palermo Soho  capital federal    3430234.0     NaN   \n",
       "14      apartment     Palermo Soho  capital federal    3430234.0     NaN   \n",
       "98      apartment          Almagro  capital federal    3436397.0     NaN   \n",
       "108         house  Capital Federal  capital federal    3433955.0     NaN   \n",
       "110         house  Capital Federal  capital federal    3433955.0     NaN   \n",
       "\n",
       "     price_aprox_usd  surface_total_in_m2  surface_covered_in_m2  rooms  \\\n",
       "13          111700.0                 50.0                   30.0    1.0   \n",
       "14          147900.0                 42.0                   31.0    1.0   \n",
       "98          109900.0                 50.0                   40.0    2.0   \n",
       "108         170000.0                180.0                  165.0    2.0   \n",
       "110         490000.0                744.0                  350.0    3.0   \n",
       "\n",
       "     garage  lavadero  balcon  parrilla  piscina  terraza  patio  jardin  sum  \\\n",
       "13        0         0       0         0        1        1      0       0    0   \n",
       "14        0         0       0         0        1        0      0       0    0   \n",
       "98        1         0       0         1        1        0      0       0    0   \n",
       "108       1         1       0         1        0        0      1       0    0   \n",
       "110       1         0       0         1        1        0      0       1    0   \n",
       "\n",
       "     quincho  estrenar    min_subte  subtes_menor_500m  min_locales_bailables  \\\n",
       "13         0         0   503.922722           0.556291             221.207404   \n",
       "14         0         0   503.922722           0.556291             221.207404   \n",
       "98         0         1   325.743882           1.194196             428.333847   \n",
       "108        0         0  1089.870588           1.172881             671.327180   \n",
       "110        1         0  1089.870588           1.172881             671.327180   \n",
       "\n",
       "     locales_bailables_menor_500m  min_comisarias  comisarias_menor_500m  \\\n",
       "13                       4.602649      446.541753               0.682119   \n",
       "14                       4.602649      446.541753               0.682119   \n",
       "98                       1.638393      619.289102               0.304688   \n",
       "108                      2.786441      529.243102               0.579661   \n",
       "110                      2.786441      529.243102               0.579661   \n",
       "\n",
       "     min_cuarteles  \n",
       "13             NaN  \n",
       "14             NaN  \n",
       "98             NaN  \n",
       "108            NaN  \n",
       "110            NaN  "
      ]
     },
     "execution_count": 299,
     "metadata": {},
     "output_type": "execute_result"
    }
   ],
   "source": [
    "#TODO\n",
    "for i in df_min_comisarias_na['place_name'].unique():\n",
    "    df_min_comisarias_na.loc[df_min_comisarias_na['place_name']==i,'min_comisarias'] = dist_mean_min_comisarias.loc[dist_mean_min_comisarias['place_name']==i,'min_comisarias'].mean()\n",
    "    df_min_comisarias_na.loc[df_min_comisarias_na['place_name']==i,'comisarias_menor_500m'] = dist_mean_min_comisarias.loc[dist_mean_min_comisarias['place_name']==i,'comisarias_menor_500m'].mean()\n",
    "df_min_comisarias_na.head()"
   ]
  },
  {
   "cell_type": "code",
   "execution_count": 300,
   "id": "c9b33c61",
   "metadata": {},
   "outputs": [],
   "source": [
    "df.loc[df['min_comisarias'].isna(),'min_comisarias'] = df_min_comisarias_na.loc[:, 'min_comisarias']\n",
    "df.loc[df['comisarias_menor_500m'].isna(),'comisarias_menor_500m'] = df_min_comisarias_na.loc[:, 'comisarias_menor_500m']"
   ]
  },
  {
   "cell_type": "code",
   "execution_count": 301,
   "id": "15f7389e",
   "metadata": {},
   "outputs": [
    {
     "name": "stdout",
     "output_type": "stream",
     "text": [
      "(28399, 27)\n"
     ]
    },
    {
     "data": {
      "text/plain": [
       "property_type                   0.000000\n",
       "place_name                      0.000000\n",
       "state_name                      0.000000\n",
       "geonames_id                     0.039121\n",
       "lat-lon                         0.233917\n",
       "price_aprox_usd                 0.000000\n",
       "surface_total_in_m2             0.000000\n",
       "surface_covered_in_m2           0.000000\n",
       "rooms                           0.000000\n",
       "garage                          0.000000\n",
       "lavadero                        0.000000\n",
       "balcon                          0.000000\n",
       "parrilla                        0.000000\n",
       "piscina                         0.000000\n",
       "terraza                         0.000000\n",
       "patio                           0.000000\n",
       "jardin                          0.000000\n",
       "sum                             0.000000\n",
       "quincho                         0.000000\n",
       "estrenar                        0.000000\n",
       "min_subte                       0.000000\n",
       "subtes_menor_500m               0.000000\n",
       "min_locales_bailables           0.000000\n",
       "locales_bailables_menor_500m    0.000000\n",
       "min_comisarias                  0.000000\n",
       "comisarias_menor_500m           0.000000\n",
       "min_cuarteles                   0.233917\n",
       "dtype: float64"
      ]
     },
     "execution_count": 301,
     "metadata": {},
     "output_type": "execute_result"
    }
   ],
   "source": [
    "print(df.shape)\n",
    "df.isna().sum() / df.shape[0]"
   ]
  },
  {
   "cell_type": "markdown",
   "id": "977229f0",
   "metadata": {},
   "source": [
    "#### Asignación para cuarteles"
   ]
  },
  {
   "cell_type": "code",
   "execution_count": 303,
   "id": "d363d711",
   "metadata": {},
   "outputs": [
    {
     "data": {
      "text/html": [
       "<div>\n",
       "<style scoped>\n",
       "    .dataframe tbody tr th:only-of-type {\n",
       "        vertical-align: middle;\n",
       "    }\n",
       "\n",
       "    .dataframe tbody tr th {\n",
       "        vertical-align: top;\n",
       "    }\n",
       "\n",
       "    .dataframe thead th {\n",
       "        text-align: right;\n",
       "    }\n",
       "</style>\n",
       "<table border=\"1\" class=\"dataframe\">\n",
       "  <thead>\n",
       "    <tr style=\"text-align: right;\">\n",
       "      <th></th>\n",
       "      <th>state_name</th>\n",
       "      <th>place_name</th>\n",
       "      <th>lat-lon</th>\n",
       "      <th>lat</th>\n",
       "      <th>lon</th>\n",
       "      <th>geometry</th>\n",
       "      <th>min_subte</th>\n",
       "      <th>subtes_menor_500m</th>\n",
       "      <th>min_locales_bailables</th>\n",
       "      <th>locales_bailables_menor_500m</th>\n",
       "      <th>min_comisarias</th>\n",
       "      <th>comisarias_menor_500m</th>\n",
       "      <th>min_cuarteles</th>\n",
       "    </tr>\n",
       "  </thead>\n",
       "  <tbody>\n",
       "    <tr>\n",
       "      <th>0</th>\n",
       "      <td>capital federal</td>\n",
       "      <td>Mataderos</td>\n",
       "      <td>-34.6618237,-58.5088387</td>\n",
       "      <td>-34.6618237</td>\n",
       "      <td>-58.5088387</td>\n",
       "      <td>POINT (-58.50884 -34.66182)</td>\n",
       "      <td>4728.393676</td>\n",
       "      <td>0</td>\n",
       "      <td>1666.691008</td>\n",
       "      <td>0</td>\n",
       "      <td>854.731083</td>\n",
       "      <td>0</td>\n",
       "      <td>1338.362957</td>\n",
       "    </tr>\n",
       "    <tr>\n",
       "      <th>2</th>\n",
       "      <td>capital federal</td>\n",
       "      <td>Mataderos</td>\n",
       "      <td>-34.6522615,-58.5229825</td>\n",
       "      <td>-34.6522615</td>\n",
       "      <td>-58.5229825</td>\n",
       "      <td>POINT (-58.52298 -34.65226)</td>\n",
       "      <td>6073.153602</td>\n",
       "      <td>0</td>\n",
       "      <td>951.482447</td>\n",
       "      <td>0</td>\n",
       "      <td>1329.365030</td>\n",
       "      <td>0</td>\n",
       "      <td>1349.185580</td>\n",
       "    </tr>\n",
       "  </tbody>\n",
       "</table>\n",
       "</div>"
      ],
      "text/plain": [
       "        state_name place_name                  lat-lon          lat  \\\n",
       "0  capital federal  Mataderos  -34.6618237,-58.5088387  -34.6618237   \n",
       "2  capital federal  Mataderos  -34.6522615,-58.5229825  -34.6522615   \n",
       "\n",
       "           lon                     geometry    min_subte  subtes_menor_500m  \\\n",
       "0  -58.5088387  POINT (-58.50884 -34.66182)  4728.393676                  0   \n",
       "2  -58.5229825  POINT (-58.52298 -34.65226)  6073.153602                  0   \n",
       "\n",
       "   min_locales_bailables  locales_bailables_menor_500m  min_comisarias  \\\n",
       "0            1666.691008                             0      854.731083   \n",
       "2             951.482447                             0     1329.365030   \n",
       "\n",
       "   comisarias_menor_500m  min_cuarteles  \n",
       "0                      0    1338.362957  \n",
       "2                      0    1349.185580  "
      ]
     },
     "execution_count": 303,
     "metadata": {},
     "output_type": "execute_result"
    }
   ],
   "source": [
    "geo_df.head(2)"
   ]
  },
  {
   "cell_type": "code",
   "execution_count": 304,
   "id": "edb315ef",
   "metadata": {},
   "outputs": [
    {
     "data": {
      "text/html": [
       "<div>\n",
       "<style scoped>\n",
       "    .dataframe tbody tr th:only-of-type {\n",
       "        vertical-align: middle;\n",
       "    }\n",
       "\n",
       "    .dataframe tbody tr th {\n",
       "        vertical-align: top;\n",
       "    }\n",
       "\n",
       "    .dataframe thead th {\n",
       "        text-align: right;\n",
       "    }\n",
       "</style>\n",
       "<table border=\"1\" class=\"dataframe\">\n",
       "  <thead>\n",
       "    <tr style=\"text-align: right;\">\n",
       "      <th></th>\n",
       "      <th>place_name</th>\n",
       "      <th>min_cuarteles</th>\n",
       "    </tr>\n",
       "  </thead>\n",
       "  <tbody>\n",
       "    <tr>\n",
       "      <th>0</th>\n",
       "      <td>Abasto</td>\n",
       "      <td>430.805204</td>\n",
       "    </tr>\n",
       "    <tr>\n",
       "      <th>1</th>\n",
       "      <td>Agronomía</td>\n",
       "      <td>1212.829989</td>\n",
       "    </tr>\n",
       "    <tr>\n",
       "      <th>2</th>\n",
       "      <td>Almagro</td>\n",
       "      <td>1248.191172</td>\n",
       "    </tr>\n",
       "    <tr>\n",
       "      <th>3</th>\n",
       "      <td>Balvanera</td>\n",
       "      <td>639.530362</td>\n",
       "    </tr>\n",
       "    <tr>\n",
       "      <th>4</th>\n",
       "      <td>Barracas</td>\n",
       "      <td>827.346262</td>\n",
       "    </tr>\n",
       "    <tr>\n",
       "      <th>...</th>\n",
       "      <td>...</td>\n",
       "      <td>...</td>\n",
       "    </tr>\n",
       "    <tr>\n",
       "      <th>57</th>\n",
       "      <td>Villa Riachuelo</td>\n",
       "      <td>625.335469</td>\n",
       "    </tr>\n",
       "    <tr>\n",
       "      <th>58</th>\n",
       "      <td>Villa Santa Rita</td>\n",
       "      <td>1780.714207</td>\n",
       "    </tr>\n",
       "    <tr>\n",
       "      <th>59</th>\n",
       "      <td>Villa Soldati</td>\n",
       "      <td>577.557052</td>\n",
       "    </tr>\n",
       "    <tr>\n",
       "      <th>60</th>\n",
       "      <td>Villa Urquiza</td>\n",
       "      <td>943.270611</td>\n",
       "    </tr>\n",
       "    <tr>\n",
       "      <th>61</th>\n",
       "      <td>Villa del Parque</td>\n",
       "      <td>1610.049719</td>\n",
       "    </tr>\n",
       "  </tbody>\n",
       "</table>\n",
       "<p>62 rows × 2 columns</p>\n",
       "</div>"
      ],
      "text/plain": [
       "          place_name  min_cuarteles\n",
       "0             Abasto     430.805204\n",
       "1          Agronomía    1212.829989\n",
       "2            Almagro    1248.191172\n",
       "3          Balvanera     639.530362\n",
       "4           Barracas     827.346262\n",
       "..               ...            ...\n",
       "57   Villa Riachuelo     625.335469\n",
       "58  Villa Santa Rita    1780.714207\n",
       "59     Villa Soldati     577.557052\n",
       "60     Villa Urquiza     943.270611\n",
       "61  Villa del Parque    1610.049719\n",
       "\n",
       "[62 rows x 2 columns]"
      ]
     },
     "execution_count": 304,
     "metadata": {},
     "output_type": "execute_result"
    }
   ],
   "source": [
    "dist_mean_min_cuarteles = pd.DataFrame(geo_df.groupby(by = ['place_name'])['min_cuarteles'].mean().reset_index())\n",
    "dist_mean_min_cuarteles"
   ]
  },
  {
   "cell_type": "code",
   "execution_count": 305,
   "id": "1dfeefb3",
   "metadata": {},
   "outputs": [
    {
     "data": {
      "text/html": [
       "<div>\n",
       "<style scoped>\n",
       "    .dataframe tbody tr th:only-of-type {\n",
       "        vertical-align: middle;\n",
       "    }\n",
       "\n",
       "    .dataframe tbody tr th {\n",
       "        vertical-align: top;\n",
       "    }\n",
       "\n",
       "    .dataframe thead th {\n",
       "        text-align: right;\n",
       "    }\n",
       "</style>\n",
       "<table border=\"1\" class=\"dataframe\">\n",
       "  <thead>\n",
       "    <tr style=\"text-align: right;\">\n",
       "      <th></th>\n",
       "      <th>property_type</th>\n",
       "      <th>place_name</th>\n",
       "      <th>state_name</th>\n",
       "      <th>geonames_id</th>\n",
       "      <th>lat-lon</th>\n",
       "      <th>price_aprox_usd</th>\n",
       "      <th>surface_total_in_m2</th>\n",
       "      <th>surface_covered_in_m2</th>\n",
       "      <th>rooms</th>\n",
       "      <th>garage</th>\n",
       "      <th>lavadero</th>\n",
       "      <th>balcon</th>\n",
       "      <th>parrilla</th>\n",
       "      <th>piscina</th>\n",
       "      <th>terraza</th>\n",
       "      <th>patio</th>\n",
       "      <th>jardin</th>\n",
       "      <th>sum</th>\n",
       "      <th>quincho</th>\n",
       "      <th>estrenar</th>\n",
       "      <th>min_subte</th>\n",
       "      <th>subtes_menor_500m</th>\n",
       "      <th>min_locales_bailables</th>\n",
       "      <th>locales_bailables_menor_500m</th>\n",
       "      <th>min_comisarias</th>\n",
       "      <th>comisarias_menor_500m</th>\n",
       "      <th>min_cuarteles</th>\n",
       "    </tr>\n",
       "  </thead>\n",
       "  <tbody>\n",
       "    <tr>\n",
       "      <th>13</th>\n",
       "      <td>apartment</td>\n",
       "      <td>Palermo Soho</td>\n",
       "      <td>capital federal</td>\n",
       "      <td>3430234.0</td>\n",
       "      <td>NaN</td>\n",
       "      <td>111700.0</td>\n",
       "      <td>50.0</td>\n",
       "      <td>30.0</td>\n",
       "      <td>1.0</td>\n",
       "      <td>0</td>\n",
       "      <td>0</td>\n",
       "      <td>0</td>\n",
       "      <td>0</td>\n",
       "      <td>1</td>\n",
       "      <td>1</td>\n",
       "      <td>0</td>\n",
       "      <td>0</td>\n",
       "      <td>0</td>\n",
       "      <td>0</td>\n",
       "      <td>0</td>\n",
       "      <td>503.922722</td>\n",
       "      <td>0.556291</td>\n",
       "      <td>221.207404</td>\n",
       "      <td>4.602649</td>\n",
       "      <td>446.541753</td>\n",
       "      <td>0.682119</td>\n",
       "      <td>NaN</td>\n",
       "    </tr>\n",
       "    <tr>\n",
       "      <th>14</th>\n",
       "      <td>apartment</td>\n",
       "      <td>Palermo Soho</td>\n",
       "      <td>capital federal</td>\n",
       "      <td>3430234.0</td>\n",
       "      <td>NaN</td>\n",
       "      <td>147900.0</td>\n",
       "      <td>42.0</td>\n",
       "      <td>31.0</td>\n",
       "      <td>1.0</td>\n",
       "      <td>0</td>\n",
       "      <td>0</td>\n",
       "      <td>0</td>\n",
       "      <td>0</td>\n",
       "      <td>1</td>\n",
       "      <td>0</td>\n",
       "      <td>0</td>\n",
       "      <td>0</td>\n",
       "      <td>0</td>\n",
       "      <td>0</td>\n",
       "      <td>0</td>\n",
       "      <td>503.922722</td>\n",
       "      <td>0.556291</td>\n",
       "      <td>221.207404</td>\n",
       "      <td>4.602649</td>\n",
       "      <td>446.541753</td>\n",
       "      <td>0.682119</td>\n",
       "      <td>NaN</td>\n",
       "    </tr>\n",
       "    <tr>\n",
       "      <th>98</th>\n",
       "      <td>apartment</td>\n",
       "      <td>Almagro</td>\n",
       "      <td>capital federal</td>\n",
       "      <td>3436397.0</td>\n",
       "      <td>NaN</td>\n",
       "      <td>109900.0</td>\n",
       "      <td>50.0</td>\n",
       "      <td>40.0</td>\n",
       "      <td>2.0</td>\n",
       "      <td>1</td>\n",
       "      <td>0</td>\n",
       "      <td>0</td>\n",
       "      <td>1</td>\n",
       "      <td>1</td>\n",
       "      <td>0</td>\n",
       "      <td>0</td>\n",
       "      <td>0</td>\n",
       "      <td>0</td>\n",
       "      <td>0</td>\n",
       "      <td>1</td>\n",
       "      <td>325.743882</td>\n",
       "      <td>1.194196</td>\n",
       "      <td>428.333847</td>\n",
       "      <td>1.638393</td>\n",
       "      <td>619.289102</td>\n",
       "      <td>0.304688</td>\n",
       "      <td>NaN</td>\n",
       "    </tr>\n",
       "    <tr>\n",
       "      <th>108</th>\n",
       "      <td>house</td>\n",
       "      <td>Capital Federal</td>\n",
       "      <td>capital federal</td>\n",
       "      <td>3433955.0</td>\n",
       "      <td>NaN</td>\n",
       "      <td>170000.0</td>\n",
       "      <td>180.0</td>\n",
       "      <td>165.0</td>\n",
       "      <td>2.0</td>\n",
       "      <td>1</td>\n",
       "      <td>1</td>\n",
       "      <td>0</td>\n",
       "      <td>1</td>\n",
       "      <td>0</td>\n",
       "      <td>0</td>\n",
       "      <td>1</td>\n",
       "      <td>0</td>\n",
       "      <td>0</td>\n",
       "      <td>0</td>\n",
       "      <td>0</td>\n",
       "      <td>1089.870588</td>\n",
       "      <td>1.172881</td>\n",
       "      <td>671.327180</td>\n",
       "      <td>2.786441</td>\n",
       "      <td>529.243102</td>\n",
       "      <td>0.579661</td>\n",
       "      <td>NaN</td>\n",
       "    </tr>\n",
       "    <tr>\n",
       "      <th>110</th>\n",
       "      <td>house</td>\n",
       "      <td>Capital Federal</td>\n",
       "      <td>capital federal</td>\n",
       "      <td>3433955.0</td>\n",
       "      <td>NaN</td>\n",
       "      <td>490000.0</td>\n",
       "      <td>744.0</td>\n",
       "      <td>350.0</td>\n",
       "      <td>3.0</td>\n",
       "      <td>1</td>\n",
       "      <td>0</td>\n",
       "      <td>0</td>\n",
       "      <td>1</td>\n",
       "      <td>1</td>\n",
       "      <td>0</td>\n",
       "      <td>0</td>\n",
       "      <td>1</td>\n",
       "      <td>0</td>\n",
       "      <td>1</td>\n",
       "      <td>0</td>\n",
       "      <td>1089.870588</td>\n",
       "      <td>1.172881</td>\n",
       "      <td>671.327180</td>\n",
       "      <td>2.786441</td>\n",
       "      <td>529.243102</td>\n",
       "      <td>0.579661</td>\n",
       "      <td>NaN</td>\n",
       "    </tr>\n",
       "  </tbody>\n",
       "</table>\n",
       "</div>"
      ],
      "text/plain": [
       "    property_type       place_name       state_name  geonames_id lat-lon  \\\n",
       "13      apartment     Palermo Soho  capital federal    3430234.0     NaN   \n",
       "14      apartment     Palermo Soho  capital federal    3430234.0     NaN   \n",
       "98      apartment          Almagro  capital federal    3436397.0     NaN   \n",
       "108         house  Capital Federal  capital federal    3433955.0     NaN   \n",
       "110         house  Capital Federal  capital federal    3433955.0     NaN   \n",
       "\n",
       "     price_aprox_usd  surface_total_in_m2  surface_covered_in_m2  rooms  \\\n",
       "13          111700.0                 50.0                   30.0    1.0   \n",
       "14          147900.0                 42.0                   31.0    1.0   \n",
       "98          109900.0                 50.0                   40.0    2.0   \n",
       "108         170000.0                180.0                  165.0    2.0   \n",
       "110         490000.0                744.0                  350.0    3.0   \n",
       "\n",
       "     garage  lavadero  balcon  parrilla  piscina  terraza  patio  jardin  sum  \\\n",
       "13        0         0       0         0        1        1      0       0    0   \n",
       "14        0         0       0         0        1        0      0       0    0   \n",
       "98        1         0       0         1        1        0      0       0    0   \n",
       "108       1         1       0         1        0        0      1       0    0   \n",
       "110       1         0       0         1        1        0      0       1    0   \n",
       "\n",
       "     quincho  estrenar    min_subte  subtes_menor_500m  min_locales_bailables  \\\n",
       "13         0         0   503.922722           0.556291             221.207404   \n",
       "14         0         0   503.922722           0.556291             221.207404   \n",
       "98         0         1   325.743882           1.194196             428.333847   \n",
       "108        0         0  1089.870588           1.172881             671.327180   \n",
       "110        1         0  1089.870588           1.172881             671.327180   \n",
       "\n",
       "     locales_bailables_menor_500m  min_comisarias  comisarias_menor_500m  \\\n",
       "13                       4.602649      446.541753               0.682119   \n",
       "14                       4.602649      446.541753               0.682119   \n",
       "98                       1.638393      619.289102               0.304688   \n",
       "108                      2.786441      529.243102               0.579661   \n",
       "110                      2.786441      529.243102               0.579661   \n",
       "\n",
       "     min_cuarteles  \n",
       "13             NaN  \n",
       "14             NaN  \n",
       "98             NaN  \n",
       "108            NaN  \n",
       "110            NaN  "
      ]
     },
     "execution_count": 305,
     "metadata": {},
     "output_type": "execute_result"
    }
   ],
   "source": [
    "df_min_cuarteles_na = df.loc[df['min_cuarteles'].isna(),:]\n",
    "df_min_cuarteles_na.head()"
   ]
  },
  {
   "cell_type": "code",
   "execution_count": 307,
   "id": "c796f091",
   "metadata": {},
   "outputs": [
    {
     "data": {
      "text/html": [
       "<div>\n",
       "<style scoped>\n",
       "    .dataframe tbody tr th:only-of-type {\n",
       "        vertical-align: middle;\n",
       "    }\n",
       "\n",
       "    .dataframe tbody tr th {\n",
       "        vertical-align: top;\n",
       "    }\n",
       "\n",
       "    .dataframe thead th {\n",
       "        text-align: right;\n",
       "    }\n",
       "</style>\n",
       "<table border=\"1\" class=\"dataframe\">\n",
       "  <thead>\n",
       "    <tr style=\"text-align: right;\">\n",
       "      <th></th>\n",
       "      <th>place_name</th>\n",
       "      <th>min_cuarteles</th>\n",
       "    </tr>\n",
       "  </thead>\n",
       "  <tbody>\n",
       "    <tr>\n",
       "      <th>0</th>\n",
       "      <td>Abasto</td>\n",
       "      <td>430.805204</td>\n",
       "    </tr>\n",
       "    <tr>\n",
       "      <th>1</th>\n",
       "      <td>Agronomía</td>\n",
       "      <td>1212.829989</td>\n",
       "    </tr>\n",
       "    <tr>\n",
       "      <th>2</th>\n",
       "      <td>Almagro</td>\n",
       "      <td>1248.191172</td>\n",
       "    </tr>\n",
       "    <tr>\n",
       "      <th>3</th>\n",
       "      <td>Balvanera</td>\n",
       "      <td>639.530362</td>\n",
       "    </tr>\n",
       "    <tr>\n",
       "      <th>4</th>\n",
       "      <td>Barracas</td>\n",
       "      <td>827.346262</td>\n",
       "    </tr>\n",
       "  </tbody>\n",
       "</table>\n",
       "</div>"
      ],
      "text/plain": [
       "  place_name  min_cuarteles\n",
       "0     Abasto     430.805204\n",
       "1  Agronomía    1212.829989\n",
       "2    Almagro    1248.191172\n",
       "3  Balvanera     639.530362\n",
       "4   Barracas     827.346262"
      ]
     },
     "execution_count": 307,
     "metadata": {},
     "output_type": "execute_result"
    }
   ],
   "source": [
    "dist_mean_min_cuarteles.head()"
   ]
  },
  {
   "cell_type": "code",
   "execution_count": 308,
   "id": "53f7d482",
   "metadata": {},
   "outputs": [
    {
     "name": "stderr",
     "output_type": "stream",
     "text": [
      "/opt/anaconda3/envs/dhdsblend2021_geopandas/lib/python3.7/site-packages/pandas/core/indexing.py:1817: SettingWithCopyWarning: \n",
      "A value is trying to be set on a copy of a slice from a DataFrame.\n",
      "Try using .loc[row_indexer,col_indexer] = value instead\n",
      "\n",
      "See the caveats in the documentation: https://pandas.pydata.org/pandas-docs/stable/user_guide/indexing.html#returning-a-view-versus-a-copy\n",
      "  self._setitem_single_column(loc, value, pi)\n"
     ]
    },
    {
     "data": {
      "text/html": [
       "<div>\n",
       "<style scoped>\n",
       "    .dataframe tbody tr th:only-of-type {\n",
       "        vertical-align: middle;\n",
       "    }\n",
       "\n",
       "    .dataframe tbody tr th {\n",
       "        vertical-align: top;\n",
       "    }\n",
       "\n",
       "    .dataframe thead th {\n",
       "        text-align: right;\n",
       "    }\n",
       "</style>\n",
       "<table border=\"1\" class=\"dataframe\">\n",
       "  <thead>\n",
       "    <tr style=\"text-align: right;\">\n",
       "      <th></th>\n",
       "      <th>property_type</th>\n",
       "      <th>place_name</th>\n",
       "      <th>state_name</th>\n",
       "      <th>geonames_id</th>\n",
       "      <th>lat-lon</th>\n",
       "      <th>price_aprox_usd</th>\n",
       "      <th>surface_total_in_m2</th>\n",
       "      <th>surface_covered_in_m2</th>\n",
       "      <th>rooms</th>\n",
       "      <th>garage</th>\n",
       "      <th>lavadero</th>\n",
       "      <th>balcon</th>\n",
       "      <th>parrilla</th>\n",
       "      <th>piscina</th>\n",
       "      <th>terraza</th>\n",
       "      <th>patio</th>\n",
       "      <th>jardin</th>\n",
       "      <th>sum</th>\n",
       "      <th>quincho</th>\n",
       "      <th>estrenar</th>\n",
       "      <th>min_subte</th>\n",
       "      <th>subtes_menor_500m</th>\n",
       "      <th>min_locales_bailables</th>\n",
       "      <th>locales_bailables_menor_500m</th>\n",
       "      <th>min_comisarias</th>\n",
       "      <th>comisarias_menor_500m</th>\n",
       "      <th>min_cuarteles</th>\n",
       "    </tr>\n",
       "  </thead>\n",
       "  <tbody>\n",
       "    <tr>\n",
       "      <th>13</th>\n",
       "      <td>apartment</td>\n",
       "      <td>Palermo Soho</td>\n",
       "      <td>capital federal</td>\n",
       "      <td>3430234.0</td>\n",
       "      <td>NaN</td>\n",
       "      <td>111700.0</td>\n",
       "      <td>50.0</td>\n",
       "      <td>30.0</td>\n",
       "      <td>1.0</td>\n",
       "      <td>0</td>\n",
       "      <td>0</td>\n",
       "      <td>0</td>\n",
       "      <td>0</td>\n",
       "      <td>1</td>\n",
       "      <td>1</td>\n",
       "      <td>0</td>\n",
       "      <td>0</td>\n",
       "      <td>0</td>\n",
       "      <td>0</td>\n",
       "      <td>0</td>\n",
       "      <td>503.922722</td>\n",
       "      <td>0.556291</td>\n",
       "      <td>221.207404</td>\n",
       "      <td>4.602649</td>\n",
       "      <td>446.541753</td>\n",
       "      <td>0.682119</td>\n",
       "      <td>1237.822953</td>\n",
       "    </tr>\n",
       "    <tr>\n",
       "      <th>14</th>\n",
       "      <td>apartment</td>\n",
       "      <td>Palermo Soho</td>\n",
       "      <td>capital federal</td>\n",
       "      <td>3430234.0</td>\n",
       "      <td>NaN</td>\n",
       "      <td>147900.0</td>\n",
       "      <td>42.0</td>\n",
       "      <td>31.0</td>\n",
       "      <td>1.0</td>\n",
       "      <td>0</td>\n",
       "      <td>0</td>\n",
       "      <td>0</td>\n",
       "      <td>0</td>\n",
       "      <td>1</td>\n",
       "      <td>0</td>\n",
       "      <td>0</td>\n",
       "      <td>0</td>\n",
       "      <td>0</td>\n",
       "      <td>0</td>\n",
       "      <td>0</td>\n",
       "      <td>503.922722</td>\n",
       "      <td>0.556291</td>\n",
       "      <td>221.207404</td>\n",
       "      <td>4.602649</td>\n",
       "      <td>446.541753</td>\n",
       "      <td>0.682119</td>\n",
       "      <td>1237.822953</td>\n",
       "    </tr>\n",
       "    <tr>\n",
       "      <th>98</th>\n",
       "      <td>apartment</td>\n",
       "      <td>Almagro</td>\n",
       "      <td>capital federal</td>\n",
       "      <td>3436397.0</td>\n",
       "      <td>NaN</td>\n",
       "      <td>109900.0</td>\n",
       "      <td>50.0</td>\n",
       "      <td>40.0</td>\n",
       "      <td>2.0</td>\n",
       "      <td>1</td>\n",
       "      <td>0</td>\n",
       "      <td>0</td>\n",
       "      <td>1</td>\n",
       "      <td>1</td>\n",
       "      <td>0</td>\n",
       "      <td>0</td>\n",
       "      <td>0</td>\n",
       "      <td>0</td>\n",
       "      <td>0</td>\n",
       "      <td>1</td>\n",
       "      <td>325.743882</td>\n",
       "      <td>1.194196</td>\n",
       "      <td>428.333847</td>\n",
       "      <td>1.638393</td>\n",
       "      <td>619.289102</td>\n",
       "      <td>0.304688</td>\n",
       "      <td>1248.191172</td>\n",
       "    </tr>\n",
       "    <tr>\n",
       "      <th>108</th>\n",
       "      <td>house</td>\n",
       "      <td>Capital Federal</td>\n",
       "      <td>capital federal</td>\n",
       "      <td>3433955.0</td>\n",
       "      <td>NaN</td>\n",
       "      <td>170000.0</td>\n",
       "      <td>180.0</td>\n",
       "      <td>165.0</td>\n",
       "      <td>2.0</td>\n",
       "      <td>1</td>\n",
       "      <td>1</td>\n",
       "      <td>0</td>\n",
       "      <td>1</td>\n",
       "      <td>0</td>\n",
       "      <td>0</td>\n",
       "      <td>1</td>\n",
       "      <td>0</td>\n",
       "      <td>0</td>\n",
       "      <td>0</td>\n",
       "      <td>0</td>\n",
       "      <td>1089.870588</td>\n",
       "      <td>1.172881</td>\n",
       "      <td>671.327180</td>\n",
       "      <td>2.786441</td>\n",
       "      <td>529.243102</td>\n",
       "      <td>0.579661</td>\n",
       "      <td>889.874311</td>\n",
       "    </tr>\n",
       "    <tr>\n",
       "      <th>110</th>\n",
       "      <td>house</td>\n",
       "      <td>Capital Federal</td>\n",
       "      <td>capital federal</td>\n",
       "      <td>3433955.0</td>\n",
       "      <td>NaN</td>\n",
       "      <td>490000.0</td>\n",
       "      <td>744.0</td>\n",
       "      <td>350.0</td>\n",
       "      <td>3.0</td>\n",
       "      <td>1</td>\n",
       "      <td>0</td>\n",
       "      <td>0</td>\n",
       "      <td>1</td>\n",
       "      <td>1</td>\n",
       "      <td>0</td>\n",
       "      <td>0</td>\n",
       "      <td>1</td>\n",
       "      <td>0</td>\n",
       "      <td>1</td>\n",
       "      <td>0</td>\n",
       "      <td>1089.870588</td>\n",
       "      <td>1.172881</td>\n",
       "      <td>671.327180</td>\n",
       "      <td>2.786441</td>\n",
       "      <td>529.243102</td>\n",
       "      <td>0.579661</td>\n",
       "      <td>889.874311</td>\n",
       "    </tr>\n",
       "  </tbody>\n",
       "</table>\n",
       "</div>"
      ],
      "text/plain": [
       "    property_type       place_name       state_name  geonames_id lat-lon  \\\n",
       "13      apartment     Palermo Soho  capital federal    3430234.0     NaN   \n",
       "14      apartment     Palermo Soho  capital federal    3430234.0     NaN   \n",
       "98      apartment          Almagro  capital federal    3436397.0     NaN   \n",
       "108         house  Capital Federal  capital federal    3433955.0     NaN   \n",
       "110         house  Capital Federal  capital federal    3433955.0     NaN   \n",
       "\n",
       "     price_aprox_usd  surface_total_in_m2  surface_covered_in_m2  rooms  \\\n",
       "13          111700.0                 50.0                   30.0    1.0   \n",
       "14          147900.0                 42.0                   31.0    1.0   \n",
       "98          109900.0                 50.0                   40.0    2.0   \n",
       "108         170000.0                180.0                  165.0    2.0   \n",
       "110         490000.0                744.0                  350.0    3.0   \n",
       "\n",
       "     garage  lavadero  balcon  parrilla  piscina  terraza  patio  jardin  sum  \\\n",
       "13        0         0       0         0        1        1      0       0    0   \n",
       "14        0         0       0         0        1        0      0       0    0   \n",
       "98        1         0       0         1        1        0      0       0    0   \n",
       "108       1         1       0         1        0        0      1       0    0   \n",
       "110       1         0       0         1        1        0      0       1    0   \n",
       "\n",
       "     quincho  estrenar    min_subte  subtes_menor_500m  min_locales_bailables  \\\n",
       "13         0         0   503.922722           0.556291             221.207404   \n",
       "14         0         0   503.922722           0.556291             221.207404   \n",
       "98         0         1   325.743882           1.194196             428.333847   \n",
       "108        0         0  1089.870588           1.172881             671.327180   \n",
       "110        1         0  1089.870588           1.172881             671.327180   \n",
       "\n",
       "     locales_bailables_menor_500m  min_comisarias  comisarias_menor_500m  \\\n",
       "13                       4.602649      446.541753               0.682119   \n",
       "14                       4.602649      446.541753               0.682119   \n",
       "98                       1.638393      619.289102               0.304688   \n",
       "108                      2.786441      529.243102               0.579661   \n",
       "110                      2.786441      529.243102               0.579661   \n",
       "\n",
       "     min_cuarteles  \n",
       "13     1237.822953  \n",
       "14     1237.822953  \n",
       "98     1248.191172  \n",
       "108     889.874311  \n",
       "110     889.874311  "
      ]
     },
     "execution_count": 308,
     "metadata": {},
     "output_type": "execute_result"
    }
   ],
   "source": [
    "#TODO\n",
    "for i in df_min_cuarteles_na['place_name'].unique():\n",
    "    df_min_cuarteles_na.loc[df_min_cuarteles_na['place_name']==i,'min_cuarteles'] = dist_mean_min_cuarteles.loc[dist_mean_min_cuarteles['place_name']==i,'min_cuarteles'].mean()\n",
    "df_min_cuarteles_na.head()"
   ]
  },
  {
   "cell_type": "code",
   "execution_count": 309,
   "id": "62e7463a",
   "metadata": {},
   "outputs": [],
   "source": [
    "df.loc[df['min_cuarteles'].isna(),'min_cuarteles'] = df_min_cuarteles_na.loc[:, 'min_cuarteles']"
   ]
  },
  {
   "cell_type": "code",
   "execution_count": 310,
   "id": "53c202ca",
   "metadata": {},
   "outputs": [
    {
     "name": "stdout",
     "output_type": "stream",
     "text": [
      "(28399, 27)\n"
     ]
    },
    {
     "data": {
      "text/plain": [
       "property_type                   0.000000\n",
       "place_name                      0.000000\n",
       "state_name                      0.000000\n",
       "geonames_id                     0.039121\n",
       "lat-lon                         0.233917\n",
       "price_aprox_usd                 0.000000\n",
       "surface_total_in_m2             0.000000\n",
       "surface_covered_in_m2           0.000000\n",
       "rooms                           0.000000\n",
       "garage                          0.000000\n",
       "lavadero                        0.000000\n",
       "balcon                          0.000000\n",
       "parrilla                        0.000000\n",
       "piscina                         0.000000\n",
       "terraza                         0.000000\n",
       "patio                           0.000000\n",
       "jardin                          0.000000\n",
       "sum                             0.000000\n",
       "quincho                         0.000000\n",
       "estrenar                        0.000000\n",
       "min_subte                       0.000000\n",
       "subtes_menor_500m               0.000000\n",
       "min_locales_bailables           0.000000\n",
       "locales_bailables_menor_500m    0.000000\n",
       "min_comisarias                  0.000000\n",
       "comisarias_menor_500m           0.000000\n",
       "min_cuarteles                   0.000000\n",
       "dtype: float64"
      ]
     },
     "execution_count": 310,
     "metadata": {},
     "output_type": "execute_result"
    }
   ],
   "source": [
    "print(df.shape)\n",
    "df.isna().sum() / df.shape[0]"
   ]
  },
  {
   "cell_type": "code",
   "execution_count": 311,
   "id": "4ccf9fb5",
   "metadata": {},
   "outputs": [],
   "source": [
    "df.to_csv('back_up_geo_clean.csv')\n",
    "##### BACKUP YA CON GEOPANDAS ANTES DE BORRAR COLUMNAS"
   ]
  },
  {
   "cell_type": "code",
   "execution_count": 312,
   "id": "af6f577e",
   "metadata": {
    "id": "b33081d6",
    "outputId": "dd57001a-f11e-42eb-dd13-c7c95e7474d7"
   },
   "outputs": [
    {
     "data": {
      "text/plain": [
       "(28399, 25)"
      ]
     },
     "execution_count": 312,
     "metadata": {},
     "output_type": "execute_result"
    }
   ],
   "source": [
    "df = df.drop('geonames_id', axis=1)\n",
    "df = df.drop('lat-lon', axis=1)\n",
    "df= df.dropna(subset=['min_subte'] )\n",
    "df.shape"
   ]
  },
  {
   "cell_type": "code",
   "execution_count": 313,
   "id": "6f3fd655",
   "metadata": {
    "id": "83e44d9c",
    "outputId": "03e8cf29-1295-420a-aaa1-9ae7b1164ecb"
   },
   "outputs": [
    {
     "data": {
      "text/plain": [
       "property_type                   0.0\n",
       "place_name                      0.0\n",
       "state_name                      0.0\n",
       "price_aprox_usd                 0.0\n",
       "surface_total_in_m2             0.0\n",
       "surface_covered_in_m2           0.0\n",
       "rooms                           0.0\n",
       "garage                          0.0\n",
       "lavadero                        0.0\n",
       "balcon                          0.0\n",
       "parrilla                        0.0\n",
       "piscina                         0.0\n",
       "terraza                         0.0\n",
       "patio                           0.0\n",
       "jardin                          0.0\n",
       "sum                             0.0\n",
       "quincho                         0.0\n",
       "estrenar                        0.0\n",
       "min_subte                       0.0\n",
       "subtes_menor_500m               0.0\n",
       "min_locales_bailables           0.0\n",
       "locales_bailables_menor_500m    0.0\n",
       "min_comisarias                  0.0\n",
       "comisarias_menor_500m           0.0\n",
       "min_cuarteles                   0.0\n",
       "dtype: float64"
      ]
     },
     "execution_count": 313,
     "metadata": {},
     "output_type": "execute_result"
    }
   ],
   "source": [
    "df.isna().sum() / df.shape[0]"
   ]
  },
  {
   "cell_type": "code",
   "execution_count": 314,
   "id": "05cdf660",
   "metadata": {
    "id": "64561525",
    "outputId": "d288cf9c-227c-43ce-9ebb-ab67d705baa7"
   },
   "outputs": [
    {
     "data": {
      "text/html": [
       "<div>\n",
       "<style scoped>\n",
       "    .dataframe tbody tr th:only-of-type {\n",
       "        vertical-align: middle;\n",
       "    }\n",
       "\n",
       "    .dataframe tbody tr th {\n",
       "        vertical-align: top;\n",
       "    }\n",
       "\n",
       "    .dataframe thead th {\n",
       "        text-align: right;\n",
       "    }\n",
       "</style>\n",
       "<table border=\"1\" class=\"dataframe\">\n",
       "  <thead>\n",
       "    <tr style=\"text-align: right;\">\n",
       "      <th></th>\n",
       "      <th>property_type</th>\n",
       "      <th>place_name</th>\n",
       "      <th>state_name</th>\n",
       "      <th>price_aprox_usd</th>\n",
       "      <th>surface_total_in_m2</th>\n",
       "      <th>surface_covered_in_m2</th>\n",
       "      <th>rooms</th>\n",
       "      <th>garage</th>\n",
       "      <th>lavadero</th>\n",
       "      <th>balcon</th>\n",
       "      <th>parrilla</th>\n",
       "      <th>piscina</th>\n",
       "      <th>terraza</th>\n",
       "      <th>patio</th>\n",
       "      <th>jardin</th>\n",
       "      <th>sum</th>\n",
       "      <th>quincho</th>\n",
       "      <th>estrenar</th>\n",
       "      <th>min_subte</th>\n",
       "      <th>subtes_menor_500m</th>\n",
       "      <th>min_locales_bailables</th>\n",
       "      <th>locales_bailables_menor_500m</th>\n",
       "      <th>min_comisarias</th>\n",
       "      <th>comisarias_menor_500m</th>\n",
       "      <th>min_cuarteles</th>\n",
       "    </tr>\n",
       "  </thead>\n",
       "  <tbody>\n",
       "    <tr>\n",
       "      <th>0</th>\n",
       "      <td>PH</td>\n",
       "      <td>Mataderos</td>\n",
       "      <td>capital federal</td>\n",
       "      <td>62000.0</td>\n",
       "      <td>55.000000</td>\n",
       "      <td>40.000000</td>\n",
       "      <td>2.000000</td>\n",
       "      <td>0</td>\n",
       "      <td>1</td>\n",
       "      <td>0</td>\n",
       "      <td>0</td>\n",
       "      <td>0</td>\n",
       "      <td>0</td>\n",
       "      <td>1</td>\n",
       "      <td>0</td>\n",
       "      <td>0</td>\n",
       "      <td>0</td>\n",
       "      <td>0</td>\n",
       "      <td>4728.393676</td>\n",
       "      <td>0.0</td>\n",
       "      <td>1666.691008</td>\n",
       "      <td>0.0</td>\n",
       "      <td>854.731083</td>\n",
       "      <td>0.0</td>\n",
       "      <td>1338.362957</td>\n",
       "    </tr>\n",
       "    <tr>\n",
       "      <th>2</th>\n",
       "      <td>apartment</td>\n",
       "      <td>Mataderos</td>\n",
       "      <td>capital federal</td>\n",
       "      <td>72000.0</td>\n",
       "      <td>55.000000</td>\n",
       "      <td>55.000000</td>\n",
       "      <td>2.000000</td>\n",
       "      <td>0</td>\n",
       "      <td>1</td>\n",
       "      <td>0</td>\n",
       "      <td>0</td>\n",
       "      <td>0</td>\n",
       "      <td>0</td>\n",
       "      <td>0</td>\n",
       "      <td>0</td>\n",
       "      <td>0</td>\n",
       "      <td>0</td>\n",
       "      <td>0</td>\n",
       "      <td>6073.153602</td>\n",
       "      <td>0.0</td>\n",
       "      <td>951.482447</td>\n",
       "      <td>0.0</td>\n",
       "      <td>1329.365030</td>\n",
       "      <td>0.0</td>\n",
       "      <td>1349.185580</td>\n",
       "    </tr>\n",
       "    <tr>\n",
       "      <th>3</th>\n",
       "      <td>PH</td>\n",
       "      <td>Liniers</td>\n",
       "      <td>capital federal</td>\n",
       "      <td>95000.0</td>\n",
       "      <td>120.857451</td>\n",
       "      <td>91.601224</td>\n",
       "      <td>3.000000</td>\n",
       "      <td>0</td>\n",
       "      <td>0</td>\n",
       "      <td>0</td>\n",
       "      <td>0</td>\n",
       "      <td>0</td>\n",
       "      <td>0</td>\n",
       "      <td>1</td>\n",
       "      <td>0</td>\n",
       "      <td>0</td>\n",
       "      <td>0</td>\n",
       "      <td>0</td>\n",
       "      <td>5305.630900</td>\n",
       "      <td>0.0</td>\n",
       "      <td>536.546481</td>\n",
       "      <td>0.0</td>\n",
       "      <td>1342.826496</td>\n",
       "      <td>0.0</td>\n",
       "      <td>1342.048882</td>\n",
       "    </tr>\n",
       "    <tr>\n",
       "      <th>7</th>\n",
       "      <td>apartment</td>\n",
       "      <td>Belgrano</td>\n",
       "      <td>capital federal</td>\n",
       "      <td>138000.0</td>\n",
       "      <td>45.000000</td>\n",
       "      <td>40.000000</td>\n",
       "      <td>2.852152</td>\n",
       "      <td>0</td>\n",
       "      <td>1</td>\n",
       "      <td>0</td>\n",
       "      <td>0</td>\n",
       "      <td>1</td>\n",
       "      <td>0</td>\n",
       "      <td>0</td>\n",
       "      <td>0</td>\n",
       "      <td>0</td>\n",
       "      <td>0</td>\n",
       "      <td>1</td>\n",
       "      <td>609.743234</td>\n",
       "      <td>0.0</td>\n",
       "      <td>552.466358</td>\n",
       "      <td>0.0</td>\n",
       "      <td>305.293658</td>\n",
       "      <td>1.0</td>\n",
       "      <td>1330.713856</td>\n",
       "    </tr>\n",
       "    <tr>\n",
       "      <th>8</th>\n",
       "      <td>apartment</td>\n",
       "      <td>Belgrano</td>\n",
       "      <td>capital federal</td>\n",
       "      <td>195000.0</td>\n",
       "      <td>65.000000</td>\n",
       "      <td>60.000000</td>\n",
       "      <td>2.852152</td>\n",
       "      <td>0</td>\n",
       "      <td>1</td>\n",
       "      <td>0</td>\n",
       "      <td>0</td>\n",
       "      <td>1</td>\n",
       "      <td>0</td>\n",
       "      <td>0</td>\n",
       "      <td>0</td>\n",
       "      <td>0</td>\n",
       "      <td>0</td>\n",
       "      <td>1</td>\n",
       "      <td>609.743234</td>\n",
       "      <td>0.0</td>\n",
       "      <td>552.466358</td>\n",
       "      <td>0.0</td>\n",
       "      <td>305.293658</td>\n",
       "      <td>1.0</td>\n",
       "      <td>1330.713856</td>\n",
       "    </tr>\n",
       "  </tbody>\n",
       "</table>\n",
       "</div>"
      ],
      "text/plain": [
       "  property_type place_name       state_name  price_aprox_usd  \\\n",
       "0            PH  Mataderos  capital federal          62000.0   \n",
       "2     apartment  Mataderos  capital federal          72000.0   \n",
       "3            PH    Liniers  capital federal          95000.0   \n",
       "7     apartment   Belgrano  capital federal         138000.0   \n",
       "8     apartment   Belgrano  capital federal         195000.0   \n",
       "\n",
       "   surface_total_in_m2  surface_covered_in_m2     rooms  garage  lavadero  \\\n",
       "0            55.000000              40.000000  2.000000       0         1   \n",
       "2            55.000000              55.000000  2.000000       0         1   \n",
       "3           120.857451              91.601224  3.000000       0         0   \n",
       "7            45.000000              40.000000  2.852152       0         1   \n",
       "8            65.000000              60.000000  2.852152       0         1   \n",
       "\n",
       "   balcon  parrilla  piscina  terraza  patio  jardin  sum  quincho  estrenar  \\\n",
       "0       0         0        0        0      1       0    0        0         0   \n",
       "2       0         0        0        0      0       0    0        0         0   \n",
       "3       0         0        0        0      1       0    0        0         0   \n",
       "7       0         0        1        0      0       0    0        0         1   \n",
       "8       0         0        1        0      0       0    0        0         1   \n",
       "\n",
       "     min_subte  subtes_menor_500m  min_locales_bailables  \\\n",
       "0  4728.393676                0.0            1666.691008   \n",
       "2  6073.153602                0.0             951.482447   \n",
       "3  5305.630900                0.0             536.546481   \n",
       "7   609.743234                0.0             552.466358   \n",
       "8   609.743234                0.0             552.466358   \n",
       "\n",
       "   locales_bailables_menor_500m  min_comisarias  comisarias_menor_500m  \\\n",
       "0                           0.0      854.731083                    0.0   \n",
       "2                           0.0     1329.365030                    0.0   \n",
       "3                           0.0     1342.826496                    0.0   \n",
       "7                           0.0      305.293658                    1.0   \n",
       "8                           0.0      305.293658                    1.0   \n",
       "\n",
       "   min_cuarteles  \n",
       "0    1338.362957  \n",
       "2    1349.185580  \n",
       "3    1342.048882  \n",
       "7    1330.713856  \n",
       "8    1330.713856  "
      ]
     },
     "execution_count": 314,
     "metadata": {},
     "output_type": "execute_result"
    }
   ],
   "source": [
    "df.head()"
   ]
  },
  {
   "cell_type": "code",
   "execution_count": 315,
   "id": "aa498fe8",
   "metadata": {},
   "outputs": [
    {
     "data": {
      "text/plain": [
       "(28399, 25)"
      ]
     },
     "execution_count": 315,
     "metadata": {},
     "output_type": "execute_result"
    }
   ],
   "source": [
    "df.shape"
   ]
  },
  {
   "cell_type": "markdown",
   "id": "36a87685",
   "metadata": {
    "id": "832dc9fa"
   },
   "source": [
    "Con esto podemos exportar el archivo a un csv:"
   ]
  },
  {
   "cell_type": "code",
   "execution_count": 137,
   "id": "ba6e7615",
   "metadata": {
    "id": "14b8e810"
   },
   "outputs": [],
   "source": [
    "df.to_csv('properatti_clean.csv')"
   ]
  },
  {
   "cell_type": "markdown",
   "id": "f725b8f7",
   "metadata": {
    "id": "7c68299c"
   },
   "source": [
    "# Analisis Descriptivo"
   ]
  },
  {
   "cell_type": "code",
   "execution_count": null,
   "id": "cc8ccd61",
   "metadata": {
    "id": "f72114c5",
    "outputId": "3cd61f9e-5659-42ee-e8d9-9dfd9972887b"
   },
   "outputs": [
    {
     "data": {
      "text/html": [
       "<div>\n",
       "<style scoped>\n",
       "    .dataframe tbody tr th:only-of-type {\n",
       "        vertical-align: middle;\n",
       "    }\n",
       "\n",
       "    .dataframe tbody tr th {\n",
       "        vertical-align: top;\n",
       "    }\n",
       "\n",
       "    .dataframe thead th {\n",
       "        text-align: right;\n",
       "    }\n",
       "</style>\n",
       "<table border=\"1\" class=\"dataframe\">\n",
       "  <thead>\n",
       "    <tr style=\"text-align: right;\">\n",
       "      <th></th>\n",
       "      <th>property_type</th>\n",
       "      <th>place_name</th>\n",
       "      <th>state_name</th>\n",
       "      <th>price_aprox_usd</th>\n",
       "      <th>surface_total_in_m2</th>\n",
       "      <th>surface_covered_in_m2</th>\n",
       "      <th>rooms</th>\n",
       "      <th>garage</th>\n",
       "      <th>lavadero</th>\n",
       "      <th>balcon</th>\n",
       "      <th>parrilla</th>\n",
       "      <th>piscina</th>\n",
       "      <th>terraza</th>\n",
       "      <th>patio</th>\n",
       "      <th>jardin</th>\n",
       "      <th>sum</th>\n",
       "      <th>quincho</th>\n",
       "      <th>estrenar</th>\n",
       "      <th>min_subte</th>\n",
       "      <th>subtes_menor_500m</th>\n",
       "    </tr>\n",
       "  </thead>\n",
       "  <tbody>\n",
       "    <tr>\n",
       "      <th>0</th>\n",
       "      <td>PH</td>\n",
       "      <td>Mataderos</td>\n",
       "      <td>capital federal</td>\n",
       "      <td>62000.0</td>\n",
       "      <td>55.000000</td>\n",
       "      <td>40.000000</td>\n",
       "      <td>2.000000</td>\n",
       "      <td>0</td>\n",
       "      <td>1</td>\n",
       "      <td>0</td>\n",
       "      <td>0</td>\n",
       "      <td>0</td>\n",
       "      <td>0</td>\n",
       "      <td>1</td>\n",
       "      <td>0</td>\n",
       "      <td>0</td>\n",
       "      <td>0</td>\n",
       "      <td>0</td>\n",
       "      <td>4728.393676</td>\n",
       "      <td>0.0</td>\n",
       "    </tr>\n",
       "    <tr>\n",
       "      <th>1</th>\n",
       "      <td>apartment</td>\n",
       "      <td>La Plata</td>\n",
       "      <td>bs.as. g.b.a. zona sur</td>\n",
       "      <td>150000.0</td>\n",
       "      <td>74.495117</td>\n",
       "      <td>66.250204</td>\n",
       "      <td>2.276693</td>\n",
       "      <td>1</td>\n",
       "      <td>1</td>\n",
       "      <td>1</td>\n",
       "      <td>0</td>\n",
       "      <td>0</td>\n",
       "      <td>0</td>\n",
       "      <td>0</td>\n",
       "      <td>0</td>\n",
       "      <td>0</td>\n",
       "      <td>0</td>\n",
       "      <td>1</td>\n",
       "      <td>48507.053867</td>\n",
       "      <td>0.0</td>\n",
       "    </tr>\n",
       "  </tbody>\n",
       "</table>\n",
       "</div>"
      ],
      "text/plain": [
       "  property_type place_name              state_name  price_aprox_usd  \\\n",
       "0            PH  Mataderos         capital federal          62000.0   \n",
       "1     apartment   La Plata  bs.as. g.b.a. zona sur         150000.0   \n",
       "\n",
       "   surface_total_in_m2  surface_covered_in_m2     rooms  garage  lavadero  \\\n",
       "0            55.000000              40.000000  2.000000       0         1   \n",
       "1            74.495117              66.250204  2.276693       1         1   \n",
       "\n",
       "   balcon  parrilla  piscina  terraza  patio  jardin  sum  quincho  estrenar  \\\n",
       "0       0         0        0        0      1       0    0        0         0   \n",
       "1       1         0        0        0      0       0    0        0         1   \n",
       "\n",
       "      min_subte  subtes_menor_500m  \n",
       "0   4728.393676                0.0  \n",
       "1  48507.053867                0.0  "
      ]
     },
     "execution_count": 133,
     "metadata": {},
     "output_type": "execute_result"
    }
   ],
   "source": [
    "df = pd.read_csv('properatti_clean.csv')\n",
    "df = df.drop('Unnamed: 0', axis=1)\n",
    "data = df.copy()\n",
    "df.head(2)"
   ]
  },
  {
   "cell_type": "markdown",
   "id": "12a4869b",
   "metadata": {
    "id": "3e243768"
   },
   "source": [
    "Empecemos viendo cuantos datos de cada state tenemos:"
   ]
  },
  {
   "cell_type": "code",
   "execution_count": null,
   "id": "905db1b8",
   "metadata": {
    "id": "9c5b62f7",
    "outputId": "21a953ea-37c5-44a1-87ff-7b21336ec0b8"
   },
   "outputs": [
    {
     "data": {
      "image/png": "[encoded data removed]",
      "text/plain": [
       "<Figure size 720x432 with 1 Axes>"
      ]
     },
     "metadata": {
      "needs_background": "light"
     },
     "output_type": "display_data"
    }
   ],
   "source": [
    "state_proportion = df['state_name'].value_counts() / df.shape[0]\n",
    "\n",
    "plt.figure(figsize=(10,6))\n",
    "ax = sns.barplot(x=state_proportion.index, y=state_proportion.values)\n",
    "ax.tick_params(axis='x', rotation=90)\n"
   ]
  },
  {
   "cell_type": "markdown",
   "id": "4cedbd2b",
   "metadata": {
    "id": "6a3ed161"
   },
   "source": [
    "## Vamos a empezar viendo los datos agregadamente por columnas"
   ]
  },
  {
   "cell_type": "markdown",
   "id": "3910e6ef",
   "metadata": {
    "id": "38931590"
   },
   "source": [
    "### Superficies"
   ]
  },
  {
   "cell_type": "code",
   "execution_count": null,
   "id": "27eb8dda",
   "metadata": {
    "id": "b7e67f39"
   },
   "outputs": [],
   "source": [
    "sns.set_style('whitegrid')"
   ]
  },
  {
   "cell_type": "code",
   "execution_count": null,
   "id": "3391a65d",
   "metadata": {
    "id": "7d50721f",
    "outputId": "133f0a9f-b797-4b57-914f-ab7ccc8ffdae"
   },
   "outputs": [
    {
     "data": {
      "text/plain": [
       "<matplotlib.legend.Legend at 0x19451598988>"
      ]
     },
     "execution_count": 136,
     "metadata": {},
     "output_type": "execute_result"
    },
    {
     "data": {
      "image/png": "[encoded data removed]",
      "text/plain": [
       "<Figure size 1008x576 with 1 Axes>"
      ]
     },
     "metadata": {},
     "output_type": "display_data"
    }
   ],
   "source": [
    "fig, ax = plt.subplots(figsize=(14,8))\n",
    "sns.ecdfplot(data=df, x=\"surface_total_in_m2\", ax=ax, label='surface_total')\n",
    "sns.ecdfplot(data=df, x=\"surface_covered_in_m2\", ax=ax, label='surface_covered')\n",
    "plt.legend()\n"
   ]
  },
  {
   "cell_type": "markdown",
   "id": "4aa680aa",
   "metadata": {
    "id": "d7e296ad"
   },
   "source": [
    "Podemos ver que la mayor parte de las propiedades consta de menos de 200m2. Y casi la totalidad, tanto en m2 cubiertos o totales se encuentra dentro de los 400m2"
   ]
  },
  {
   "cell_type": "code",
   "execution_count": null,
   "id": "7a4936ad",
   "metadata": {
    "id": "ccc2eb0c",
    "outputId": "7946b5ac-ccd2-42bc-a4bc-f8406734fe64"
   },
   "outputs": [
    {
     "data": {
      "text/plain": [
       "<AxesSubplot:xlabel='surface_covered_in_m2'>"
      ]
     },
     "execution_count": 137,
     "metadata": {},
     "output_type": "execute_result"
    },
    {
     "data": {
      "image/png": "[encoded data removed]",
      "text/plain": [
       "<Figure size 432x288 with 2 Axes>"
      ]
     },
     "metadata": {},
     "output_type": "display_data"
    }
   ],
   "source": [
    "fig, ax = plt.subplots(2,1,sharex=True)\n",
    "sns.boxplot(x=df.surface_total_in_m2, ax=ax[0])\n",
    "sns.boxplot(x=df.surface_covered_in_m2, ax=ax[1])\n"
   ]
  },
  {
   "cell_type": "markdown",
   "id": "e6c0d69d",
   "metadata": {
    "id": "38ddae81"
   },
   "source": [
    "### Precio"
   ]
  },
  {
   "cell_type": "code",
   "execution_count": null,
   "id": "51544768",
   "metadata": {
    "id": "d98b84e1",
    "outputId": "ac8ec479-2c17-476e-c2af-1d7f659988d7"
   },
   "outputs": [
    {
     "data": {
      "text/plain": [
       "<AxesSubplot:xlabel='price_aprox_usd', ylabel='Count'>"
      ]
     },
     "execution_count": 138,
     "metadata": {},
     "output_type": "execute_result"
    },
    {
     "data": {
      "image/png": "[encoded data removed]",
      "text/plain": [
       "<Figure size 1152x576 with 1 Axes>"
      ]
     },
     "metadata": {},
     "output_type": "display_data"
    }
   ],
   "source": [
    "price = df.price_aprox_usd / 1000\n",
    "plt.figure(figsize=(16,8))\n",
    "plt.xticks(np.arange(0,3500,100))\n",
    "plt.xticks(rotation = 90)\n",
    "sns.histplot(data=price,)\n"
   ]
  },
  {
   "cell_type": "markdown",
   "id": "e62642d0",
   "metadata": {
    "id": "1c908e99"
   },
   "source": [
    "Se puede ver claramente que los valores se concentran fuertemente hasta los 300.000 usd aproximadamente con cola hacia la dereha."
   ]
  },
  {
   "cell_type": "code",
   "execution_count": null,
   "id": "5bea1bb3",
   "metadata": {
    "id": "cc187309",
    "outputId": "3186587c-bdcc-4de0-a822-6f793753e77f"
   },
   "outputs": [
    {
     "data": {
      "text/plain": [
       "<AxesSubplot:xlabel='price_aprox_usd', ylabel='Proportion'>"
      ]
     },
     "execution_count": 139,
     "metadata": {},
     "output_type": "execute_result"
    },
    {
     "data": {
      "image/png": "[encoded data removed]",
      "text/plain": [
       "<Figure size 1152x576 with 1 Axes>"
      ]
     },
     "metadata": {},
     "output_type": "display_data"
    }
   ],
   "source": [
    "plt.figure(figsize=(16,8))\n",
    "plt.xticks(np.arange(0,3600,100))\n",
    "plt.xticks(rotation = 90)\n",
    "sns.ecdfplot(data=price)"
   ]
  },
  {
   "cell_type": "markdown",
   "id": "8b0d12f0",
   "metadata": {
    "id": "424d7303"
   },
   "source": [
    "El 80% de los precios cae debajo de los 300.000 USD"
   ]
  },
  {
   "cell_type": "markdown",
   "id": "1f3397af",
   "metadata": {
    "id": "9cf6f65f"
   },
   "source": [
    "#### Vamos a ver los boxplots por estados"
   ]
  },
  {
   "cell_type": "code",
   "execution_count": 2,
   "id": "8ff3a78b",
   "metadata": {
    "colab": {
     "base_uri": "https://localhost:8080/",
     "height": 200
    },
    "executionInfo": {
     "elapsed": 453,
     "status": "error",
     "timestamp": 1663029298534,
     "user": {
      "displayName": "Daiana Gamarra",
      "userId": "04303350967342292841"
     },
     "user_tz": 180
    },
    "id": "98a5af81",
    "outputId": "684a3291-30df-465d-ca22-f336ac17cdce"
   },
   "outputs": [
    {
     "ename": "NameError",
     "evalue": "ignored",
     "output_type": "error",
     "traceback": [
      "\u001b[0;31m---------------------------------------------------------------------------\u001b[0m",
      "\u001b[0;31mNameError\u001b[0m                                 Traceback (most recent call last)",
      "\u001b[0;32m<ipython-input-2-101377c77f32>\u001b[0m in \u001b[0;36m<module>\u001b[0;34m\u001b[0m\n\u001b[0;32m----> 1\u001b[0;31m \u001b[0mg\u001b[0m \u001b[0;34m=\u001b[0m \u001b[0msns\u001b[0m\u001b[0;34m.\u001b[0m\u001b[0mFacetGrid\u001b[0m\u001b[0;34m(\u001b[0m\u001b[0mdf\u001b[0m\u001b[0;34m,\u001b[0m \u001b[0mcol\u001b[0m\u001b[0;34m=\u001b[0m\u001b[0;34m'state_name'\u001b[0m\u001b[0;34m,\u001b[0m\u001b[0mcol_wrap\u001b[0m\u001b[0;34m=\u001b[0m\u001b[0;36m4\u001b[0m\u001b[0;34m,\u001b[0m \u001b[0mheight\u001b[0m\u001b[0;34m=\u001b[0m\u001b[0;36m5\u001b[0m\u001b[0;34m,\u001b[0m\u001b[0msharex\u001b[0m\u001b[0;34m=\u001b[0m\u001b[0;32mFalse\u001b[0m\u001b[0;34m)\u001b[0m\u001b[0;34m\u001b[0m\u001b[0;34m\u001b[0m\u001b[0m\n\u001b[0m\u001b[1;32m      2\u001b[0m \u001b[0mg\u001b[0m\u001b[0;34m.\u001b[0m\u001b[0mmap\u001b[0m\u001b[0;34m(\u001b[0m\u001b[0msns\u001b[0m\u001b[0;34m.\u001b[0m\u001b[0mboxplot\u001b[0m\u001b[0;34m,\u001b[0m\u001b[0;34m'price_aprox_usd'\u001b[0m\u001b[0;34m,\u001b[0m \u001b[0morder\u001b[0m\u001b[0;34m=\u001b[0m\u001b[0;34m[\u001b[0m\u001b[0;34m'bs.as. g.b.a. zona norte'\u001b[0m\u001b[0;34m,\u001b[0m\u001b[0;34m'capital federal'\u001b[0m\u001b[0;34m,\u001b[0m \u001b[0;34m'bs.as. g.b.a. zona sur'\u001b[0m\u001b[0;34m,\u001b[0m\u001b[0;34m'bs.as. g.b.a. zona oeste'\u001b[0m\u001b[0;34m,\u001b[0m\u001b[0;34m'buenos aires interior'\u001b[0m\u001b[0;34m,\u001b[0m\u001b[0;34m'buenos aires costa atlántica'\u001b[0m\u001b[0;34m,\u001b[0m\u001b[0;34m'córdoba'\u001b[0m\u001b[0;34m,\u001b[0m\u001b[0;34m'santa fe'\u001b[0m\u001b[0;34m]\u001b[0m\u001b[0;34m,\u001b[0m\u001b[0;34m)\u001b[0m\u001b[0;34m\u001b[0m\u001b[0;34m\u001b[0m\u001b[0m\n",
      "\u001b[0;31mNameError\u001b[0m: name 'df' is not defined"
     ]
    }
   ],
   "source": [
    "g = sns.FacetGrid(df, col='state_name',col_wrap=4, height=5,sharex=False)\n",
    "g.map(sns.boxplot,'price_aprox_usd', order=['bs.as. g.b.a. zona norte','capital federal', 'bs.as. g.b.a. zona sur','bs.as. g.b.a. zona oeste','buenos aires interior','buenos aires costa atlántica','córdoba','santa fe'],)\n"
   ]
  },
  {
   "cell_type": "markdown",
   "id": "8e8ea481",
   "metadata": {
    "id": "a6d449bf"
   },
   "source": [
    "Vamos a ver como es el precio promedio de las propiedades en cada estado"
   ]
  },
  {
   "cell_type": "code",
   "execution_count": 3,
   "id": "93711a31",
   "metadata": {
    "colab": {
     "base_uri": "https://localhost:8080/",
     "height": 165
    },
    "executionInfo": {
     "elapsed": 8,
     "status": "error",
     "timestamp": 1663029298853,
     "user": {
      "displayName": "Daiana Gamarra",
      "userId": "04303350967342292841"
     },
     "user_tz": 180
    },
    "id": "eec04992",
    "outputId": "7de56c65-3d0f-48bc-c0d5-26dea9109dce"
   },
   "outputs": [
    {
     "ename": "NameError",
     "evalue": "ignored",
     "output_type": "error",
     "traceback": [
      "\u001b[0;31m---------------------------------------------------------------------------\u001b[0m",
      "\u001b[0;31mNameError\u001b[0m                                 Traceback (most recent call last)",
      "\u001b[0;32m<ipython-input-3-3f0f7c0d80a9>\u001b[0m in \u001b[0;36m<module>\u001b[0;34m\u001b[0m\n\u001b[0;32m----> 1\u001b[0;31m \u001b[0mdf\u001b[0m\u001b[0;34m.\u001b[0m\u001b[0mgroupby\u001b[0m\u001b[0;34m(\u001b[0m\u001b[0;34m'state_name'\u001b[0m\u001b[0;34m)\u001b[0m\u001b[0;34m[\u001b[0m\u001b[0;34m'price_aprox_usd'\u001b[0m\u001b[0;34m]\u001b[0m\u001b[0;34m.\u001b[0m\u001b[0mmean\u001b[0m\u001b[0;34m(\u001b[0m\u001b[0;34m)\u001b[0m\u001b[0;34m.\u001b[0m\u001b[0msort_values\u001b[0m\u001b[0;34m(\u001b[0m\u001b[0mascending\u001b[0m\u001b[0;34m=\u001b[0m\u001b[0;32mFalse\u001b[0m\u001b[0;34m)\u001b[0m\u001b[0;34m.\u001b[0m\u001b[0mplot\u001b[0m\u001b[0;34m(\u001b[0m\u001b[0mkind\u001b[0m\u001b[0;34m=\u001b[0m\u001b[0;34m'bar'\u001b[0m\u001b[0;34m,\u001b[0m \u001b[0mfigsize\u001b[0m\u001b[0;34m=\u001b[0m\u001b[0;34m(\u001b[0m\u001b[0;36m12\u001b[0m\u001b[0;34m,\u001b[0m\u001b[0;36m6\u001b[0m\u001b[0;34m)\u001b[0m\u001b[0;34m)\u001b[0m\u001b[0;34m\u001b[0m\u001b[0;34m\u001b[0m\u001b[0m\n\u001b[0m",
      "\u001b[0;31mNameError\u001b[0m: name 'df' is not defined"
     ]
    }
   ],
   "source": [
    "df.groupby('state_name')['price_aprox_usd'].mean().sort_values(ascending=False).plot(kind='bar', figsize=(12,6))\n"
   ]
  },
  {
   "cell_type": "markdown",
   "id": "cc3209c6",
   "metadata": {
    "id": "d3f0482d"
   },
   "source": [
    "Nos encontramos con Zona norte y Capital Federal como los lugares que concentran el mayor promedio de precios"
   ]
  },
  {
   "cell_type": "markdown",
   "id": "51a71e18",
   "metadata": {
    "id": "28e78a8a"
   },
   "source": [
    "En terminos de caracteristicas, claramente vamos a ver mas valores en Capital Federal y Zona Norte ya que concentran más de la mitad de los datos del dataframe:"
   ]
  },
  {
   "cell_type": "code",
   "execution_count": null,
   "id": "603f88a0",
   "metadata": {
    "executionInfo": {
     "elapsed": 7,
     "status": "aborted",
     "timestamp": 1663029298855,
     "user": {
      "displayName": "Daiana Gamarra",
      "userId": "04303350967342292841"
     },
     "user_tz": 180
    },
    "id": "cb40cdc9"
   },
   "outputs": [],
   "source": [
    "df.groupby('state_name')[caracteristicas].sum().plot(kind='bar',figsize=(16,6))"
   ]
  },
  {
   "cell_type": "markdown",
   "id": "5980cdcd",
   "metadata": {
    "id": "6832abfd"
   },
   "source": [
    "### Vamos a mirar un poquito mas adentro:"
   ]
  },
  {
   "cell_type": "markdown",
   "id": "8ce45c7b",
   "metadata": {
    "id": "61aec1c9"
   },
   "source": [
    "Densidad por tipo de propiedad:"
   ]
  },
  {
   "cell_type": "code",
   "execution_count": null,
   "id": "cbe63150",
   "metadata": {
    "id": "4dbdc5f8",
    "outputId": "3577c977-cdb5-47ee-b06c-275f506bccc0"
   },
   "outputs": [
    {
     "data": {
      "text/plain": [
       "<AxesSubplot:xlabel='price_aprox_usd', ylabel='Density'>"
      ]
     },
     "execution_count": 143,
     "metadata": {},
     "output_type": "execute_result"
    },
    {
     "data": {
      "image/png": "[encoded data removed]",
      "text/plain": [
       "<Figure size 1080x576 with 1 Axes>"
      ]
     },
     "metadata": {},
     "output_type": "display_data"
    }
   ],
   "source": [
    "df_density = df.copy()\n",
    "df_density.price_aprox_usd = df_density.price_aprox_usd / 1000 \n",
    "plt.figure(figsize=(15, 8))\n",
    "plt.xticks(np.arange(0,3600,50))\n",
    "plt.xticks(rotation = 90)\n",
    "sns.kdeplot(data = df_density, x = 'price_aprox_usd', hue='property_type', shade=True)"
   ]
  },
  {
   "cell_type": "markdown",
   "id": "10ca5a9a",
   "metadata": {
    "id": "fa36ed50"
   },
   "source": [
    "Vamos a ver qué cantidad cuantos tipos de propiedades hay en cada estado:"
   ]
  },
  {
   "cell_type": "code",
   "execution_count": null,
   "id": "2f5af621",
   "metadata": {
    "id": "476da9da"
   },
   "outputs": [],
   "source": [
    "# df.groupby(['state_name', 'property_type']).count()['place_name']"
   ]
  },
  {
   "cell_type": "code",
   "execution_count": null,
   "id": "0b0220d4",
   "metadata": {
    "id": "6a1acb83",
    "outputId": "bb09e325-24ca-4e94-d3dd-83dc5a334ec6"
   },
   "outputs": [
    {
     "data": {
      "text/plain": [
       "<AxesSubplot:xlabel='state_name', ylabel='count'>"
      ]
     },
     "execution_count": 145,
     "metadata": {},
     "output_type": "execute_result"
    },
    {
     "data": {
      "image/png": "[encoded data removed]",
      "text/plain": [
       "<Figure size 1152x576 with 1 Axes>"
      ]
     },
     "metadata": {},
     "output_type": "display_data"
    }
   ],
   "source": [
    "plt.figure(figsize=(16,8))\n",
    "plt.xticks(rotation = 45)\n",
    "sns.countplot(data=df, x='state_name',hue='property_type')"
   ]
  },
  {
   "cell_type": "markdown",
   "id": "2f42272d",
   "metadata": {
    "id": "709dda73"
   },
   "source": [
    "Por lo que se ve Capital Federal aporta gran parte de los departamentos, siendo casi el unico tipo de propiedad que ofrece. Mientras que en zona norte, sur, y oeste la relación entre departamentos y casas se mantiene más pareja"
   ]
  },
  {
   "cell_type": "markdown",
   "id": "60ffb5ed",
   "metadata": {
    "id": "cda6403c"
   },
   "source": [
    "### Veamos si hay alguna correlacion dentro de las variables que recolectamos en el DataFrame:"
   ]
  },
  {
   "cell_type": "code",
   "execution_count": null,
   "id": "34b995f5",
   "metadata": {
    "id": "ce9243e3",
    "outputId": "ed575b3f-b26c-4302-a7f9-0e07825da86a"
   },
   "outputs": [
    {
     "data": {
      "text/plain": [
       "<AxesSubplot:>"
      ]
     },
     "execution_count": 146,
     "metadata": {},
     "output_type": "execute_result"
    },
    {
     "data": {
      "image/png": "[encoded data removed]",
      "text/plain": [
       "<Figure size 792x648 with 2 Axes>"
      ]
     },
     "metadata": {},
     "output_type": "display_data"
    }
   ],
   "source": [
    "corr = df.corr()\n",
    "mask = np.triu(np.ones_like(corr, dtype=bool))\n",
    "f, ax = plt.subplots(figsize=(11, 9))\n",
    "cmap = sns.diverging_palette(230, 20, as_cmap=True)\n",
    "sns.heatmap(corr, mask=mask, cmap=cmap, vmax=1, center=0,\n",
    "            square=True, linewidths=.5, cbar_kws={\"shrink\": .6},annot=True)\n"
   ]
  }
 ],
 "metadata": {
  "colab": {
   "provenance": []
  },
  "kernelspec": {
   "display_name": "Python 3 (ipykernel)",
   "language": "python",
   "name": "python3"
  },
  "language_info": {
   "codemirror_mode": {
    "name": "ipython",
    "version": 3
   },
   "file_extension": ".py",
   "mimetype": "text/x-python",
   "name": "python",
   "nbconvert_exporter": "python",
   "pygments_lexer": "ipython3",
   "version": "3.7.13"
  },
  "vscode": {
   "interpreter": {
    "hash": "262bac522b6915c5e5a5fb0426e665e2dbb84150e9e763970f79760832ddd771"
   }
  }
 },
 "nbformat": 4,
 "nbformat_minor": 5
}
